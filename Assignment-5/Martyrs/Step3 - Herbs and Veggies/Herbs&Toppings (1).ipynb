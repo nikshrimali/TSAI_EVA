{
  "nbformat": 4,
  "nbformat_minor": 0,
  "metadata": {
    "kernelspec": {
      "display_name": "pytorch",
      "language": "python",
      "name": "pytorch"
    },
    "language_info": {
      "codemirror_mode": {
        "name": "ipython",
        "version": 3
      },
      "file_extension": ".py",
      "mimetype": "text/x-python",
      "name": "python",
      "nbconvert_exporter": "python",
      "pygments_lexer": "ipython3",
      "version": "3.7.6-final"
    },
    "colab": {
      "name": "Herbs&Toppings.ipynb",
      "provenance": []
    },
    "accelerator": "GPU"
  },
  "cells": [
    {
      "cell_type": "code",
      "metadata": {
        "tags": [],
        "id": "FUrxfN3OEfCf",
        "colab_type": "code",
        "colab": {}
      },
      "source": [
        "import numpy as np\n",
        "\n",
        "import torch\n",
        "from torchvision import datasets, transforms\n",
        "from torch.utils.data import DataLoader\n",
        "from torchsummary import summary\n",
        "from torch import nn\n",
        "import torch.nn\n",
        "from torch.functional import F\n",
        "\n",
        "from tqdm import tqdm\n",
        "import torch.optim as optim\n",
        "\n",
        "\n",
        "import matplotlib.pyplot as plt\n",
        "import os\n",
        "\n",
        "# os.chdir('d:\\Python Projects\\EVA')"
      ],
      "execution_count": 1,
      "outputs": []
    },
    {
      "cell_type": "code",
      "metadata": {
        "tags": [],
        "id": "BHRwKMWbEfCm",
        "colab_type": "code",
        "colab": {}
      },
      "source": [
        "train_transforms = transforms.Compose([\n",
        "                                      transforms.RandomRotation((-7.0, 7.0), fill=(1,)),\n",
        "                                      transforms.ColorJitter(brightness=0.10, contrast=0.1, saturation=0.10, hue=0.1),\n",
        "                                      transforms.ToTensor(),\n",
        "                                      transforms.Normalize((0.1307,),(0.3081,)),\n",
        "                                      ])\n",
        "\n",
        "\n",
        "test_transforms = transforms.Compose([\n",
        "                                    #   transforms.RandomRotation((-7.0, 7.0), fill=(1,)),\n",
        "                                    #   transforms.ColorJitter(brightness=0.10, contrast=0.1, saturation=0.10, hue=0.1),\n",
        "                                      transforms.ToTensor(),\n",
        "                                      transforms.Normalize((0.1307,),(0.3081,)),\n",
        "                                      ])\n"
      ],
      "execution_count": 2,
      "outputs": []
    },
    {
      "cell_type": "code",
      "metadata": {
        "id": "K9Fg3EIQEfCr",
        "colab_type": "code",
        "colab": {}
      },
      "source": [
        "train = datasets.MNIST('./data', train=True, download=True, transform=train_transforms)\n",
        "test = datasets.MNIST('./data',train=False, download=True, transform=test_transforms)\n"
      ],
      "execution_count": 3,
      "outputs": []
    },
    {
      "cell_type": "code",
      "metadata": {
        "tags": [],
        "id": "ehmgI6fIEfCv",
        "colab_type": "code",
        "colab": {
          "base_uri": "https://localhost:8080/",
          "height": 34
        },
        "outputId": "ef50d0e5-3639-4ff5-caf4-2e7229f60665"
      },
      "source": [
        "#\n",
        "SEED = 1\n",
        "\n",
        "device = 'cuda' if torch.cuda else 'cpu'\n",
        "print(device)\n",
        "\n",
        "# for Reproducable results\n",
        "torch.manual_seed(SEED)\n",
        "\n",
        "#Setting seed if CUDA\n",
        "if torch.cuda.is_available():\n",
        "    torch.cuda.manual_seed(SEED)\n",
        "\n",
        "# Dataloader Arguments\n",
        "dataloader_args = dict(shuffle=True, num_workers=4, batch_size=128, pin_memory=True) if torch.cuda.is_available() else dict(shuffle=True, batch_size=64)\n",
        "\n",
        "train_dataloader = DataLoader(train,**dataloader_args)\n",
        "\n",
        "test_dataloader = DataLoader(test, **dataloader_args)  "
      ],
      "execution_count": 4,
      "outputs": [
        {
          "output_type": "stream",
          "text": [
            "cuda\n"
          ],
          "name": "stdout"
        }
      ]
    },
    {
      "cell_type": "markdown",
      "metadata": {
        "tags": [],
        "id": "hZtii80oEfC1",
        "colab_type": "text"
      },
      "source": [
        "# The Model"
      ]
    },
    {
      "cell_type": "code",
      "metadata": {
        "id": "khG36SeaEfC3",
        "colab_type": "code",
        "colab": {}
      },
      "source": [
        "\n",
        "class Net(nn.Module):\n",
        "\n",
        "    def __init__(self):\n",
        "        super(Net, self).__init__()\n",
        "\n",
        "        self.conv1 = nn.Sequential(\n",
        "            nn.Conv2d(1, 10, 3, bias=False, padding=1),  # 28\n",
        "            nn.ReLU(),\n",
        "            nn.Dropout(0.05),\n",
        "            nn.BatchNorm2d(10),\n",
        "        )\n",
        "        \n",
        "        self.conv2 = nn.Sequential(\n",
        "            nn.Conv2d(10, 16, 3, bias=False, padding=1),  # 28\n",
        "            nn.ReLU(),\n",
        "            nn.BatchNorm2d(16),\n",
        "            nn.Dropout(0.05),\n",
        "\n",
        "        )\n",
        "\n",
        "        self.conv3 = nn.Sequential(\n",
        "            nn.Conv2d(16, 10, 1, stride=2, bias=False),  # 14\n",
        "            nn.ReLU(),\n",
        "            nn.Dropout(0.05),\n",
        "            nn.BatchNorm2d(10),\n",
        "            # nn.MaxPool2d(2,2), #11\n",
        "        )\n",
        "\n",
        "        self.conv4 = nn.Sequential(\n",
        "            nn.Conv2d(10, 16, 3, bias=False, padding=0),  # 13\n",
        "            nn.ReLU(),\n",
        "            nn.BatchNorm2d(16),\n",
        "            nn.Dropout(0.05),\n",
        "         )\n",
        "\n",
        "        self.convn = nn.Sequential(\n",
        "            nn.Conv2d(16, 16, 3, bias=False, padding=0),  # 11\n",
        "            nn.ReLU(),\n",
        "            nn.BatchNorm2d(16),\n",
        "            nn.Dropout(0.05),\n",
        "         )\n",
        "\n",
        "\n",
        "        self.conv5 = nn.Sequential(\n",
        "            nn.Conv2d(16, 16, 1, stride=1, bias=False, padding=0),  # 09\n",
        "            nn.ReLU(),\n",
        "            nn.Dropout(0.05),\n",
        "            nn.BatchNorm2d(16),\n",
        "            \n",
        "        )\n",
        "\n",
        "        # self.conv2n = nn.Sequential(\n",
        "        #     nn.Conv2d(16, 10, 1, stride=2, bias=False, padding=1),  # 09\n",
        "        #     nn.ReLU(),\n",
        "        #     nn.Dropout(0.05),\n",
        "        #     nn.BatchNorm2d(10),\n",
        "            \n",
        "        # )\n",
        "\n",
        "        self.conv6 = nn.Sequential(\n",
        "            nn.Conv2d(16, 10, 3, bias=False, padding=0),  # 07\n",
        "            nn.ReLU(),\n",
        "            nn.Dropout(0.05),\n",
        "            nn.BatchNorm2d(10),\n",
        "        )\n",
        "        \n",
        "        self.conv7 = nn.Sequential(\n",
        "            nn.Conv2d(10, 25, 3, bias=False, padding=1),  #5\n",
        "            nn.ReLU(),\n",
        "            nn.Dropout(0.05),\n",
        "            nn.BatchNorm2d(25),\n",
        "        )\n",
        "\n",
        "        self.gap = nn.Sequential(\n",
        "            nn.AvgPool2d(kernel_size=7)\n",
        "        )\n",
        "        \n",
        "        # self.conv8 = nn.Sequential(\n",
        "        #     nn.Conv2d(20, 32, 1, bias=False, padding=0),  #1\n",
        "        #     nn.BatchNorm2d(32),\n",
        "        # )\n",
        "\n",
        "        self.conv9 = nn.Sequential(\n",
        "            nn.Conv2d(25, 10, 1, bias=False, padding=0),  #1\n",
        "        )\n",
        "\n",
        "    def forward(self,x):\n",
        "        x = self.conv1(x)\n",
        "        x = self.conv2(x)\n",
        "        x = self.conv3(x)\n",
        "        x = self.conv4(x)\n",
        "        x = self.convn(x)\n",
        "        x = self.conv5(x)\n",
        "        # x = self.conv2n(x)\n",
        "        x = self.conv6(x)\n",
        "        x = self.conv7(x)\n",
        "        x = self.gap(x)\n",
        "        # x = self.conv8(x)\n",
        "        x = self.conv9(x)\n",
        "        x = x.view(-1,10)\n",
        "        return F.log_softmax(x, dim=-1)\n"
      ],
      "execution_count": 5,
      "outputs": []
    },
    {
      "cell_type": "code",
      "metadata": {
        "tags": [],
        "id": "5hG3THPFEfC8",
        "colab_type": "code",
        "colab": {
          "base_uri": "https://localhost:8080/",
          "height": 806
        },
        "outputId": "52ce38b3-8dcb-4b8e-baf8-f8d1e3862af3"
      },
      "source": [
        "device = torch.device('cuda' if torch.cuda.is_available() else 'cpu')\n",
        "model = Net().to(device)\n",
        "summary(model, input_size=(1, 28, 28))\n"
      ],
      "execution_count": 6,
      "outputs": [
        {
          "output_type": "stream",
          "text": [
            "----------------------------------------------------------------\n",
            "        Layer (type)               Output Shape         Param #\n",
            "================================================================\n",
            "            Conv2d-1           [-1, 10, 28, 28]              90\n",
            "              ReLU-2           [-1, 10, 28, 28]               0\n",
            "           Dropout-3           [-1, 10, 28, 28]               0\n",
            "       BatchNorm2d-4           [-1, 10, 28, 28]              20\n",
            "            Conv2d-5           [-1, 16, 28, 28]           1,440\n",
            "              ReLU-6           [-1, 16, 28, 28]               0\n",
            "       BatchNorm2d-7           [-1, 16, 28, 28]              32\n",
            "           Dropout-8           [-1, 16, 28, 28]               0\n",
            "            Conv2d-9           [-1, 10, 14, 14]             160\n",
            "             ReLU-10           [-1, 10, 14, 14]               0\n",
            "          Dropout-11           [-1, 10, 14, 14]               0\n",
            "      BatchNorm2d-12           [-1, 10, 14, 14]              20\n",
            "           Conv2d-13           [-1, 16, 12, 12]           1,440\n",
            "             ReLU-14           [-1, 16, 12, 12]               0\n",
            "      BatchNorm2d-15           [-1, 16, 12, 12]              32\n",
            "          Dropout-16           [-1, 16, 12, 12]               0\n",
            "           Conv2d-17           [-1, 16, 10, 10]           2,304\n",
            "             ReLU-18           [-1, 16, 10, 10]               0\n",
            "      BatchNorm2d-19           [-1, 16, 10, 10]              32\n",
            "          Dropout-20           [-1, 16, 10, 10]               0\n",
            "           Conv2d-21           [-1, 16, 10, 10]             256\n",
            "             ReLU-22           [-1, 16, 10, 10]               0\n",
            "          Dropout-23           [-1, 16, 10, 10]               0\n",
            "      BatchNorm2d-24           [-1, 16, 10, 10]              32\n",
            "           Conv2d-25             [-1, 10, 8, 8]           1,440\n",
            "             ReLU-26             [-1, 10, 8, 8]               0\n",
            "          Dropout-27             [-1, 10, 8, 8]               0\n",
            "      BatchNorm2d-28             [-1, 10, 8, 8]              20\n",
            "           Conv2d-29             [-1, 25, 8, 8]           2,250\n",
            "             ReLU-30             [-1, 25, 8, 8]               0\n",
            "          Dropout-31             [-1, 25, 8, 8]               0\n",
            "      BatchNorm2d-32             [-1, 25, 8, 8]              50\n",
            "        AvgPool2d-33             [-1, 25, 1, 1]               0\n",
            "           Conv2d-34             [-1, 10, 1, 1]             250\n",
            "================================================================\n",
            "Total params: 9,868\n",
            "Trainable params: 9,868\n",
            "Non-trainable params: 0\n",
            "----------------------------------------------------------------\n",
            "Input size (MB): 0.00\n",
            "Forward/backward pass size (MB): 0.92\n",
            "Params size (MB): 0.04\n",
            "Estimated Total Size (MB): 0.96\n",
            "----------------------------------------------------------------\n"
          ],
          "name": "stdout"
        }
      ]
    },
    {
      "cell_type": "code",
      "metadata": {
        "id": "43LweIIEEfDB",
        "colab_type": "code",
        "colab": {}
      },
      "source": [
        "# raise(ValueError)"
      ],
      "execution_count": 7,
      "outputs": []
    },
    {
      "cell_type": "code",
      "metadata": {
        "tags": [],
        "id": "Zf2cP0MKEfDG",
        "colab_type": "code",
        "colab": {}
      },
      "source": [
        "train_acc = []\n",
        "test_acc = []\n",
        "train_losses = []\n",
        "test_losses = []\n",
        "\n",
        "def train(model, device, train_dataloader, optimizer, epochs):\n",
        "    model.train()\n",
        "    pbar = tqdm(train_dataloader)\n",
        "    correct = 0\n",
        "    processed = 0\n",
        "\n",
        "    for batch_idx, (data, target) in enumerate(pbar):\n",
        "        data, target = data.to(device), target.to(device)\n",
        "        optimizer.zero_grad()\n",
        "        y_pred = model(data)\n",
        "        loss = F.nll_loss(y_pred, target)\n",
        "        train_losses.append(loss)\n",
        "        loss.backward()\n",
        "        optimizer.step()\n",
        "\n",
        "        pred = y_pred.argmax(dim=1, keepdim=True)\n",
        "        correct += pred.eq(target.view_as(pred)).sum().item()\n",
        "        processed += len(data)\n",
        "\n",
        "        pbar.set_description(desc=f'Loss={loss.item()} Batch_id={batch_idx} Accuracy={100*correct/processed:0.2f}')\n",
        "        train_acc.append(100*correct/processed)\n",
        "\n",
        "\n",
        "\n",
        "def test(model, device, test_dataloader):\n",
        "    model.eval()\n",
        "    test_loss = 0\n",
        "    correct = 0\n",
        "    \n",
        "    with torch.no_grad():\n",
        "\n",
        "        for data, target in test_dataloader:\n",
        "            data, target = data.to(device), target.to(device)\n",
        "            output = model(data)\n",
        "            pred = output.argmax(dim=1, keepdim=True)\n",
        "            test_loss += F.nll_loss(output, target, reduction='sum').item()\n",
        "            correct += pred.eq(target.view_as(pred)).sum().item()\n",
        "    test_loss /= len(test_dataloader.dataset)\n",
        "    test_losses.append(test_loss)\n",
        "    \n",
        "    print('\\nTest set: Average loss: {:.4f}, Accuracy: {}/{} ({:.2f}%)\\n'.format(\n",
        "        test_loss, correct, len(test_dataloader.dataset),\n",
        "        100. * correct / len(test_dataloader.dataset)))\n",
        "    \n",
        "    test_acc.append(100. * correct / len(test_dataloader.dataset))"
      ],
      "execution_count": 8,
      "outputs": []
    },
    {
      "cell_type": "code",
      "metadata": {
        "tags": [],
        "id": "gpWBn6zkEfDK",
        "colab_type": "code",
        "colab": {
          "base_uri": "https://localhost:8080/",
          "height": 1000
        },
        "outputId": "8c9b210b-0877-488f-8dd5-b97e28423f6c"
      },
      "source": [
        "from torch.optim.lr_scheduler import StepLR, ReduceLROnPlateau\n",
        "model = Net().to(device)\n",
        "optimizer = optim.SGD(model.parameters(), lr=0.01, momentum=0.9)\n",
        "# scheduler = ReduceLROnPlateau(optimizer, mode='min', factor=0.1, patience=3, verbose=False, threshold=0.0001, threshold_mode='rel', cooldown=0, min_lr=0, eps=1e-08)\n",
        "scheduler = StepLR(optimizer, step_size=10, gamma=0.06)\n",
        "EPOCHS = 14\n",
        "\n",
        "for epoch in range(EPOCHS):\n",
        "    print('EPOCH - ', epoch)\n",
        "    train(model, device, train_dataloader, optimizer, epoch)\n",
        "    scheduler.step()\n",
        "    test(model, device, test_dataloader)"
      ],
      "execution_count": 13,
      "outputs": [
        {
          "output_type": "stream",
          "text": [
            "\r  0%|          | 0/469 [00:00<?, ?it/s]"
          ],
          "name": "stderr"
        },
        {
          "output_type": "stream",
          "text": [
            "EPOCH -  0\n"
          ],
          "name": "stdout"
        },
        {
          "output_type": "stream",
          "text": [
            "Loss=0.09953949600458145 Batch_id=468 Accuracy=81.21: 100%|██████████| 469/469 [00:31<00:00, 15.08it/s]\n",
            "  0%|          | 0/469 [00:00<?, ?it/s]"
          ],
          "name": "stderr"
        },
        {
          "output_type": "stream",
          "text": [
            "\n",
            "Test set: Average loss: 0.1043, Accuracy: 9723/10000 (97.23%)\n",
            "\n",
            "EPOCH -  1\n"
          ],
          "name": "stdout"
        },
        {
          "output_type": "stream",
          "text": [
            "Loss=0.1439998894929886 Batch_id=468 Accuracy=96.48: 100%|██████████| 469/469 [00:29<00:00, 15.77it/s]\n",
            "  0%|          | 0/469 [00:00<?, ?it/s]"
          ],
          "name": "stderr"
        },
        {
          "output_type": "stream",
          "text": [
            "\n",
            "Test set: Average loss: 0.0542, Accuracy: 9846/10000 (98.46%)\n",
            "\n",
            "EPOCH -  2\n"
          ],
          "name": "stdout"
        },
        {
          "output_type": "stream",
          "text": [
            "Loss=0.043482180684804916 Batch_id=468 Accuracy=97.47: 100%|██████████| 469/469 [00:29<00:00, 15.74it/s]\n",
            "  0%|          | 0/469 [00:00<?, ?it/s]"
          ],
          "name": "stderr"
        },
        {
          "output_type": "stream",
          "text": [
            "\n",
            "Test set: Average loss: 0.0421, Accuracy: 9876/10000 (98.76%)\n",
            "\n",
            "EPOCH -  3\n"
          ],
          "name": "stdout"
        },
        {
          "output_type": "stream",
          "text": [
            "Loss=0.06494315713644028 Batch_id=468 Accuracy=97.89: 100%|██████████| 469/469 [00:29<00:00, 15.96it/s]\n",
            "  0%|          | 0/469 [00:00<?, ?it/s]"
          ],
          "name": "stderr"
        },
        {
          "output_type": "stream",
          "text": [
            "\n",
            "Test set: Average loss: 0.0361, Accuracy: 9886/10000 (98.86%)\n",
            "\n",
            "EPOCH -  4\n"
          ],
          "name": "stdout"
        },
        {
          "output_type": "stream",
          "text": [
            "Loss=0.024549761787056923 Batch_id=468 Accuracy=98.05: 100%|██████████| 469/469 [00:29<00:00, 15.94it/s]\n",
            "  0%|          | 0/469 [00:00<?, ?it/s]"
          ],
          "name": "stderr"
        },
        {
          "output_type": "stream",
          "text": [
            "\n",
            "Test set: Average loss: 0.0321, Accuracy: 9905/10000 (99.05%)\n",
            "\n",
            "EPOCH -  5\n"
          ],
          "name": "stdout"
        },
        {
          "output_type": "stream",
          "text": [
            "Loss=0.019366446882486343 Batch_id=468 Accuracy=98.34: 100%|██████████| 469/469 [00:29<00:00, 15.82it/s]\n",
            "  0%|          | 0/469 [00:00<?, ?it/s]"
          ],
          "name": "stderr"
        },
        {
          "output_type": "stream",
          "text": [
            "\n",
            "Test set: Average loss: 0.0298, Accuracy: 9904/10000 (99.04%)\n",
            "\n",
            "EPOCH -  6\n"
          ],
          "name": "stdout"
        },
        {
          "output_type": "stream",
          "text": [
            "Loss=0.041744429618120193 Batch_id=468 Accuracy=98.41: 100%|██████████| 469/469 [00:29<00:00, 15.75it/s]\n",
            "  0%|          | 0/469 [00:00<?, ?it/s]"
          ],
          "name": "stderr"
        },
        {
          "output_type": "stream",
          "text": [
            "\n",
            "Test set: Average loss: 0.0275, Accuracy: 9910/10000 (99.10%)\n",
            "\n",
            "EPOCH -  7\n"
          ],
          "name": "stdout"
        },
        {
          "output_type": "stream",
          "text": [
            "Loss=0.049417927861213684 Batch_id=468 Accuracy=98.40: 100%|██████████| 469/469 [00:29<00:00, 16.17it/s]\n",
            "  0%|          | 0/469 [00:00<?, ?it/s]"
          ],
          "name": "stderr"
        },
        {
          "output_type": "stream",
          "text": [
            "\n",
            "Test set: Average loss: 0.0246, Accuracy: 9927/10000 (99.27%)\n",
            "\n",
            "EPOCH -  8\n"
          ],
          "name": "stdout"
        },
        {
          "output_type": "stream",
          "text": [
            "Loss=0.0371730700135231 Batch_id=468 Accuracy=98.51: 100%|██████████| 469/469 [00:30<00:00, 15.49it/s]\n",
            "  0%|          | 0/469 [00:00<?, ?it/s]"
          ],
          "name": "stderr"
        },
        {
          "output_type": "stream",
          "text": [
            "\n",
            "Test set: Average loss: 0.0256, Accuracy: 9917/10000 (99.17%)\n",
            "\n",
            "EPOCH -  9\n"
          ],
          "name": "stdout"
        },
        {
          "output_type": "stream",
          "text": [
            "Loss=0.014328879304230213 Batch_id=468 Accuracy=98.65: 100%|██████████| 469/469 [00:30<00:00, 15.37it/s]\n",
            "  0%|          | 0/469 [00:00<?, ?it/s]"
          ],
          "name": "stderr"
        },
        {
          "output_type": "stream",
          "text": [
            "\n",
            "Test set: Average loss: 0.0249, Accuracy: 9923/10000 (99.23%)\n",
            "\n",
            "EPOCH -  10\n"
          ],
          "name": "stdout"
        },
        {
          "output_type": "stream",
          "text": [
            "Loss=0.0369083471596241 Batch_id=468 Accuracy=98.88: 100%|██████████| 469/469 [00:29<00:00, 15.72it/s]\n",
            "  0%|          | 0/469 [00:00<?, ?it/s]"
          ],
          "name": "stderr"
        },
        {
          "output_type": "stream",
          "text": [
            "\n",
            "Test set: Average loss: 0.0206, Accuracy: 9931/10000 (99.31%)\n",
            "\n",
            "EPOCH -  11\n"
          ],
          "name": "stdout"
        },
        {
          "output_type": "stream",
          "text": [
            "Loss=0.021300680935382843 Batch_id=468 Accuracy=98.85: 100%|██████████| 469/469 [00:30<00:00, 15.63it/s]\n",
            "  0%|          | 0/469 [00:00<?, ?it/s]"
          ],
          "name": "stderr"
        },
        {
          "output_type": "stream",
          "text": [
            "\n",
            "Test set: Average loss: 0.0199, Accuracy: 9942/10000 (99.42%)\n",
            "\n",
            "EPOCH -  12\n"
          ],
          "name": "stdout"
        },
        {
          "output_type": "stream",
          "text": [
            "Loss=0.061679184436798096 Batch_id=468 Accuracy=98.89: 100%|██████████| 469/469 [00:30<00:00, 15.55it/s]\n",
            "  0%|          | 0/469 [00:00<?, ?it/s]"
          ],
          "name": "stderr"
        },
        {
          "output_type": "stream",
          "text": [
            "\n",
            "Test set: Average loss: 0.0197, Accuracy: 9943/10000 (99.43%)\n",
            "\n",
            "EPOCH -  13\n"
          ],
          "name": "stdout"
        },
        {
          "output_type": "stream",
          "text": [
            "Loss=0.0068036396987736225 Batch_id=468 Accuracy=98.91: 100%|██████████| 469/469 [00:31<00:00, 14.99it/s]\n"
          ],
          "name": "stderr"
        },
        {
          "output_type": "stream",
          "text": [
            "\n",
            "Test set: Average loss: 0.0195, Accuracy: 9939/10000 (99.39%)\n",
            "\n"
          ],
          "name": "stdout"
        }
      ]
    },
    {
      "cell_type": "code",
      "metadata": {
        "id": "LT19Z4nzEfDO",
        "colab_type": "code",
        "colab": {
          "base_uri": "https://localhost:8080/",
          "height": 624
        },
        "outputId": "3d759867-bcdf-498a-f393-0932fe20ee1d"
      },
      "source": [
        "fig, axs = plt.subplots(2,2, figsize=(15,10))\n",
        "axs[0,0].plot(train_losses)\n",
        "axs[0,0].set_title('train_losses')\n",
        "axs[0,1].plot(train_acc)\n",
        "axs[0,1].set_title('Training Accuracy')\n",
        "axs[1,0].plot(test_losses)\n",
        "axs[1,0].set_title('Test Losses')\n",
        "axs[1,1].plot(test_acc)\n",
        "axs[1,1].set_title('Test Accuracy')"
      ],
      "execution_count": 10,
      "outputs": [
        {
          "output_type": "execute_result",
          "data": {
            "text/plain": [
              "Text(0.5, 1.0, 'Test Accuracy')"
            ]
          },
          "metadata": {
            "tags": []
          },
          "execution_count": 10
        },
        {
          "output_type": "display_data",
          "data": {
            "image/png": "[encoded data removed]",
            "text/plain": [
              "<Figure size 1080x720 with 4 Axes>"
            ]
          },
          "metadata": {
            "tags": [],
            "needs_background": "light"
          }
        }
      ]
    },
    {
      "cell_type": "code",
      "metadata": {
        "id": "LFwf74dUEfDT",
        "colab_type": "code",
        "colab": {
          "base_uri": "https://localhost:8080/",
          "height": 34
        },
        "outputId": "b9d7f2cd-40e7-48e8-d79f-38a2d6582cd3"
      },
      "source": [
        "import gc\n",
        "gc.collect()"
      ],
      "execution_count": 11,
      "outputs": [
        {
          "output_type": "execute_result",
          "data": {
            "text/plain": [
              "48"
            ]
          },
          "metadata": {
            "tags": []
          },
          "execution_count": 11
        }
      ]
    }
  ]
}