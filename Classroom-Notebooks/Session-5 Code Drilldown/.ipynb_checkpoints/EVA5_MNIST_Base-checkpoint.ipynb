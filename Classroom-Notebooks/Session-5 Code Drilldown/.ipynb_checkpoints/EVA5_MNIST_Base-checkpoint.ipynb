{
  "nbformat": 4,
  "nbformat_minor": 0,
  "metadata": {
    "colab": {
      "name": "EVA5_MNIST_Base.ipynb",
      "provenance": []
    },
    "kernelspec": {
      "name": "pytorch",
      "display_name": "pytorch"
    },
    "accelerator": "GPU",
    "widgets": {
      "application/vnd.jupyter.widget-state+json": {
        "1f207ccf11e540c8a9ad7f777460de0d": {
          "model_module": "@jupyter-widgets/controls",
          "model_name": "HBoxModel",
          "state": {
            "_view_name": "HBoxView",
            "_dom_classes": [],
            "_model_name": "HBoxModel",
            "_view_module": "@jupyter-widgets/controls",
            "_model_module_version": "1.5.0",
            "_view_count": null,
            "_view_module_version": "1.5.0",
            "box_style": "",
            "layout": "IPY_MODEL_ab203a195f3147c387a066135da63d8b",
            "_model_module": "@jupyter-widgets/controls",
            "children": [
              "IPY_MODEL_636ba14b25dc466b9aaec0f4f37ad460",
              "IPY_MODEL_03ad1fa4b1ba4c49842a043d49d01ce2"
            ]
          }
        },
        "ab203a195f3147c387a066135da63d8b": {
          "model_module": "@jupyter-widgets/base",
          "model_name": "LayoutModel",
          "state": {
            "_view_name": "LayoutView",
            "grid_template_rows": null,
            "right": null,
            "justify_content": null,
            "_view_module": "@jupyter-widgets/base",
            "overflow": null,
            "_model_module_version": "1.2.0",
            "_view_count": null,
            "flex_flow": null,
            "width": null,
            "min_width": null,
            "border": null,
            "align_items": null,
            "bottom": null,
            "_model_module": "@jupyter-widgets/base",
            "top": null,
            "grid_column": null,
            "overflow_y": null,
            "overflow_x": null,
            "grid_auto_flow": null,
            "grid_area": null,
            "grid_template_columns": null,
            "flex": null,
            "_model_name": "LayoutModel",
            "justify_items": null,
            "grid_row": null,
            "max_height": null,
            "align_content": null,
            "visibility": null,
            "align_self": null,
            "height": null,
            "min_height": null,
            "padding": null,
            "grid_auto_rows": null,
            "grid_gap": null,
            "max_width": null,
            "order": null,
            "_view_module_version": "1.2.0",
            "grid_template_areas": null,
            "object_position": null,
            "object_fit": null,
            "grid_auto_columns": null,
            "margin": null,
            "display": null,
            "left": null
          }
        },
        "636ba14b25dc466b9aaec0f4f37ad460": {
          "model_module": "@jupyter-widgets/controls",
          "model_name": "FloatProgressModel",
          "state": {
            "_view_name": "ProgressView",
            "style": "IPY_MODEL_7e5d584196914c21a41548c88afe3ecf",
            "_dom_classes": [],
            "description": "",
            "_model_name": "FloatProgressModel",
            "bar_style": "info",
            "max": 1,
            "_view_module": "@jupyter-widgets/controls",
            "_model_module_version": "1.5.0",
            "value": 1,
            "_view_count": null,
            "_view_module_version": "1.5.0",
            "orientation": "horizontal",
            "min": 0,
            "description_tooltip": null,
            "_model_module": "@jupyter-widgets/controls",
            "layout": "IPY_MODEL_7d6627350ceb4ecab63b9c6e1a3cdee1"
          }
        },
        "03ad1fa4b1ba4c49842a043d49d01ce2": {
          "model_module": "@jupyter-widgets/controls",
          "model_name": "HTMLModel",
          "state": {
            "_view_name": "HTMLView",
            "style": "IPY_MODEL_a0abf13748a3458eb81f52e03fddd48f",
            "_dom_classes": [],
            "description": "",
            "_model_name": "HTMLModel",
            "placeholder": "​",
            "_view_module": "@jupyter-widgets/controls",
            "_model_module_version": "1.5.0",
            "value": " 9920512/? [00:19&lt;00:00, 1067042.81it/s]",
            "_view_count": null,
            "_view_module_version": "1.5.0",
            "description_tooltip": null,
            "_model_module": "@jupyter-widgets/controls",
            "layout": "IPY_MODEL_15d902fb6d574edbadc82a109565fccf"
          }
        },
        "7e5d584196914c21a41548c88afe3ecf": {
          "model_module": "@jupyter-widgets/controls",
          "model_name": "ProgressStyleModel",
          "state": {
            "_view_name": "StyleView",
            "_model_name": "ProgressStyleModel",
            "description_width": "initial",
            "_view_module": "@jupyter-widgets/base",
            "_model_module_version": "1.5.0",
            "_view_count": null,
            "_view_module_version": "1.2.0",
            "bar_color": null,
            "_model_module": "@jupyter-widgets/controls"
          }
        },
        "7d6627350ceb4ecab63b9c6e1a3cdee1": {
          "model_module": "@jupyter-widgets/base",
          "model_name": "LayoutModel",
          "state": {
            "_view_name": "LayoutView",
            "grid_template_rows": null,
            "right": null,
            "justify_content": null,
            "_view_module": "@jupyter-widgets/base",
            "overflow": null,
            "_model_module_version": "1.2.0",
            "_view_count": null,
            "flex_flow": null,
            "width": null,
            "min_width": null,
            "border": null,
            "align_items": null,
            "bottom": null,
            "_model_module": "@jupyter-widgets/base",
            "top": null,
            "grid_column": null,
            "overflow_y": null,
            "overflow_x": null,
            "grid_auto_flow": null,
            "grid_area": null,
            "grid_template_columns": null,
            "flex": null,
            "_model_name": "LayoutModel",
            "justify_items": null,
            "grid_row": null,
            "max_height": null,
            "align_content": null,
            "visibility": null,
            "align_self": null,
            "height": null,
            "min_height": null,
            "padding": null,
            "grid_auto_rows": null,
            "grid_gap": null,
            "max_width": null,
            "order": null,
            "_view_module_version": "1.2.0",
            "grid_template_areas": null,
            "object_position": null,
            "object_fit": null,
            "grid_auto_columns": null,
            "margin": null,
            "display": null,
            "left": null
          }
        },
        "a0abf13748a3458eb81f52e03fddd48f": {
          "model_module": "@jupyter-widgets/controls",
          "model_name": "DescriptionStyleModel",
          "state": {
            "_view_name": "StyleView",
            "_model_name": "DescriptionStyleModel",
            "description_width": "",
            "_view_module": "@jupyter-widgets/base",
            "_model_module_version": "1.5.0",
            "_view_count": null,
            "_view_module_version": "1.2.0",
            "_model_module": "@jupyter-widgets/controls"
          }
        },
        "15d902fb6d574edbadc82a109565fccf": {
          "model_module": "@jupyter-widgets/base",
          "model_name": "LayoutModel",
          "state": {
            "_view_name": "LayoutView",
            "grid_template_rows": null,
            "right": null,
            "justify_content": null,
            "_view_module": "@jupyter-widgets/base",
            "overflow": null,
            "_model_module_version": "1.2.0",
            "_view_count": null,
            "flex_flow": null,
            "width": null,
            "min_width": null,
            "border": null,
            "align_items": null,
            "bottom": null,
            "_model_module": "@jupyter-widgets/base",
            "top": null,
            "grid_column": null,
            "overflow_y": null,
            "overflow_x": null,
            "grid_auto_flow": null,
            "grid_area": null,
            "grid_template_columns": null,
            "flex": null,
            "_model_name": "LayoutModel",
            "justify_items": null,
            "grid_row": null,
            "max_height": null,
            "align_content": null,
            "visibility": null,
            "align_self": null,
            "height": null,
            "min_height": null,
            "padding": null,
            "grid_auto_rows": null,
            "grid_gap": null,
            "max_width": null,
            "order": null,
            "_view_module_version": "1.2.0",
            "grid_template_areas": null,
            "object_position": null,
            "object_fit": null,
            "grid_auto_columns": null,
            "margin": null,
            "display": null,
            "left": null
          }
        },
        "4be9df17cab34c2c88ee3c5134064026": {
          "model_module": "@jupyter-widgets/controls",
          "model_name": "HBoxModel",
          "state": {
            "_view_name": "HBoxView",
            "_dom_classes": [],
            "_model_name": "HBoxModel",
            "_view_module": "@jupyter-widgets/controls",
            "_model_module_version": "1.5.0",
            "_view_count": null,
            "_view_module_version": "1.5.0",
            "box_style": "",
            "layout": "IPY_MODEL_ff812fcde4ff48f795be86f42d302c6c",
            "_model_module": "@jupyter-widgets/controls",
            "children": [
              "IPY_MODEL_aefd83f0b31347d78b9cb4220ecfd53e",
              "IPY_MODEL_6e84088be65444859c873809921579a8"
            ]
          }
        },
        "ff812fcde4ff48f795be86f42d302c6c": {
          "model_module": "@jupyter-widgets/base",
          "model_name": "LayoutModel",
          "state": {
            "_view_name": "LayoutView",
            "grid_template_rows": null,
            "right": null,
            "justify_content": null,
            "_view_module": "@jupyter-widgets/base",
            "overflow": null,
            "_model_module_version": "1.2.0",
            "_view_count": null,
            "flex_flow": null,
            "width": null,
            "min_width": null,
            "border": null,
            "align_items": null,
            "bottom": null,
            "_model_module": "@jupyter-widgets/base",
            "top": null,
            "grid_column": null,
            "overflow_y": null,
            "overflow_x": null,
            "grid_auto_flow": null,
            "grid_area": null,
            "grid_template_columns": null,
            "flex": null,
            "_model_name": "LayoutModel",
            "justify_items": null,
            "grid_row": null,
            "max_height": null,
            "align_content": null,
            "visibility": null,
            "align_self": null,
            "height": null,
            "min_height": null,
            "padding": null,
            "grid_auto_rows": null,
            "grid_gap": null,
            "max_width": null,
            "order": null,
            "_view_module_version": "1.2.0",
            "grid_template_areas": null,
            "object_position": null,
            "object_fit": null,
            "grid_auto_columns": null,
            "margin": null,
            "display": null,
            "left": null
          }
        },
        "aefd83f0b31347d78b9cb4220ecfd53e": {
          "model_module": "@jupyter-widgets/controls",
          "model_name": "FloatProgressModel",
          "state": {
            "_view_name": "ProgressView",
            "style": "IPY_MODEL_dc3cb0b616044e8c8204e06277b3db28",
            "_dom_classes": [],
            "description": "",
            "_model_name": "FloatProgressModel",
            "bar_style": "success",
            "max": 1,
            "_view_module": "@jupyter-widgets/controls",
            "_model_module_version": "1.5.0",
            "value": 1,
            "_view_count": null,
            "_view_module_version": "1.5.0",
            "orientation": "horizontal",
            "min": 0,
            "description_tooltip": null,
            "_model_module": "@jupyter-widgets/controls",
            "layout": "IPY_MODEL_df834eac549f45b39b9be57bf9ec3002"
          }
        },
        "6e84088be65444859c873809921579a8": {
          "model_module": "@jupyter-widgets/controls",
          "model_name": "HTMLModel",
          "state": {
            "_view_name": "HTMLView",
            "style": "IPY_MODEL_132ad4c38b344b44aa2a0f33e4e4d31e",
            "_dom_classes": [],
            "description": "",
            "_model_name": "HTMLModel",
            "placeholder": "​",
            "_view_module": "@jupyter-widgets/controls",
            "_model_module_version": "1.5.0",
            "value": " 32768/? [00:00&lt;00:00, 110742.93it/s]",
            "_view_count": null,
            "_view_module_version": "1.5.0",
            "description_tooltip": null,
            "_model_module": "@jupyter-widgets/controls",
            "layout": "IPY_MODEL_efc8025d5dea49debc700b91d1199d55"
          }
        },
        "dc3cb0b616044e8c8204e06277b3db28": {
          "model_module": "@jupyter-widgets/controls",
          "model_name": "ProgressStyleModel",
          "state": {
            "_view_name": "StyleView",
            "_model_name": "ProgressStyleModel",
            "description_width": "initial",
            "_view_module": "@jupyter-widgets/base",
            "_model_module_version": "1.5.0",
            "_view_count": null,
            "_view_module_version": "1.2.0",
            "bar_color": null,
            "_model_module": "@jupyter-widgets/controls"
          }
        },
        "df834eac549f45b39b9be57bf9ec3002": {
          "model_module": "@jupyter-widgets/base",
          "model_name": "LayoutModel",
          "state": {
            "_view_name": "LayoutView",
            "grid_template_rows": null,
            "right": null,
            "justify_content": null,
            "_view_module": "@jupyter-widgets/base",
            "overflow": null,
            "_model_module_version": "1.2.0",
            "_view_count": null,
            "flex_flow": null,
            "width": null,
            "min_width": null,
            "border": null,
            "align_items": null,
            "bottom": null,
            "_model_module": "@jupyter-widgets/base",
            "top": null,
            "grid_column": null,
            "overflow_y": null,
            "overflow_x": null,
            "grid_auto_flow": null,
            "grid_area": null,
            "grid_template_columns": null,
            "flex": null,
            "_model_name": "LayoutModel",
            "justify_items": null,
            "grid_row": null,
            "max_height": null,
            "align_content": null,
            "visibility": null,
            "align_self": null,
            "height": null,
            "min_height": null,
            "padding": null,
            "grid_auto_rows": null,
            "grid_gap": null,
            "max_width": null,
            "order": null,
            "_view_module_version": "1.2.0",
            "grid_template_areas": null,
            "object_position": null,
            "object_fit": null,
            "grid_auto_columns": null,
            "margin": null,
            "display": null,
            "left": null
          }
        },
        "132ad4c38b344b44aa2a0f33e4e4d31e": {
          "model_module": "@jupyter-widgets/controls",
          "model_name": "DescriptionStyleModel",
          "state": {
            "_view_name": "StyleView",
            "_model_name": "DescriptionStyleModel",
            "description_width": "",
            "_view_module": "@jupyter-widgets/base",
            "_model_module_version": "1.5.0",
            "_view_count": null,
            "_view_module_version": "1.2.0",
            "_model_module": "@jupyter-widgets/controls"
          }
        },
        "efc8025d5dea49debc700b91d1199d55": {
          "model_module": "@jupyter-widgets/base",
          "model_name": "LayoutModel",
          "state": {
            "_view_name": "LayoutView",
            "grid_template_rows": null,
            "right": null,
            "justify_content": null,
            "_view_module": "@jupyter-widgets/base",
            "overflow": null,
            "_model_module_version": "1.2.0",
            "_view_count": null,
            "flex_flow": null,
            "width": null,
            "min_width": null,
            "border": null,
            "align_items": null,
            "bottom": null,
            "_model_module": "@jupyter-widgets/base",
            "top": null,
            "grid_column": null,
            "overflow_y": null,
            "overflow_x": null,
            "grid_auto_flow": null,
            "grid_area": null,
            "grid_template_columns": null,
            "flex": null,
            "_model_name": "LayoutModel",
            "justify_items": null,
            "grid_row": null,
            "max_height": null,
            "align_content": null,
            "visibility": null,
            "align_self": null,
            "height": null,
            "min_height": null,
            "padding": null,
            "grid_auto_rows": null,
            "grid_gap": null,
            "max_width": null,
            "order": null,
            "_view_module_version": "1.2.0",
            "grid_template_areas": null,
            "object_position": null,
            "object_fit": null,
            "grid_auto_columns": null,
            "margin": null,
            "display": null,
            "left": null
          }
        },
        "55659e455ce04f87850d9045ac288ac8": {
          "model_module": "@jupyter-widgets/controls",
          "model_name": "HBoxModel",
          "state": {
            "_view_name": "HBoxView",
            "_dom_classes": [],
            "_model_name": "HBoxModel",
            "_view_module": "@jupyter-widgets/controls",
            "_model_module_version": "1.5.0",
            "_view_count": null,
            "_view_module_version": "1.5.0",
            "box_style": "",
            "layout": "IPY_MODEL_b8aa3ea9568f4679a500db85a910ae06",
            "_model_module": "@jupyter-widgets/controls",
            "children": [
              "IPY_MODEL_fe921b67eaa84d54a50ec9936697474f",
              "IPY_MODEL_c505076bcbd541f0b16cd60b8e33d67b"
            ]
          }
        },
        "b8aa3ea9568f4679a500db85a910ae06": {
          "model_module": "@jupyter-widgets/base",
          "model_name": "LayoutModel",
          "state": {
            "_view_name": "LayoutView",
            "grid_template_rows": null,
            "right": null,
            "justify_content": null,
            "_view_module": "@jupyter-widgets/base",
            "overflow": null,
            "_model_module_version": "1.2.0",
            "_view_count": null,
            "flex_flow": null,
            "width": null,
            "min_width": null,
            "border": null,
            "align_items": null,
            "bottom": null,
            "_model_module": "@jupyter-widgets/base",
            "top": null,
            "grid_column": null,
            "overflow_y": null,
            "overflow_x": null,
            "grid_auto_flow": null,
            "grid_area": null,
            "grid_template_columns": null,
            "flex": null,
            "_model_name": "LayoutModel",
            "justify_items": null,
            "grid_row": null,
            "max_height": null,
            "align_content": null,
            "visibility": null,
            "align_self": null,
            "height": null,
            "min_height": null,
            "padding": null,
            "grid_auto_rows": null,
            "grid_gap": null,
            "max_width": null,
            "order": null,
            "_view_module_version": "1.2.0",
            "grid_template_areas": null,
            "object_position": null,
            "object_fit": null,
            "grid_auto_columns": null,
            "margin": null,
            "display": null,
            "left": null
          }
        },
        "fe921b67eaa84d54a50ec9936697474f": {
          "model_module": "@jupyter-widgets/controls",
          "model_name": "FloatProgressModel",
          "state": {
            "_view_name": "ProgressView",
            "style": "IPY_MODEL_32f52cc799d34357af520c0c4529c1e6",
            "_dom_classes": [],
            "description": "",
            "_model_name": "FloatProgressModel",
            "bar_style": "info",
            "max": 1,
            "_view_module": "@jupyter-widgets/controls",
            "_model_module_version": "1.5.0",
            "value": 1,
            "_view_count": null,
            "_view_module_version": "1.5.0",
            "orientation": "horizontal",
            "min": 0,
            "description_tooltip": null,
            "_model_module": "@jupyter-widgets/controls",
            "layout": "IPY_MODEL_580d7e17682b4114a77601212f69563f"
          }
        },
        "c505076bcbd541f0b16cd60b8e33d67b": {
          "model_module": "@jupyter-widgets/controls",
          "model_name": "HTMLModel",
          "state": {
            "_view_name": "HTMLView",
            "style": "IPY_MODEL_ba96cdfead5e4aad9d4003dc9f985c2b",
            "_dom_classes": [],
            "description": "",
            "_model_name": "HTMLModel",
            "placeholder": "​",
            "_view_module": "@jupyter-widgets/controls",
            "_model_module_version": "1.5.0",
            "value": " 1654784/? [00:18&lt;00:00, 528448.10it/s]",
            "_view_count": null,
            "_view_module_version": "1.5.0",
            "description_tooltip": null,
            "_model_module": "@jupyter-widgets/controls",
            "layout": "IPY_MODEL_6eeb5fe93c254f548d44dbbcbaedf7fc"
          }
        },
        "32f52cc799d34357af520c0c4529c1e6": {
          "model_module": "@jupyter-widgets/controls",
          "model_name": "ProgressStyleModel",
          "state": {
            "_view_name": "StyleView",
            "_model_name": "ProgressStyleModel",
            "description_width": "initial",
            "_view_module": "@jupyter-widgets/base",
            "_model_module_version": "1.5.0",
            "_view_count": null,
            "_view_module_version": "1.2.0",
            "bar_color": null,
            "_model_module": "@jupyter-widgets/controls"
          }
        },
        "580d7e17682b4114a77601212f69563f": {
          "model_module": "@jupyter-widgets/base",
          "model_name": "LayoutModel",
          "state": {
            "_view_name": "LayoutView",
            "grid_template_rows": null,
            "right": null,
            "justify_content": null,
            "_view_module": "@jupyter-widgets/base",
            "overflow": null,
            "_model_module_version": "1.2.0",
            "_view_count": null,
            "flex_flow": null,
            "width": null,
            "min_width": null,
            "border": null,
            "align_items": null,
            "bottom": null,
            "_model_module": "@jupyter-widgets/base",
            "top": null,
            "grid_column": null,
            "overflow_y": null,
            "overflow_x": null,
            "grid_auto_flow": null,
            "grid_area": null,
            "grid_template_columns": null,
            "flex": null,
            "_model_name": "LayoutModel",
            "justify_items": null,
            "grid_row": null,
            "max_height": null,
            "align_content": null,
            "visibility": null,
            "align_self": null,
            "height": null,
            "min_height": null,
            "padding": null,
            "grid_auto_rows": null,
            "grid_gap": null,
            "max_width": null,
            "order": null,
            "_view_module_version": "1.2.0",
            "grid_template_areas": null,
            "object_position": null,
            "object_fit": null,
            "grid_auto_columns": null,
            "margin": null,
            "display": null,
            "left": null
          }
        },
        "ba96cdfead5e4aad9d4003dc9f985c2b": {
          "model_module": "@jupyter-widgets/controls",
          "model_name": "DescriptionStyleModel",
          "state": {
            "_view_name": "StyleView",
            "_model_name": "DescriptionStyleModel",
            "description_width": "",
            "_view_module": "@jupyter-widgets/base",
            "_model_module_version": "1.5.0",
            "_view_count": null,
            "_view_module_version": "1.2.0",
            "_model_module": "@jupyter-widgets/controls"
          }
        },
        "6eeb5fe93c254f548d44dbbcbaedf7fc": {
          "model_module": "@jupyter-widgets/base",
          "model_name": "LayoutModel",
          "state": {
            "_view_name": "LayoutView",
            "grid_template_rows": null,
            "right": null,
            "justify_content": null,
            "_view_module": "@jupyter-widgets/base",
            "overflow": null,
            "_model_module_version": "1.2.0",
            "_view_count": null,
            "flex_flow": null,
            "width": null,
            "min_width": null,
            "border": null,
            "align_items": null,
            "bottom": null,
            "_model_module": "@jupyter-widgets/base",
            "top": null,
            "grid_column": null,
            "overflow_y": null,
            "overflow_x": null,
            "grid_auto_flow": null,
            "grid_area": null,
            "grid_template_columns": null,
            "flex": null,
            "_model_name": "LayoutModel",
            "justify_items": null,
            "grid_row": null,
            "max_height": null,
            "align_content": null,
            "visibility": null,
            "align_self": null,
            "height": null,
            "min_height": null,
            "padding": null,
            "grid_auto_rows": null,
            "grid_gap": null,
            "max_width": null,
            "order": null,
            "_view_module_version": "1.2.0",
            "grid_template_areas": null,
            "object_position": null,
            "object_fit": null,
            "grid_auto_columns": null,
            "margin": null,
            "display": null,
            "left": null
          }
        },
        "ee71a59613654d32bef2e4627c5a3f10": {
          "model_module": "@jupyter-widgets/controls",
          "model_name": "HBoxModel",
          "state": {
            "_view_name": "HBoxView",
            "_dom_classes": [],
            "_model_name": "HBoxModel",
            "_view_module": "@jupyter-widgets/controls",
            "_model_module_version": "1.5.0",
            "_view_count": null,
            "_view_module_version": "1.5.0",
            "box_style": "",
            "layout": "IPY_MODEL_cc5b512447c340db8091a639e5624374",
            "_model_module": "@jupyter-widgets/controls",
            "children": [
              "IPY_MODEL_4af0ac9e55d2405ba891bc6b14cdb787",
              "IPY_MODEL_baca3fdee696456ba898c0bc22d95d51"
            ]
          }
        },
        "cc5b512447c340db8091a639e5624374": {
          "model_module": "@jupyter-widgets/base",
          "model_name": "LayoutModel",
          "state": {
            "_view_name": "LayoutView",
            "grid_template_rows": null,
            "right": null,
            "justify_content": null,
            "_view_module": "@jupyter-widgets/base",
            "overflow": null,
            "_model_module_version": "1.2.0",
            "_view_count": null,
            "flex_flow": null,
            "width": null,
            "min_width": null,
            "border": null,
            "align_items": null,
            "bottom": null,
            "_model_module": "@jupyter-widgets/base",
            "top": null,
            "grid_column": null,
            "overflow_y": null,
            "overflow_x": null,
            "grid_auto_flow": null,
            "grid_area": null,
            "grid_template_columns": null,
            "flex": null,
            "_model_name": "LayoutModel",
            "justify_items": null,
            "grid_row": null,
            "max_height": null,
            "align_content": null,
            "visibility": null,
            "align_self": null,
            "height": null,
            "min_height": null,
            "padding": null,
            "grid_auto_rows": null,
            "grid_gap": null,
            "max_width": null,
            "order": null,
            "_view_module_version": "1.2.0",
            "grid_template_areas": null,
            "object_position": null,
            "object_fit": null,
            "grid_auto_columns": null,
            "margin": null,
            "display": null,
            "left": null
          }
        },
        "4af0ac9e55d2405ba891bc6b14cdb787": {
          "model_module": "@jupyter-widgets/controls",
          "model_name": "FloatProgressModel",
          "state": {
            "_view_name": "ProgressView",
            "style": "IPY_MODEL_75cd050ea8c14c4fba297d30399a09c2",
            "_dom_classes": [],
            "description": "",
            "_model_name": "FloatProgressModel",
            "bar_style": "success",
            "max": 1,
            "_view_module": "@jupyter-widgets/controls",
            "_model_module_version": "1.5.0",
            "value": 1,
            "_view_count": null,
            "_view_module_version": "1.5.0",
            "orientation": "horizontal",
            "min": 0,
            "description_tooltip": null,
            "_model_module": "@jupyter-widgets/controls",
            "layout": "IPY_MODEL_8ad7adfae2da49418a92495e635ab709"
          }
        },
        "baca3fdee696456ba898c0bc22d95d51": {
          "model_module": "@jupyter-widgets/controls",
          "model_name": "HTMLModel",
          "state": {
            "_view_name": "HTMLView",
            "style": "IPY_MODEL_6dc1caec66a646b6a2c6868d32bb0d38",
            "_dom_classes": [],
            "description": "",
            "_model_name": "HTMLModel",
            "placeholder": "​",
            "_view_module": "@jupyter-widgets/controls",
            "_model_module_version": "1.5.0",
            "value": " 8192/? [00:01&lt;00:00, 5178.10it/s]",
            "_view_count": null,
            "_view_module_version": "1.5.0",
            "description_tooltip": null,
            "_model_module": "@jupyter-widgets/controls",
            "layout": "IPY_MODEL_6be94b37487e4bcd9120b86e6f86904c"
          }
        },
        "75cd050ea8c14c4fba297d30399a09c2": {
          "model_module": "@jupyter-widgets/controls",
          "model_name": "ProgressStyleModel",
          "state": {
            "_view_name": "StyleView",
            "_model_name": "ProgressStyleModel",
            "description_width": "initial",
            "_view_module": "@jupyter-widgets/base",
            "_model_module_version": "1.5.0",
            "_view_count": null,
            "_view_module_version": "1.2.0",
            "bar_color": null,
            "_model_module": "@jupyter-widgets/controls"
          }
        },
        "8ad7adfae2da49418a92495e635ab709": {
          "model_module": "@jupyter-widgets/base",
          "model_name": "LayoutModel",
          "state": {
            "_view_name": "LayoutView",
            "grid_template_rows": null,
            "right": null,
            "justify_content": null,
            "_view_module": "@jupyter-widgets/base",
            "overflow": null,
            "_model_module_version": "1.2.0",
            "_view_count": null,
            "flex_flow": null,
            "width": null,
            "min_width": null,
            "border": null,
            "align_items": null,
            "bottom": null,
            "_model_module": "@jupyter-widgets/base",
            "top": null,
            "grid_column": null,
            "overflow_y": null,
            "overflow_x": null,
            "grid_auto_flow": null,
            "grid_area": null,
            "grid_template_columns": null,
            "flex": null,
            "_model_name": "LayoutModel",
            "justify_items": null,
            "grid_row": null,
            "max_height": null,
            "align_content": null,
            "visibility": null,
            "align_self": null,
            "height": null,
            "min_height": null,
            "padding": null,
            "grid_auto_rows": null,
            "grid_gap": null,
            "max_width": null,
            "order": null,
            "_view_module_version": "1.2.0",
            "grid_template_areas": null,
            "object_position": null,
            "object_fit": null,
            "grid_auto_columns": null,
            "margin": null,
            "display": null,
            "left": null
          }
        },
        "6dc1caec66a646b6a2c6868d32bb0d38": {
          "model_module": "@jupyter-widgets/controls",
          "model_name": "DescriptionStyleModel",
          "state": {
            "_view_name": "StyleView",
            "_model_name": "DescriptionStyleModel",
            "description_width": "",
            "_view_module": "@jupyter-widgets/base",
            "_model_module_version": "1.5.0",
            "_view_count": null,
            "_view_module_version": "1.2.0",
            "_model_module": "@jupyter-widgets/controls"
          }
        },
        "6be94b37487e4bcd9120b86e6f86904c": {
          "model_module": "@jupyter-widgets/base",
          "model_name": "LayoutModel",
          "state": {
            "_view_name": "LayoutView",
            "grid_template_rows": null,
            "right": null,
            "justify_content": null,
            "_view_module": "@jupyter-widgets/base",
            "overflow": null,
            "_model_module_version": "1.2.0",
            "_view_count": null,
            "flex_flow": null,
            "width": null,
            "min_width": null,
            "border": null,
            "align_items": null,
            "bottom": null,
            "_model_module": "@jupyter-widgets/base",
            "top": null,
            "grid_column": null,
            "overflow_y": null,
            "overflow_x": null,
            "grid_auto_flow": null,
            "grid_area": null,
            "grid_template_columns": null,
            "flex": null,
            "_model_name": "LayoutModel",
            "justify_items": null,
            "grid_row": null,
            "max_height": null,
            "align_content": null,
            "visibility": null,
            "align_self": null,
            "height": null,
            "min_height": null,
            "padding": null,
            "grid_auto_rows": null,
            "grid_gap": null,
            "max_width": null,
            "order": null,
            "_view_module_version": "1.2.0",
            "grid_template_areas": null,
            "object_position": null,
            "object_fit": null,
            "grid_auto_columns": null,
            "margin": null,
            "display": null,
            "left": null
          }
        }
      }
    }
  },
  "cells": [
    {
      "cell_type": "markdown",
      "metadata": {
        "id": "aO-7t1Y7-hV4",
        "colab_type": "text"
      },
      "source": [
        "# Import Libraries"
      ]
    },
    {
      "cell_type": "code",
      "metadata": {
        "id": "8kH16rnZ7wt_",
        "colab_type": "code",
        "colab": {}
      },
      "source": [
        "from __future__ import print_function\n",
        "import torch\n",
        "import torch.nn as nn\n",
        "import torch.nn.functional as F\n",
        "import torch.optim as optim\n",
        "from torchvision import datasets, transforms\n",
        "os.chdir('d:\\Python Projects\\EVA')"
      ],
      "execution_count": 12,
      "outputs": []
    },
    {
      "cell_type": "markdown",
      "metadata": {
        "id": "ky3f_Odl-7um",
        "colab_type": "text"
      },
      "source": [
        "## Data Transformations\n",
        "\n",
        "We first start with defining our data transformations. We need to think what our data is and how can we augment it to correct represent images which it might not see otherwise. \n",
        "\n",
        "Here is the list of all the transformations which come pre-built with PyTorch\n",
        "\n",
        "1.   Compose\n",
        "2.   ToTensor\n",
        "3.   ToPILImage\n",
        "4. Normalize\n",
        "5. Resize\n",
        "6. Scale\n",
        "7. CenterCrop\n",
        "8. Pad\n",
        "9. Lambda\n",
        "10. RandomApply\n",
        "11. RandomChoice\n",
        "12. RandomOrder\n",
        "13. RandomCrop\n",
        "14. RandomHorizontalFlip\n",
        "15. RandomVerticalFlip\n",
        "16. RandomResizedCrop\n",
        "17. RandomSizedCrop\n",
        "18. FiveCrop\n",
        "19. TenCrop\n",
        "20. LinearTransformation\n",
        "21. ColorJitter\n",
        "22. RandomRotation\n",
        "23. RandomAffine\n",
        "24. Grayscale\n",
        "25. RandomGrayscale\n",
        "26. RandomPerspective\n",
        "27. RandomErasing\n",
        "\n",
        "You can read more about them [here](https://pytorch.org/docs/stable/_modules/torchvision/transforms/transforms.html)"
      ]
    },
    {
      "cell_type": "code",
      "metadata": {
        "id": "YtssFUKb-jqx",
        "colab_type": "code",
        "colab": {}
      },
      "source": [
        "# Train Phase transformations\n",
        "train_transforms = transforms.Compose([\n",
        "                                      #  transforms.Resize((28, 28)),\n",
        "                                      #  transforms.ColorJitter(brightness=0.10, contrast=0.1, saturation=0.10, hue=0.1),\n",
        "                                       transforms.ToTensor(),\n",
        "                                       transforms.Normalize((0.1307,), (0.3081,)) # The mean and std have to be sequences (e.g., tuples), therefore you should add a comma after the values. \n",
        "                                       # Note the difference between (0.1307) and (0.1307,)\n",
        "                                       ])\n",
        "\n",
        "# Test Phase transformations\n",
        "test_transforms = transforms.Compose([\n",
        "                                      #  transforms.Resize((28, 28)),\n",
        "                                      #  transforms.ColorJitter(brightness=0.10, contrast=0.1, saturation=0.10, hue=0.1),\n",
        "                                       transforms.ToTensor(),\n",
        "                                       transforms.Normalize((0.1307,), (0.3081,))\n",
        "                                       ])\n"
      ],
      "execution_count": 13,
      "outputs": []
    },
    {
      "cell_type": "markdown",
      "metadata": {
        "id": "oQciFYo2B1mO",
        "colab_type": "text"
      },
      "source": [
        "# Dataset and Creating Train/Test Split"
      ]
    },
    {
      "cell_type": "code",
      "metadata": {
        "id": "_4A84rlfDA23",
        "colab_type": "code",
        "colab": {
          "base_uri": "https://localhost:8080/",
          "height": 383,
          "referenced_widgets": [
            "1f207ccf11e540c8a9ad7f777460de0d",
            "ab203a195f3147c387a066135da63d8b",
            "636ba14b25dc466b9aaec0f4f37ad460",
            "03ad1fa4b1ba4c49842a043d49d01ce2",
            "7e5d584196914c21a41548c88afe3ecf",
            "7d6627350ceb4ecab63b9c6e1a3cdee1",
            "a0abf13748a3458eb81f52e03fddd48f",
            "15d902fb6d574edbadc82a109565fccf",
            "4be9df17cab34c2c88ee3c5134064026",
            "ff812fcde4ff48f795be86f42d302c6c",
            "aefd83f0b31347d78b9cb4220ecfd53e",
            "6e84088be65444859c873809921579a8",
            "dc3cb0b616044e8c8204e06277b3db28",
            "df834eac549f45b39b9be57bf9ec3002",
            "132ad4c38b344b44aa2a0f33e4e4d31e",
            "efc8025d5dea49debc700b91d1199d55",
            "55659e455ce04f87850d9045ac288ac8",
            "b8aa3ea9568f4679a500db85a910ae06",
            "fe921b67eaa84d54a50ec9936697474f",
            "c505076bcbd541f0b16cd60b8e33d67b",
            "32f52cc799d34357af520c0c4529c1e6",
            "580d7e17682b4114a77601212f69563f",
            "ba96cdfead5e4aad9d4003dc9f985c2b",
            "6eeb5fe93c254f548d44dbbcbaedf7fc",
            "ee71a59613654d32bef2e4627c5a3f10",
            "cc5b512447c340db8091a639e5624374",
            "4af0ac9e55d2405ba891bc6b14cdb787",
            "baca3fdee696456ba898c0bc22d95d51",
            "75cd050ea8c14c4fba297d30399a09c2",
            "8ad7adfae2da49418a92495e635ab709",
            "6dc1caec66a646b6a2c6868d32bb0d38",
            "6be94b37487e4bcd9120b86e6f86904c"
          ]
        },
        "outputId": "13f063b1-ab22-481a-d161-3f9f8147928f"
      },
      "source": [
        "train = datasets.MNIST('./data', train=True, download=True, transform=train_transforms)\n",
        "test = datasets.MNIST('./data', train=False, download=True, transform=test_transforms)"
      ],
      "execution_count": 14,
      "outputs": []
    },
    {
      "cell_type": "markdown",
      "metadata": {
        "id": "qgldp_3-Dn0c",
        "colab_type": "text"
      },
      "source": [
        "# Dataloader Arguments & Test/Train Dataloaders\n"
      ]
    },
    {
      "cell_type": "code",
      "metadata": {
        "id": "C8OLDR79DrHG",
        "colab_type": "code",
        "colab": {
          "base_uri": "https://localhost:8080/",
          "height": 34
        },
        "outputId": "6c2727fa-3a8b-4672-9a24-2017a00d17f8",
        "tags": []
      },
      "source": [
        "SEED = 1\n",
        "\n",
        "# CUDA?\n",
        "cuda = torch.cuda.is_available()\n",
        "print(\"CUDA Available?\", cuda)\n",
        "\n",
        "# For reproducibility\n",
        "torch.manual_seed(SEED)\n",
        "\n",
        "if cuda:\n",
        "    torch.cuda.manual_seed(SEED)\n",
        "\n",
        "# dataloader arguments - something you'll fetch these from cmdprmt\n",
        "dataloader_args = dict(shuffle=True, batch_size=128, num_workers=4, pin_memory=True) if cuda else dict(shuffle=True, batch_size=64)\n",
        "\n",
        "# train dataloader\n",
        "train_loader = torch.utils.data.DataLoader(train, **dataloader_args)\n",
        "\n",
        "# test dataloader\n",
        "test_loader = torch.utils.data.DataLoader(test, **dataloader_args)"
      ],
      "execution_count": 15,
      "outputs": [
        {
          "output_type": "stream",
          "name": "stdout",
          "text": "CUDA Available? True\n"
        }
      ]
    },
    {
      "cell_type": "markdown",
      "metadata": {
        "id": "-TFjoFekE_va",
        "colab_type": "text"
      },
      "source": [
        "# Data Statistics\n",
        "\n",
        "It is important to know your data very well. Let's check some of the statistics around our data and how it actually looks like"
      ]
    },
    {
      "cell_type": "code",
      "metadata": {
        "id": "hWZPPo3yEHDW",
        "colab_type": "code",
        "colab": {
          "base_uri": "https://localhost:8080/",
          "height": 500
        },
        "outputId": "8e322eb0-23be-45af-b833-de81e7b4d347",
        "tags": []
      },
      "source": [
        "# We'd need to convert it into Numpy! Remember above we have converted it into tensors already\n",
        "train_data = train.train_data\n",
        "train_data = train.transform(train_data.numpy())\n",
        "\n",
        "print('[Train]')\n",
        "print(' - Numpy Shape:', train.train_data.cpu().numpy().shape)\n",
        "print(' - Tensor Shape:', train.train_data.size())\n",
        "print(' - min:', torch.min(train_data))\n",
        "print(' - max:', torch.max(train_data))\n",
        "print(' - mean:', torch.mean(train_data))\n",
        "print(' - std:', torch.std(train_data))\n",
        "print(' - var:', torch.var(train_data))\n",
        "\n",
        "dataiter = iter(train_loader)\n",
        "images, labels = dataiter.next()\n",
        "\n",
        "print(images.shape)\n",
        "print(labels.shape)\n",
        "\n",
        "# Let's visualize some of the images\n",
        "%matplotlib inline\n",
        "import matplotlib.pyplot as plt\n",
        "\n",
        "plt.imshow(images[0].numpy().squeeze(), cmap='gray_r')\n"
      ],
      "execution_count": 16,
      "outputs": [
        {
          "output_type": "stream",
          "name": "stdout",
          "text": "[Train]\n - Numpy Shape: (60000, 28, 28)\n - Tensor Shape: torch.Size([60000, 28, 28])\n - min: tensor(-0.4242)\n - max: tensor(2.8215)\n - mean: tensor(-0.0001)\n - std: tensor(1.0000)\n - var: tensor(1.0001)\ntorch.Size([128, 1, 28, 28])\ntorch.Size([128])\n"
        },
        {
          "output_type": "execute_result",
          "data": {
            "text/plain": "<matplotlib.image.AxesImage at 0x29a4bc5ee08>"
          },
          "metadata": {},
          "execution_count": 16
        },
        {
          "output_type": "display_data",
          "data": {
            "text/plain": "<Figure size 432x288 with 1 Axes>",
            "image/svg+xml": "<?xml version=\"1.0\" encoding=\"utf-8\" standalone=\"no\"?>\r\n<!DOCTYPE svg PUBLIC \"-//W3C//DTD SVG 1.1//EN\"\r\n  \"http://www.w3.org/Graphics/SVG/1.1/DTD/svg11.dtd\">\r\n<!-- Created with matplotlib (https://matplotlib.org/) -->\r\n<svg height=\"248.518125pt\" version=\"1.1\" viewBox=\"0 0 251.565 248.518125\" width=\"251.565pt\" xmlns=\"http://www.w3.org/2000/svg\" xmlns:xlink=\"http://www.w3.org/1999/xlink\">\r\n <defs>\r\n  <style type=\"text/css\">\r\n*{stroke-linecap:butt;stroke-linejoin:round;}\r\n  </style>\r\n </defs>\r\n <g id=\"figure_1\">\r\n  <g id=\"patch_1\">\r\n   <path d=\"M 0 248.518125 \r\nL 251.565 248.518125 \r\nL 251.565 0 \r\nL 0 0 \r\nz\r\n\" style=\"fill:none;\"/>\r\n  </g>\r\n  <g id=\"axes_1\">\r\n   <g id=\"patch_2\">\r\n    <path d=\"M 26.925 224.64 \r\nL 244.365 224.64 \r\nL 244.365 7.2 \r\nL 26.925 7.2 \r\nz\r\n\" style=\"fill:#ffffff;\"/>\r\n   </g>\r\n   <g clip-path=\"url(#p876256d5ce)\">\r\n    <image height=\"218\" id=\"image32b93d6558\" transform=\"scale(1 -1)translate(0 -218)\" width=\"218\" x=\"26.925\" xlink:href=\"data:image/png;base64,\r\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\" y=\"-6.64\"/>\r\n   </g>\r\n   <g id=\"matplotlib.axis_1\">\r\n    <g id=\"xtick_1\">\r\n     <g id=\"line2d_1\">\r\n      <defs>\r\n       <path d=\"M 0 0 \r\nL 0 3.5 \r\n\" id=\"m0acb5b22cc\" style=\"stroke:#000000;stroke-width:0.8;\"/>\r\n      </defs>\r\n      <g>\r\n       <use style=\"stroke:#000000;stroke-width:0.8;\" x=\"30.807857\" xlink:href=\"#m0acb5b22cc\" y=\"224.64\"/>\r\n      </g>\r\n     </g>\r\n     <g id=\"text_1\">\r\n      <!-- 0 -->\r\n      <defs>\r\n       <path d=\"M 31.78125 66.40625 \r\nQ 24.171875 66.40625 20.328125 58.90625 \r\nQ 16.5 51.421875 16.5 36.375 \r\nQ 16.5 21.390625 20.328125 13.890625 \r\nQ 24.171875 6.390625 31.78125 6.390625 \r\nQ 39.453125 6.390625 43.28125 13.890625 \r\nQ 47.125 21.390625 47.125 36.375 \r\nQ 47.125 51.421875 43.28125 58.90625 \r\nQ 39.453125 66.40625 31.78125 66.40625 \r\nz\r\nM 31.78125 74.21875 \r\nQ 44.046875 74.21875 50.515625 64.515625 \r\nQ 56.984375 54.828125 56.984375 36.375 \r\nQ 56.984375 17.96875 50.515625 8.265625 \r\nQ 44.046875 -1.421875 31.78125 -1.421875 \r\nQ 19.53125 -1.421875 13.0625 8.265625 \r\nQ 6.59375 17.96875 6.59375 36.375 \r\nQ 6.59375 54.828125 13.0625 64.515625 \r\nQ 19.53125 74.21875 31.78125 74.21875 \r\nz\r\n\" id=\"DejaVuSans-48\"/>\r\n      </defs>\r\n      <g transform=\"translate(27.626607 239.238437)scale(0.1 -0.1)\">\r\n       <use xlink:href=\"#DejaVuSans-48\"/>\r\n      </g>\r\n     </g>\r\n    </g>\r\n    <g id=\"xtick_2\">\r\n     <g id=\"line2d_2\">\r\n      <g>\r\n       <use style=\"stroke:#000000;stroke-width:0.8;\" x=\"69.636429\" xlink:href=\"#m0acb5b22cc\" y=\"224.64\"/>\r\n      </g>\r\n     </g>\r\n     <g id=\"text_2\">\r\n      <!-- 5 -->\r\n      <defs>\r\n       <path d=\"M 10.796875 72.90625 \r\nL 49.515625 72.90625 \r\nL 49.515625 64.59375 \r\nL 19.828125 64.59375 \r\nL 19.828125 46.734375 \r\nQ 21.96875 47.46875 24.109375 47.828125 \r\nQ 26.265625 48.1875 28.421875 48.1875 \r\nQ 40.625 48.1875 47.75 41.5 \r\nQ 54.890625 34.8125 54.890625 23.390625 \r\nQ 54.890625 11.625 47.5625 5.09375 \r\nQ 40.234375 -1.421875 26.90625 -1.421875 \r\nQ 22.3125 -1.421875 17.546875 -0.640625 \r\nQ 12.796875 0.140625 7.71875 1.703125 \r\nL 7.71875 11.625 \r\nQ 12.109375 9.234375 16.796875 8.0625 \r\nQ 21.484375 6.890625 26.703125 6.890625 \r\nQ 35.15625 6.890625 40.078125 11.328125 \r\nQ 45.015625 15.765625 45.015625 23.390625 \r\nQ 45.015625 31 40.078125 35.4375 \r\nQ 35.15625 39.890625 26.703125 39.890625 \r\nQ 22.75 39.890625 18.8125 39.015625 \r\nQ 14.890625 38.140625 10.796875 36.28125 \r\nz\r\n\" id=\"DejaVuSans-53\"/>\r\n      </defs>\r\n      <g transform=\"translate(66.455179 239.238437)scale(0.1 -0.1)\">\r\n       <use xlink:href=\"#DejaVuSans-53\"/>\r\n      </g>\r\n     </g>\r\n    </g>\r\n    <g id=\"xtick_3\">\r\n     <g id=\"line2d_3\">\r\n      <g>\r\n       <use style=\"stroke:#000000;stroke-width:0.8;\" x=\"108.465\" xlink:href=\"#m0acb5b22cc\" y=\"224.64\"/>\r\n      </g>\r\n     </g>\r\n     <g id=\"text_3\">\r\n      <!-- 10 -->\r\n      <defs>\r\n       <path d=\"M 12.40625 8.296875 \r\nL 28.515625 8.296875 \r\nL 28.515625 63.921875 \r\nL 10.984375 60.40625 \r\nL 10.984375 69.390625 \r\nL 28.421875 72.90625 \r\nL 38.28125 72.90625 \r\nL 38.28125 8.296875 \r\nL 54.390625 8.296875 \r\nL 54.390625 0 \r\nL 12.40625 0 \r\nz\r\n\" id=\"DejaVuSans-49\"/>\r\n      </defs>\r\n      <g transform=\"translate(102.1025 239.238437)scale(0.1 -0.1)\">\r\n       <use xlink:href=\"#DejaVuSans-49\"/>\r\n       <use x=\"63.623047\" xlink:href=\"#DejaVuSans-48\"/>\r\n      </g>\r\n     </g>\r\n    </g>\r\n    <g id=\"xtick_4\">\r\n     <g id=\"line2d_4\">\r\n      <g>\r\n       <use style=\"stroke:#000000;stroke-width:0.8;\" x=\"147.293571\" xlink:href=\"#m0acb5b22cc\" y=\"224.64\"/>\r\n      </g>\r\n     </g>\r\n     <g id=\"text_4\">\r\n      <!-- 15 -->\r\n      <g transform=\"translate(140.931071 239.238437)scale(0.1 -0.1)\">\r\n       <use xlink:href=\"#DejaVuSans-49\"/>\r\n       <use x=\"63.623047\" xlink:href=\"#DejaVuSans-53\"/>\r\n      </g>\r\n     </g>\r\n    </g>\r\n    <g id=\"xtick_5\">\r\n     <g id=\"line2d_5\">\r\n      <g>\r\n       <use style=\"stroke:#000000;stroke-width:0.8;\" x=\"186.122143\" xlink:href=\"#m0acb5b22cc\" y=\"224.64\"/>\r\n      </g>\r\n     </g>\r\n     <g id=\"text_5\">\r\n      <!-- 20 -->\r\n      <defs>\r\n       <path d=\"M 19.1875 8.296875 \r\nL 53.609375 8.296875 \r\nL 53.609375 0 \r\nL 7.328125 0 \r\nL 7.328125 8.296875 \r\nQ 12.9375 14.109375 22.625 23.890625 \r\nQ 32.328125 33.6875 34.8125 36.53125 \r\nQ 39.546875 41.84375 41.421875 45.53125 \r\nQ 43.3125 49.21875 43.3125 52.78125 \r\nQ 43.3125 58.59375 39.234375 62.25 \r\nQ 35.15625 65.921875 28.609375 65.921875 \r\nQ 23.96875 65.921875 18.8125 64.3125 \r\nQ 13.671875 62.703125 7.8125 59.421875 \r\nL 7.8125 69.390625 \r\nQ 13.765625 71.78125 18.9375 73 \r\nQ 24.125 74.21875 28.421875 74.21875 \r\nQ 39.75 74.21875 46.484375 68.546875 \r\nQ 53.21875 62.890625 53.21875 53.421875 \r\nQ 53.21875 48.921875 51.53125 44.890625 \r\nQ 49.859375 40.875 45.40625 35.40625 \r\nQ 44.1875 33.984375 37.640625 27.21875 \r\nQ 31.109375 20.453125 19.1875 8.296875 \r\nz\r\n\" id=\"DejaVuSans-50\"/>\r\n      </defs>\r\n      <g transform=\"translate(179.759643 239.238437)scale(0.1 -0.1)\">\r\n       <use xlink:href=\"#DejaVuSans-50\"/>\r\n       <use x=\"63.623047\" xlink:href=\"#DejaVuSans-48\"/>\r\n      </g>\r\n     </g>\r\n    </g>\r\n    <g id=\"xtick_6\">\r\n     <g id=\"line2d_6\">\r\n      <g>\r\n       <use style=\"stroke:#000000;stroke-width:0.8;\" x=\"224.950714\" xlink:href=\"#m0acb5b22cc\" y=\"224.64\"/>\r\n      </g>\r\n     </g>\r\n     <g id=\"text_6\">\r\n      <!-- 25 -->\r\n      <g transform=\"translate(218.588214 239.238437)scale(0.1 -0.1)\">\r\n       <use xlink:href=\"#DejaVuSans-50\"/>\r\n       <use x=\"63.623047\" xlink:href=\"#DejaVuSans-53\"/>\r\n      </g>\r\n     </g>\r\n    </g>\r\n   </g>\r\n   <g id=\"matplotlib.axis_2\">\r\n    <g id=\"ytick_1\">\r\n     <g id=\"line2d_7\">\r\n      <defs>\r\n       <path d=\"M 0 0 \r\nL -3.5 0 \r\n\" id=\"mbb8aa4da70\" style=\"stroke:#000000;stroke-width:0.8;\"/>\r\n      </defs>\r\n      <g>\r\n       <use style=\"stroke:#000000;stroke-width:0.8;\" x=\"26.925\" xlink:href=\"#mbb8aa4da70\" y=\"11.082857\"/>\r\n      </g>\r\n     </g>\r\n     <g id=\"text_7\">\r\n      <!-- 0 -->\r\n      <g transform=\"translate(13.5625 14.882076)scale(0.1 -0.1)\">\r\n       <use xlink:href=\"#DejaVuSans-48\"/>\r\n      </g>\r\n     </g>\r\n    </g>\r\n    <g id=\"ytick_2\">\r\n     <g id=\"line2d_8\">\r\n      <g>\r\n       <use style=\"stroke:#000000;stroke-width:0.8;\" x=\"26.925\" xlink:href=\"#mbb8aa4da70\" y=\"49.911429\"/>\r\n      </g>\r\n     </g>\r\n     <g id=\"text_8\">\r\n      <!-- 5 -->\r\n      <g transform=\"translate(13.5625 53.710647)scale(0.1 -0.1)\">\r\n       <use xlink:href=\"#DejaVuSans-53\"/>\r\n      </g>\r\n     </g>\r\n    </g>\r\n    <g id=\"ytick_3\">\r\n     <g id=\"line2d_9\">\r\n      <g>\r\n       <use style=\"stroke:#000000;stroke-width:0.8;\" x=\"26.925\" xlink:href=\"#mbb8aa4da70\" y=\"88.74\"/>\r\n      </g>\r\n     </g>\r\n     <g id=\"text_9\">\r\n      <!-- 10 -->\r\n      <g transform=\"translate(7.2 92.539219)scale(0.1 -0.1)\">\r\n       <use xlink:href=\"#DejaVuSans-49\"/>\r\n       <use x=\"63.623047\" xlink:href=\"#DejaVuSans-48\"/>\r\n      </g>\r\n     </g>\r\n    </g>\r\n    <g id=\"ytick_4\">\r\n     <g id=\"line2d_10\">\r\n      <g>\r\n       <use style=\"stroke:#000000;stroke-width:0.8;\" x=\"26.925\" xlink:href=\"#mbb8aa4da70\" y=\"127.568571\"/>\r\n      </g>\r\n     </g>\r\n     <g id=\"text_10\">\r\n      <!-- 15 -->\r\n      <g transform=\"translate(7.2 131.36779)scale(0.1 -0.1)\">\r\n       <use xlink:href=\"#DejaVuSans-49\"/>\r\n       <use x=\"63.623047\" xlink:href=\"#DejaVuSans-53\"/>\r\n      </g>\r\n     </g>\r\n    </g>\r\n    <g id=\"ytick_5\">\r\n     <g id=\"line2d_11\">\r\n      <g>\r\n       <use style=\"stroke:#000000;stroke-width:0.8;\" x=\"26.925\" xlink:href=\"#mbb8aa4da70\" y=\"166.397143\"/>\r\n      </g>\r\n     </g>\r\n     <g id=\"text_11\">\r\n      <!-- 20 -->\r\n      <g transform=\"translate(7.2 170.196362)scale(0.1 -0.1)\">\r\n       <use xlink:href=\"#DejaVuSans-50\"/>\r\n       <use x=\"63.623047\" xlink:href=\"#DejaVuSans-48\"/>\r\n      </g>\r\n     </g>\r\n    </g>\r\n    <g id=\"ytick_6\">\r\n     <g id=\"line2d_12\">\r\n      <g>\r\n       <use style=\"stroke:#000000;stroke-width:0.8;\" x=\"26.925\" xlink:href=\"#mbb8aa4da70\" y=\"205.225714\"/>\r\n      </g>\r\n     </g>\r\n     <g id=\"text_12\">\r\n      <!-- 25 -->\r\n      <g transform=\"translate(7.2 209.024933)scale(0.1 -0.1)\">\r\n       <use xlink:href=\"#DejaVuSans-50\"/>\r\n       <use x=\"63.623047\" xlink:href=\"#DejaVuSans-53\"/>\r\n      </g>\r\n     </g>\r\n    </g>\r\n   </g>\r\n   <g id=\"patch_3\">\r\n    <path d=\"M 26.925 224.64 \r\nL 26.925 7.2 \r\n\" style=\"fill:none;stroke:#000000;stroke-linecap:square;stroke-linejoin:miter;stroke-width:0.8;\"/>\r\n   </g>\r\n   <g id=\"patch_4\">\r\n    <path d=\"M 244.365 224.64 \r\nL 244.365 7.2 \r\n\" style=\"fill:none;stroke:#000000;stroke-linecap:square;stroke-linejoin:miter;stroke-width:0.8;\"/>\r\n   </g>\r\n   <g id=\"patch_5\">\r\n    <path d=\"M 26.925 224.64 \r\nL 244.365 224.64 \r\n\" style=\"fill:none;stroke:#000000;stroke-linecap:square;stroke-linejoin:miter;stroke-width:0.8;\"/>\r\n   </g>\r\n   <g id=\"patch_6\">\r\n    <path d=\"M 26.925 7.2 \r\nL 244.365 7.2 \r\n\" style=\"fill:none;stroke:#000000;stroke-linecap:square;stroke-linejoin:miter;stroke-width:0.8;\"/>\r\n   </g>\r\n  </g>\r\n </g>\r\n <defs>\r\n  <clipPath id=\"p876256d5ce\">\r\n   <rect height=\"217.44\" width=\"217.44\" x=\"26.925\" y=\"7.2\"/>\r\n  </clipPath>\r\n </defs>\r\n</svg>\r\n",
            "image/png": "[encoded data removed]"
          },
          "metadata": {
            "needs_background": "light"
          }
        }
      ]
    },
    {
      "cell_type": "markdown",
      "metadata": {
        "id": "7l9lNaWYKuik",
        "colab_type": "text"
      },
      "source": [
        "## MORE\n",
        "\n",
        "It is important that we view as many images as possible. This is required to get some idea on image augmentation later on"
      ]
    },
    {
      "cell_type": "code",
      "metadata": {
        "id": "hXXAg8hbK16u",
        "colab_type": "code",
        "colab": {
          "base_uri": "https://localhost:8080/",
          "height": 246
        },
        "outputId": "41f9e1ff-e290-4f33-8971-dc3e41aed3af"
      },
      "source": [
        "figure = plt.figure()\n",
        "num_of_images = 60\n",
        "for index in range(1, num_of_images + 1):\n",
        "    plt.subplot(6, 10, index)\n",
        "    plt.axis('off')\n",
        "    plt.imshow(images[index].numpy().squeeze(), cmap='gray_r')"
      ],
      "execution_count": 17,
      "outputs": [
        {
          "output_type": "display_data",
          "data": {
            "text/plain": "<Figure size 432x288 with 60 Axes>",
            "image/svg+xml": "<?xml version=\"1.0\" encoding=\"utf-8\" standalone=\"no\"?>\r\n<!DOCTYPE svg PUBLIC \"-//W3C//DTD SVG 1.1//EN\"\r\n  \"http://www.w3.org/Graphics/SVG/1.1/DTD/svg11.dtd\">\r\n<!-- Created with matplotlib (https://matplotlib.org/) -->\r\n<svg height=\"229.150024pt\" version=\"1.1\" viewBox=\"0 0 349.2 229.150024\" width=\"349.2pt\" xmlns=\"http://www.w3.org/2000/svg\" xmlns:xlink=\"http://www.w3.org/1999/xlink\">\r\n <defs>\r\n  <style type=\"text/css\">\r\n*{stroke-linecap:butt;stroke-linejoin:round;}\r\n  </style>\r\n </defs>\r\n <g id=\"figure_1\">\r\n  <g id=\"patch_1\">\r\n   <path d=\"M 0 229.150024 \r\nL 349.2 229.150024 \r\nL 349.2 0 \r\nL 0 0 \r\nz\r\n\" style=\"fill:none;\"/>\r\n  </g>\r\n  <g id=\"axes_1\">\r\n   <g clip-path=\"url(#pe8ef0bd893)\">\r\n    <image height=\"29\" id=\"image43514a8529\" transform=\"scale(1 -1)translate(0 -29)\" width=\"29\" x=\"7.2\" xlink:href=\"data:image/png;base64,\r\niVBORw0KGgoAAAANSUhEUgAAAB0AAAAdCAYAAABWk2cPAAAABHNCSVQICAgIfAhkiAAAA6NJREFUSIntls1Lal0Uxp/jK5xT2hckfVhG4inJoJKyBKlwFg3CeZMGjYJo0KBBRBA16t+QgqIgIhwYWlRghRCkRJIQ0acopRZ+wHnu7MJ73yy5xeUO3me4917Pby/2WntvgSTxh6X608C/C/r4+IiZmRnU1dVBq9Wis7MTY2NjWF1dRTQaRTab/RqV72hxcZE6nY6CIFAQBKrVaoqiSK1WS6PRSJfLxZ2dHSqK8l74p1K/t5FsNotsNove3l44HA6Iogi/34/z83Pc3Nzg7u4Oh4eHGB4exuTkJDo6OiAIwtcynZubY3l5OV0uF0OhEF9eXvjw8EC/38+pqSmazWZKkkSNRkOn08m1tTW+vLwUnem70HA4TLvdztbWVobD4Z/j2WyWsViM4XCYCwsLlGWZWq2WZrOZs7OzRYPfheZyOW5ubnJ0dJTRaPQ/84qiMBaLcWtriyMjIxRFkVarlRsbG78PJclkMslIJMJMJlMw+PX1levr67TZbKyqquLExERR0IJ9WlZWBpPJBFEUC9ZDaWkpurq64HA4QBL39/dF1dGXL4f6+nrY7XbU1tbi6ekJV1dX3wMliaenJ6RSKSiK8q85SZKg0+lQVlaGt7c3JBKJT/3e7dNftb29Da/XC41Gg76+PphMJtTX16OyshKKouDt7Q2ZTAY6nQ4Gg+F7oD6fDysrK8jn89jf30dzczOsViva2tqQTCbh8/mQTqcxMDCAmpqa74E6HA4kEgkEAgEEg0EcHR3h4OAABoMBqVQK8XgcLS0tGBkZKcauOKjL5YLFYoHP50MwGMTJyQkikQiur68BAFVVVZBlGTabrSjoP/Pz8/OfLRIEAZIkwWw2Y3BwEI2NjSCJfD6PTCaDXC4HtVqNiooK6HQ6aLXaj/3Iz38O0WgUgUAAyWQSer0eTU1NyGQyOD09hdfrRTAYxO3tLRoaGjA1NYXx8XGUlJQUNizmBlleXqbRaKQkSdTr9RwaGuLy8jK9Xi93dnY4PT1Ng8FAlUrF9vZ2Hh8ff+hX1JnKsgxZlpFOpxGPx+HxeODxeFBTU4Pu7m4YjUZYLBbc3Nzg+fkZwWAQPT09X8tUURReXFxwYWGBTqeTsiyzurqaoihSpVL9fOwFQaDZbGYgEPjQryjor7q8vOTS0hL7+/tpMBhYUVFBURQJgE1NTXS73R/GF1VIhZRMJhEKhbC3t4fd3V2cnZ2hra0Nbrcber2+YNyXoL+rv+cL+j/0u/QDpm3nM2lghXQAAAAASUVORK5CYII=\" y=\"-6.572881\"/>\r\n   </g>\r\n  </g>\r\n  <g id=\"axes_2\">\r\n   <g clip-path=\"url(#pbde88cbdd2)\">\r\n    <image height=\"29\" id=\"image87e2652659\" transform=\"scale(1 -1)translate(0 -29)\" width=\"29\" x=\"41.247458\" xlink:href=\"data:image/png;base64,\r\niVBORw0KGgoAAAANSUhEUgAAAB0AAAAdCAYAAABWk2cPAAAABHNCSVQICAgIfAhkiAAABCNJREFUSIntlt0rdFscx797ne2ZLWOP0XhLeS3lhhlFbijKhQvlQs2UEqW4mcJf4NKNwp24opTcutljcIGIJDJFKYOJqJkxL3mf+Z6bY59njPFyzuk5N8+31s1a+/f7tL7rt35rSySJXyzxq4H/G1ROtXB/f4/d3V08PDyAJCRJSlgvLy9HaWnpfwfVNA2apmFhYQGRSATxeBySJCWAa2tr4XA40NTUhLKysu9R+Ubb29usqqqiqqpMS0ujLMuUJIlCCMqyrA9FUZifn8/+/n56PB5GIpG3qVIqCep2u2mxWBIAdXV1zM3NTZiTJImyLFNVVVqtVjqdTmqa9iVokr3xeBwvLy+IxWIAAIfDgZ6eHtze3uL29hYAsLa2Bk3TcHNzg0gkAo/HA6/Xi+3tbQSDQdjt9u/Z63K5aDabKYSgEIKjo6O8vr5mNBplKBRiKBTi+fk59/f3OTc3x7a2NiqKQiEEFUWh1Wrl1NQUHx4evm7v4OAgjUajbqPdbufJycm7wdFolG63m/39/ayqqqIQggaDgQ0NDby8vEwJTbqnhYWFEOLv6dXVVfj9/nddysjIQH19PTo7O1FXV4cfP37g6ekJR0dHmJqaSuluErSioiIBGggEcHh4iHA4nBJss9lgt9vR0tICAIhEIlhaWsLJycnXoIqiAABisZg+Zmdn4Xa7EQqFPtxxR0cHSOLl5QXHx8eYmJiAz+dLDnjrt9frZVdXF7OysvRiUhSFjY2N1DTtwwI5Pj5me3u7fqdLSkq4sbHx+ZkWFxdjYGAAra2tMBqNEELg8fER6+vr0DQNV1dX7+4WACwWC5qbm/XjCQaD2Nra+txeALDZbOjp6UFeXl5C61tZWcHi4iJ8Ph/i8XhSnMFgQFFRkd6TSSIYDCZ998fw8PDwe+Ds7GxcXl7i4uICd3d3IAm/3w+fzwdZlmE0GmEwGPQaAIC0tDTIsgyPx4OjoyOkp6ejr68PlZWVn+8UAMxmM5xOJzo6OmA2m/UCOTg4wPT0NMbHx7G8vJxQXLFYDNFoFOFwWHdCVdXk5Cmr4i+dnZ2xu7ubJSUlzMjIoBCCkiRRURQ2NTVxfn6ewWCQJBkKhTgzM8OcnBxKkkSTycTJycmknCntfZXJZEJNTY1udyAQAEk8Pz/D6/Xi/PwcWVlZyMzMxNXVFTY3N+FyuSCEgBACqqqivb09IWfKR/xnFRUVwel0IhqN4vn5GWdnZwiHwyCJ/f19jIyMwGaz4fHxEaenp3qc0WhEV1fX9+39WX6/n5qm0eFwsKCggKqqUlEUvU+/Wi/LMtPT01lfX8+9vb2kPN+CvmpnZ4djY2Ps7e2l1WqlyWTSG8nredfW1tLtdr8b/4+grwoEAlxbW+PQ0BDz8vKYm5vLnJwcVldXf/igS+Tv/97f0H+vPwF1xy48Gfx/4wAAAABJRU5ErkJggg==\" y=\"-6.572881\"/>\r\n   </g>\r\n  </g>\r\n  <g id=\"axes_3\">\r\n   <g clip-path=\"url(#pb7a2f1ec36)\">\r\n    <image height=\"29\" id=\"image93ae7dc0ab\" transform=\"scale(1 -1)translate(0 -29)\" width=\"29\" x=\"75.294915\" xlink:href=\"data:image/png;base64,\r\niVBORw0KGgoAAAANSUhEUgAAAB0AAAAdCAYAAABWk2cPAAAABHNCSVQICAgIfAhkiAAAASxJREFUSInt1rGqwjAUxvF/b1sHwSJ1MC5afIAuPoaDq6/R5+zWUcGtbiVWo7WhNHfS9WIhGS5+cOYfH+Ec4hljDI7z4xr8on8mz3P2+z1xHJNlmRu06zqUUkgpeTweblAAz/Pe4wStqgopJcYYhmzcIDSKIiaTidumYRgSBIHbpq84bVrXNbfbzW3T5/NJ27ZumyqluN/vbpteLheu1ytCCFarlRtUa43Wmvl8znK5tI/2fU/XdRhj8H2f0WhkH1VKUVUVTdMwm80QQthHpZSUZUld1wghSJLEPvrKkFUZjLZti9Ya3/ff59A6ejgcOJ/PxHFMkiRMp1P7aFEUnE4n1us1aZoyHo/to1JKmqZhu92y2+0+BgE+fpDNZsPxeGSxWAwCAbzvZ/vfob/mKYzGRF9Z7QAAAABJRU5ErkJggg==\" y=\"-6.572881\"/>\r\n   </g>\r\n  </g>\r\n  <g id=\"axes_4\">\r\n   <g clip-path=\"url(#p409c304810)\">\r\n    <image height=\"29\" id=\"image8286c83426\" transform=\"scale(1 -1)translate(0 -29)\" width=\"29\" x=\"109.342373\" xlink:href=\"data:image/png;base64,\r\niVBORw0KGgoAAAANSUhEUgAAAB0AAAAdCAYAAABWk2cPAAAABHNCSVQICAgIfAhkiAAAAwtJREFUSIntlj9LK1sUR5f5T4xmgiQZgjqkC0Y0KCgoNgELQcUyFtpbCSmsxcKPYCX4ESws1EoColEhCIKD0ShDxCQKGmNGHePMvOpaXJ+58q7vwuO5urPn7LPObxg202CapskfxvKnhd/Sb+l/W2r7uWAYBrlcju3tbTRNAyAQCBCLxRBFEZfLhcXy/q7VahVZlsnlcsTjcQRBwOFw/K204efhsLCwwPr6OqVSiR+PnE4nXq+XaDRKIpFgYGAAj8dDrVZDURR2d3fZ2dkhnU6jqiqSJDEyMkIymfxc0lwux+Hh4VvKxsZGLBYL5+fnZLNZZFmmo6ODSCSCw+Egk8mwv79PqVSiXC4DoCgKhUKBSqXC7OwsPp+vftJUKsXy8jKrq6s8Pj7idDoJBAK4XC6KxSJPT0+43W4EQcBqtXJ7e0u1WsXv9xOPx+nr60OWZTY3N6nVaoyNjbG0tFQ/6eDgIIIgIIoia2trKIrC/f09mqbx8vLC6+srlUoFXddpaGigWq0SDAYZHR1lamqKWCyGoigEg0FSqRTpdPrXr9dms9Hd3U1zczM9PT0cHByQz+e5vLxEVVVCoRChUAhJkiiXy2xsbHB3d8f19TVXV1dEIhEikQjT09N0dXVxfHz8a+kPwuEwkiQxNDREsVikUCigqiqiKCKKIn6/n3K5TEtLCysrK2xtbaFpGna7nfHxccLhMIFAgN7e3veHm7/J0dGRmUwmzWg0ara2tppzc3NmNput22Odn5+f/yjtZ/B4PEiShNvt5uTkBFVVsVqt9Pf3f9z0u0lN0zR1XTczmYw5MTFhNjU1mZOTk3X3/6MxqOs6hmG8rS0WC4FAgM7OTgzD4Pn5uW7/hx/SR6iqyunpKZqmIQjCW/3m5oZqtYphGOi6/rVSWZZZXFwkm83S3t7+Vq9UKpydndHW1sbw8PDXSh8eHnA6nVQqFfb29rDZbNjtdgzDwOfzkUgkmJmZqXvGuzH4GS4uLkin0+TzebxeL6FQCMMwsFqtxONx3G7310t/l//Pn8O39F/lLyuxDqH/NZ5QAAAAAElFTkSuQmCC\" y=\"-6.572881\"/>\r\n   </g>\r\n  </g>\r\n  <g id=\"axes_5\">\r\n   <g clip-path=\"url(#pcdce0517b2)\">\r\n    <image height=\"29\" id=\"imagedf638f2691\" transform=\"scale(1 -1)translate(0 -29)\" width=\"29\" x=\"143.389831\" xlink:href=\"data:image/png;base64,\r\niVBORw0KGgoAAAANSUhEUgAAAB0AAAAdCAYAAABWk2cPAAAABHNCSVQICAgIfAhkiAAAAzZJREFUSInlls1LqmsQwH++mmUqvOiiwqQvqSToYyNBQRDoIqhoI1G7drVo0aI/I6hN21ZyMlqEqxa1CQoEtUWlkC78wI8Ui9eKIuW5i8uN6+V0epNzzl2cgdkMz8yPZ+aZmUcjhBD8ZpF+N/B/g+oadTw+Psbv99PZ2cnS0hIDAwO/Hlqr1UgkEvj9ftLpNLu7uzQ3N6vybSi9j4+PBINBwuEwJpMJu92OVqtV7d/QTWu1GpVKhaenJ15eXkgkElSrVXQ6deEafkj/dFq1WuXt7Y2vdF5DUIPBwODgIH19fY24NwZtamqivb0dq9UKQD6f5/Ly8udAFUWhXC7X6fPzM0II7HY73d3dANzd3XFzc6M6xR9WPhaLsb29TaFQqLP39PTgcDgoFArE43EAstksBwcHCCHQ6/W0trYyMTFBR0fH16CRSIRAIEA2m62zW61WrFYrr6+vlEolhBAoisL5+TnJZBKdTofBYGB8fByPx8PY2Bg2m60+uPhAIpGI6O/vF5IkCY1G86ECAqiz6XQ6YbFYxOTkpFhZWRE+n68utuZHW2Z1dZVv376hKApms5mpqSkcDgdarZZ4PE4oFCKdTtPS0oLT6WR6ehpFUTg6OqJYLP6dSp0Ol8vF2dnZ5+kFWF5eJhqNEgwG0Wg0yLKM2+1meHiYTCbDzs4OPp8Pi8XCzMwMm5ublMtl2traiEajxGIxDAYDLpdLXU0BXC4XCwsLpFIp0uk0h4eHmM1menp6GBkZYWhoCOB9FJrNZoxGIxsbG+RyOS4uLjCbzXg8HvVQvV7P7Ows19fXBAIBSqUS4XCY09NT3G73d30kSUKWZWRZxul0fvfMp8Oyt7eXtbU1isUiJycnhEIhSqUS+Xz+vW6SJKHX6z8LpR4KMDo6ytzcHKlUipubG5LJJHt7e+/DQJZlurq6VEM/bJn/SqVSEVtbW2JgYEBIkvSuGo1GeL1e8fz8rDaUUL3aTCYTXq+X29tb7u/veXh4oFqtqr/dv+RL+9Rms7G+vo4sy+zv75PJZDAajVgsFiRJ/e748hIfHBxkcXGRXC7H1dUV8/PzeL1e1V8VgB9OpF8lf86/98+B/gXFDslfBWLHrgAAAABJRU5ErkJggg==\" y=\"-6.572881\"/>\r\n   </g>\r\n  </g>\r\n  <g id=\"axes_6\">\r\n   <g clip-path=\"url(#pb54101ce94)\">\r\n    <image height=\"29\" id=\"image61db1fe807\" transform=\"scale(1 -1)translate(0 -29)\" width=\"29\" x=\"177.437288\" xlink:href=\"data:image/png;base64,\r\niVBORw0KGgoAAAANSUhEUgAAAB0AAAAdCAYAAABWk2cPAAAABHNCSVQICAgIfAhkiAAAAupJREFUSIntl01Lsk0Yho8Rb79Jy1IpShDSlL6wqBZtWhQtap3ualt/onXrNu3yH0SLglz1QR+4kFqERQQRuagEUwsN83oXL8gb1fNoT6+r54RhuJnhPJiZa87hViIiNFi6RgP/Qv9Cf0z6eiaLCNlslmQyye7uLsfHx9ze3gJgt9vp7+8nEAjQ09PD9PQ0Ot0Xa5IalcvlZHt7W6LRqHR3d4vL5RKTySSAKKVE0zRxOBzi8Xikr69PlpeXJZPJfOpVEzSfz8vKyoqMjo5KU1OTKKVEKSVAFfrfpmma+Hw+WVtb+x60UqnI+vq6DA4OitFoFKvVKg6HQ8LhsAwMDFSher1ezGazWK1WUUqJwWCQ4eFhOT8//+D52zPd29sjFotxcXFBMBhkbm6OQCBAc3MzOzs7XF5eUiwW8Xg8zM7OYrVaWV1dpVQqcX19zePjY/2FFIvFSCaTuFwu5ufniUQiuN1uALLZLH6/n7OzMzRNw+/3MzExQSqVYmtrC4vFgs1mqw96f3/P6ekpuVyOYDDI0NBQFQj/VmxbWxsAmUyGzc1N0uk0T09PGAwGwuEwXq+3PmgqlaJQKCAimEwmDAbDu3G73U5raysA+Xyeg4MDEokE5XIZt9tNJBKhpaXlg+8vwyGRSJDL5QDweDxYLJZ3452dnYyMjNDe3g5AuVzm+fkZs9lMNBplamrqU98vV/ry8sLh4SH5fB6j0fhhawGcTieTk5Ok02k2Nja4ubnB6XQyMzPD0tISTqezPujd3R1XV1eUSiXcbjd+vx+73f5ujk6nIxQKsbi4iNfr5eTkBJ/Px8LCAh0dHV9Zf51I+/v70tXVJUop6e3tlaOjo1pypCbVFPgOh+NDEf2JaoKOjY1Vr0bDoDabDb2+rgfpe9BisUilUvkxUE3QeDxOoVBoLPTh4YG3t7fGQpVS1V6n01W//1eo1+tFr9cTCoUYHx//NEO/rd+FQzwel9fX1x8LBhERJdL4f5l/AGb6gf7R00hfAAAAAElFTkSuQmCC\" y=\"-6.572881\"/>\r\n   </g>\r\n  </g>\r\n  <g id=\"axes_7\">\r\n   <g clip-path=\"url(#p96a796f675)\">\r\n    <image height=\"29\" id=\"imaged721411035\" transform=\"scale(1 -1)translate(0 -29)\" width=\"29\" x=\"211.484746\" xlink:href=\"data:image/png;base64,\r\niVBORw0KGgoAAAANSUhEUgAAAB0AAAAdCAYAAABWk2cPAAAABHNCSVQICAgIfAhkiAAAA9JJREFUSInllk9IalsUxj/16DkVHQ+ZYWQiBFkEaeEkwiihQUKTcGINgggnDZpcmtSgSdC4BkE4aSCRUvMi1BpEkGWZBfYHrFGk/bFSk5OuO3oX4r3r8XLjvsH9pmvx/Vh7rbX3lhER4Q9L/qeB/xuUKTdxY2MD+/v7CIfDeH19hdFohMvlwtDQ0K9TSUKFQoHm5ubIaDQSx3EkCAIJgkAcx5Ferye3200HBwdSNp8kCQ2Hw2S1WonneZqYmKCDgwMKh8M0OTlJ9fX1xPM8jY+P0/Pz89dBl5aWyGAw0OjoKB0fH5MoivTx8UGpVIqmp6cJALW3t9PKygq9vb2VBZUcpEQigVwuB0EQwPM8GIaBQqGARqNBd3c3urq6EI/Hsby8jEAgUFZLJaEajQYqlQoymQwymexTzGq1YnBwECqVCg8PD8hkMl8DbWpqQnV1NWKxGJLJ5KcYy7KorKyEXP5rmyeZbbPZYDabcXNzg2g0inQ6DQBIJpPw+/1YXV1FNpsFx3EQBKEsqOSearVauFwuxONxeDweHB4eQqVS4e7uDmdnZ7i8vIROp8Pg4CA6OjrKgkpOLxHR09MTffv2jfR6PanVauJ5npRKJbEsS62trTQzM0Onp6dlTS4RUVk3EsuyqK2thUKh+HG8AKBUKmE0GuFwOGAymcqrEmX0lIiwtbWFYDCIdDoNjuPAsizkcjlEUcTt7S1CoRBOTk5QKBTKgsqISj9tOzs7mJ+fx/7+PiwWC8xmM4rFIi4uLnB9fY3n52dUVFSgr68Pw8PDMJvN0Ol0kpWU1OjoKPE8TxaLhXw+H728vFA6nabd3V1aXFwkt9tNzc3NJAgC2e128ng8JIpiSU9JaF9fHymVSnK5XHR2dvYpViwWKZFI0MLCAvX09JBWqyWbzUbBYLAkWBLqdDqpqqqKWlpayO/3UyaT+VdOJpOhQCBATqeT6urqyG6309HR0U89FbOzs7Oljj+XyyEWi+Hq6gqFQgGNjY3QarVgGAYymQyiKEIURTQ0NMBkMuHk5ASRSAQsy6K/v/8/PSVXZmRkBOfn5/B6vdje3gbHcUin07BYLOB5/sdNJQgCqqqq0NbWhkgkUtJTEsowDMbGxvD4+IjNzU34fD6EQiEMDAygs7MTh4eHWF9fBxGhoaEB+XweAPD+/v5TT8mV+Uf39/dYW1uD1+tFPB5HPp9HsVgEwzDQarUwGAzIZrNIpVJQq9WYmprC8PDw70EBoFAoIJFIIBgMYm9vD6lUCjU1NXA4HHA6nUgmk4hGo1Aqlejt7f39Sr9Sf8+/9++BfgepVa5Ke2wbIwAAAABJRU5ErkJggg==\" y=\"-6.572881\"/>\r\n   </g>\r\n  </g>\r\n  <g id=\"axes_8\">\r\n   <g clip-path=\"url(#p045a0b7e86)\">\r\n    <image height=\"29\" id=\"image79ea00b44b\" transform=\"scale(1 -1)translate(0 -29)\" width=\"29\" x=\"245.532203\" xlink:href=\"data:image/png;base64,\r\niVBORw0KGgoAAAANSUhEUgAAAB0AAAAdCAYAAABWk2cPAAAABHNCSVQICAgIfAhkiAAAATtJREFUSInt1sGKglAUxvF/11ncMClTiMhdtO9JfICez0fwOdy0CMKVbUqwoEBFTWcxzDBb78x1GOjbf+cH597FGXVd1zFwxNDgn6FvKqU0TQmCgPP5zG63Y7vd6kejKCIMQ06nE57n9UaV1rvf7zkcDtR1zfP57N1XQpumoWkalao6+pmqqijLkrZt9aOO4zCbzciyjDiOeTwe+lHLsphMJlRVRVEUvd9VCU3TlCzLVKrqqOM42LY9LOq67hdaliX3+10/apom4/EYgOv1SpIk+tHlcslisQAgz3Nut5t+1HVd5vO5SlUd/Wn+J1oUxTC/93sulwvH41E/ahgGUkqklNR1TZ7n+lHLsthsNnie9zFE9BujvF4hBEIITNNkOp326iqdKwBSSlarFev1Gt/3e3VHr7v3hf5G3gGGP3Er/e9EqAAAAABJRU5ErkJggg==\" y=\"-6.572881\"/>\r\n   </g>\r\n  </g>\r\n  <g id=\"axes_9\">\r\n   <g clip-path=\"url(#p3b3d928e7e)\">\r\n    <image height=\"29\" id=\"imaged8eafc00b6\" transform=\"scale(1 -1)translate(0 -29)\" width=\"29\" x=\"279.579661\" xlink:href=\"data:image/png;base64,\r\niVBORw0KGgoAAAANSUhEUgAAAB0AAAAdCAYAAABWk2cPAAAABHNCSVQICAgIfAhkiAAAAb1JREFUSInt1t2qcWEQwPH/QtoKRSS1fGtpoVWIMyV34NB1yZXIFUiRQi0nCCVfyVdyQrH2Lch+n11v7Tme6ddMMzWSYRgGvxym3wb/D7RWq5FMJqlWq/R6vY9Ry7uJuq7TaDSYTqf4fD7O5/PH6NudulwubDYbkiRhGAY/2b+3Ub/fj8fjwWJ5ezg/R81mM7lcDlmWuVwuXK9X8SiAzWbDarUyn88ZDAYcDgfxaCqVwu/3c7vd6HQ69Pt98WgikUBVVZxOJ+fzmdPpJB51Op1kMhkCgQC73Y7VasXr9RKLSpKE2+3GbrdzPB7RdZ3FYiEWBYjFYgQCAQDm8znj8Vg8Go/H0TQNt9vNarViPB7zfD7Fol9fX6iqSjAYZLfbMRwOWa/XYlEARVGIxWLc73cmkwmj0Ug8Gg6H0TQNr9fLdrtlNBrxeDzEog6Hg0KhQDqdZrPZ0Gq1mEwmYlGAUCiEqqqYzWZ0XafZbL59sx+j0WiUUqmEoijs93u63S7L5VIsajKZyGazlMtlXq8X7Xaber0uFgWQZZlisYiiKFyvV2azmXjUarWSz+epVCrIskwkEnmrTvr7e//QfxHfyJmkrsFWgxcAAAAASUVORK5CYII=\" y=\"-6.572881\"/>\r\n   </g>\r\n  </g>\r\n  <g id=\"axes_10\">\r\n   <g clip-path=\"url(#pf076e0c796)\">\r\n    <image height=\"29\" id=\"imagef1387b2f33\" transform=\"scale(1 -1)translate(0 -29)\" width=\"29\" x=\"313.627119\" xlink:href=\"data:image/png;base64,\r\niVBORw0KGgoAAAANSUhEUgAAAB0AAAAdCAYAAABWk2cPAAAABHNCSVQICAgIfAhkiAAAA0lJREFUSInllr1LI10Uxp+5mXyqMToksdAMSgbUBCWSQEQCYqEoNkmjpQgW/heCWFrYWJg/IAi2YhH8ACEWSrSQQZKg+IXBkA8lMSZozha7Zln3fcfEd3ffYh+4zZx75jfncM9zhyMiwh8W+9PAvwvKKwU9Hg8eHx8xMzMDt9uNgYEBCILwn6Gc0kHq7u5GPB5HQ0MDWltbIYoihoaGMDU1hb6+PnAc9zkqKWh+fp5MJhNxHEeMMdJqtWQ0GmlycpI2NjYonU4rpf+rFCu9u7tDLBbD0tISIpEInp6eAAAGgwGCIMBoNILneajVajgcDgQCAQCARqNBV1cXJEmqv70AUC6XEY1GEQ6HEQqFEI/H8fr6+jX5W3sZY9UPeYOKoojOzk4wxuDxeDAxMQGr1fpxe99UKpUomUzS6uoqOZ1O4jhOcTHGSK/Xk8lkopaWFrLb7TQ3N1d9n+LpfZNGo4HVakUgEABjDGtrazg5OQERwefzYXZ2Fnq9HslkEpubmygWi6hUKshkMjg7O8PDwwMAQJZl9Pb2Ko/Me1mtVvj9fsiyjHg8jnw+D47j0NHRAZ/Ph3w+D6/Xi3K5DCJCKpXC0dERKpUKYrEYzGZz7e19r729PfL7/dTU1EQ2m40WFhYom83+tK9YLNLNzQ1dXV1RJBKpPv8UtFAo0MrKComiSDqdjvx+P8myXHP+p2zQYDDA4XBAkiSUSiUkEgkcHx/XnP9p7+3p6YHX60VzczNub29xeHj4+6Fmsxkulwt2ux3FYhHpdPrXQFOpFGRZRqFQ+CmmVqthsVi+D3wdUoSur69jeXkZsVgMLy8vP8QqlQqen5+r1liPFOc0GAzi+voa/f39sFgsaGtrg0qlAgDc398jGo3i4uKibqhipW63GyqVCltbW9jd3UUmk8G3McP+/j5CoRAuLy+h1WphNBprhipWuri4iGw2i3A4jFwuB57n4XQ6AQCJRAK5XA4GgwEulwtjY2M1Qz80h2AwSJIkEWPsH419eHiYtre36zKXD0dmfHwco6OjsNlsaGxshE6nA8/z1UtgcHAQXq+39ipRw336pp2dHZyenuL8/BwHBwcQBAHT09MYGRlBe3v774H+Sv09/73/C/QLzZvNWdylOQUAAAAASUVORK5CYII=\" y=\"-6.572881\"/>\r\n   </g>\r\n  </g>\r\n  <g id=\"axes_11\">\r\n   <g clip-path=\"url(#p9552dd0e49)\">\r\n    <image height=\"29\" id=\"image925d52dc3c\" transform=\"scale(1 -1)translate(0 -29)\" width=\"29\" x=\"7.2\" xlink:href=\"data:image/png;base64,\r\niVBORw0KGgoAAAANSUhEUgAAAB0AAAAdCAYAAABWk2cPAAAABHNCSVQICAgIfAhkiAAAA6lJREFUSInlls1LamsUxp/t3fiVpBnGJioLSrJsUBFZmVRQQTjKiQQFDhrlpGbNGvQfFAUNCmrSJAgiGlQoSUSjQsnKjxT7AKEUNS0VXXdyT3Dv0cw4nDs4z/BdL8+PZ++1XhZDRITfLN7vBv5ZUPazotvths1mw9bWFtxuN+RyOQYHB9He3o6enh5oNJrvUamAdnZ2qK2tjaRSKfH5fGIYhliWJZFIRFKplDiOI4PBQPv7+4UsCoop1L1DQ0M4OzuDQqFAd3c3ysvLAQAOhwPX19dIJpMQCASorq6G0WjE3NwcOI77ftLd3V3iOI4YhqGVlRXy+XwUCoUoFArRzc0NHR4ektlsJqlUSizLEsdxZLFY6Onp6UtJ80LX1taooqKC+vv7yel0Ujab/ajlcjl6f38nr9dLq6ur1NfXRyzLUk1NDc3Pz38f6vF4qKmpifR6/U/QH8pms/T8/Ew2m40sFgtVVVWRVqul8/PzotC8I1NfXw+DwYBgMAiHw4FEIvHTHR6Ph8rKSmi1WoyNjUGpVMLn82F7e7voL80LZVkWk5OTaGhowMbGBqxWK+Lx+Ec9nU4jHo8jlUpBIBBArVZDp9MhFovh8vIS4XD4U2jBOW1tbcXs7CxcLhfKyspA/zS53+/H8fExPB4PNBoNRkdHIRaLoVAokM1mEQ6HcXd3B7lcXjqUz+djeHgYWq0WLMtCLBYDAE5PT7G+vo7b21u0tLTA6/WCZVmcnJyAYRiIRCJUVVV9LykACIVCCIXCf53d398jGAwiEong4uICPp8PRIRoNAq5XA6dToe6urrvQ/NJpVJBo9EgkUggGo0ik8lAqVSit7cXSqUSJpOpqEfJUL1ej0wmg1wuB7vdDoZh0NzcjJmZGTQ2NhZN+S2oQqHAyMgI3t7ePro1GAzC7Xajo6PjayZfekLyKBKJ0NLSEqlUKhIKhdTV1UV7e3t5H5L/6q+FhYWFUpL+GB2RSASO4yCRSPD4+IhAIIB0Og21Wg2FQvHrkqZSKfL5fPTw8ECZTIaIiF5fX2lzc5Nqa2tJJpPR9PR0UZ+SNoerqyssLi5ieXkZLpcLyWQSYrEYAwMDmJqaQjKZhN/vL+pTUiMdHBzg6OgIsVgMTqcTExMT6Ozs/IB/WaV8XqfTSSaTiWQyGUkkEpJIJCQUCollWeLxeCSTyWh8fLyoT8HNoZBeXl5gt9vhdrsBAIFAAFarFdlsFkajEWazGSqV6lOPkqG/Qn/O3vu/QP8GZ/ClM5vLHlUAAAAASUVORK5CYII=\" y=\"-43.84831\"/>\r\n   </g>\r\n  </g>\r\n  <g id=\"axes_12\">\r\n   <g clip-path=\"url(#p18667c2983)\">\r\n    <image height=\"29\" id=\"imagec084d799a9\" transform=\"scale(1 -1)translate(0 -29)\" width=\"29\" x=\"41.247458\" xlink:href=\"data:image/png;base64,\r\niVBORw0KGgoAAAANSUhEUgAAAB0AAAAdCAYAAABWk2cPAAAABHNCSVQICAgIfAhkiAAABAhJREFUSIntls1LamsUxp9X3UcN8iMDHZQF9oEDCwKDIAmKiKAyogY1CZo0imjQJKh/QBpEg4ZBEU0zhcpokpAVBfaBRZARGqmUIlpmul13co5db3qS+3Hu4N4H9mSvtdeP9a5nvWxGRIRfLMGvBv4P/ccl+iohkUjA4XBgd3cXz8/POTGdTgej0Yi6ujro9fq/DiUiXF1dYXZ2FkdHR4hGo0in0zk53759g0QigVwuh8FgQHd3N0wmE+rq6sAYK0ylAtre3qbm5maSSqXEGCMABIAUCgVVVVWRQqHIvhMIBCSVSkmtVlNTUxNZLBa6u7srVJpYvj09Pz/H5OQkXC4XkskkAKCrqwttbW0wGAzQaDQIBALw+/3wer2w2+24uroCAHAcB5VKBb1ej5WVFVRUVBTXqcViobKysmwnY2Nj5HQ6KRgMUiKRIJ7nKZFIUCQSIZ/PR06nk5aWlqi/v584jiMAJJVKaXh4mHw+36f6eaG9vb0kFosJAGk0Gtra2qK3t7eCx5VOpykSidDx8THNzs6SXq8nxhgplUqampqiVCr1NbS6ujo7R6VSSRsbG/T6+loQ+kOpVIq8Xi/Nz8+TVqslxhhptVqyWq05eXn3NB6Pg76POhaLYX19HdfX15/c+0eJRCJotVoMDAxgdHQUABAKhXBycpKTlxeq0+nAcRwAIJ1Ow+FwwG63IxgM/hQKAEKhEJWVlTCbzWCMgYjw8vLyNbSxsREi0ccKRyIR2Gw27OzsIBQKFQVWq9UoLy/PG88L7ejogFqthkDwEfZ4PFhdXcXe3h6CwSDe39+RyWQKgsViMRoaGsDzPDweT24wnyGi0SiZzWaSSCTZtcH3NWhvb6e5uTmy2WwUCAQKmiocDtP4+DgBIJlM9rV7iYgWFxdJo9HkQH88jDFqbW2ltbU1CofDP4Uyxqi+vv5r9wJAX18fjEYjSktLP8WICG63G8vLy9jc3EQgEPiUk8lkEI1GwXEcTCZTTqzgha/VajExMQGBQAC3241wOIyXl5fsHOPxOPb29uD3+xEKhTA4OAi1Wo2SkhIAwPv7O9xuNxhjkMlkxUEBoLOzE7W1tbDZbDg4OMDFxQWenp7A8zwAIJlM4vb2FgsLC7i8vMTQ0BBaWlogFArx8PCAm5ub7Or9Xnkv/HyKx+NwuVw4OztDLBYDANzf3+Pw8BD39/fgeR41NTUYGRmBTCbD6ekpVlZWoFAoMD09jZmZmY9iBe1XhHiep/39ferp6SG5XE5isZhEIlHWbAqFggYHBykSieR8V3SnhZTJZHB7ewur1Yr9/X14vV48Pj6ipKQEAwMDmJubg0ql+nPHW4zS6TSen58Ri8XAcRyqqqry5v2t0GL13/kF/VegvwG624PwfZCEdQAAAABJRU5ErkJggg==\" y=\"-43.84831\"/>\r\n   </g>\r\n  </g>\r\n  <g id=\"axes_13\">\r\n   <g clip-path=\"url(#p63cf235a58)\">\r\n    <image height=\"29\" id=\"imagefe05df3af8\" transform=\"scale(1 -1)translate(0 -29)\" width=\"29\" x=\"75.294915\" xlink:href=\"data:image/png;base64,\r\niVBORw0KGgoAAAANSUhEUgAAAB0AAAAdCAYAAABWk2cPAAAABHNCSVQICAgIfAhkiAAAAsFJREFUSIntlcFLKlEUxj+fY0QjxEg0AxVUDBS0EAqtkKZauK6FiyBI3LVx27b5SyoIdNFCCKJViyTEkHDRoqzAFgNWEDkxkeXA9xaPJ++h1pjP1euDu7ic+93fOedyuKADxeNxSpJEXddZKpWcWD4UnByam5sjAALgxsYGDcNoC/oDDhSNRjE6OgoA2N/fRzabdWJrLieZ2bbNXC5Xq3h8fJy7u7udrdTtdmNychKapkGWZRQKBaTTaRSLxc5V+luWZXF1dZUA2N3dzVgsxpubm5Yrdeu6rjtNsKurC0NDQzAMA5eXl3h+fgYADA4OwufzdaZSknx7e2Mmk+HS0hIFQaAkSYzH4y3d0TKUJCuVCvf29jg9PU0ADAQCPDw87CyUJJ+enphIJDgzM0NRFBkOhx2DvwwlyaurK66vrxMARVHk8vIyr6+vP/U5GplmGhgYQDgcRjAYxMvLC05PT5FKpT71tQXt6emB3+9HMBgEADw+PiKRSGB7e/tjYzvtJX/N7s7ODhVFIQB6PB4GAgGm0+nOtBcARFGEpmmIxWKQZRnVahXFYhFnZ2dNPUKzwN3dHQzDgG3bdbHh4WEoilLbj4yMYG1tDbe3t0gmk6hWqyiVSq1Bj46OcHx8jIuLC7y/v9fFJyYmoKoqRFGELMvo7e2FZVlQVRUA8Pr6imw2i4eHB/T399cDGvU8FApREITaH9ps+Xw+hkIhRiIRRiIRzs/P12KSJHFra6vhmzaErqysUFEUulyuvyCKolBV1drq6+trmpDH4+Hi4mJDaMP2JpNJbG5uIpPJoFKpwLIsmKYJTdMwNTUFr9cLADg/P0culwMA2LaNcrmMcrmM+/t7eL1ekGz4pi42i/yhQqGAfD4P0zSxsLCAsbGxujOmaSKfz+Pk5AQHBweYnZ1FNBqF3+//GvRfq+05/YZ+Q/8v6E+QetgiNU/DRgAAAABJRU5ErkJggg==\" y=\"-43.84831\"/>\r\n   </g>\r\n  </g>\r\n  <g id=\"axes_14\">\r\n   <g clip-path=\"url(#p970c0c7073)\">\r\n    <image height=\"29\" id=\"image4ba2c24b47\" transform=\"scale(1 -1)translate(0 -29)\" width=\"29\" x=\"109.342373\" xlink:href=\"data:image/png;base64,\r\niVBORw0KGgoAAAANSUhEUgAAAB0AAAAdCAYAAABWk2cPAAAABHNCSVQICAgIfAhkiAAAA1RJREFUSInlls9LKl8Yxp+ZZsYjOSqj+CMED0FhEC1ahW2CYqBdiwiiFi2CFq3auHPbHxK0aZ0Lhdr2A4tQUqRsUWJGUjKgjpP53tUNvnzTvHa5d3Gf7fvwfM45vIf3FYiI8Icl/mngvwWV+jUahoF4PI6HhwfUajWYpgnOOVRVhcfjwdzcHHRd7y+M+pBhGLS+vk5Op5MYY6QoCsmyTIwxYoyRqqo0OjpK29vblM1mv8z7EmqaJu3s7JDP5yPGGPn9fgqHw8Q5p0AgQIwxEgSBJEkil8tFuq7T9fX196D5fJ5mZmZIFEWKxWJ0cnJChUKBisUiXVxc0N7eHm1ublIkEiFZlsntdtPa2hoVi8XBobu7uxQIBMjlctH+/j41m82PWrvdJsMwqFQqUSKRoMXFRRIEgTjndHBw0DWzZyO1Wi1kMhnU63VwzhEIBGCz2T7qQ0NDUFUVqqqi1WqBcw4igmmaaDQaXXN7fpnX11fc3d2h2WyCMQZFUSAIwqder9eL6elpAICiKOCcDwZttVqo1+t4f3/vZQMA2O32j5fodDpoNpuDQX9FkiTB6/WCc452u42Xl5fvQYkIz8/PKJfLXW8gCAKGh4ehaRqICG9vb4NBJUmCoigQRRGVSgWHh4e4ubnp55w91RPqcrmwvLyMYDAI0zRxdnaG+/v73oGi2LXZ+oI6HA5sbW1hcnLyoyM1TfvUS0SwLAv1eh2WZaFcLg8GBQCn04loNAqPx4Px8XH4fL5PfZZl4fHxEaVS6eN/DwyVZRlLS0sIh8O4urpCsVj8tEkMw0A+n0e1WoUgCLDb7YNDAWBqagqcc6TTaSSTyf89XafTwdPTE3K5HERRhNfrxezs7PegABCNRjEyMoJUKoXz83O0221YloVarYZcLofj42NcXl5C0zTouo75+fmuWX0P8bGxMfj9flSrVRQKBaTTaTQaDWQyGSSTSZyengIAFhYWEI/HEQqFuod9NWV+qlKpUCwWo2AwSIwx0jSNVFUlACSKIrndblpZWek50n6qbygR0dHREem6Tg6Hg2RZJpvNRk6nk0KhEG1sbNDt7W1fOQJR/3tvo9FANptFKpVCIpGA3+/H6uoqIpEIJiYm/jP2eumXoL9L/87e+1egPwBxORL+O0rfcgAAAABJRU5ErkJggg==\" y=\"-43.84831\"/>\r\n   </g>\r\n  </g>\r\n  <g id=\"axes_15\">\r\n   <g clip-path=\"url(#pcffe70e856)\">\r\n    <image height=\"29\" id=\"image260912f52a\" transform=\"scale(1 -1)translate(0 -29)\" width=\"29\" x=\"143.389831\" xlink:href=\"data:image/png;base64,\r\niVBORw0KGgoAAAANSUhEUgAAAB0AAAAdCAYAAABWk2cPAAAABHNCSVQICAgIfAhkiAAAA7dJREFUSIntlstLam0Uh3/79RqZEe208gJBaZmDBhFBgQUFSVYGUVITZ/0TBQ2bNCiaJ0k0iC6zoIiSCISI7jXRGogG2Q1SU7ftdUYFHS37zvedM/nOA3v2W+vZ74L17s0REeEPw/608K/0tyP9TmhrawuhUAiZTAZ3d3c4Pz+HTCaDXq9HSUkJWlpa0NTU9N9Ip6ensba2hmAwiJeXF4iiCFEUkUqlwBiDVCoFYwzFxcUwm81wOBxwOp3Q6/VfWykHwWCQBgcHSafTkUKhII7jqKysjNrb26m+vp6sViu1tbVRdXU1cRxHjDFSKpVkMBhoYGCAdnZ2crV9h/t5T1dWVjA7O4uDgwPEYjEQERoaGuB2u2Gz2ZBKpQAAKpUKT09PCIfDOD09xerqKi4uLlBYWIja2lq43W44HA4Yjcb8J7XZbKRUKonjONJqteRyuWh9fZ2i0ShlMhkSBIEEQSBRFEkQBIrH4xQOh8nn89HMzAz19PSQXC6nqqoqGhkZyXnSLCnP8+/C0dFR8vv9lEgkvhwXEVE6nabb21taXFwknueJMUYVFRW0tbWVX6pWqwkATU5O0vHxMSWTybzCN0RRpEgkQlNTU9TY2EgqlYrGx8ezcll7ajabIZPJwBiDwWCAQqHItwHvcBwHrVaLvr4+1NTUIJVKYX19PSuXJa2rq4NEIsHCwgI2NzcRi8W+LQUAxhiKiopQUFCATCaDQCCQlcna087OTtzc3GB3dxcejwf39/fo7u6GTqeDRCL5Ry/wGVlSu90OrVaL6+tr+P1+BAIBEBEcDgcqKyshlX59iRER4vE4QqHQp5ms8ZaWlqKzsxNDQ0MwmUyIRCLwer2Ym5vDyckJEokE6ItPsCiKeHx8xOHhIQBAqVRmZSQTExMTuYqtViuMRiPi8TjOzs6wt7eHh4cHvL6+IplMgjEGmUyGTCaDdDoNQRAgCAJisRgODw8xPz8PuVyO1tZWDA8Pf+iddSP9zNHREbxeL7a3txEIBMDzPCwWC5qbm2GxWCAIApLJ5Hv++fkZPp8Py8vL0Gg08Hg86Orq+tj0O/sXjUZpaWmJent7qby8nBQKBRUWFhLP86RWq4njuA8PY4zUajX19/fn7Pct6RtHR0c0NjZGLS0tZDQas4RyuZw0Gg2ZTCZyuVwUCARy9sk73lxcXl7C7/djY2MDu7u7EAQBHMehoqICTqcTTU1NsNvtn9b/kvSNq6sr7O/v4+HhAVKpFFVVVejo6Mhb96+kv8r/58fsr/S38gPOzxM8YqBCGAAAAABJRU5ErkJggg==\" y=\"-43.84831\"/>\r\n   </g>\r\n  </g>\r\n  <g id=\"axes_16\">\r\n   <g clip-path=\"url(#p46786ea62d)\">\r\n    <image height=\"29\" id=\"imagedf3449e5fb\" transform=\"scale(1 -1)translate(0 -29)\" width=\"29\" x=\"177.437288\" xlink:href=\"data:image/png;base64,\r\niVBORw0KGgoAAAANSUhEUgAAAB0AAAAdCAYAAABWk2cPAAAABHNCSVQICAgIfAhkiAAAAdtJREFUSInt1rFq6lAAxvF/LrW1CmZwUlw0IrRK0IIORQfJILabsw/iS/gAuvclgqC0S1EQTVUqokKnOEisKBQSmvsAF3q9tqfDpd/8HX6c4XA+yXVdl2/Or+8Gf9A/4jgOtVqNSqWCrus4jvMp9OSQkm3brFYr2u02kUiEWCxGPB4/Gj3opl6vl1AoxNnZGb1ej/l8fjR4MCpJEqVSiWg0ymg0otvtsl6vxaIA2WyWbDaLx+Ph/v6ewWAgHvX5fCQSCYLBIIvFgpeXF97f38WiAJqmkclksCyL5XLJfr8XjyqKgqIoSJLEbDZjuVyKR09PT9E0DVVVeX5+xjAMbNsWiwLkcjny+Tyvr6/ous7T05N4NBAIcHl5iSzL9Pt9hsOheBQgnU5zdXXFdrtlOBximqZ49OLigmKxSCAQ4PHxkW63Kx4FSKVSpNNpTNPEMIx/erNHo4lEguvra87Pz5lMJkynU/Goz+cjl8uhqiqdToe7uzsOXT6f+sRTqRTlchm/389iscCyLPGo1+ulUChwc3PDeDym1WqJRwHC4TD5fB7btmk0Gux2u78fcr8gm83GbTabbjKZdOv1uus4zof9Lxlmsixze3tLtVrl4eGBt7e3D/vSz9j+79Dfs48TWyaRqxUAAAAASUVORK5CYII=\" y=\"-43.84831\"/>\r\n   </g>\r\n  </g>\r\n  <g id=\"axes_17\">\r\n   <g clip-path=\"url(#p2773ad8c40)\">\r\n    <image height=\"29\" id=\"image9785c776d4\" transform=\"scale(1 -1)translate(0 -29)\" width=\"29\" x=\"211.484746\" xlink:href=\"data:image/png;base64,\r\niVBORw0KGgoAAAANSUhEUgAAAB0AAAAdCAYAAABWk2cPAAAABHNCSVQICAgIfAhkiAAAA7ZJREFUSIntlk9IalsUxr9zjoqWcsyUQxKi6CAuSjgQqQgisnF/BlHjoFGjoHETmzdr1qgmgYPAiUg0sKRAi4qiZqWFR1E0PXo4/llv8EiK7Nat+y6Px/tmi71YP/Ze3157M0RE+MNi/zTwfygURcHx8TH8fj8sFgtMJhNMJhNmZmYQiUQgiiKq1erXqdRBGxsbZLfbSaPREMMwxDAMsSxLWq2Wenp6yG630/z8PEWjUWo0Gp1K/FRvoPl8nrxeL2k0GmJZ9hX0OWZZlrq7u8ntdtPq6irF43EqFApfhz48PJAgCG0YAALQMVar1WQ0GsntdtPy8jKdnp5+Csqtra2tvTxurVaLZrOJ29tbSJKEVqsFjUYDnufB8zx+/PiBQCAAm82GYrGIQqGAQqGAm5sbxGIxpFIpDA8PQ6VSvdtShujtcBBFEclkEufn55BlGXq9Hm63GzzPo6urCwaDAYqi4OrqCru7uwiHw6hUKlCpVLBarZiamsLCwgJ8Pt/njUREJMsyiaJIj4+PlM1mSVGUNzmSJFEymaRgMEg+n49YliW1Wk19fX20uLhI5XL5cz39VdXrdUqn07S1tUVer7dttP7+fgoGgyTL8u+HPiuXy9Hm5iZZLBYCQGq1mjweD+VyuTe5v20imc1mjI2NYWhoCAzDoNlsIpvNQlGUN7nvW6yDMpkMSqUSOI6DxWIBz/Ov1hmGAcMwH9b5JWgkEsHR0REYhoHNZoPdbocgCDAajZAkCbFYDCcnJyAicBwHnuehVqu/B43H49je3oYsy9BqtTCbzXA4HBAEAcViERcXFxBFESzLore3F4FAAHq9/ntQQRBgMpmQyWRQrVZxf3+Pu7s7AGgfK8uyMJlMGB8fx9LSEnQ63fegExMTeHp6wuXlJarVKvL5PNLpNCRJaucYjUZMT09jbm4OHo+nY52OE+mlKpUKKpUKWq0WeJ5HvV5HPp9HrVbD2dkZdnZ2EI/HUSqVAAButxuhUAgul+vdmh/uNBqNIplMQpIk+P1+DA4OwmAwQKfTYXR0FDqdDrIs4+DgAABQLpeRSCS+B11fX0cikWjHIyMjcLlc7R42Gg3UarV2TESQZfmnNT+EOp1OpFIplMtlKIqCWCyGWCz2CgL8bSSO46DVajua56U+7KkoigiHw9jf38fh4SEymQyazSY4jms/X8/3UhAEzM7OYmVlBWaz+evQZymKgr29PYRCIVxfX8PhcGBgYKC9brVaMTk5CafTCY7jvrfTf0L/ni/ofxL6F/QMUQ/CDU6tAAAAAElFTkSuQmCC\" y=\"-43.84831\"/>\r\n   </g>\r\n  </g>\r\n  <g id=\"axes_18\">\r\n   <g clip-path=\"url(#pe10cd4c0cb)\">\r\n    <image height=\"29\" id=\"imageea4c9c0793\" transform=\"scale(1 -1)translate(0 -29)\" width=\"29\" x=\"245.532203\" xlink:href=\"data:image/png;base64,\r\niVBORw0KGgoAAAANSUhEUgAAAB0AAAAdCAYAAABWk2cPAAAABHNCSVQICAgIfAhkiAAAAqZJREFUSIntljtLK2sUhp/ZxnEGc5lGjKZQRwTBwQsIRhSENIKt/gQbQRB/hK3/wEabNCoKYpk2SkQHBFPYKF5QI8Q4OibOzNrNRjhNHHP2kbNhv+3Hux7Wty7fp4iI8M368d3AfwXN5/PMzs6i6zq6rjMyMsLW1lYob6RRqIjg+z61Wg0Az/MIgiCUt+FMC4UC+Xy+IW/D0JeXFxzH+V7o2NgYExMTiAhfHYA/63o1TUPTNBRFQVGU74H29/czMDDQkDf0yDiOQ61WQ0RQVZWmpiY0TfvvoBcXF6ytrXF2dobv+3R2dnJ/f8/x8fGXmygU9PLyktXVVTY3N7m7u8P3fRKJBEEQUKlUvlzPUNCDgwP29/e5ubmhr6+PdDpNuVzm8PCQ5+fn3w91XZdcLkepVAJgamqK+fl5PM9jZ2eH3d1dzs/PCYIAz/N4enrCcRyi0WjjUMdxODk5+dg8pmnS09NDW1sbyWSSarXK1dUVr6+vPD4+ksvl6O7uJpPJ1L2BuiPj+z6O4/D+/g7wj6YxTZN0Ok1HRwciQqlUYm9vj2w2i+u6dTOtC41EIsTjcZqbmxERKpUKb29vH+eWZZHJZIjFYgAftf5sJ9eFtra2YlkW0WgURVGwbZtisfiRiWVZzMzMkEwmURSFWCxGb28vqqrWhdatqa7rTE5Ocnp6im3bHB0dkc1mqVarDA0NYRgGrusiIrS0tDA6Osri4iKJRKIuFPlEDw8Psr29LePj46JpmqiqKl1dXbKwsCDr6+uyvLwsqVRKBgcHZWNj47NwIr+epVBaWVmR4eFhSaVSYhiGGIYh8XhcdF0X0zRlaWlJbm9vQ8VSRMLvsUKhQLFYxLZtIpEI5XKZ6+tr5ubmmJ6epr29PVScL0F/l/6sL+hf6P8W+hPBcMQzcOptTAAAAABJRU5ErkJggg==\" y=\"-43.84831\"/>\r\n   </g>\r\n  </g>\r\n  <g id=\"axes_19\">\r\n   <g clip-path=\"url(#pa560ed03a6)\">\r\n    <image height=\"29\" id=\"image10aaf005bb\" transform=\"scale(1 -1)translate(0 -29)\" width=\"29\" x=\"279.579661\" xlink:href=\"data:image/png;base64,\r\niVBORw0KGgoAAAANSUhEUgAAAB0AAAAdCAYAAABWk2cPAAAABHNCSVQICAgIfAhkiAAAAtNJREFUSIntlkFL81gUhp80rUlaolY0jUhQKFpEpHFRXYhoRQRXIm79A/4L/S+CLi3iplCQIhR0p0LowooKtShNW2mDRGNmNR8zm7Yz7biYmXd5Oec8vOcezr2C7/s+P6zATwP/W9BgP4o0Gg2ur68pFAqMjo6yv7/fPsHvg7LZrD83N+ebpumfnZ11jO9Lez8/P2k2myiKgmmaHeP7dqeaprG2tsb4+Hh/oM1mE9u2cV33T+ee51Eul7m7u6NSqWBZFoVCoWO9joN0eXnJyckJpVKJzc1NZFmmVqsRi8X4+Pjg4uKCq6srms0mkiQhSVJvUMdxODo6IpPJYNs2lmUhCAKu6xIOh/n6+uL19ZVWq0UkEsF1XaLRaG9Q13UpFotUq1UURaFerxOJRIhGoxiGgWEYlMtl8vk8giAQDofpZqu2hSqKwsLCAjc3NySTSVRVZWJigqWlJRKJBKIokslkyOfzKIqCYRhomtYR2naQJEliZ2eHWCxGpVLh+fmZUqmE53nE43F0Xcd13V9tNQyDoaGh3pwCzM/Pk0qlOD095f39nWAwSKPRQJZlTNNkYGCAeDzO1tYWy8vLHYEA4sHBwUG7gFAohKqq1Ot1qtUqrVbr1/Sapokoiniex+rqKul0uitoR6eiKJJOp5EkieHhYbLZLPV6nfv7e15eXtA0jUAgwNvbG57nIYpi704BAoEAk5OT6LrO9/c3j4+PFItFZFnGcRzOz8/xfZ9EIsHY2FjvTv+oxcVFRkZGcByH4+Njcrkcuq7z8PBAo9EgmUwyOzvbXyjA1NQUu7u7PD09kcvlsCwLAFVVabVaXdX4y9BgMMj6+jq2bVOr1bi9ve0a9rv+1isjiiLb29scHh6ysrKCIAj/PBRAlmVSqRQbGxsMDg7+DBQgGo0yPT2NruuEQiGA3ndvN5qZmWFvb49SqYSqqjiOQyQSaZsj/P/Z/tdBfwOW/3qefs/HyAAAAABJRU5ErkJggg==\" y=\"-43.84831\"/>\r\n   </g>\r\n  </g>\r\n  <g id=\"axes_20\">\r\n   <g clip-path=\"url(#pa3fa85dfc0)\">\r\n    <image height=\"29\" id=\"image41e5a52366\" transform=\"scale(1 -1)translate(0 -29)\" width=\"29\" x=\"313.627119\" xlink:href=\"data:image/png;base64,\r\niVBORw0KGgoAAAANSUhEUgAAAB0AAAAdCAYAAABWk2cPAAAABHNCSVQICAgIfAhkiAAAAhhJREFUSInt1kHLKVEYB/D/O9PMbCyYREg2EoWFFYVvgKzUWPkCvo4PIDUWthYWlPIBKJJpbN8IkSajMZ67c6/uvb0z3aF76/5385w5z69zOs2cDyIivDnMu8F/AyUiLBYLSJKEQqEAWZah67p9lWxkPp9TtVolQRCI53nK5XLU6XTofD7baUO20GazSW63mxiGIYZhSBAEymaz1G63SdM0y30sb+9oNMJ0OsXlcnnUDMPA8XjE4XDA7XazvLuW0eFwiNVqBcMwHrVoNIp6vY5yuQyXy+U8Wi6XkUwmwXHcoxYIBJDJZBAOh8Ew1s+k5TfT6TSCweBT8+VyiX6/j/V6DbLxjbGMCoLwtEoA2O/36PV6aLVa2O12zqMAEA6HIYri4/l+v2O73UJRlKcD5ihaKpWQSqXsTPlzNJFIwO/3/1TfbDaYzWa43+/Oo7+LqqoYDAYwTfN96PF4xGQywXg8dh5lWRaZTAaxWAwsyz6NrddryLLsPMpxHCRJQqPRQCQSeRrTdR2bzQaapjmLAoDX60WlUkGxWIQgCI86EeFwOGCxWDiPAoDH40EqlXpaLRFB0zR8fn6+BvX5fMhms4jH498bMQwCgQDy+fxr0F/FNE2oqoput/s6lOd5eDweiKIIjuNgmiZOpxMURfl6sq17xg+5Xq+03W5JlmUqFAoUCoWoVqvRbrf7cu4H2fknOZS//wr6H7Wbb3/r2zi1vvGWAAAAAElFTkSuQmCC\" y=\"-43.84831\"/>\r\n   </g>\r\n  </g>\r\n  <g id=\"axes_21\">\r\n   <g clip-path=\"url(#pdc1e49dca5)\">\r\n    <image height=\"29\" id=\"imageef02ce04ac\" transform=\"scale(1 -1)translate(0 -29)\" width=\"29\" x=\"7.2\" xlink:href=\"data:image/png;base64,\r\niVBORw0KGgoAAAANSUhEUgAAAB0AAAAdCAYAAABWk2cPAAAABHNCSVQICAgIfAhkiAAAAWVJREFUSInt1jGKwkAYhuE3JiEmqEzQSjtB0EI8gLbeRPAG3sRzWAqeQGzVI4gMQhRRjBCZLRaXhYUlMyEWu34QSIqPh8wMf2IppRQvTuHV4P9CHZPS+XwmiiJmsxmHw4HJZIIQIl90Pp8znU5Zr9eEYYjruozHY+r1eqq+0fLe73dOpxOXy4XdbsdisWC1WqXuZ97TJEmI45g4jlN3jJZXKYVSisfj8XWvEyPUsqwfl04yLW+hYFZ/D4df8/0gPZ91kvlNHcehWCzieV6+6PPE2raNEIJut0u73c4X/R4hBL1ej06nkx96PB6RUnK73XSr5uh2u2W5XCKlxHEcarVa6kFvjEZRxH6/53q9EgQB/X6f4XCYLwqfk8i2bVzXpVQqUS6X80OfX5QkSbSQTKiUks1mg5TydWgQBFSrVXzfx/M8KpUKvu9ro1pjMAxDWq0WjUaDwWDAaDSi2Wxqo9b7Z/vPoR8m3oJTd4VrNAAAAABJRU5ErkJggg==\" y=\"-81.123738\"/>\r\n   </g>\r\n  </g>\r\n  <g id=\"axes_22\">\r\n   <g clip-path=\"url(#p55afea902d)\">\r\n    <image height=\"29\" id=\"imagec7d600827f\" transform=\"scale(1 -1)translate(0 -29)\" width=\"29\" x=\"41.247458\" xlink:href=\"data:image/png;base64,\r\niVBORw0KGgoAAAANSUhEUgAAAB0AAAAdCAYAAABWk2cPAAAABHNCSVQICAgIfAhkiAAAA0JJREFUSIntVk1L42wUPU+aprVJalvbJgWt1i9aKRYVoVgX4saNCCK4EVy7cCvo2p/gX3Av+LF1pQsp4kfBjdWCiEqV1NRCU5L2zmJ4BW1n7DvjzGJmzvK5l3NyT+5zEkZEhN8M7ncL/hP9M0X59wemaaJYLOLg4ABPT0+o1Wro7u5Gf38/FEWBIAg/LcreX5nV1VXs7u7i+fkZlmWBiOBwOCCKIsbHxzE1NYVUKoVQKPR5osPDw8hkMrAs620jY2htbYXH40EwGEQikcDs7CwmJibQ0tLy/1TpHZaXl0mSJGKMEWOMPB4PhcNhEkWRGGMEgDiOI4/HQ4lEgtbX1+nh4YGq1ep7qm+ibtLLy0ssLS3h5OQEuq7DbrdDEAQYhvFq93+T22w2hEIhDA0NobOzE4FAAPF4HHa7Hb29vejq6oLT6fzYXgDY39/H3d0dstksjo6OkM1mcXt7C8MwGrolCAJcLhdEUUQgEADP8/D7/YjFYlhYWMDIyMjHopZloVqtolAoIJfLIZ/Po1AowDRN3N/fI5/PQxAECIIATdNwfn6O4+Pj1z1wOByIRCIIBoOYnp7GysrKG/66KwMAPM+D53moqgpVVd/UNE1DoVCA3W4Hz/N4eXlBOp3G5uYmDg8PUSqV4Ha7sbi4iGg0Cq/XW8/f0K/vwOfzwefzvTlTVRWKoiASiWBrawuVSgW6rmNwcBA9PT31JE2v3AewLIvOzs5ofn6eOI6jcDhMGxsbDXs/LQZtNhsikQjm5ubQ0dGBfD6Pvb096Lpe1/up2SvLMsbGxjA5OYlKpYJMJoObm5u6vqbfaa1WQ7lchmmaME0TDocDkiSB474+NxHBsizUajVIkgTG2Gvth0RLpRKurq5wcXGBYrEIXdehKApisRhcLhcAwDAMPD4+IpfLYWdnB4IgYGBgAO3t7fWEzSxJOp2mmZkZkiSJABAAcrvdFI1GKZlMUjKZpHg8Tk6nkxhjJMsyJZNJ2t7ebsjX1KROpxOyLMPv90MUxdco1DQNmqYB+BqLbW1t8Hq9GB0dxdraGvr6+hryNUykb1l8enqK6+trlMvlujrHcVBVFalUCpIkffe727ToZ+Lv+Uf6J/pL8QVYext2h35DfgAAAABJRU5ErkJggg==\" y=\"-81.123738\"/>\r\n   </g>\r\n  </g>\r\n  <g id=\"axes_23\">\r\n   <g clip-path=\"url(#pb3b3d0f4aa)\">\r\n    <image height=\"29\" id=\"image616dfa4b75\" transform=\"scale(1 -1)translate(0 -29)\" width=\"29\" x=\"75.294915\" xlink:href=\"data:image/png;base64,\r\niVBORw0KGgoAAAANSUhEUgAAAB0AAAAdCAYAAABWk2cPAAAABHNCSVQICAgIfAhkiAAAAn5JREFUSIntlL1KK1EUhb8zk2GIDmEIYhQEFZEIikgKbSRgYSM2gj+P4dP4AAbERiQISgobI5gwICmjBlQwoMGgjiaKE3Xf6qb1GM29jauds9Z39j6ztxIR4R8r9B1zNptlfX0dy7JYWVlhZmamvdCbmxt2d3fZ2NggHA4DkEwmMU3zU6/RKrTRaPDy8kIQBPi+TzabZXNzU8vbMjQSidDT04PjOM1LPD09aXlbbm8kEiEWi9HR0UE4HGZ+fp7l5eX2QpVSmKaJUopYLMbU1BTRaFTL23J7S6USnufx8PCA67oMDg6ilGov1LIsAF5fX4lGowwNDWl7W4aaptkcD8MwsG27/dC/amWhaf9ItVqNw8ND9vf3ub6+5vn5mWKx+GWgNrRWq5FKpdja2qJQKOD7frNCpRQiwvv7uz5VNHRwcCDJZFJs2xallCilBBBAlFKSSCQknU7rRImIiNabptNpisUiHx8f9Pf3MzY2Rnd3d/P7+fk5mUyGer2uVahWewuFAtVqlb6+PpaWlojH4+TzeTKZDOVymXq9zsXFBbe3t3R2dv4M1DAMlFKEQiESiQRzc3MMDw9TrVYpl8s0Gg0qlQqnp6cMDAx8nqcDHR0dxXVdLi8v2dvb4+joiCAIcBwHpRRKKSqVCrlcTidOr9KFhQU8z+P4+Jjt7W3Ozs7o7e2lVCo1z7y9vfH4+Phz0MnJSWZnZ7m7u+Pq6grP85ojYxgGjuMwMjLCxMSEFlRrZEREfN+XtbU1mZ6eFtd1xbZtsSxLurq6ZHFxUXZ2duT+/l4rS4l8bY/l83lSqRQnJycEQcD4+Dirq6vE43HtjC9Df0LfXvi/0F/of4P+Aetdl1hQXun4AAAAAElFTkSuQmCC\" y=\"-81.123738\"/>\r\n   </g>\r\n  </g>\r\n  <g id=\"axes_24\">\r\n   <g clip-path=\"url(#p7ba2b3f47e)\">\r\n    <image height=\"29\" id=\"image70d43d8dd0\" transform=\"scale(1 -1)translate(0 -29)\" width=\"29\" x=\"109.342373\" xlink:href=\"data:image/png;base64,\r\niVBORw0KGgoAAAANSUhEUgAAAB0AAAAdCAYAAABWk2cPAAAABHNCSVQICAgIfAhkiAAAA5dJREFUSInlls1LKm0Yxq8Zx5khMk9TYJaCRZJFEn1IEBRClERF1LaWbSL6F4L+jKJVu1auaqeQaVRuSqhgxEWomWVaUn4797t7z4mTH8f3cN7FueDZPM/N9XvueWbmehgiIvxhsX8a+L9BuXqKcrkcDg8PcXt7i/v7e4iiiLGxMdjtdlgsFnBcXTbfRTUUi8VofX2ddDodCYJAarWaeJ4nURTJbDbT1tYWnZ+f17L5pJpQWZbJZrMRwzAE4NNgWZa0Wi1NTk7S7u4upVKp/w4tFos0MzNDPM8TAPr27RuZTCZqbW39tAme58lgMNDGxkZd4KqH4fP5EAqFUCgUMD8/j7W1NQwODiIWi+Hi4gJ+vx9+vx+xWAzRaBROpxMqlQo7OzuQJKmxMz04OCCDwUALCwvkdrspnU6ToiiUy+UokUhQMBik09NT2tvbI4fDQSzLktVqJZ/P13inxWIRRASr1Qqz2QyNRgMAEAQBgiBAkiSYTCb09fWBZVnc3Nzg+fkZXq8XNpsNarX6S9+6vlOe56FSqX6aZxgGHMehra0NDocDm5ubeHt7g9PpRCAQqOhXFcpxHBiGgSzLSKfTlU1YFp2dnZiamoJer0coFILX620MKkkSOI7D4+MjstlstVKwLAuj0YjFxUUUi0XE4/HGoD09PRBFEeFwGIlEAuVyuSq4vb0ddrsdLS0t1TdYbbGrqwuiKCISieDp6QmFQqGqmSAI6O7uhl6vx93dHRRF+XWoRqPB8PAwBEGAx+NBNBqt3gHLQhRFCIKA6+vrxqAsy2J5eRk6nQ5OpxNnZ2f4+PioWF8ul/H6+opIJAKNRgOGYX4dCgA2mw1DQ0PIZrNwOp1wuVxIJpNf1r6/vyMQCCAej8NisVSE1swknU6H1dVVyLKMo6MjJBIJZLNZzM3NfXphFEVBOBzG8fExeJ5Hf38/WPbrnmpCGYaB3W7HwMAAZFmG1+tFc3MzBEHA6Ogo1Go1FEVBMpmE2+2G3++HRqOBxWKp6FlX+mq1WkxMTODq6grBYBAnJydIpVIYGRmBJEnI5/P/zufzeUxPT2N2drayYc0c+iHmtre3qaOj46dc/XEYjUba399v/If/6ZFwHGw2GzweDzKZDIgIpVIJiqJAURQwDIOmpib09vZifHy8qhdDVP8VtFQqweVy4fLyEplMBi8vL3h4eEA6nYZarcbS0hJWVlZgMBh+H/R36e+59/490H8AUuDaRFyXGFoAAAAASUVORK5CYII=\" y=\"-81.123738\"/>\r\n   </g>\r\n  </g>\r\n  <g id=\"axes_25\">\r\n   <g clip-path=\"url(#pe2bedc2677)\">\r\n    <image height=\"29\" id=\"image7b653e641a\" transform=\"scale(1 -1)translate(0 -29)\" width=\"29\" x=\"143.389831\" xlink:href=\"data:image/png;base64,\r\niVBORw0KGgoAAAANSUhEUgAAAB0AAAAdCAYAAABWk2cPAAAABHNCSVQICAgIfAhkiAAAAvRJREFUSInt1jFL61AUB/CTcIMtUkxLsAa0NJRURBRBlIoiKDhIdagfQT+BRejkoCIoohZ0UREnHZzUfgKnirR1kFo7mCEoIlgRlRaJ8H+T5cmrTaLg8N47cLfD/3cv5N4TDgDoh4v/afDfQpmd5svLS0omk3R3d0e6rlMymaRSqUSqqlIgEKCJiQlqa2szD4KF2tvbQygUgsfjgcvlQm1tLRwOB3ieB8dxEAQBDocDbrcb7e3t2N7erppnisZiMfj9fjDGQESmi+d5iKKInp6er6GxWAyyLIPjOIyMjCCRSCCXy/2xDg8PEQ6HP+CiKH564qpoR0cHOI7D1NQUzs7OUCqVKvYVi0VomoaNjY0yWldXh6WlJXvo/v4+GhoaMDo6inQ6DcMwqu0PAHB9fY1oNGqKVrwyuVyOVlZWqFAokCzLJEkSMWb+oXu9XgqHw6Z9FdFCoUBXV1dkGIZpwO/FGCO/309DQ0P2UVVVLZ2sUjmdTgoGg/ZRr9dLgUCABEGwjb6+vpKu6/ZRIqKuri5yOp2UyWTo+PiYHh4eLKHPz8+UyWS+hjY1NRFjjFKpFK2vr5Omaabg09MTpdNpurm5oZqaGurs7LSHtra2luHT01M6OTmhx8fHqqiu67Szs0M8z5PP56OBgYHKjdXu3draGlpaWiAIAvr6+rC1tYXb29uKvff391hdXQVjDMFgEPF4/NNc07c3Go3C4/GAiODz+TA7O4tsNotisfgB3NzchKIokCQJ09PTVTNN0YODA4yNjUEUxfITF4lEcHR0hHw+j2w2i3g8DkVRwPM8uru7cXFx8T30vcbHxyFJUnnayLKM4eFh9Pf3l6eLoiiYm5szzbKM5vN5zMzMoLe3F/X19R9G3Ts4Pz9vKcsyCgCGYeDl5QWLi4tobGwEEUEQBDQ3N2NhYcFyjmX07e0NqVQKy8vLCIVCcLlccLvdGBwcRCKRsLN36+j5+TkmJyehqioikQh2d3ehaZot7L044P/P9l+G/gJCmxxjhldiQwAAAABJRU5ErkJggg==\" y=\"-81.123738\"/>\r\n   </g>\r\n  </g>\r\n  <g id=\"axes_26\">\r\n   <g clip-path=\"url(#pf5eb675758)\">\r\n    <image height=\"29\" id=\"image2e75bc2e0a\" transform=\"scale(1 -1)translate(0 -29)\" width=\"29\" x=\"177.437288\" xlink:href=\"data:image/png;base64,\r\niVBORw0KGgoAAAANSUhEUgAAAB0AAAAdCAYAAABWk2cPAAAABHNCSVQICAgIfAhkiAAAATxJREFUSInt1j+KwkAUx/HvLCFGhGBMIVaREWy0yS3sPYen8EK5h1YRLOwjEgv/x0DA2WrDLiyLszgBd/1178Hjwwwz8IRSSlFx3qoGX+iPmUwmeJ6H53l0u12m06k2aukOZFnGfr9HCAHA9XrVRp/jeh/xw57jpP8H/Xi1ALfbjcvlwvF4NIt+Tp7nrFYr4jg2i7ZaLVzXBaAoCtI0ZbPZmEXDMERKWdZKKe1vpI1KKel0OmW93W5ZLpecTidzaLPZpN1u02g0AEiShPl8zuFwMIcGQcBwOMT3/bKXZRm73c4cWq/XcV2XWq1W9tbrNbPZzBz6XdI0ZbFYVIvq5leo4zhfrrcSNAxDBoNBtWiv16Pf7+M4DkIILMvCtu2757XXFQDbthmPx5zPZ6IoIggCRqPR3fPitWz/OfQdNIVj8b9WGMoAAAAASUVORK5CYII=\" y=\"-81.123738\"/>\r\n   </g>\r\n  </g>\r\n  <g id=\"axes_27\">\r\n   <g clip-path=\"url(#p96305041b5)\">\r\n    <image height=\"29\" id=\"image2d9e1ad106\" transform=\"scale(1 -1)translate(0 -29)\" width=\"29\" x=\"211.484746\" xlink:href=\"data:image/png;base64,\r\niVBORw0KGgoAAAANSUhEUgAAAB0AAAAdCAYAAABWk2cPAAAABHNCSVQICAgIfAhkiAAAAsRJREFUSInt1ktL42ocx/Fvm2pq6cWKVLFeShTpwmBbUHAjiN247BsQfAEufTcuXIju1I07UUFEF4KIuhKaxBTtwhajrUlp2mcW5yAcTu3MdEZhYP7L5Jfnw3OPRwgh+OLyfjX456GNRoPNzU3S6TTLy8uYpvk1aKFQ4ObmBsMwKBQKn4/6fD5GR0dRFIVarcbr6+vno16vl1gsxtDQELquc3R09PkoQDgcJhqNUq/XcRzna9Dx8XGmp6d/+rtfQv1+P8FgENd1sSzrh+f1t+xT27YxDAPDMH4o7/voxc7ODqenp9i2/Z/nqqqSSCTw+Xx0d3fz9PSE67rous7x8TFTU1OdoxcXF2xtbf1vyOLxOH19fUiS9I4KIXh8fOTg4IBcLkc8Hu8MbTQaOI5DtVqlq6sLr/efmTAMg3w+j+u6eDye97xt25imSalU6hydnZ1le3sby7LIZrOkUimCwSAAmqZxe3uLaZpYloXrutTrdYQQNJvNtmBbdHFxkUwmQ7lcZnh4mJWVFSYmJvB4PGiaxvX1NZqmUS6XMU2Tw8NDHMfh4eGBVCrVXhVtamNjQ4yMjIixsTGxvr4uyuVyy9zl5aXI5XIiFouJtbU1Ua1W2zUr2m6Zubk5otEopmmyv7/P/f19y1wsFkNVVZ6fnzk5OfnujdMWjUQiKIpCIBCgVCp9eNSFQiESiQSyLFMsFrm6uuocHRgYYGlpif7+fiqVCm9vby0XSiAQIJlMkslkeHl54fz8vHMUYGZmhkgkQj6fxzCMlr2VJAlFUchmszSbTSqVCvV6vXNUlmV6enro7e0lFAohSVLLnN/vZ3BwkFqtxtnZGXd3d52jk5OTzM/Ps7CwgKIoyLLcMhcOh0mn0ySTSYrFInt7ex832nZt/1uO4wjbtkWj0Wib03VdrK6uClVVxe7u7oc5jxB//3v/or9e3wCTguEIA6X15wAAAABJRU5ErkJggg==\" y=\"-81.123738\"/>\r\n   </g>\r\n  </g>\r\n  <g id=\"axes_28\">\r\n   <g clip-path=\"url(#p5e0df14955)\">\r\n    <image height=\"29\" id=\"imageccd67fc827\" transform=\"scale(1 -1)translate(0 -29)\" width=\"29\" x=\"245.532203\" xlink:href=\"data:image/png;base64,\r\niVBORw0KGgoAAAANSUhEUgAAAB0AAAAdCAYAAABWk2cPAAAABHNCSVQICAgIfAhkiAAAAqJJREFUSIntls9LKlEUxz93HMdE+qHTooYCi6TcTGYRBUVBthqEIPoLWrRu058RrfpXyr8gIks3rQqsIKRixCHShsT7FvF8rzZeeRYt3oFZzL2c74dzzz3nXCGllHyzad8N/A/9WdB6vc7BwQHpdJrh4WEsy8KyLGzbZnd3l3w+ryYkO7BisSiz2awMBoNSCCE1TZOapslgMCgHBgak4zjy8vKyrY5ypLe3txweHnJyckKj0fiw12g08DyP+/t7np+f22rpqtBKpcLV1RWVSoXPpf37X0pJs9lsq6Uc6fX1dQsohCCRSDAzM0N/fz9CCAA8z+P8/Lx70Hw+T7lcbgEWFxfZ29vDcRwAhBD09PQQj8e7A/V9n4eHB+r1emvNdV3K5TK+7wMQCATo6+tjaGiorZ5STovFIqVSCd/3kVIipeTs7Iybmxuq1SpSSizLIpvNMjY21h1oLBYjEomgaX8O5vHxkaenJwDC4TCpVIrNzU1M02yrp3S8iUSCZDJJb28vQojWp+s6pmmSTqdZXV1lfHxcRU69ZFKpFLlcDtd1gfccxuNxMpkMKysr2LZNKBTqLjSZTGKaZiunoVCI+fl5dnZ2mJ6eVpUB/rHh67pOIBDo2E8Zqus6hmGg6zpCCGq1GoVCgYuLi6+DDg4OMjo6SiQSaa3d3d1RKBTwPO9roCMjI6yvrzM1NYVhGMD7qDs9PeXo6IiXlxd1aiejrVaryf39fTkxMfFhtC0sLMhcLiebzaaSTkcXKRwOs7a2xtzc3IfyKJVKHB8fK0fb8e21bZvt7W2Wl5dbHcr3farVKm9vb18DBZidnWVpaYlYLIZhGExOTuI4DtFoVMlfuTn8bdFolI2NDV5fX3Fdl62tLTKZjLK/kJ+fAd9gP/8J2i37BYZCl5+ILmYjAAAAAElFTkSuQmCC\" y=\"-81.123738\"/>\r\n   </g>\r\n  </g>\r\n  <g id=\"axes_29\">\r\n   <g clip-path=\"url(#p6c638457fd)\">\r\n    <image height=\"29\" id=\"image522880b506\" transform=\"scale(1 -1)translate(0 -29)\" width=\"29\" x=\"279.579661\" xlink:href=\"data:image/png;base64,\r\niVBORw0KGgoAAAANSUhEUgAAAB0AAAAdCAYAAABWk2cPAAAABHNCSVQICAgIfAhkiAAABDxJREFUSIntls8va1sUx7/n4Dh+3SpOlEipNoQEgxITE41fEcREREKkiZnExMBU4h8wFRIdEREDERExQSQigpSkSkXjZ+tHg5O2Tp2erju4ec3rdfru83h38t432ZO911qfrLWz9l4MERF+s9jfDfwf+q8rUW0zHA7D6XRibW0Ns7OzeHx8RFNTEzo6OlBTU4OcnBwwDBPjI8syRFEEEYFhGCQnJyM9PV2dSira2dmhyspK0mq1xHEcsSxLGRkZlJubSy0tLTQ9PU0ej4eIiO7u7mhubo56e3vJZDKRXq8ng8FA9fX1ZLPZKBwOv4vP/NwysixjcHAQs7OzKCwshNlsxtXVFQ4ODiCKIpKTk5GZmYmqqio0NjZCFEXMzMzA6/UiEAiAZVlotVqUlpZCkiSsrq4iKyvrr8s7Pz+PlZUVSJKEoaEhWCwWuN1ubG1tweVyYXt7G5eXl9jY2IDdbgcRwefzQavVorOzE21tbfj27Rv0ej0uLy+Rlpb26zs9OzvD09MTFEWBzWaDw+HA6ekpBEFAT08POjs7MTk5iY2NDXg8nujdlpSUYHh4GCaTCYmJieA4DsXFxeA47tdQlmWjgfb39xEKhWC1WlFRUQGDwYDt7W34/X4oihLjFw6HIUlSTGY8z78DAkDC6Ojo6J83NBoNjo6O4PF4IMsygsEgNBoN3G43lpaWsLy8jJOTEwCA0WiETqeDKIrRVV5ejuzsbFVYXKggCMjPz8fFxQW8Xi+CwSDcbjfsdjsODw8RCoUgCAKam5sxMDCA2tpavL6+4vT0FF6vFzzPw2w2q5b1D70rb0JCAiwWC2RZxs7ODiRJQiQSAfCj9AUFBdDpdCgtLUVZWRlCoRCysrIQiUSwubmJhYUF6PV69Pf3x09VrU+JiN7e3uj+/p68Xm/M8vv9pChKjO3LywtNTU1RRkYG8TxPDQ0NdH19HS80xYV+VIeHh9Te3k4AKC8vjyYmJuLaftnbazKZ0NfXB57nIYoilpeXEQwGVW2/DJqSkgKj0Qij0Yi3tzecn5/j4eHh89BwOAyfzwe/3w9SGTgyMzNhNpuhKAqen5/jZqr6y8STz+fD6uoqUlNTUVdXB51OF3POcRyys7NBRFAUBYFAQDXOhzJ1uVyw2WwYGRnB4uIiJEmKORcEARaLBcCPqrhcrs9Dj4+P8fLygtvbW6ysrGBzcxOPj4/RUkciEciyDIZhon+qqj7SFs/Pz2Sz2ai6upoYhiGDwUBjY2N0c3NDfr+fjo6OyGq1EsuyVFBQQA6HQzXOh/v05OSErFYrpaWlEcMwJAgCdXV10fj4OPX19RHDMMSyLBUVFZHT6fwaKBHR3t4edXd3U0pKCvE8TxzHRWEcx5EgCGS1WqPTxc96Nzn8XTkcDqyvr8PpdMJut2N3dxcajQZ1dXVobW1Fb28vkpKSVH3/MfQz+u/Mvd8BY5ah17UAvhsAAAAASUVORK5CYII=\" y=\"-81.123738\"/>\r\n   </g>\r\n  </g>\r\n  <g id=\"axes_30\">\r\n   <g clip-path=\"url(#p62fb6de674)\">\r\n    <image height=\"29\" id=\"image7a42cde03a\" transform=\"scale(1 -1)translate(0 -29)\" width=\"29\" x=\"313.627119\" xlink:href=\"data:image/png;base64,\r\niVBORw0KGgoAAAANSUhEUgAAAB0AAAAdCAYAAABWk2cPAAAABHNCSVQICAgIfAhkiAAAAj1JREFUSInt1s9LImEcx/H3PDM5IE6RTEKHbpYJSQkiRER56Nxf4KW/xP/Fm5cugecoqBgKAq0gxLHQ6SAIIYnT6LfDsofdw+raTizLfu7f5/V8H55fmogIXxz11eB/9Ifc3t5SLBbJ5/NUKhXe3t4+r8qEeJ4n29vbEolEJJ1OS7lcln6/P6nsl5nYaSKRwDAM3t/faTQaXF1d0el0PtXoRFQpRTwexzRNgiCgXq/TbDYJgmB2dZrlqFarsrm5KZqmiWVZUiwWxXGc8JYXIJlMMj8/D0C/3+fx8RHP82ZudCp0aWmJbDaLbdtomsbDwwMnJyfUarXwUMuyODo6IpfLMTc3x+vrK6enp1xeXiIz3KJToUopMpkM+/v7LC8vA/D09MTFxQWu64aDfocPDg5IpVKICIPBgOvra87OzhiNRuGgAKlUip2dHVZWVlBK0W63cRyH5+fn30L1UqlUmnqGSrG4uEiv18N1XQaDAb7vE4vFyGQyGIYx3UCznLNqtSqFQkEMw5BIJCKHh4fSaDT+7Dn9OblcjkKhgG3bBEFAp9Ph7u5u6vqZUNu22dvbI5vNIiJ4nofjOAyHw/BQgNXVVba2tojFYry8vHB+fk6r1QoXjcfj5PN5NjY2GI/HdLtd7u/vw0VN0ySZTLK+vo5SiuFwSLfbDRcFSKfT7O7uEo1GcV2X4+NjfN8PF9V1HdM00XUd3/dpt9vc3NyEi8K3nby2tsbCwgKWZRGNRifWaDLLM/HJ/J1f0H8G/QBbQPBHs+w4YgAAAABJRU5ErkJggg==\" y=\"-81.123738\"/>\r\n   </g>\r\n  </g>\r\n  <g id=\"axes_31\">\r\n   <g clip-path=\"url(#p2c2a716765)\">\r\n    <image height=\"29\" id=\"image1497ae5284\" transform=\"scale(1 -1)translate(0 -29)\" width=\"29\" x=\"7.2\" xlink:href=\"data:image/png;base64,\r\niVBORw0KGgoAAAANSUhEUgAAAB0AAAAdCAYAAABWk2cPAAAABHNCSVQICAgIfAhkiAAAArBJREFUSInt1r9L61wcx/F3r4JpowRbpSkq0qViHSwddNBFKYpLXRRcRYcOQv4O/wT3TrqKOFnQQREVHARrRVKVIoggtrFNaPq9y0Ue7lN7/VHleeB+xuR7zotz8j1JPCIifHN+fDf4KfT4+JiFhQUURSEcDpNKpdjc3MSyrD8Plg/m4eFBTk5OZG1tTWZmZiQYDIqu67KysiKWZTUc+2G0VquJ67riOI48PT1JJpORqakp8fv9sry83BD+MPp7bNuW/f19mZ6ellAoJKurq1IsFr8WFREpFouyvr4uuq7LwMCAZLPZunVN7V5VVRkZGWF2dpZSqYTrunXrmop6PB4cx+H09LRhXVPRSqVCLpfj4uLi+1DbtikUCpTLZcLhMLqufy3qOA5nZ2dsbGzQ3d2NYRhomla/uFmde3V1JYZhSGdnp0xOTr56XEREWj+7wmq1yvn5Oel0mq2tLfr7+0mlUrS3t7865s2obdscHh6Sz+ep1Wov1y3L4ujoiJ2dHfx+P4uLiySTyYZzvRm9v78nnU6zu7uL/Poauq5LtVoFYHBwkLm5OZLJJG1tbc1BLcvCNE1M0yQajdLT04PjOPh8PiKRCIlEgvHxcRRF+eNcb0YDgQCBQACv18vY2Bjz8/N0dHTg8/kIBoOvd2qd/OvIOI7zsn3/TFdXF9FoFFVVyefztLS0EIvFiEQi7wLht5WWy2X29vbQNA1VVdE0DUVR0DSN1tZWYrEYvb29mKbJ7e3tu6BX0evrawzD4Pn5mVAoRDwep6+vj3g8jqZp3NzcUKlUKBQK3N3dISJ4PJ7PoV6vl9HRUQ4ODjBNk2w2S6lUeulQAEVRmJiYYGho6EMggEfqPMBcLkcmk+Hy8pLt7W0eHx9f7g0PD7O0tEQikWj4Ang3+tX5f/2C/kX/s+hPKR3mQGfgzvMAAAAASUVORK5CYII=\" y=\"-118.399167\"/>\r\n   </g>\r\n  </g>\r\n  <g id=\"axes_32\">\r\n   <g clip-path=\"url(#pad4a64703d)\">\r\n    <image height=\"29\" id=\"imagefe4e1a9fcc\" transform=\"scale(1 -1)translate(0 -29)\" width=\"29\" x=\"41.247458\" xlink:href=\"data:image/png;base64,\r\niVBORw0KGgoAAAANSUhEUgAAAB0AAAAdCAYAAABWk2cPAAAABHNCSVQICAgIfAhkiAAAA7JJREFUSIntlstLcmsUxp+9s5Ty0s1LiFSQqZGUYhA2qUE5KCgrqGjUrEHUH9F/EVlQIEU1sEHDpJpERRe6kBZCEaWgZrmtXV7WN/j4BE/bCs453+B854E92ftZ68d617sWmyEiwm8W+7uB/0P/m1BRvg9utxuBQADpdDpvsNFoRHt7O9Rq9d+H3t3dYXFxEcfHx3h/f88bXFxcDIVCgcLCQrAsC71ej9HRUUgkEpjNZmg0GuFAEpDL5SKNRkMsyxLDMJ8+LMsSy7IkEolIKpVSbW0tGY1GGhoaooWFBQqFQh/yM0LLwWq14uzsDKlUCgAgk8lQVVWFhoYGqFQqsCyLWCyGo6Mj+Hy+D4UwDAOpVAq1Wo3m5mZMT0/DYDB8frwi0c/XAwMDcDgcqKyshEwmg1KpRElJCRiGAc/zCAaDCIfDCAQC2NzcBM/zSKVSiEaj8Pv9iMfjiEQiGB4e/hra09MDv9+PcDiMtrY21NXVgWVZsCwLhmGyPoPBgEwmg8fHR3R0dCCZTCKTyeDh4QFerxczMzNIJBJYXV1Ff3//5z31er2k1+uptLSU3G43xeNxIZugMpkMcRxH29vb2Z5rtdocj+CcNjY2QqvVgud5zM7O4uDgADzPC1k/KJlM4vr6Gqurq9lW2e32HI8gNJFIgOd5EBF2dnbg8XgQCoW+BHIch93dXczPz2Nubg4AIBaL4XA4co1CR7S+vk46nS47MmazmTY2Nuj19TXvsabTaTo5OaG+vj7S6XTEMAyJxWLq6uqiw8PDHK/gRYrFYkgkEvg1TYFAACsrKygvL0dTUxMkEgkAgOd5xONxhEIh+Hw+HBwcwOPxZCtsbW3F1NQULBZLTn5BqFKphFwuRywWAxHh5eUFS0tLKCgowNjYGORyOTiOQzAYxNXVFU5PT7G1tYXn52eIRCJUVFTAYrFgcnISnZ2dH/ILQq1WK6qrqxEMBvH29patamVlBRzHQSQS4fb2FpFIBDc3N0gkEhCLxSgrK0NNTQ0cDgcGBwdhs9kEey+4kQBgYmICy8vLiEajyGPJSqFQwGazwW63w2Qyobu7GzKZLH9Avotxfn5OTqeT5HL5pztYIpGQ0+mki4sL4nn+W7OcF0pEdHl5Sb29vWQymUij0ZBcLqeioqIcYEtLC7lcLnp7e/sWkCjPwv+rnp6esLa2hr29Pezv7+P+/h4AUF9fj/HxcYyMjHyVIkffgv7S6+srQqEQOI4D8LOXKpUKYrH434P+U/pzfsz+HOgPliPZXdARTroAAAAASUVORK5CYII=\" y=\"-118.399167\"/>\r\n   </g>\r\n  </g>\r\n  <g id=\"axes_33\">\r\n   <g clip-path=\"url(#pb5eda23803)\">\r\n    <image height=\"29\" id=\"image9b758cfc93\" transform=\"scale(1 -1)translate(0 -29)\" width=\"29\" x=\"75.294915\" xlink:href=\"data:image/png;base64,\r\niVBORw0KGgoAAAANSUhEUgAAAB0AAAAdCAYAAABWk2cPAAAABHNCSVQICAgIfAhkiAAAAzpJREFUSIntlj9LK00Uh3+z2bggiYlxFVcw+AdFjFYbUAwBMURQ0wgi2CmIld/AxloQC7+AWEhIJUisVIwKItgYMUhCjLEzLopJ1GQz63nbt7nX8UVu8XJPP88zZ+acM8OIiPCHQ/rTwr/SX0Y+n8fS0hI0TYPH40FzczPGxsawtbWFXC4nDiLBqNVqtLKyQpqmkSRJJEkSMcZIURTy+Xy0sbFBpmkKsWTRzaVSKVxcXMAwDIyPjyMYDMIwDBwfH+Pm5gaxWAyDg4MIhUJfsoSlpmnCNE1YlgW/34/5+XkwxqCqKq6urpDNZhGPx39W+u9QFAUulwucczDGAAAulwt9fX1C6/+TtFgsolQqIZPJ4PT0FADgcDjQ2dn5s1Kv1wtd15FOp7G/vw/OOV5eXnB+fg632w2/34/+/n4xmGj1cs5pd3eXhoaGSFEUam1tpZaWFpJlmQKBAMXjcarVakIs4T612Wzo6elBW1sbiAiFQgGGYaC9vR2Tk5MYGRmBLIsd3LeGw+fnJyzLAhGBiCDLMnRdx8zMDNxutzBHWPr6+oqjoyOk02lwzgEAjDFomobe3t7v7F28kBKJBKLRKHK5HFRVhdPpxPv7O4rFIgqFAlRVhSSJ5SCc6dnZGbLZLGq1GoaHh7GwsABd13F9fY1oNIr7+3tRlJi0Wq3i4+MDnHM0NDQgFAphcXERU1NTKJVK2NzcxM7ODu7u7n5OWqlU8Pb2BsuyoKoqPB4PmpqaEA6HMT09jXK5jO3tbcRiMViW9TNSl8sFVVWhKAoMw8Dj4yMqlQq6u7sxNzeHcDiMQqGAk5MTpFKpL8XCd9rY2Ij6+nqUy2Ukk0lkMhlwzuHz+TA7O4uOjg5cXl5ifX0dz8/Pv2XZVldXV0WlmUwG+Xwet7e34Jyjq6sLsizD6XTC6/UimUzi6ekJo6Oj0DTtlyzhlhkYGEAkEsHDwwOSySQODg5QrVYhSRJsNhuWl5extraGw8ND2O3238NEZy8RkWmatLe3RxMTE+R0OokxRpIkUTAYpEQiQZ+fn2Sa5pcz+FtPm91uRyQSgcPhgKIoSCQSqKurg67rCAQCYIx9nSUARvT3s/0/k/4Dv5k/WYvYOMsAAAAASUVORK5CYII=\" y=\"-118.399167\"/>\r\n   </g>\r\n  </g>\r\n  <g id=\"axes_34\">\r\n   <g clip-path=\"url(#p3e6944b296)\">\r\n    <image height=\"29\" id=\"image7debe88dd8\" transform=\"scale(1 -1)translate(0 -29)\" width=\"29\" x=\"109.342373\" xlink:href=\"data:image/png;base64,\r\niVBORw0KGgoAAAANSUhEUgAAAB0AAAAdCAYAAABWk2cPAAAABHNCSVQICAgIfAhkiAAAA91JREFUSInt1s9LG2sUxvHvODONNcEaJTUqaJUMBoRCsSJ0UVCDJe4UF251XTfduSku+hfoRneCK0tX7aZaoVWwhVZMxB+lDTFgiEkkGh2riSbjuYvLlZZ7Y42FLi59tsOcD+fMy5lXERHhN6fkd4N/0Iusrq4yNDREQ0MDTqcTl8vFyMgIoVCIfD5/fVUuyePHj8XlcklJSYkoiiKKoojdbhefzyevXr2SfD5/2esFUxA1TVP8fr/Y7XYZGBiQFy9eyMLCggwODorb7Rav1yuTk5Nyfn5eNKoVmsDnz59Jp9NYlkVLSwvt7e1UV1dTWVmJiPDy5Us+fPhAZ2cnHo+nqOkW/Kb7+/skEgnOzs4IBAKYpomu6zQ3N9Pd3U1TUxPv379nfn6+KPBS1Ov1Ul1djaZprKys8O7dO3Z3d9F1naamJmprazk6OuLg4KBotOB46+rq6O3tJZ1OE4vFGBsb4+DggJ6eHhRFwW63k8lk2N7eJpFI4Ha7r4yqo6Ojo//5QFWpr6/HMAy2trb48uULoVCIQCDA8fExx8fHRCIRstksd+7cwev1/nqnAPX19bhcLlRVZXx8nE+fPhGNRgmFQthsNrLZLPv7+8Tj8SuDP0UBbt68id/vx+Fw8Pz5c16/fk0kEkFVVQBM0yQWi/Ht2zccDseV0ILj/T43btzA4/HQ0NBAOBwmEomQy+UQEfL5PJlMBsuyUBQFXdex2+2/jv6T27dvE41G2djYwDTNi26TySRra2tsbW2xs7NDRUUFt27dQlVVFEX5NVRRFFKpFKurq+zs7GAYBm1tbWiaRjKZJBgMsra2RjKZJJ1OoygKTqcTXdevjwKkUik+fvzI7u4u/f39DA8PYxjGRWcnJycsLS3x9u1bUqkUuq7T2Nj4I1zMzrQsS2ZmZuT+/fvi9XplYmJCstmsnJ+fy97enrx580aePn0q9+7dk4qKCiktLZW7d+/K169ff9jRPz293yeXyzE7O0swGKSjowPDMLAsi3g8TmlpKT6fjwcPHvDw4UNmZmYIBALs7e2xsLBAVVUVlZWVQJE/8bOzM05PT7Esi6qqKlwuF+FwmOnpaebm5gAoKyujq6uL8fFxnj17RkdHB1NTU2xubl7UKarTeDyOaZoAZDIZDg8PyeVyrK+vk06n6e/vR9P+Lmmz2Xj06BE+n49gMIjT6bweqmkaNpsNTdNYXl5menqa8vJyAoEAmqaRSqX+tYNVVaW1tfXHQsUepLGxMTEM4+ImYbPZxOfzyeLi4pXrFIWKiMRiMXny5InU1NSI2+2Wvr4+mZ+fL+oGoYj8uWz/z9C/AI4aO/sC39teAAAAAElFTkSuQmCC\" y=\"-118.399167\"/>\r\n   </g>\r\n  </g>\r\n  <g id=\"axes_35\">\r\n   <g clip-path=\"url(#p24f951deb3)\">\r\n    <image height=\"29\" id=\"imageb2c0957bfa\" transform=\"scale(1 -1)translate(0 -29)\" width=\"29\" x=\"143.389831\" xlink:href=\"data:image/png;base64,\r\niVBORw0KGgoAAAANSUhEUgAAAB0AAAAdCAYAAABWk2cPAAAABHNCSVQICAgIfAhkiAAAAdZJREFUSInt1r2K6lAUBeBloiBIDAQDqdLY2EggBlEsNGChjY34DFY2vonvoOATaKFiJ0G0MWIkmmghKASrVCqcTDHMLZ0ZNTLFXc1p9uFjw/nZAc/zPLw51LvB/+jfQNvtNjKZDBqNBtbr9XtQXddh2zbG4zFs234PKkkSOI6DaZoYjUbY7/f+o6IogmEY3G43mKaJ4/HoPypJEorFIgRBwHw+h67ruFwu/qIMw0BVVYiiCMdxoGkaLMvyFwUARVFQKBQQi8VgGAYsywIhxF+U4zioqop4PA7TNDEYDLDdbv1FASCVSkGWZRBCMJ1OsVwuH+r2VyjP81BVFYlEArvdDpqm4XQ6+YsCQDabRT6fh+d5mEwmmM1muF6v/qKCIKBcLiOdTsO2bfR6PaxWq1/BDz34iqKgUqmAZVn0+310u10cDgd/0UgkglKphFqtBoqiYBgGzufzj/cHH0GBz6exWq0iGo1CEAQkk8kf7w08OyMRQkAIAU3T/9bv8vQnTlEUgsEgXNfFZrOB67r+o19ZLBZoNpvodDpwHOd+sfeiDIdDj+d5j2VZr16v3619Wac0TSMcDiMQCHx7Z1+GyrKMVquFXC6HUCh0t/bp0/tI/u4I+up8ACgOHLFfn4jiAAAAAElFTkSuQmCC\" y=\"-118.399167\"/>\r\n   </g>\r\n  </g>\r\n  <g id=\"axes_36\">\r\n   <g clip-path=\"url(#p950b87d122)\">\r\n    <image height=\"29\" id=\"image7a531e0df1\" transform=\"scale(1 -1)translate(0 -29)\" width=\"29\" x=\"177.437288\" xlink:href=\"data:image/png;base64,\r\niVBORw0KGgoAAAANSUhEUgAAAB0AAAAdCAYAAABWk2cPAAAABHNCSVQICAgIfAhkiAAAA4VJREFUSIntls1LalsYxh8/2lvNSvpgp4VSGEWQGEVNonJW2Kj/oT+ggqBZg4imBfUHNHLWQIiMIOkDQYoEpazETMTwC7ehOz92+72Te6LLuR31dO7hXrjPcO13PT/Ws9Z695IREeE3S/67gXVBPR4PpqamMDg4iN3dXWQymX8eKggCZDIZwuEwVldXsb6+jmg0+lNQxdra2lothUajEZlMBsFgEMlkEtlsFizLwmw2o7GxsT4q1aFCoUA7Ozs0MDBASqWSOI6jpaUlSqVS9dhQXVAionw+T1tbW9TX10dyuZxMJhNtbGyQKIo1e9Qc7zcxDIPe3l5otVpEo1E8Pj4ikUiAYRgMDQ1BoVD82ni/SZIkenp6os3NTTKbzcSyLNlsNjo7O6tpvrKW1fl8PqTTabS0tKBUKkGSJBiNRtjtdsTjcezt7cHn88HhcGBiYqKqX1Xo8/Mztre34ff7oVQq8fb2BiJCU1MTlEolUqkUWJYFz/OIRCIQBAEajeZr8a6srBDHcSSTyUgmkxEA0ul0xHEcqdVqYhiGVCoVyeVyslqtdHx8XDXeHzYHURThdruRSqXex8xmM2w2G8bHx8FxHMrlMorFIogI6XQal5eXX4v35uYGuVwOkiS9j72+viIWi6FSqSCfz39MDNlsFl6v92tQl8sFnucBAP39/e97lc/n0dDQAIvFAoPBgI6ODiSTSRwdHcHv9+P09BSTk5P1Q4vFIk5OTpDL5QAAer0eMzMzMBqNKJfLUCgU0Ov16O7uRmdnJ+7v78HzPDweD5xO589BC4UCIpEISqUSACAUCoHjONjtdjQ3N39X39PTg+npaZyfn1f9A316kFiWhdVqfW/msVgMBwcHuL6+hiAIf1vf2toKURSRy+VQqVTqh2q1WiwvL2N4eBgqlQoAcHh4iP39fYTDYYii+Jd6nudxd3cHSZIgiuJ33z/qhwdpZGQECwsL0Gg0CIfDSCQS8Hq96OrqwsvLC0wmE1iWRalUQigUQiQSQVtbG2ZnZ6FWqz/1lRFVfyMFAgEEAgE4HA54PB4UCoX3+2owGBCPx/Hw8ICrqytYLBY4nU4wDPO5YU0d+k9dXFzQ4uIiWa1Wam9vJ5VKRQBILpdTc3MzjY2NkcPhqOpT00o/ShAEBINBuN1uuFwu3N7eQqfTYXR0FPPz85ibm6vqUTf0V+jf/QT9H/qfgf4BLaUx2fuE63YAAAAASUVORK5CYII=\" y=\"-118.399167\"/>\r\n   </g>\r\n  </g>\r\n  <g id=\"axes_37\">\r\n   <g clip-path=\"url(#p784e2c5770)\">\r\n    <image height=\"29\" id=\"image9b2f896e3b\" transform=\"scale(1 -1)translate(0 -29)\" width=\"29\" x=\"211.484746\" xlink:href=\"data:image/png;base64,\r\niVBORw0KGgoAAAANSUhEUgAAAB0AAAAdCAYAAABWk2cPAAAABHNCSVQICAgIfAhkiAAAAxVJREFUSIntlj9LI10Uxp/EmRhidGZi/pgx4GAKUVRsrHSCohBUJKTRL6B1mhR+AbGwsBQRrCxslKCFjahYpIiNIEGd4FiZxIBBMoNjJiRnu4Ul0XVlY/G++5T3Hu7vnPOce7kWIiJ8s6zfDWwqlIiQy+UwOTmJWCxWt9kU1Wo1UlWVrFYrdXR0/LLX9PYSEURR/GWtqe19e3uDzWbDxMTE90A1TcP29jYYhsHU1FRdRn9dhmHQ8fExud1u4nmerq6umutppVKBqqo4PDxEuVxGLBZDX1/f5ys9OTmhg4MDymazVK1Wf1thuVymZDJJ4XCYAoEAybJM2Wy2Lu5dqK7rFIlEaGhoiNbW1ujx8fFDYKlUoqOjIwqHw9Td3U3xeJxSqVTD2IZQXddpdXWVPB4PAaCRkRHa2tqip6enuthKpUKKotD6+jqNjY3R4OAgrays0MPDw7sJMo18KRQK2Nvbw/PzMziOg6qq2N3dBcuyGB8fR3t7OwBAVVWcn5/j8vISmUwGgiAgHo9DlmVIkvSu7xai+gc/kUhgeXkZoigiGo3i7OwMNzc3kCQJvb29cDgcAIBcLof7+3twHAdZljE9PY1QKASn0/nhsDWs9PT0FIZhYGlpCQsLCxgYGMDm5ibS6TQURYHf74fP54PX68Xi4iKGh4cxOjqKnp4eWCyWD4HvQovFIqrVKoLBIDiOw9zcHFiWxd3dHUzTRCAQgCiKEEURkiTB6XTCav387WsI9fv9YBgG+/v76OzsRH9/P+bn5xGNRj998B9DRVEEz/NIJBIwTfNn6wRBAMuysNvtEAQBDocDFosFNpsNra2tAAC73f5baMNBur6+xs7ODpLJJIrFIvL5PNxuN7q6usAwDFwuF4LBILxeL1paWsDzPFwuFzweD0Kh0NegAGAYBlKpFBRFwcXFBQqFAjRNg6ZpME0TpVIJr6+vqNVqYBgGPp8PMzMz2NjY+Dq0kfL5PDKZDF5eXpBOp3F7ewtN06DrOiRJwuzsLCKRyN+FNpJhGDAMA21tbT99bTr0K/pv/Qb/Qf9f0B/0ler4M1DBVgAAAABJRU5ErkJggg==\" y=\"-118.399167\"/>\r\n   </g>\r\n  </g>\r\n  <g id=\"axes_38\">\r\n   <g clip-path=\"url(#p26a7055de2)\">\r\n    <image height=\"29\" id=\"imagec60ad28944\" transform=\"scale(1 -1)translate(0 -29)\" width=\"29\" x=\"245.532203\" xlink:href=\"data:image/png;base64,\r\niVBORw0KGgoAAAANSUhEUgAAAB0AAAAdCAYAAABWk2cPAAAABHNCSVQICAgIfAhkiAAAAzJJREFUSIntlsFLYl8Ux79XH9bDlz0e1quFlJXZJnIjBEaLMF1EYdLGXf+A26Rd29oUbdwGtS8KbNeqFulSIhAjwyReqfigJ2TPziyG4vdDZ+baDMMMzIG7uud+P/fcc8+5lxER4Teb5XcDO4Jub2/D4/HA7XYjkUjg+vr681TisM3NTRoaGiLGGDHGaHBwkLa2tkjXdZ7lLcYFXVpaoq6uLgJAAEgQBJJlmcLhMO3s7FAmk/n10PX1dRoYGPiAvg+bzUYOh4OWl5fp6uqKG8qV07m5ObhcLlgs/3e3Wq0YGRmBz+eDKIq/Nqf1ep0ODw9penqaBEH4iHRycpKSySRVKhV6fX3ljlTg2Zgoipifn0e1WoVhGMhmswAAp9OJ8fFxKIrCHyUA68bGxgaPo81mQ39/P+x2O0qlEjRNQ71ex/39PUzTxNjYGGw2Gx+V+0yIyDRNKhQKtLu7Sz6fjxhjJEkSLSws0MXFBbcOd3MolUrI5XLQdR2jo6OYmJhAd3c3np+fkU6ncXBwgGKxyKXFldOjoyOkUilomoa3tzeYponb21s0m00AQLlcxuXlJbLZLJxO549vMs9xrK6ukizLLXX636EoCkUiEUomk3R3d/ddPa5In56eUK/Xv+tTrVZxenqKfD4PXdcRiUTg9Xrb+nb8ygiCAK/Xi1AoBL/fD1mWP+ZeXl6Qy+Wwt7eH/f39b2t0Cn2v2Wg0Ck3TcHZ2hkwmg0KhgFqthkajgXw+j5OTE8Tjcaiq2qLBFanH40FfXx8E4eseGWNQFAXhcBiJRAJra2sIBoOw2+0AANM08fj4iFQq1VaPqzmoqopms4lSqYRyuQxN01CtVsEYg91uhyiKqNVqyGazMAzjA9xoNBCLxVoFeQta0zSKx+OkqipZLBYCQC6Xi0KhEM3MzLTcbofDQbFYrK1WRx0pnU5TNBolSZLalg1jjERRpOHhYVpcXKSbm5vPl8y7+f1+zM7Oolgs4uHhAbquwzAMWK1WSJKE3t5eTE1NYWVlBYFAAG63u60OI+r8N1ipVJBOp3F8fIzz83P09PQgHA4jEAggGAz+cP2noD9rf/YX9B/0r4F+AVpPvBi2Q09ZAAAAAElFTkSuQmCC\" y=\"-118.399167\"/>\r\n   </g>\r\n  </g>\r\n  <g id=\"axes_39\">\r\n   <g clip-path=\"url(#pedcd28a900)\">\r\n    <image height=\"29\" id=\"imagecb429db0c2\" transform=\"scale(1 -1)translate(0 -29)\" width=\"29\" x=\"279.579661\" xlink:href=\"data:image/png;base64,\r\niVBORw0KGgoAAAANSUhEUgAAAB0AAAAdCAYAAABWk2cPAAAABHNCSVQICAgIfAhkiAAAA0dJREFUSInlls9LKl0Yx7/aDE5lQsKYQYZYirVK6JfWpk0tgqhFizZtM5hFSBs3EXfdrj8gbGO0CYIgiH4QhqHRRggTFCoSg8BqkeKI33fzvvKGmnPhcu/ifuHAcOZ7ng/n4TzPOTqSxG+W/ncD/y6ooNW4v7+PTCaDVCqF6+tr9PX1wW634/PzEz6fD16vF4ODg9qCsYlCoRA9Hg9NJhPb29spSRJ1Oh1FUaQkSZQkiR0dHTSbzRweHubu7m6zkPwWura2RpvNRr1eTwBNh16vZ2dnJ8fHx3l7e9swbsP0BgIBhMNhvLy8VOdmZmbQ399f402lUjg5OUGlUkE+n0cmk0EsFoPH49Ge3lAoxJ6eHgKg2+3m5uYmT09PmU6nmc1ma0Y8HmcwGKTL5SIACoJAh8PB9fV17eldXl6mJEkEwL29PeZyOaqq2jBdpVKJ2WyWFxcXDAQC1XQ7nc66/rol8/7+Dv7bqFwuF7q6uiAIjQ+6KIro7u7GxMQEZmdnq/MfHx91/b+0TgVBgNvtht/vBwAUi0UcHh5qgzocjm939p1kWcbS0hIAoFwu4+7uThvUarWipaUFABCNRvH29qYZKooiLBYLAKBUKuHs7Ewb1OfzwWAwAAB2dnYQj8dRKBQ0g/+TqqqIxWLaoJOTk/B6vZAkCTc3N7i8vEQ+n9cMEwQBVqu14f+GB2lxcREmkwkAcH5+jkgkojnNbW1tGBkZ+Xno2NgYpqamYDQacXV1he3tbSSTSU1QkiiXy9Xv19fXGkND3d/f0+12V4s9GAwymUyyUCg0XFMsFnl8fFxd09vby0Qi0bwj/V9DQ0NfmrqiKEyn0zU+VVX5/PzMg4MDLiwsEAAlSaLf76/xNi1GWZYhiiJUVQUAJBIJRCIRVCoVGI1GAEChUMDDwwOOjo6wtbX1Ze3Kykrd/H+rcDjMgYEB6nS6LzseHR2loihUFIXT09M115zZbKaiKHVjNoWS5MbGBm02Ww243hAEgXa7naurqw3jaYKS5I8fP+h0Omk0Gtna2kpJkiiKIg0GA00mE2VZpizLTS9wktSR2t+9yWQS0WgUuVwOj4+PeHp6gsViwfz8PObm5rSGwU9Bf5X+nnfvH4H+A4O8qT3P31klAAAAAElFTkSuQmCC\" y=\"-118.399167\"/>\r\n   </g>\r\n  </g>\r\n  <g id=\"axes_40\">\r\n   <g clip-path=\"url(#p9fd290c74a)\">\r\n    <image height=\"29\" id=\"imagefa14db41f5\" transform=\"scale(1 -1)translate(0 -29)\" width=\"29\" x=\"313.627119\" xlink:href=\"data:image/png;base64,\r\niVBORw0KGgoAAAANSUhEUgAAAB0AAAAdCAYAAABWk2cPAAAABHNCSVQICAgIfAhkiAAAAnJJREFUSIntls9LKlEUx78jM46CogQiiGhtUiEsDFRcOYtBbNMmKLCtf0CbNi7F/8KM6D9oHTSr1J2Ov0oEaREGIoYGCi7OWzzePO3pzPjqtel94S7mzjnnc8+9554ZhogIXyzDVwP/Q/+5WC2DarWKcrmMy8tLGI1GRCIRhMNhRKNRuN3uv6OShs7Ozsjj8RDLssRxHFksFtrY2KBIJELX19da7kulCpVlmXZ3d4lhGAKwMDiOo729PSoUCp8LTSQSxPP8H8D34Hw+vxaUIVrdHHw+H9rtNgBga2sLh4eHeH5+hiRJ6Pf7AACj0QiXywWv16v4mUwmBINB7O/v4/j4eL0z3d7eVrKyWq20s7NDm5ubZDKZVmYPgAwGAzkcDvL7/XR0dES1Wk3/9iaTSU2A1mBZlpLJ5EJc1Stzfn6O6XSKYrGI6XSqZqpsazgcxunp6cI8yy5iVKHxeByz2QyPj4+4v79Ho9FAt9vFeDxeas/zPAKBANLptOriVAtpXrIs4+HhAU9PT3h7ewMAjEYjlEollEolAD8zFUURNzc36sHWqvV3Gg6HlM1mF84wFApp+n2o99rtdjidzrX9PgSdTCYrz3eZ6vX6x6CTyQSyLKNSqShzLMvCZrMttScixVbzKzO/ytfXV+W51+vh9vYWkiQpc06nEwcHB0v9GYb5fZX0FMxgMCBBEFSbgNlsplQqpasAdWV6d3eHl5eXpe94nofNZkMsFkMmk9ETTv+VOTk5IbvdThzHKf3VarWSKIp0dXVFrVZLbyj13juvZrNJFxcXJAgCORwOCoVClMvlqNPp6Ib9ku6O9Jn6Pn+D3wf6Az5Cm7oZ9I6xAAAAAElFTkSuQmCC\" y=\"-118.399167\"/>\r\n   </g>\r\n  </g>\r\n  <g id=\"axes_41\">\r\n   <g clip-path=\"url(#p980fe2a926)\">\r\n    <image height=\"29\" id=\"imaged8af25003e\" transform=\"scale(1 -1)translate(0 -29)\" width=\"29\" x=\"7.2\" xlink:href=\"data:image/png;base64,\r\niVBORw0KGgoAAAANSUhEUgAAAB0AAAAdCAYAAABWk2cPAAAABHNCSVQICAgIfAhkiAAABBZJREFUSIntlklLI10Uht9KyqRCBotYJYlDVBCzEAQHxCGCYEAQRAVFwYXDwuhGf4Abt6I/wJWShUtdKioGJ0iUmKhRMa4cImgUNQ4VY0xOL/r7Fh9tNG03TS++F+6q4Hm495x76jJERPjDkf1p4d8njUQiCAQC6O3thdFohNlsRnd3N6amprC/vw9Jkr5upQRxOp1UWFhIHMeRTCYjlmWJ4zjSaDSUmZlJ7e3tZLfbyefz0ePjYyLMu2ESNVIoFEJLSws8Hg8GBwdRWVkJt9uNpaUlHBwcQJIkcBwHo9GI5uZmdHd3o6Cg4Nd2Go/HyW63U05ODlVUVJDD4aDb21s6Pj6m8fFxKi8vJ41GQykpKcTzPNXW1tLMzExSO00oJSJ6eHig/v5+MhqNVFJSQgsLC/Ty8kL39/d0cnJC8/Pz1NfXRyaTidRqNVmtVtrc3PxUKh8ZGRlJdApKpRImkwmBQAB7e3vw+/0QRRH5+fkQRRFZWVnIy8tDOByG1+vF5eUlLi4uUF1dDZ1Ol/B0P5QCgF6vR0ZGBvx+P7xeLzweD25ubmAwGGA0GqHX68HzPILBIPb395GSkoLGxkaIovh1qVwuR3p6OrKzs3F6eoq9vT2cn58jFovBYDDg6ekJDocDOzs7iEaj6OzsRH19PZRKZUIm+5Hw33AcB4vFglgsBoZh4HK5MD09jePjY6hUKmxubuLp6Qnl5eXo6uqCVqv9GJhUu/0TSZJodHSUcnNziWEYUqvVlJqaSoIgUEdHBy0vLyfF+akxqFKpkJaWBpVKBQB4fn5GJBJBUVERenp6UFNTkxQnaenLyws2NjawtraGSCQCk8kEQRAAALFYDJIk4fX1NSlWUjWNRCJwu92YmJiAx+NBVVUVSktLcXl5icXFRezu7sJut0Or1aKuru5zYDI18Pl8ZLPZyGAwUEtLC62vr9Pb2xtdX1/T2NgYiaJIgiDQwMAAhUKh31NTr9eL1dVV3N3dwWKxoKioCHK5HIIgwGKxoKqqCuFwGG63G0dHR5/ykpKy7PcqMAzzwzez2YympiaYTCZcX19ja2vrU96nwwH4fk9XVlZwdnaGaDQKtVoNnU4HhUIBjUYDhUKBs7MzbG9vg2EYlJWV4erqCjc3N+9OpqQaSRAEFBcXIxAIwOVywe/3w2q1oqGhAVlZWbi4uIAkSQiHw3A6nRgeHkYwGATP85idnf0RmNRtJqJgMEiTk5NksVgoNTWVFAoFMQxDDMOQTCb7z2JZlvR6PQ0MDLzL+qmJFI/HaW5ujmw2G5WVlZEoiqTT6Uir1RLHccQwDLEsS6IoUltbGwWDwXc5CV8OHyUajSIUCsHlcsHlcuHx8RE+nw+Hh4fgeR6tra0YGhpK+Kf5kvRX83c9Qf+X/o58A2QaotHRBJ7iAAAAAElFTkSuQmCC\" y=\"-155.674596\"/>\r\n   </g>\r\n  </g>\r\n  <g id=\"axes_42\">\r\n   <g clip-path=\"url(#p6231315e51)\">\r\n    <image height=\"29\" id=\"image5886c5712e\" transform=\"scale(1 -1)translate(0 -29)\" width=\"29\" x=\"41.247458\" xlink:href=\"data:image/png;base64,\r\niVBORw0KGgoAAAANSUhEUgAAAB0AAAAdCAYAAABWk2cPAAAABHNCSVQICAgIfAhkiAAAAmZJREFUSInt1U1LKlEcx/Fv45STo0wgjBAkBwqlTTBSziLokV6Fb6JX0xtoH1KLFhktXIhBgdiAY2EPxhAlEjmNPdHc3eVGXcli7ub22/7OOR8OfzgHv49sbGz4mUzGz+VyfqVS6Wfrm0j0kXa7jed5WJZFvV7vZ+ub9IUODg4iyzKNRoOLi4t/g87MzCCEoNPpYFkWp6enwaPpdJpsNksikcDzPFzXDR6VJAnDMBgfH+fg4IByuRw8CjA/P49pmtzc3FAoFDg6OgoejcViTE9PI4Rgb2+PfD4fPAowOztLJpOh1WpRrVY5Pz8PHh0dHcU0TZLJJI7jcHx8HDwqyzILCwssLS1Rr9fZ2dnB87xgUQAhBMvLyyQSCcrlMoeHh8GjQ0NDZLNZ5ubmsG2bra0tut3u99Fms8n6+jq2bfP8/PyuHxsbwzRNFEVhf3//07PtiVYqFdbW1iiVStzf37/rw+EwhmGwuLjI2dkZ29vbvL6+fg+9vr6m2WxSq9X++uRNTEywsrICwO7u7qc+gk/NtN1u8/j4+GGnKAqTk5MYhoFt22xubn44ij8j9ypjsRihUIjLy0uq1Sp3d3e/O9/3cV2Xl5cXXNclEolwdXVFPp8nl8sRj8e/hqZSKVRVpVQq4bouIyMjb1DHceh2u6iqSq1W4+npiVarxcPDw9dvKoRgamoKx3EoFosoioKiKMiyTDgcZnh4mFAoRKfTQdd1IpEImqYhyz2P7Y1qmsbq6iqSJHFycoKu6ySTSVRVRdd1hBBEo1EAbm9vsSyLaDSKpmk90QHf9/2eKwLIl1+kH/QH/T/RX+mGWQ26AfXrAAAAAElFTkSuQmCC\" y=\"-155.674596\"/>\r\n   </g>\r\n  </g>\r\n  <g id=\"axes_43\">\r\n   <g clip-path=\"url(#pc7f96ae059)\">\r\n    <image height=\"29\" id=\"image0a51effe49\" transform=\"scale(1 -1)translate(0 -29)\" width=\"29\" x=\"75.294915\" xlink:href=\"data:image/png;base64,\r\niVBORw0KGgoAAAANSUhEUgAAAB0AAAAdCAYAAABWk2cPAAAABHNCSVQICAgIfAhkiAAAA7hJREFUSIntls0rrG8Yx7/P/B7PYJ45jLdJiDSYmsUwC5QhEUVKRspmvKUslLKQlyyUrYV/QTYWbEkpTAqNJC8ZY2IxaiYMMjMMo/mexek3Hec3Xs6v09mc86m7nrrv6/r2ve77unoEksRvRvG7Bf+K/hX9ZYj/NzASicDj8eDw8BB2ux2np6coLi5GTU0NjEbju7FCrD71+XyYn5/HyckJzGYzamtrkZSUFN0PBoOw2WyYnZ3F9vY2AoEAHh8fIcsyCgoK0N7eDovFAq1WG1uVMZienqZer2daWhqLiopotVo5MzNDj8dDh8PByclJlpaWMjMzkzk5OdRqtQRAQRAYHx/P3Nxc1tXVcWFhgQ8PD//JH9NpSUkJjo6O8PLyAgBQq9XIyspCYWEhQqEQHA4Hvnz5gubmZlRUVCAcDsPlcmF5eRmrq6t4fn5GXFwcDAYD2traMDY29rHTrq4uyrJMQRAoCELUhVKppCRJlGWZ/f39dLlcfHl5YTgcps/no81m4+joKI1GIyVJoiiKLCoq4tzc3Kv8MUX39vbY29tLvV5PpVJJAK+WJEkcHBzk5eXlq7hwOEy3283Z2Vnm5+cTAJVKJRsaGl6di/l6jUYjBgYGUF9fD4fDAUmSEIlEsLe3B5vNBq/Xi/X1dZhMJrS2tiIhIQEAIIoiUlJSoFar8fDwAACQJAlms/nj8n7P/f09w+Ewn56euLOzw87OTmo0GsbFxdFqtdLpdL467/V6OTQ0RFmWWVZWxuHhYXo8no+dfo9arY5+m0wmNDU1weFwwG634+DgAHa7HTqdDoIgAPjWvwkJCejt7UVlZSWqqqqQlpb2c05/5Pz8nCMjI8zOzqYsy+zp6aHb7Y7u+/1+bm5u0ufzvZnjn4mJiYm3XEYiEWxtbcHpdCIUCiExMREZGRlIT0/H1dUVnE4nAoEAtFot9Ho9RFGEJEnIzs6O3nNM3nP1+PjIlpYWGgwGdnR0cGVlhYFAgCS5tLTEqqoqqlQqdnd38+bm5tPVevdO+a2lcHZ2hpOTE9zd3eH29hbFxcUQRRGpqalQKBRQqVTQaDQfPY8o74pKkgSdToeNjQ1cX19jcXERdrsd5eXl8Pv92N3dhclkQmNj46cF/3XzLqurq6yurqZaraZCoYgOCIVCwYKCAk5NTTEYDH66tOQbE+lHjo+P2dfXR51Ox+TkZKpUKubl5XF8fJwXFxc/JUi+MfBjEQqF4HK5sLa2hv39fVRUVMBisbzq48/yadFfyZ/zj/TniH4FCm6f0kus+YIAAAAASUVORK5CYII=\" y=\"-155.674596\"/>\r\n   </g>\r\n  </g>\r\n  <g id=\"axes_44\">\r\n   <g clip-path=\"url(#pb7abdc0eee)\">\r\n    <image height=\"29\" id=\"image2db510885f\" transform=\"scale(1 -1)translate(0 -29)\" width=\"29\" x=\"109.342373\" xlink:href=\"data:image/png;base64,\r\niVBORw0KGgoAAAANSUhEUgAAAB0AAAAdCAYAAABWk2cPAAAABHNCSVQICAgIfAhkiAAAAo5JREFUSInt1k9LKlEYx/HvueQ0Sn8WYzo6hFGELVqIEUEr7SVEKyt6Ub2AhGoRhNDCTbWwiDZZOxctLKx0okjG0WAiZqaVQZBlJnIv3N/2PDwfzpnnMEe4ruvS4/zpNdgVtF6vs76+ztzcHLlcrjcogOM49Pf3EwqFeoc2I4ToHeq6Lj+Zx66gQoi2d9k1FKDRaHB7e9tWbV+niOM4AHi9XlRVxefz8fT01H305OSE09NTyuUypmni9XqZn58HIBAIYNt2d1Dbtjk4OCCbzVIsFvH7/UxOTjIxMcHDwwPZbJZyuYwQAsMwfo9alkU6nWZ/f59AIMDS0hJTU1OEQiF8Ph/1ep3j42M2NjYolUrc3Nz8Ht3e3iaTyRCLxVhcXGR6epqBgYH39WAwiGVZHB0dcXZ2xuXlZVtoy+mtVqtsbW0RjUZJpVLE4/EPYDOKohCJRHh5eUHXde7v7ztH7+7uuL6+ZmFhgWg0iiRJn9YNDw+jaRqSJGFZFrqud47WajUcx0FRFDweT8sGkiQRDAYJh8N4PJ4va5tp+U1lWUYI8X4fWzbo62NoaIhIJML4+Diqqn6LttxpOBxGURSKxSLPz88tG9i2TbVaxXEcEokEfr+/c1TTNJLJJHt7exQKBV5fXz+tMwyDq6srTNP8dNB+hAIsLy/z+PjI7u4u+Xwe0zQ//E0ajQYXFxecn58zMjLC2NhYW+iX9zQej5NIJMhkMhQKBVKpFDMzMwwODuK6Lvl8ns3NTSqVCmtra8RisbZQ8d3DrFarkU6n2dnZQdd1NE1jdHQU27YplUrIsszq6iorKyvIstwdtJlKpUIul+Pw8BDDMFBVldnZWZLJZNvH+mO0m/k3n6D/0b8OfQO8LgZiMeEYzgAAAABJRU5ErkJggg==\" y=\"-155.674596\"/>\r\n   </g>\r\n  </g>\r\n  <g id=\"axes_45\">\r\n   <g clip-path=\"url(#pef65fec35e)\">\r\n    <image height=\"29\" id=\"image6d7ede72e7\" transform=\"scale(1 -1)translate(0 -29)\" width=\"29\" x=\"143.389831\" xlink:href=\"data:image/png;base64,\r\niVBORw0KGgoAAAANSUhEUgAAAB0AAAAdCAYAAABWk2cPAAAABHNCSVQICAgIfAhkiAAAA0RJREFUSInllk9LKmEUxp/JMUuTnNIUbFHSH4NCs4FAyE1CEAiuImgRSF+gb9BHCFxLSIs2LSopWrgIWgnBFFSKZYaKGTVF1tCkk+cu4t5Nl9Fu0V10YFbvw/N7OXOew8sQEeGbq+m7gT8LyjYikmUZm5ubWF9fRz6fh91uh9frxdjYGJxOJ2w228eopFKVSoUikQi53W4ymUzkcDiop6eHTCYTGY1GslqtFAwGKR6Pq9m8K1VoOp0mnudpcHCQwuEwpVIpKhQKJAgCra2tUSgUot7eXvL5fBSLxahWq30eurGxQU6nk6LRKImiSK+vr0REpCgKSZJE+XyewuEwOZ1OmpiYoFgs1hBUdZBeXl6g1WrhcDjAcRyamt7kGo0Ger0edrsdMzMzWFhYwMXFBaLRKC4vL+v+UlWo1WqFVqsFy7JgGObdOcMwsFgsmJ6eRiAQwNHREba2tupCVdt7e3tLq6urVCwWVdslyzLt7+/T7OwsBQIBKpfL/97ejo4OBAIBWCwW1YvrdDr09/djZGQEZ2dnODw8VNWr5pRhGLS3t6sa/K7m5maYTCbIsozr62tV7ZdtpJaWFnR1dUGn09XVfhmUiFCtVlGr1b4PWi6XkclkwLIs7Ha7qrbu7iUiHB8f4+npCX19fTCbze/i8/j4CEEQcHp6Cp/Ph+Hh4c9BK5UKVlZWkEwmMTk5Ca/Xi+7ubhgMBkiShJubGySTSezs7OD5+RmLi4swGo2fg9ZqNZRKJaRSKdzf3+Pg4AAOhwNmsxmlUgnpdBqiKKKzsxNzc3Pgeb6eZX1oa2sreJ5HW1sbPB4PstksEokEJEkC8JZlv9+PqakpeDyev26uD0MBQFEUiKKIgYEBzM/PQ1EUKIoC4C2fer0eABqaXKDB6R0aGkIul0M8HkexWIRerwfHceA4DgaDAQzDQJIkZLNZPDw81PXTLC0tLdUTabVaCIKAvb09KIoCjuOg0WhQrVb/fCcnJ4hEIri7u8Po6KiqH0PU2BM0k8lgeXkZu7u7f+Ljcrlgs9nAsixyuRwKhQJCoRCCweDXQIG3zBaLRWxvbyORSOD8/BxXV1dwuVzw+/0YHx+H2+2u6/Mh6FfVz3n3/hfoL+DwjqOJuNIiAAAAAElFTkSuQmCC\" y=\"-155.674596\"/>\r\n   </g>\r\n  </g>\r\n  <g id=\"axes_46\">\r\n   <g clip-path=\"url(#pabae33c476)\">\r\n    <image height=\"29\" id=\"imagecf97401396\" transform=\"scale(1 -1)translate(0 -29)\" width=\"29\" x=\"177.437288\" xlink:href=\"data:image/png;base64,\r\niVBORw0KGgoAAAANSUhEUgAAAB0AAAAdCAYAAABWk2cPAAAABHNCSVQICAgIfAhkiAAAAtdJREFUSInt1s1LYm8UwPGv4xRkryKRy8hWFYggpm1KI3DhImjbptb+AS3btmvR1m0mBYFhiFJEQkhdAsFKhCDoxUIkrpLh2z2zGPjxG8ZptGiYxRy4m/ucez7POYvnuToREf5wfGklye/3Y7FY2NjY4Pn5+c+gbreb3t5e1tbWiMViaJr2MVVaiHq9LrFYTBwOhzidTolEItJoNFr5tGm01Kler8dqtTI+Pk4mk2F3d5dsNvu5nYqIaJomV1dX4vP5pK+vT1ZWVuTp6eldnbaMinwfcyQSkZmZGbHZbBIIBKRUKrWNtjTe/4/Z7Xbjcrm4u7tjb2+PdDrd9nTbQgG6urpYWlpifn6edDrN0dER1Wr1c1GAkZERvF4vZrOZ7e1tgsFgW/C7UL1ez/T0NAsLC5TLZUKhEKenp5+LAphMJjweD1NTU9zc3HByctLyofFuFGB0dBSfz4fZbCYajXJ4ePhxNJfLoSgKpVKp6brBYMDlcuH1erm/vycUCrV0Nr+JRqNR1tfXicfjqKraNGdoaAiPx8PY2BiJRIJwOPwx9OzsjEgkQjAY5OHhoWmOTqdjeHgYj8eDqqpsbW1RLBbfj1qtVgYHB1EUhf39fS4vLymXyz/lDQwMMDk5id1uJ5vNkkwm30T1q6urq79atFgsPD4+cnFxgaIo5HI5uru70TSNQqHw31MsFuno6AAgHo9TqVSYm5ujs7Ozad2vb+3IaDSyvLxMtVplZ2eHzc1NCoUCNpsNEaFWq1Gv19HpdBiNRlRVpVarcXx8TDKZZHZ2tn0UYGJiAr/fT6FQ4Pr6GpPJhMFgQNM0qtUqlUqFfD7P+fk5t7e3lMtl6vU6gUAAu91Of3//z0VbvRlSqZRkMhl5eXn54X2j0ZDX11fJ5/MSDofF4XBIT0+PmM1mOTg4aFqrravtd1Gr1SSVSsni4qI4nU5JJBJN83Qif+nf4D/0H/pXot8ABW4S7fxl46oAAAAASUVORK5CYII=\" y=\"-155.674596\"/>\r\n   </g>\r\n  </g>\r\n  <g id=\"axes_47\">\r\n   <g clip-path=\"url(#pe0c98f579b)\">\r\n    <image height=\"29\" id=\"image5b7b5f6867\" transform=\"scale(1 -1)translate(0 -29)\" width=\"29\" x=\"211.484746\" xlink:href=\"data:image/png;base64,\r\niVBORw0KGgoAAAANSUhEUgAAAB0AAAAdCAYAAABWk2cPAAAABHNCSVQICAgIfAhkiAAAAnVJREFUSInt1j1LIwEQxvF/Nm4S0SKFyqqFwUJcMb6wWohaWmilCJYWgjbW1uYD+AWUFIIgdgELEZsQQVlR1pCFFOILGkSDEYuAiW87V1lv9o6VO7innpkfDFNMQESEH47y06BnNJfLsbCwQDKZ5P393X/04+OD7e1t9vb2yOfzPD09+Y+qqsro6CixWIyzszNyuZz/KMDY2Bg9PT1ks1nS6TTPz8/+o+VymdfXV6rVKm9vb/zu4XtCW1tbMQyDtrY2LMvCNE3/UVVVmZiYoL+/n8vLS2zbplqt+osCdHZ2Mjw8TDgc5vT0lHw+7z/a2NjI1NQUhmFgmiapVMrzQbmipVKJ9fV1NjY2uLu7Q1EUdF1ncHCQSqWCbdsUi0VPaJ1bwfHxMZubm7y8vFAoFJibm6OrqwvDMIjH41xdXXFyckJ3dzeKUtviXKtaWloIh8Pc3t6ytbXF2toamUyGjo4ODMPg/v6eTCbD4+NjTSBAMJFIJNxQx3EAuL6+xrZtCoUC7e3tfH19cXR0RDAYZGBggFgsVhPqut5QKMT09DS6rtPU1MT+/j7pdBrHcYhGoziOw8PDA5ZlMT4+XtuKxUMsy5LV1VXp6+uTSCQioVBIAoGA1NfXy8zMjNzc3NQ0xxMqIlIqlSSZTMrIyIhEIhEBBBBd12VnZ8cf9Du7u7syOTkpmqaJoiiiaZqsrKxIuVz2D/38/JTz83NZXl6W5uZmUVVVhoaG5ODgwD/0O9lsVubn56WhoUGi0agsLS259rher1vi8TiLi4sUi0UuLi7QNM21JyDy599gpVLBNE0ODw+ZnZ2lt7fXf9Rr/v4X9D/6T6C/AIw6xCivkWLOAAAAAElFTkSuQmCC\" y=\"-155.674596\"/>\r\n   </g>\r\n  </g>\r\n  <g id=\"axes_48\">\r\n   <g clip-path=\"url(#p5e99c54f7a)\">\r\n    <image height=\"29\" id=\"image602b8a6bee\" transform=\"scale(1 -1)translate(0 -29)\" width=\"29\" x=\"245.532203\" xlink:href=\"data:image/png;base64,\r\niVBORw0KGgoAAAANSUhEUgAAAB0AAAAdCAYAAABWk2cPAAAABHNCSVQICAgIfAhkiAAAAxFJREFUSIntlk1LqlsUgJ83b4plKvgWKPhGmYOahGFlRUSDGkQDR82DKOof9CNq3jhqFjVTq1E6CAIxqEREKxtIgll+pFK67+DCuYT5cTp0OBfumu5nrYe12WuxJSGE4DdH2+8W/pL05eWFra0t7HY7i4uLHB8ft5z711elmUyGWCxGLBbj6ekJu93O/Px8S7lf7lSn02E2mzEYDFSrVSqVSsu5X5aaTCYmJydxOBw/nftlqSRJDAwMMDw8TD6fJxAIcHBw8L1S+PeKOzo6uL295fT09PulRqMRu92OxWKhVCqRTCZJp9PfK1WpVMiyjNlsplwuk0gkCIfDTfOajkw0GiUSiRAMBnl+fq45F0Kg0WgQQlAsFsnn878m3dnZwefz8fDwQDKZpFgs1jBarfbHuKTTaQ4PD1GpVNhsNvr7+z+tK9XbvZeXl6ytrREKhSiXy/T09NDZ2YkkSTVsuVwmnU7z/v6OLMvYbDZsNhsrKytMT0+33une3h6RSASLxcLo6Cgul4vu7m5UKlUNm0ql8Hq9eL1eUqkUhUKBUChELpdDURR6e3tbk56fn/P6+srExASrq6uMjY2h0+k+7fTx8ZFCoYDX68VgMDA3N0culyMcDtPWVvtW60qHhoYIhUJoNBqsVitdXV31UDQaDXq9HgC9Xs/CwgKKouD3+7FarTV83ZFZXl5GlmXi8TjX19ctvUr4Z1PpdDqmpqbY2Nj4lKkrHR8fx2QycXV1xf7+PvF4nGq12lQqhKBSqaBWq5Fl+eekAE6nE4PBwNnZGRcXF2Sz2YZCSZIolUrEYrGGXEPp5uYmDoeDbDbL0dERgUCARCJBoVD4wLW3t2M0GjGZTGQyGXw+X0Mpoklsb28LRVEEIJxOp1hfXxcej0fkcrkP3M3NjVhaWhJqtVrMzMw0rNl0DbrdboLBIH6/n/v7e+7u7sjn88iyjNPp/MEpioLb7cbj8aDVahvWbCrt6+tjd3eXk5MTotEob29vjIyMMDg4+IFTq9VYrVZmZ2dxuVwNa9Zdg98Z/60v6P/SP1b6N151fA5LoIi8AAAAAElFTkSuQmCC\" y=\"-155.674596\"/>\r\n   </g>\r\n  </g>\r\n  <g id=\"axes_49\">\r\n   <g clip-path=\"url(#p5e0621b9cd)\">\r\n    <image height=\"29\" id=\"imagef89af805f0\" transform=\"scale(1 -1)translate(0 -29)\" width=\"29\" x=\"279.579661\" xlink:href=\"data:image/png;base64,\r\niVBORw0KGgoAAAANSUhEUgAAAB0AAAAdCAYAAABWk2cPAAAABHNCSVQICAgIfAhkiAAAAWtJREFUSInt1ruKwkAYhuE3KiSe8BCUNGlsJClSWWijXouXZeUVeBsWgr1IFAsLQWI8gYrDbLEQLI06gYX9ur/4eJhhZhhNSilJOKmkwb+HHo9HhsMhjuPQbrcZj8evl+WbGY1GstlsylQqJYvFohwMBi93317pZrNhvV4jpeTxeCCEeLn7NiqEiAV9BX2OZVl4nqcWPZ1OnM9npJTouo7ruvR6PbXoZDJhOp0ihMCyLLrdLq7rqkX3+z1hGAJgGAbVapVsNqsODcOQ5XJJEATR7Pt+NCtBgyBgsViw3W4jdD6fs9vt1KHX65XD4cDtdgN+t9c0TXK5nDp0Npvh+340VyoVHMehVqslg2qahm3beJ6Hruvq0Oek02kajQatVitW7+MXKZ/PUy6X1aKlUinWofkKats2pmkmi65Wq+iOJoZeLhfu93uyqGEYZDIZPvlExkb7/T6dTod6vY5pmhQKhdio9v/v/Ue/kR/BEO6QI9WlPwAAAABJRU5ErkJggg==\" y=\"-155.674596\"/>\r\n   </g>\r\n  </g>\r\n  <g id=\"axes_50\">\r\n   <g clip-path=\"url(#p9df06ada8c)\">\r\n    <image height=\"29\" id=\"image68583ff6fe\" transform=\"scale(1 -1)translate(0 -29)\" width=\"29\" x=\"313.627119\" xlink:href=\"data:image/png;base64,\r\niVBORw0KGgoAAAANSUhEUgAAAB0AAAAdCAYAAABWk2cPAAAABHNCSVQICAgIfAhkiAAAA39JREFUSIntlk1IamsUht9M3WoYUmobDcFQIUUFo3AS9uusoMZNGljDJs2aNG4QFERBUJNmTiKIskFssZAoirTaA4vKoMx+zKzU/Fl31uDew1HviQMHzjv8YD/Pt769WKwqIiL85gh+t/DPkWYyGXi9XrhcLsjlcpjNZkxNTeH5+bl8CFUYn89HXV1dJBaLSSAQkFAopMbGRpqYmKBcLlcWo6JKb25usLKyglAohLGxMXAch9HRUTw+PoLjOBwcHJTFEVYi9fv9CIfD+Pz8hFqthtPpRFVVFaLRKPx+PxYWFuB0OktyKqo0m80im82iubkZJpMJIpEIDocDHo8HNpsNPM/j+Pj4e6UymQwMw0AqlUIikXydmc1mOBwOpNPpshqqIqnVaoVWq0UkEsHl5eXXuVgshkwmQzKZxNHR0fdKNRoNtFot8vk8Xl9fUSwWkclkEA6HEQgEUF9fD7vdXpJTUSPJ5XJoNBqIxWIEAgGwLIt0Oo3V1VWcn5+jo6MDra2t3ysViUSwWCxgWRa7u7u4vr5GLpfD3d0d7HY7hoaGUFtb+73Sk5MTBINBPDw8IJFIIJFIwGAwYHh4GL29vXC5XOWBypkgmUyGOI6jkZERMhgMpNPpSKVSkUAgoP7+fuJ5vqKpVrKRCoUCtra2MD09DY7jYLVa4fF44HQ6IRQKEY/HcXZ2hre3t/KfrNStUqkUDQ4OUk1NDbndblpfX6enpyfyer3U3t5OCoWCenp6aGNjgz4+PsqqtOQ/LRQKeHl5QS6Xg06ng16vR11dHfr6+lBdXY2ZmRmcnp5ifn4e+Xwe3d3dkEqlP2WWlEokElitVoTDYaRSKaTTaRARGIaB2+0GEWF2dhY7OzuIx+N4f3+HzWaDXq//mlr/TvXk5OTkT28lFIJhGBweHuL29hYajQZqtRoMw0Amk6GhoQFKpRLJZBKRSAQ+nw8XFxeQy+VQqVQ/rLqkFABYlgXP8wgGg+B5HvF4HFKpFEqlEgqFAkajES0tLWBZFkSEvb097O/vw2KxoKmp6b/Actt8e3ubBgYGiGVZkkgk1NbWRktLS3R/f0/ZbJaIiIrFIsViMVpeXqbFxUW6urr6IauizSEajdLc3Bx1dnaSSqUik8lE4+PjFAqFKsFQFVHlK2gsFsPa2ho2NzdhMBjg8XhgNBrL/v5/SX81f8YK+ldaSf4BzQABaQ677tgAAAAASUVORK5CYII=\" y=\"-155.674596\"/>\r\n   </g>\r\n  </g>\r\n  <g id=\"axes_51\">\r\n   <g clip-path=\"url(#p4ad4a1402e)\">\r\n    <image height=\"29\" id=\"image089584c94e\" transform=\"scale(1 -1)translate(0 -29)\" width=\"29\" x=\"7.2\" xlink:href=\"data:image/png;base64,\r\niVBORw0KGgoAAAANSUhEUgAAAB0AAAAdCAYAAABWk2cPAAAABHNCSVQICAgIfAhkiAAAAypJREFUSIntlk1Lal0Yhq+924pW6k6sjDAdODgUhQ2iUaO+Jw2FoEE/oH5DQj8gKKJJ0bxBg2hQBIFOU/uwgYRWgvZhirkxC1LXGeXL4U1PnRNncs4NGzZ7rWdd61lrPffakhBC8Icl/2ngP+g/6JdJ+Z3gcDiM3+/n27dv9PT0cHx8zPj4OAaDoW6c9JE6LZfLZLNZ9vf3OTg44P7+HoBcLkc6ncZkMqGqKrlcjo6ODmRZRpZl7HY7i4uLWCwWTCbT56CHh4esr68TDAZ5eHjg5eUFACEE5XIZSZKQZRkhBLL8344ZDAZ6e3sZHR1lfn4eVVV5C6ypSCQiNjc3xeTkpFBVVSiK8r9HlmUhSdK7bYqiCJ1OJ1wul/D5fNVx62a6tbXFysoKZ2dnFIvFd/v09/czNTWFXq9Hp9NVv2uaxtraGtlsFkmScDgcxONxoM5Ben5+Jh6PE4vFagIBMpkMl5eXDA4O0t3dTUNDA2azmXQ6zcbGRrVfY2Nj9b0mNJVKEQgEKBQKGAwGPB4PLS0tXFxckEgkKJVKACQSCba3tzk/P8fhcGA0Gunq6kLTNPL5PLIs093dzdzc3M+hj4+PRKNRisUi7e3tTE9P09fXRzgcJhqNcnV1RSQS4ebmhnw+TygUIhQKodPpsFqtCCFQFIXZ2VkGBgbwer0/h+7u7qJpGkIIJiYmGBsbw+1209PTg6ZpXF9fEwwGCQQCHB0dIcsyNpuNoaGh6t5arVZmZmawWq0fKxmn00kymUSWZXZ2dhgZGfnhoLzp5OSEvb09JEmis7MTr9eLXq+vlUv9TD8qj8eDx+P5VExN7+3r68NoNAIQjUbJZDJUKpXfm+GbahmD3+8XTqdTKIoiXC6XWF1dFalUSpRKpXp+8iHVXF5VVVFVlbu7O5LJJMvLy7y+vjI8PIzNZsNsNv9Qe59Rg8/n873XoNfr0TSNeDzO09MT2WyWWCzG6ekpt7e3tLa2Yrfbfwla13vz+bxYWFgQbrdbmEwm0dzcLNra2sTS0pIoFApfv7wAZrMZn8+HxWIhEolQqVSq7tTU1PRrWfLBq+2r9ff8I/090O95uChyg253NAAAAABJRU5ErkJggg==\" y=\"-192.950024\"/>\r\n   </g>\r\n  </g>\r\n  <g id=\"axes_52\">\r\n   <g clip-path=\"url(#p388af73291)\">\r\n    <image height=\"29\" id=\"image5e04c07ca7\" transform=\"scale(1 -1)translate(0 -29)\" width=\"29\" x=\"41.247458\" xlink:href=\"data:image/png;base64,\r\niVBORw0KGgoAAAANSUhEUgAAAB0AAAAdCAYAAABWk2cPAAAABHNCSVQICAgIfAhkiAAAAhRJREFUSInt1jtPKlEQwPH/EgMmdCAECCsWFjSYQCICQajp/BB2dnwKEz6EvQmNlZ3yiEIIhi3IFkAjj1CZ3fCQBMPYmXuL6wW8a27h9JPfmXMmM0cREeGbw/bd4P+NzmYz8vk8qqpydXXFarX6miprRKFQkIODA1EURc7OzqRer6+T9sdYq1LTNFksFogIpVKJx8dHXl9fty50LfTXBjcMg+fnZwzDsBZNp9N4vd6PAzQaDVqtlrVoOBzG5XKhKAoAk8mE2Wz22w38czQQCJDNZgkEAgB0u12enp54eXmxDrXb7USjUTweDwDT6ZT7+3seHh6sQwFOTk7I5XIEg0EAdF3n7u6O8XhsHerz+UgkEh9XbJomo9EI0zStQwGi0Sj7+/soioKIsFqttppOG6GqqhKJRD7edjAYoGnaxg218cBPpVIcHR2xs7ODruvc3t7S7/etRWOxGMlkErfbjWEYNJtNNE2zFnW5XBwfH3N4eAhAr9ejUqkwn8+tQwFCoRCqqmKz2Xh7e6PT6VAul9deAluhe3t7hMNh/H4/y+WSWq3G5eUl1WqVyWTy9/G47U5st9tyfn4uu7u7AojD4ZB4PC7X19cynU4/zd0anc/nUiwWJZPJiMPhEEAAiUQi0u/3rUFFRBaLhdzc3Mjp6ak4nc7vQUVElsulaJomFxcX4vF4JJPJyHA4/DRHEfn59/6gX493dA2ztdSok0oAAAAASUVORK5CYII=\" y=\"-192.950024\"/>\r\n   </g>\r\n  </g>\r\n  <g id=\"axes_53\">\r\n   <g clip-path=\"url(#p37e454be30)\">\r\n    <image height=\"29\" id=\"image33c3caa20f\" transform=\"scale(1 -1)translate(0 -29)\" width=\"29\" x=\"75.294915\" xlink:href=\"data:image/png;base64,\r\niVBORw0KGgoAAAANSUhEUgAAAB0AAAAdCAYAAABWk2cPAAAABHNCSVQICAgIfAhkiAAABAtJREFUSIntlt9LFGsYxz+zZ2owpXFna9sgEcNfqJBmNGysEEu6KrUheKesIPgfZN16r/hPhJopC93khVHUhYUVsnYjXuiKykimruKuOrvO05XC4eTuco7E4XC+l+8Dn888PA/vO4qICL85rt8t/F/6l1iWxbNnzzBNk5KSEgzDwDAMQqEQY2NjrK+v4zhO/lbJkUQiId3d3WIYhly7dk0CgYA0NDSIruuiaZoUFxdLU1OTjI+P50KdJqvUcRwZGRmRqqoqCQQCMjExIaurqxKPx2V+fl4GBwelsrJSCgsL5caNG9Ld3S1LS0v/TLqzsyP3798XTdOkr69PFhYWTj/m+PhYEomEjI2Nye3bt0VVVbl69ar09vbKjx8/skqzztRxHLa3t7FtG1VVUVUVAEVRcLlc6LpOKBSiv78fv9/P1tYWMzMzfPz4MetI1VwzVxQFgDdv3mCaJleuXEHX9dN6cXExoVCITCbD9+/fsSyLiYkJmpub0TTtl8ysnRYUFOD3+3G73cTjcUZHR4nFYn/aVEVRcLvdNDU1EQ6HSSaTfP36laWlpTO5fwwMDAycVVRVFV3X2dzcZHV1lbW1NQ4ODigpKcHn8+E4DrZtIyIUFhZyfHzM9PQ06XQa0zSprq7+NTdbp4qi0NjYyJMnTwCYnp5mamoK27Z58OABmUwG27YJBoPU1NTg9XopKirC5XJhGMaZ3JwzvXTpEnfv3iUSiWBZFp8/f2Zqaopv376hKArl5eXU19djWRYzMzMABINBamtr/770JD6fD4/Hw4ULF9jd3WV3dxdVVUmn0zx//hxN05ifn6e2tpa+vj48Hs+ZLEUk99OWTCYZHh4mGo1y+fJlvF4vh4eHxONxlpeXsW2b0tJSHj16RDAY5OHDh1l5eXX67t07JicnURSFSCTCvXv32N/fZ25ujtevX/Plyxd8Ph8dHR0EAoHcwJx3loj09vaKrusSDodldnb29DyVSsnbt2+ls7NTysrK5OnTp7K5uZmTl9crk8lkcByHtbU1dnZ2OJlIQUEBt27dIhwO4/F4ePXqFR8+fMjJy0vq9XoxDIOtrS0WFxdJJBKnNcMwaG5u5vHjx1iWRTQaPR9pZ2cnra2tHB0d8eLFC96/f8/+/j7pdBoAt9vNzZs3SaVSxOPxnLy8Fsk0TRYXF/n06ROxWIzx8XH29vaorq6mtLSUdDrN9vY2RUVFVFRUnI8UoL29nbm5OTY2Nnj58iXRaJSysjLu3LnDxYsXicVilJeX09XVlRuWz/aeZHZ2Vtra2kTTNFFVVVwul2iaJm63W+rr62VoaEiSyWROTt6dAtTV1dHS0kIqlWJlZYWDgwNM06Snpwe/38/169fz4uR1I513/r2/oP8J6U81OxQ2Cn5l6AAAAABJRU5ErkJggg==\" y=\"-192.950024\"/>\r\n   </g>\r\n  </g>\r\n  <g id=\"axes_54\">\r\n   <g clip-path=\"url(#p3d269d4375)\">\r\n    <image height=\"29\" id=\"imaged8282e0efa\" transform=\"scale(1 -1)translate(0 -29)\" width=\"29\" x=\"109.342373\" xlink:href=\"data:image/png;base64,\r\niVBORw0KGgoAAAANSUhEUgAAAB0AAAAdCAYAAABWk2cPAAAABHNCSVQICAgIfAhkiAAAA7BJREFUSIntljtIK1sUhv89DnlIEvPSiZDAEBGFWCRgIZLCgGAnFjZiZyOWWmhrZ62dhZBKgyLYiKVFLIyagAmShxgJkscQNORpTJysWxxu7vXoOTeee8/hFufvZs3e882/Zq21hxER4ReL62TRwsICDAYDVldXkUqlfg0UAIgIW1tbODk5QaPR+PlQURSh1+shyzI2Nzfh8/nw/Pz841TqQPV6nebm5kitVhPP8zQ9PU1+v7+TrR+qIygR0c7ODg0PDxNjjDQaDXk8Hjo6OvohaMff1Ol0wmKxgDGGarWKi4sL7O7u4vLy8uekl+hLimOxGM3MzBDHccQYI51OR0tLSyRJ0qecdq2vr6938nI8z8NoNGJ0dBQAcH9/j0KhgHw+D8YYnE4nlEplR0a/Ca1UKuB5HoyxdowxBqPRCJPJhEajgVwuh1wuh0qlAqvViqGhoX8H9fl8CAaDEEURarX6DdhgMKCvrw+ZTAaRSAQvLy8gItjtdgiC8I9Q/qOgLMs4Pz9HKBRCT08PpqamoNVq2/e7u7vhcDjgdrsRCASQyWRwenoKQRBgs9mg1+s/77TRaGB7exvBYBClUgkulwtmsxkc91exKxQKGI1GcByHZDKJTCYDSZLQarXgcDigUqm+Cf2wZXieh9lsBhHB7/fj7u7u3ejjOA4DAwOYn5/H7OxsG763t4ezs7PPO+U4Dvl8HtFoFJIkQaVSYWhoCCaT6Y3bPwtLr9cjnU7j9vYW5XIZxWIRoijCarV2DgUAnU4HxhgikQji8TgYYxBFEQaD4R1Yr9dDEARks1nE43Fks1moVCpMTk6+qf62vtfENzc3NDIyQhzHUW9vL62trVE4HKZ6vf5ubblcJq/XS4wxUiqVNDY2RoFAgGRZ/txwkGUZ0WgUqVQKhUIBiUQCxWIRHMeB4zjIsoxqtYpqtYp6vY50Oo3Dw0PIsozHx0cUCgW43e43lQ8AjOj7fw6hUAgrKysIBAIAAKVSCZvNhvHxcdjt9r9nDIlEAl6vtx3TarXY2NjA4uIiurq6OocCwPLyMo6Pj2G1WmE2m/Hw8IBMJoNarYZWqwWFQgHgS6uVSiUolUrUajUwxmCz2RAOh6HT6drP+3A4fC2Px4P+/n5MTExgcHAQsVgMwWAQyWQSjUYDFosFRARJknB1dQVBEHB9fY10Og2NRvO+mD51PHyl19dXajab7etms0mlUomenp5of3+fXC4XHRwcUKvVerOvo/T+1+r4EP8N/Q3930H/AK5YQnMhBsrfAAAAAElFTkSuQmCC\" y=\"-192.950024\"/>\r\n   </g>\r\n  </g>\r\n  <g id=\"axes_55\">\r\n   <g clip-path=\"url(#p41fd2d271a)\">\r\n    <image height=\"29\" id=\"image7747c4592f\" transform=\"scale(1 -1)translate(0 -29)\" width=\"29\" x=\"143.389831\" xlink:href=\"data:image/png;base64,\r\niVBORw0KGgoAAAANSUhEUgAAAB0AAAAdCAYAAABWk2cPAAAABHNCSVQICAgIfAhkiAAAA4NJREFUSIntlktIKm8Yxp8ZZ7ykhIbXRXSjQ+IiA8kkV2WEFO2CWreIFi3LbdQqaBO1adGmwiBoWy4iQroRQdIVLKwMDDOxAnWa0vcsDsn/z1HL4JzVeXYz8/D85nu/95t3GCIi/GWxfxv4D/rHxZViXl5extzcHILBIADgowcZhsl5TCYTRkdH0dPTA4VCkT+IPpEgCDQ9PU1ut5uqqqpILpcTy7LEsiwxDEMMw+SuWZYlqVRKtbW1NDk5WTCzKDSVStHMzAyZzWaSy+XEcdz/APmgDMOQTCaj5uZm2tvby5tbtLzn5+dYWlpCKBSCKIqQSqUoLy+H1WqFzWZDRUUFACCdTuPs7AwbGxt4fn6GKIoIBoOYn59HS0vL1/f05uYGU1NTuLi4gCiKqK6uRldXF1wuF+rr66FWq8HzPAAgm80ikUigt7cXq6urWFlZgSAIiEajebMLQq+vr3FwcIBUKoW6ujp4PB60t7fDZDJBLpf/5tfr9aisrIRGo0EgEEA4HC5YwYJHJplMQhRFcBwHt9sNl8uFmpqavEDgVwcrlUqYzWa0trbm7pUE/ZBKpUJHRweMRuNn1l+BLAuZTAaO46BWq78H5XkeRqOx4Ar/q2w2i1gshu3t7dzLlgwlIry+viISiUAQhE+hiUQCm5ubuLq6QmNj4/egAJBKpXBycoKnp6eivkwmg8vLS3i9XpSVlcHpdMJgMJQOZRgGoihid3cXsVisKDQej2NrawvBYBBOpxNtbW0FvQWhOp0OarUaEokEfr8ft7e3yGQyeb2CICAQCMDn86GhoQEjIyNwOBylQy0WCxwOB5RKJdLpNPb39/OCRVHE6ekp1tbWIJPJ0N/fD6fTWfC4ACj+wV9fXyeLxUI8z5Ner6fx8XEKhUL0/v6e80QiEZqYmCCbzUZer7dYXE5F99Rut8Nut0OpVOLh4QGzs7NYWFhAOBzOrTgej+Pu7g46nQ4/fvwoFpeTZGxsbKzQQ4VCAYlEgsPDQzw+PiKZTOL4+BhEBK1WC1EU4ff7cXR0hIGBgaLN8+XyEhG9vLzQ4OAgaTSa3BhTqVRkNBqpqamJhoaGyOfz0dvb25dKS/TJPP1QNBql7u7u32ZqZ2cn+f3+L8NKghIR7ezsUF9fH2m1WmJZlnieJ4/HUzKwJCgR0f39PQ0PD5PBYCCr1UqLi4vfgjJE//7w/5x+AibZjbQtVbDfAAAAAElFTkSuQmCC\" y=\"-192.950024\"/>\r\n   </g>\r\n  </g>\r\n  <g id=\"axes_56\">\r\n   <g clip-path=\"url(#pa0037db369)\">\r\n    <image height=\"29\" id=\"imagee47ae57147\" transform=\"scale(1 -1)translate(0 -29)\" width=\"29\" x=\"177.437288\" xlink:href=\"data:image/png;base64,\r\niVBORw0KGgoAAAANSUhEUgAAAB0AAAAdCAYAAABWk2cPAAAABHNCSVQICAgIfAhkiAAAAk1JREFUSIntlj1LK1EQhp/9SKIosViMXyghRciiFgGboG3AdKK/QAv/g106Czv/g3UqsbGQJIpiJS5CUqeRaFwRDbo5OxaXuyCINyZZuYUvTDOHmYdz5pwzo4mI8MPSfxr4f0Mdx2F3d5fFxUXi8Tjb29vc3Nz0TpUutLe3J6lUSiKRiJimKbZty8HBQTehn6qrnXY6HTzPQykFQKvVol6vc3t729NGe6rpw8MD5+fnOI4THlRE8H0f3/dRSuF5HtVqlUqlEh50c3OTdDqNpmmBtdttXl5ewoNOTk5iWRaxWAxd1wNzHIdKpRLUeqBQgEKhQDKZ/OC7uLhgf3+fcrkcDjSfz5PL5RgdHQ18rutyenpKtVoNBzo9Pc3MzAxDQ0MopVBK4fs+z8/P3N/fhwM1DIOpqSnGxsY+XKjX11eur685Pj6m0+l0l6tYLBa7BUejUZrNJo1Gg3a7DYBSCtd1ubu7Y3Z2lrm5uX/m+dbnsLCwwNraGrZtYxhG4H96euLs7IxSqYTruoOFGoZBNptlfn6eWCz2Yc11XS4vL7m6uhosFP68Wdu2sSyLv/3f933e3t6o1WocHh4OHgqQy+VYXV1lYmICEQms2WxydHREvV7/OkGv7alWq8nW1pZomiamaQaWSCRkZ2en/9b2mdLpNNlslpGRkW/H9jWu2LbN8vIyw8PDgS8SiWBZ1teBvR6viIjneXJyciKFQkF0XZdoNCorKyvy+PgYzvECmKbJ0tIS6+vrjI+Pk8lk2NjYIB6PfxmnifzOvb/Q/vUOL/v2boCNznAAAAAASUVORK5CYII=\" y=\"-192.950024\"/>\r\n   </g>\r\n  </g>\r\n  <g id=\"axes_57\">\r\n   <g clip-path=\"url(#pbfa130a2bc)\">\r\n    <image height=\"29\" id=\"image9d059239f4\" transform=\"scale(1 -1)translate(0 -29)\" width=\"29\" x=\"211.484746\" xlink:href=\"data:image/png;base64,\r\niVBORw0KGgoAAAANSUhEUgAAAB0AAAAdCAYAAABWk2cPAAAABHNCSVQICAgIfAhkiAAAA19JREFUSIntlrtLK1sUxr95ZDIRo5KEJCQIUYukcYxgTBoDIopFCgtBQawDKvgvaGmRxsLSRtDCzmAl8UFE0gVLIQ/CiI6J4JOJmWRct7jccOTek4xHOZzifjDN2vD92Pvbe61hiIjwm8X+buCfDS0UCkgkEpAkCVarFZIkYXt7G7Va7deoZECbm5vk9/vJZDIRy7LE8zxJkkQbGxuUz+eNWHyQIejU1FQTyLIsMQxDJpOJbDYbhcNhWl1dpYODA2o0Gt8HjUajxDBM8wNAAIhhGBIEgTo7O2lwcJASiQTJsvz90P7+forFYhQKhUgUxWZdEATyer0Ui8UomUy29GOI2r/TdDqNVCoFj8eDQCAAl8uFs7Mz7O/vI5fLoVQqAQA4joMoihgdHUUqlfraRXp7eyNFUejh4YE0TaP393e6v7+ny8tL2traouHhYWIYppm5z+ejTCbzUz/eyA03m81wuVwfana7HTabDR6PB8/Pz8hms801QRDQ19f3Uz9D0B+lKAqKxSJeXl6gaRqurq6QTCab66Iowu/3w+l0fg9UlmXs7u7i9PQUr6+vaDQaUBQFpVIJgiDAbrcjEokgHo+3NjKS6T/a29ujUChEJpPpQ4aiKFIwGKT19XVKp9NUq9Va+nxqp8ViEYqioF6vN2s9PT2IRqOYn5/H2NgYvF5vW59PNfyhoSEEAgFYLJZmjeM4+Hw+TE5OGgICALe2trZmFNrb2wuLxYKbmxuUy2Xouo5qtQpVVcFxHHieh8PhAMdxrY2MZKmqKqmqSrquU7VapZ2dHYpEImQ2m4llWRIEgdxuNy0uLlIul2vrZyjTk5MT6LqOcDgMp9OJmZkZVCoV3N7eQpZl1Ot13N3d4fz8HMfHxxgYGPja8V5fX2NpaQmHh4ewWq2o1WpQFAWqqqJSqUCWZei6DgCo1+sgIszNzbWEtt3p0dERKpUKSqUSVlZWAABEhJGRETgcDnR3d6NcLoNhGHR0dPyrc/2n2p3/09MTTU9PkyiKH+bpj++U53my2Ww0OztL2Wz265l2dXVhYWEBj4+PyOfz0HUdRARN06BpGnieh9vtxsTEBJaXlxEMBttu1NBoA/4eb4VCodkYLi4ukMlkIEkS4vE4xsfHjdh8Dvqd+nN/Qf+H/qr+AvpCwHSADJa4AAAAAElFTkSuQmCC\" y=\"-192.950024\"/>\r\n   </g>\r\n  </g>\r\n  <g id=\"axes_58\">\r\n   <g clip-path=\"url(#p394ed1f510)\">\r\n    <image height=\"29\" id=\"imagede7776cb9e\" transform=\"scale(1 -1)translate(0 -29)\" width=\"29\" x=\"245.532203\" xlink:href=\"data:image/png;base64,\r\niVBORw0KGgoAAAANSUhEUgAAAB0AAAAdCAYAAABWk2cPAAAABHNCSVQICAgIfAhkiAAAAxFJREFUSIntls0vM10Yh69OW2YybWPadNEpJUUkYoPQWmAn2BJLC1v/hL9ArCUS0a2EjR2RbsSCiOiCVsWi2moQNPRjOs67eKOJ0D6vx5s+m+eXzObMfc4199e5xyKEEDRYUqOBfwxq+8nmUqnEzs4O29vbdHV1Icsyvb29TE9PI0l1/BE/UDQaFVNTU0KWZaEoilBVVfT09IhIJFJ33488NU2TUqlEuVyurj08PBCLxeru+99z6nA4GB4ebhxUVVX6+/sZHR1tHNTn8zE7O4vH42kcVJIkHA5H/crlP7bMxcUF2WyWTCZDLBbj7u4OgHQ6TTwer9pls1nW19fRdZ3BwcHfg768vLCxscHu7i65XI58Ps/t7S2FQgGASqWCYRhV++fnZ/b391FVlZWVFdxu99cH1+ql19dXsby8LPr6+oQsy0KSJGGxWKoPIIAPaxaLRTQ3N4uxsTGRy+W+36enp6dEIhHi8TiGYWC1WrFarVgsFjRNo729HU3TeHt74+bmhvPzc0zTRJZlgsEgLpfr++E9ODgglUpRqVSw2WyEw2FCoRCapqFpGq2trbS0tGCaJkdHR6yurpJMJoF/Lw1RZ3jVhGYymWq+fD4f8/PzzMzMoGnaJ1td17m8vCSZTFIsFkkkEjw9PSHL8pdn16xtv99PU1MTAE6nk7a2NlRV/dJW13VGRkZwuVwYhsH9/T3FYrGmpzWh4XAYRVEASKVS7O3tkUqlvgyboih0dHQQDAYBMAyDdDr9faiu6yiKgiRJ5PN5tra2ODs7+9Ai77JarQQCAcbHx/F4PBQKBY6Pj78PdTgcdHd3V/NydXXF4eEh19fXH6bKuwKBAAsLC0xOTuL1evF6vTWh1qWlpaWvXryH9uTkhMfHR4QQJBIJ7HY7nZ2dnwpKkiScTie6ruN2u5mbm6ue8Un1hm25XBaLi4vC7XYLSZKEJEliYmJCRKPRukP6V6p7M9vtdkKhEH6/H5vNhs1mQ1XValX/tn71VaZpirW1NTE0NCQGBgbE5uamKBaLP/LUIsTf/96/0J/rH/xNblPFdOT5AAAAAElFTkSuQmCC\" y=\"-192.950024\"/>\r\n   </g>\r\n  </g>\r\n  <g id=\"axes_59\">\r\n   <g clip-path=\"url(#pbffa07e0f6)\">\r\n    <image height=\"29\" id=\"image31d145dcb3\" transform=\"scale(1 -1)translate(0 -29)\" width=\"29\" x=\"279.579661\" xlink:href=\"data:image/png;base64,\r\niVBORw0KGgoAAAANSUhEUgAAAB0AAAAdCAYAAABWk2cPAAAABHNCSVQICAgIfAhkiAAAAw9JREFUSIntls9LKlEUgL8xDX+ESdGgtRAyyMIiWmirQEMIItoU7VoG0cp9f0bQOqhdSBARaJuiEKRW40ISIaJMamiR+StH71sllGW+Xr3Nex/MZmbu+e7MOefeKwkhBH8Z3d8W/pf+OPpmD7PZLLFYjKenJwAikQjxeJzHx0cAJEnC4XAwMzPD/Pw8o6OjLUmlt9UbjUbZ2NigVCqRy+W4vLykXC4DUCgUKJfLVKvVulSv12O1WvH5fKyuruL1eunu7m5uFW+YnZ0VVqtVmEwmYTQahU6na7gkSRKSJL26Z7FYhNvtFqFQSJTL5bdhX9Hwe1VVpVQqoWkaAF6vF5fLRXt7e8OEq9UqFxcXxONxisUi6XSaeDyOpmnvvv9Cg9Tj8aDX69E0jYWFBXw+Hz09Pej1jekXQnB/f08kEmF7e5tUKsX19TU7OzssLS21Lg2FQuTzeYQQ9Pf309nZ+a7wBafTicVi4fb2llQqxcPDA7u7uwSDQRwOR2vSoaGhDwXv0dbWRldXF7IsA1Cr1SgWi/Vie49v6dN8Ps/d3R0AsiyzvLzctIL/WKqqKkdHR5ycnABgs9kIBAKYTKafkdZqNZLJJOFwmGQyyUvLN6sB+GRF+ohCocDV1RWKonBwcMD5+TlCCOx2O1NTUxgMhuYBmnbxByiKItbW1oTb7a4vDrIsi5WVFZFOpz8d/yVpOBwWExMTdaHRaBSBQEDEYrGWxn8ppyaTCbPZXM+d2WxmYGAAl8vV0vgvScfGxggGg/T19QFQqVRQVRVVVX9OarfbWVxcZG5uDrPZTD6fR1EUjo+Pv1daqVTI5XI8Pz8D0Nvby+TkJCMjIwBkMhkODw/r2+C3SBOJBJubm5yennJzc4OqqthsNpxOJwCappHNZkkkEp/GarlP19fXCYfDaJpWL6BqtVr/Mp1Oh8FgoFKpfB6s1TbZ398Xfr9fdHR01Ddyg8EgjEajsNlswu/3i2g02lKshuNKM87Oztja2mJvb49MJoPH42F6eprBwUGGh4cZHx9vKc5vSb+Lf+fc+wtFbH0GHu6rnAAAAABJRU5ErkJggg==\" y=\"-192.950024\"/>\r\n   </g>\r\n  </g>\r\n  <g id=\"axes_60\">\r\n   <g clip-path=\"url(#p29c9df933c)\">\r\n    <image height=\"29\" id=\"imagea66f9b8f1d\" transform=\"scale(1 -1)translate(0 -29)\" width=\"29\" x=\"313.627119\" xlink:href=\"data:image/png;base64,\r\niVBORw0KGgoAAAANSUhEUgAAAB0AAAAdCAYAAABWk2cPAAAABHNCSVQICAgIfAhkiAAABGBJREFUSInllk1oE2sUhp9p4mQmppmJdmgqibUN6KKlKljaYBfOQsimuHEhbnQlLqTLrrty58Kdij8gFERBqAsruGulIKIgJvWvpkVbEwJimrZpMjPpuYtLC712/Om9eBe+MKvvzPfMeb/3MJ8iIsJvVtPvBv5Z0KDfwurqKgCapqEoyqa1tbU1XNdFURRUVf1lqOIXpMOHD/P161cuXbpEJpNh586dAMzOznL37l3u379PJBKhr6+PeDxOf38/nZ2dhEIhmpubv08VHyWTSVEURQYHB2VqakpqtZosLCzIhQsXpLW1VVRVlVAoJNFoVEzTlHg8Lh0dHWLbtly/fl0+ffokjuNsubdvpwcPHmR6ehpN00gmk2QyGVRV5eHDh+TzeXbt2rXRfa1W48uXLywvLxMKhTBNk5aWFgYGBujt7WVwcBDLsn5s7/j4OMPDw7x9+xYRIRqNEggEWFpa4sCBA5w7dw7btgGoVCrk83lmZmaYmJjg6dOnrKysEI1GMQyD7u5uTp48ydmzZ79vb7ValYsXL0pra6soirLpOXPmjLx69Wqj1vM8WVpakmKxKC9evJAbN27I0NCQdHR0iKIoouu67N+/f6PeN726rnP69Gk0TePy5ct8/PgRgL1799Lf38++ffs2agOBAJFIhEgkgmVZdHZ2cuzYMY4fP867d+8YHx+n0Whs1PtC1wGnTp1C13WuXbvG9PQ01WoVx3G+GaN1NTU1YRgGhmGQSCRIp9McPXp0EzQwMjIy4gdVFIVIJEIqlcLzPObn5ykWi4gIhmHQ0tJCOBz2/ehAIEA4HCaRSJBMJn8Oug7WdZ22tjYsy6JQKJDL5SgWi4TDYeLx+EaKf1p+QdpK5XJZbt++Lel0WizLkoGBAbl586Z4nvcr2/gHaSsZhsGJEycAuHr1Ks+ePcPzPJqbm7Ftm927d//3na5rcXFRrly5Ij09PaKqqvT29srY2Ji4rvtT7/ueaaVSoV6vs2PHjm+SGgqFsCwLXdcpFAp8+PCBWq1GKpViz549P2zUF3rnzh1evnyJ67pEo1FCodAmuGmadHV1EQwGmZyc5P3791QqFXp6eojFYtuzN5lMiqqqkk6nZXR0VBYWFra0L5fLyfnz5yUWi0kikZDh4WFZXl7enr0PHjygVCoxOztLLpej0WigaRqO4+A4DsFgkGAwiGVZtLW1MT8/z5s3byiVSnR1ddHe3k5T09Z3BF9oX18fhUKBSqXC58+fmZyc5NGjR0xMTDA3Nwf8PcP1eh3TNLEsi7m5OV6/fk25XMa2bd/59f3LACwuLvL48WNGR0fJZrOUy2Vc16Ver6NpGqZp0t3djW3bVKtVnj9/ztjYGO3t7dy7d48jR478OnRdKysrrK6u8uTJE7LZLFNTU2SzWer1Omtra3ieh4jQaDRQFIVUKsWtW7c4dOjQ9qH/lOu6OI6DiFAqlZiZmaFUKpHP54nFYmQyGVKplO+Zbgv6b/Xn3Hv/F+hf9LNCgmq6yL0AAAAASUVORK5CYII=\" y=\"-192.950024\"/>\r\n   </g>\r\n  </g>\r\n </g>\r\n <defs>\r\n  <clipPath id=\"pe8ef0bd893\">\r\n   <rect height=\"28.372881\" width=\"28.372881\" x=\"7.2\" y=\"7.2\"/>\r\n  </clipPath>\r\n  <clipPath id=\"pbde88cbdd2\">\r\n   <rect height=\"28.372881\" width=\"28.372881\" x=\"41.247458\" y=\"7.2\"/>\r\n  </clipPath>\r\n  <clipPath id=\"pb7a2f1ec36\">\r\n   <rect height=\"28.372881\" width=\"28.372881\" x=\"75.294915\" y=\"7.2\"/>\r\n  </clipPath>\r\n  <clipPath id=\"p409c304810\">\r\n   <rect height=\"28.372881\" width=\"28.372881\" x=\"109.342373\" y=\"7.2\"/>\r\n  </clipPath>\r\n  <clipPath id=\"pcdce0517b2\">\r\n   <rect height=\"28.372881\" width=\"28.372881\" x=\"143.389831\" y=\"7.2\"/>\r\n  </clipPath>\r\n  <clipPath id=\"pb54101ce94\">\r\n   <rect height=\"28.372881\" width=\"28.372881\" x=\"177.437288\" y=\"7.2\"/>\r\n  </clipPath>\r\n  <clipPath id=\"p96a796f675\">\r\n   <rect height=\"28.372881\" width=\"28.372881\" x=\"211.484746\" y=\"7.2\"/>\r\n  </clipPath>\r\n  <clipPath id=\"p045a0b7e86\">\r\n   <rect height=\"28.372881\" width=\"28.372881\" x=\"245.532203\" y=\"7.2\"/>\r\n  </clipPath>\r\n  <clipPath id=\"p3b3d928e7e\">\r\n   <rect height=\"28.372881\" width=\"28.372881\" x=\"279.579661\" y=\"7.2\"/>\r\n  </clipPath>\r\n  <clipPath id=\"pf076e0c796\">\r\n   <rect height=\"28.372881\" width=\"28.372881\" x=\"313.627119\" y=\"7.2\"/>\r\n  </clipPath>\r\n  <clipPath id=\"p9552dd0e49\">\r\n   <rect height=\"28.372881\" width=\"28.372881\" x=\"7.2\" y=\"44.475429\"/>\r\n  </clipPath>\r\n  <clipPath id=\"p18667c2983\">\r\n   <rect height=\"28.372881\" width=\"28.372881\" x=\"41.247458\" y=\"44.475429\"/>\r\n  </clipPath>\r\n  <clipPath id=\"p63cf235a58\">\r\n   <rect height=\"28.372881\" width=\"28.372881\" x=\"75.294915\" y=\"44.475429\"/>\r\n  </clipPath>\r\n  <clipPath id=\"p970c0c7073\">\r\n   <rect height=\"28.372881\" width=\"28.372881\" x=\"109.342373\" y=\"44.475429\"/>\r\n  </clipPath>\r\n  <clipPath id=\"pcffe70e856\">\r\n   <rect height=\"28.372881\" width=\"28.372881\" x=\"143.389831\" y=\"44.475429\"/>\r\n  </clipPath>\r\n  <clipPath id=\"p46786ea62d\">\r\n   <rect height=\"28.372881\" width=\"28.372881\" x=\"177.437288\" y=\"44.475429\"/>\r\n  </clipPath>\r\n  <clipPath id=\"p2773ad8c40\">\r\n   <rect height=\"28.372881\" width=\"28.372881\" x=\"211.484746\" y=\"44.475429\"/>\r\n  </clipPath>\r\n  <clipPath id=\"pe10cd4c0cb\">\r\n   <rect height=\"28.372881\" width=\"28.372881\" x=\"245.532203\" y=\"44.475429\"/>\r\n  </clipPath>\r\n  <clipPath id=\"pa560ed03a6\">\r\n   <rect height=\"28.372881\" width=\"28.372881\" x=\"279.579661\" y=\"44.475429\"/>\r\n  </clipPath>\r\n  <clipPath id=\"pa3fa85dfc0\">\r\n   <rect height=\"28.372881\" width=\"28.372881\" x=\"313.627119\" y=\"44.475429\"/>\r\n  </clipPath>\r\n  <clipPath id=\"pdc1e49dca5\">\r\n   <rect height=\"28.372881\" width=\"28.372881\" x=\"7.2\" y=\"81.750857\"/>\r\n  </clipPath>\r\n  <clipPath id=\"p55afea902d\">\r\n   <rect height=\"28.372881\" width=\"28.372881\" x=\"41.247458\" y=\"81.750857\"/>\r\n  </clipPath>\r\n  <clipPath id=\"pb3b3d0f4aa\">\r\n   <rect height=\"28.372881\" width=\"28.372881\" x=\"75.294915\" y=\"81.750857\"/>\r\n  </clipPath>\r\n  <clipPath id=\"p7ba2b3f47e\">\r\n   <rect height=\"28.372881\" width=\"28.372881\" x=\"109.342373\" y=\"81.750857\"/>\r\n  </clipPath>\r\n  <clipPath id=\"pe2bedc2677\">\r\n   <rect height=\"28.372881\" width=\"28.372881\" x=\"143.389831\" y=\"81.750857\"/>\r\n  </clipPath>\r\n  <clipPath id=\"pf5eb675758\">\r\n   <rect height=\"28.372881\" width=\"28.372881\" x=\"177.437288\" y=\"81.750857\"/>\r\n  </clipPath>\r\n  <clipPath id=\"p96305041b5\">\r\n   <rect height=\"28.372881\" width=\"28.372881\" x=\"211.484746\" y=\"81.750857\"/>\r\n  </clipPath>\r\n  <clipPath id=\"p5e0df14955\">\r\n   <rect height=\"28.372881\" width=\"28.372881\" x=\"245.532203\" y=\"81.750857\"/>\r\n  </clipPath>\r\n  <clipPath id=\"p6c638457fd\">\r\n   <rect height=\"28.372881\" width=\"28.372881\" x=\"279.579661\" y=\"81.750857\"/>\r\n  </clipPath>\r\n  <clipPath id=\"p62fb6de674\">\r\n   <rect height=\"28.372881\" width=\"28.372881\" x=\"313.627119\" y=\"81.750857\"/>\r\n  </clipPath>\r\n  <clipPath id=\"p2c2a716765\">\r\n   <rect height=\"28.372881\" width=\"28.372881\" x=\"7.2\" y=\"119.026286\"/>\r\n  </clipPath>\r\n  <clipPath id=\"pad4a64703d\">\r\n   <rect height=\"28.372881\" width=\"28.372881\" x=\"41.247458\" y=\"119.026286\"/>\r\n  </clipPath>\r\n  <clipPath id=\"pb5eda23803\">\r\n   <rect height=\"28.372881\" width=\"28.372881\" x=\"75.294915\" y=\"119.026286\"/>\r\n  </clipPath>\r\n  <clipPath id=\"p3e6944b296\">\r\n   <rect height=\"28.372881\" width=\"28.372881\" x=\"109.342373\" y=\"119.026286\"/>\r\n  </clipPath>\r\n  <clipPath id=\"p24f951deb3\">\r\n   <rect height=\"28.372881\" width=\"28.372881\" x=\"143.389831\" y=\"119.026286\"/>\r\n  </clipPath>\r\n  <clipPath id=\"p950b87d122\">\r\n   <rect height=\"28.372881\" width=\"28.372881\" x=\"177.437288\" y=\"119.026286\"/>\r\n  </clipPath>\r\n  <clipPath id=\"p784e2c5770\">\r\n   <rect height=\"28.372881\" width=\"28.372881\" x=\"211.484746\" y=\"119.026286\"/>\r\n  </clipPath>\r\n  <clipPath id=\"p26a7055de2\">\r\n   <rect height=\"28.372881\" width=\"28.372881\" x=\"245.532203\" y=\"119.026286\"/>\r\n  </clipPath>\r\n  <clipPath id=\"pedcd28a900\">\r\n   <rect height=\"28.372881\" width=\"28.372881\" x=\"279.579661\" y=\"119.026286\"/>\r\n  </clipPath>\r\n  <clipPath id=\"p9fd290c74a\">\r\n   <rect height=\"28.372881\" width=\"28.372881\" x=\"313.627119\" y=\"119.026286\"/>\r\n  </clipPath>\r\n  <clipPath id=\"p980fe2a926\">\r\n   <rect height=\"28.372881\" width=\"28.372881\" x=\"7.2\" y=\"156.301714\"/>\r\n  </clipPath>\r\n  <clipPath id=\"p6231315e51\">\r\n   <rect height=\"28.372881\" width=\"28.372881\" x=\"41.247458\" y=\"156.301714\"/>\r\n  </clipPath>\r\n  <clipPath id=\"pc7f96ae059\">\r\n   <rect height=\"28.372881\" width=\"28.372881\" x=\"75.294915\" y=\"156.301714\"/>\r\n  </clipPath>\r\n  <clipPath id=\"pb7abdc0eee\">\r\n   <rect height=\"28.372881\" width=\"28.372881\" x=\"109.342373\" y=\"156.301714\"/>\r\n  </clipPath>\r\n  <clipPath id=\"pef65fec35e\">\r\n   <rect height=\"28.372881\" width=\"28.372881\" x=\"143.389831\" y=\"156.301714\"/>\r\n  </clipPath>\r\n  <clipPath id=\"pabae33c476\">\r\n   <rect height=\"28.372881\" width=\"28.372881\" x=\"177.437288\" y=\"156.301714\"/>\r\n  </clipPath>\r\n  <clipPath id=\"pe0c98f579b\">\r\n   <rect height=\"28.372881\" width=\"28.372881\" x=\"211.484746\" y=\"156.301714\"/>\r\n  </clipPath>\r\n  <clipPath id=\"p5e99c54f7a\">\r\n   <rect height=\"28.372881\" width=\"28.372881\" x=\"245.532203\" y=\"156.301714\"/>\r\n  </clipPath>\r\n  <clipPath id=\"p5e0621b9cd\">\r\n   <rect height=\"28.372881\" width=\"28.372881\" x=\"279.579661\" y=\"156.301714\"/>\r\n  </clipPath>\r\n  <clipPath id=\"p9df06ada8c\">\r\n   <rect height=\"28.372881\" width=\"28.372881\" x=\"313.627119\" y=\"156.301714\"/>\r\n  </clipPath>\r\n  <clipPath id=\"p4ad4a1402e\">\r\n   <rect height=\"28.372881\" width=\"28.372881\" x=\"7.2\" y=\"193.577143\"/>\r\n  </clipPath>\r\n  <clipPath id=\"p388af73291\">\r\n   <rect height=\"28.372881\" width=\"28.372881\" x=\"41.247458\" y=\"193.577143\"/>\r\n  </clipPath>\r\n  <clipPath id=\"p37e454be30\">\r\n   <rect height=\"28.372881\" width=\"28.372881\" x=\"75.294915\" y=\"193.577143\"/>\r\n  </clipPath>\r\n  <clipPath id=\"p3d269d4375\">\r\n   <rect height=\"28.372881\" width=\"28.372881\" x=\"109.342373\" y=\"193.577143\"/>\r\n  </clipPath>\r\n  <clipPath id=\"p41fd2d271a\">\r\n   <rect height=\"28.372881\" width=\"28.372881\" x=\"143.389831\" y=\"193.577143\"/>\r\n  </clipPath>\r\n  <clipPath id=\"pa0037db369\">\r\n   <rect height=\"28.372881\" width=\"28.372881\" x=\"177.437288\" y=\"193.577143\"/>\r\n  </clipPath>\r\n  <clipPath id=\"pbfa130a2bc\">\r\n   <rect height=\"28.372881\" width=\"28.372881\" x=\"211.484746\" y=\"193.577143\"/>\r\n  </clipPath>\r\n  <clipPath id=\"p394ed1f510\">\r\n   <rect height=\"28.372881\" width=\"28.372881\" x=\"245.532203\" y=\"193.577143\"/>\r\n  </clipPath>\r\n  <clipPath id=\"pbffa07e0f6\">\r\n   <rect height=\"28.372881\" width=\"28.372881\" x=\"279.579661\" y=\"193.577143\"/>\r\n  </clipPath>\r\n  <clipPath id=\"p29c9df933c\">\r\n   <rect height=\"28.372881\" width=\"28.372881\" x=\"313.627119\" y=\"193.577143\"/>\r\n  </clipPath>\r\n </defs>\r\n</svg>\r\n",
            "image/png": "[encoded data removed]"
          },
          "metadata": {
            "needs_background": "light"
          }
        }
      ]
    },
    {
      "cell_type": "markdown",
      "metadata": {
        "id": "JF5-8_I3G6ix",
        "colab_type": "text"
      },
      "source": [
        "# How did we get those mean and std values which we used above?\n",
        "\n",
        "Let's run a small experiment"
      ]
    },
    {
      "cell_type": "code",
      "metadata": {
        "id": "yooPHm_aFc5A",
        "colab_type": "code",
        "colab": {
          "base_uri": "https://localhost:8080/",
          "height": 197
        },
        "outputId": "cdde0177-04ae-4ce5-c9c7-8c4cad5a9b4c",
        "tags": []
      },
      "source": [
        "# simple transform\n",
        "simple_transforms = transforms.Compose([\n",
        "                                      #  transforms.Resize((28, 28)),\n",
        "                                      #  transforms.ColorJitter(brightness=0.10, contrast=0.1, saturation=0.10, hue=0.1),\n",
        "                                       transforms.ToTensor(),\n",
        "                                      #  transforms.Normalize((0.1307,), (0.3081,)) # The mean and std have to be sequences (e.g., tuples), therefore you should add a comma after the values. \n",
        "                                       # Note the difference between (0.1307) and (0.1307,)\n",
        "                                       ])\n",
        "exp = datasets.MNIST('./data', train=True, download=True, transform=simple_transforms)\n",
        "exp_data = exp.train_data\n",
        "exp_data = exp.transform(exp_data.numpy())\n",
        "\n",
        "print('[Train]')\n",
        "print(' - Numpy Shape:', exp.train_data.cpu().numpy().shape)\n",
        "print(' - Tensor Shape:', exp.train_data.size())\n",
        "print(' - min:', torch.min(exp_data))\n",
        "print(' - max:', torch.max(exp_data))\n",
        "print(' - mean:', torch.mean(exp_data))\n",
        "print(' - std:', torch.std(exp_data))\n",
        "print(' - var:', torch.var(exp_data))"
      ],
      "execution_count": 18,
      "outputs": [
        {
          "output_type": "stream",
          "name": "stdout",
          "text": "[Train]\n - Numpy Shape: (60000, 28, 28)\n - Tensor Shape: torch.Size([60000, 28, 28])\n - min: tensor(0.)\n - max: tensor(1.)\n - mean: tensor(0.1307)\n - std: tensor(0.3081)\n - var: tensor(0.0949)\n"
        }
      ]
    },
    {
      "cell_type": "markdown",
      "metadata": {
        "id": "ubQL3H6RJL3h",
        "colab_type": "text"
      },
      "source": [
        "# The model\n",
        "Let's start with the model we first saw"
      ]
    },
    {
      "cell_type": "code",
      "metadata": {
        "id": "7FXQlB9kH1ov",
        "colab_type": "code",
        "colab": {}
      },
      "source": [
        "class Net(nn.Module):\n",
        "    def __init__(self):\n",
        "        super(Net, self).__init__()\n",
        "        self.conv1 = nn.Conv2d(1, 32, 3, padding=1) #input -? OUtput? RF\n",
        "        self.conv2 = nn.Conv2d(32, 64, 3, padding=1)\n",
        "        self.pool1 = nn.MaxPool2d(2, 2)\n",
        "        self.conv3 = nn.Conv2d(64, 128, 3, padding=1)\n",
        "        self.conv4 = nn.Conv2d(128, 256, 3, padding=1)\n",
        "        self.pool2 = nn.MaxPool2d(2, 2)\n",
        "        self.conv5 = nn.Conv2d(256, 512, 3)\n",
        "        self.conv6 = nn.Conv2d(512, 1024, 3)\n",
        "        self.conv7 = nn.Conv2d(1024, 10, 3)\n",
        "\n",
        "    def forward(self, x):\n",
        "        x = self.pool1(F.relu(self.conv2(F.relu(self.conv1(x)))))\n",
        "        x = self.pool2(F.relu(self.conv4(F.relu(self.conv3(x)))))\n",
        "        x = F.relu(self.conv6(F.relu(self.conv5(x))))\n",
        "        # x = F.relu(self.conv7(x))\n",
        "        x = self.conv7(x)\n",
        "        x = x.view(-1, 10)\n",
        "        return F.log_softmax(x, dim=-1)"
      ],
      "execution_count": 19,
      "outputs": []
    },
    {
      "cell_type": "markdown",
      "metadata": {
        "id": "M3-vp8X9LCWo",
        "colab_type": "text"
      },
      "source": [
        "# Model Params\n",
        "Can't emphasize on how important viewing Model Summary is. \n",
        "Unfortunately, there is no in-built model visualizer, so we have to take external help"
      ]
    },
    {
      "cell_type": "code",
      "metadata": {
        "id": "5skB97zIJQQe",
        "colab_type": "code",
        "colab": {
          "base_uri": "https://localhost:8080/",
          "height": 449
        },
        "outputId": "7506bc44-2b60-4219-cfc9-154e96ba42f4",
        "tags": []
      },
      "source": [
        "!pip install torchsummary\n",
        "from torchsummary import summary\n",
        "use_cuda = torch.cuda.is_available()\n",
        "device = torch.device(\"cuda\" if use_cuda else \"cpu\")\n",
        "print(device)\n",
        "model = Net().to(device)\n",
        "summary(model, input_size=(1, 28, 28))"
      ],
      "execution_count": 20,
      "outputs": [
        {
          "output_type": "stream",
          "name": "stderr",
          "text": "WARNING: You are using pip version 20.0.2; however, version 20.2.2 is available.\nYou should consider upgrading via the 'D:\\Python\\envs\\pytorch\\python.exe -m pip install --upgrade pip' command.\nRequirement already satisfied: torchsummary in d:\\python\\envs\\pytorch\\lib\\site-packages (1.5.1)\ncuda\n----------------------------------------------------------------\n        Layer (type)               Output Shape         Param #\n================================================================\n            Conv2d-1           [-1, 32, 28, 28]             320\n            Conv2d-2           [-1, 64, 28, 28]          18,496\n         MaxPool2d-3           [-1, 64, 14, 14]               0\n            Conv2d-4          [-1, 128, 14, 14]          73,856\n            Conv2d-5          [-1, 256, 14, 14]         295,168\n         MaxPool2d-6            [-1, 256, 7, 7]               0\n            Conv2d-7            [-1, 512, 5, 5]       1,180,160\n            Conv2d-8           [-1, 1024, 3, 3]       4,719,616\n            Conv2d-9             [-1, 10, 1, 1]          92,170\n================================================================\nTotal params: 6,379,786\nTrainable params: 6,379,786\nNon-trainable params: 0\n----------------------------------------------------------------\nInput size (MB): 0.00\nForward/backward pass size (MB): 1.51\nParams size (MB): 24.34\nEstimated Total Size (MB): 25.85\n----------------------------------------------------------------\n"
        }
      ]
    },
    {
      "cell_type": "markdown",
      "metadata": {
        "id": "1__x_SbrL7z3",
        "colab_type": "text"
      },
      "source": [
        "# Training and Testing\n",
        "\n",
        "All right, so we have 6.3M params, and that's too many, we know that. But the purpose of this notebook is to set things right for our future experiments. \n",
        "\n",
        "Looking at logs can be boring, so we'll introduce **tqdm** progressbar to get cooler logs. \n",
        "\n",
        "Let's write train and test functions"
      ]
    },
    {
      "cell_type": "code",
      "metadata": {
        "id": "fbkF2nN_LYIb",
        "colab_type": "code",
        "colab": {}
      },
      "source": [
        "from tqdm import tqdm\n",
        "\n",
        "train_losses = []\n",
        "test_losses = []\n",
        "train_acc = []\n",
        "test_acc = []\n",
        "\n",
        "def train(model, device, train_loader, optimizer, epoch):\n",
        "  model.train()\n",
        "  pbar = tqdm(train_loader)\n",
        "  correct = 0\n",
        "  processed = 0\n",
        "  for batch_idx, (data, target) in enumerate(pbar):\n",
        "    # get samples\n",
        "    data, target = data.to(device), target.to(device)\n",
        "\n",
        "    # Init\n",
        "    optimizer.zero_grad()\n",
        "    # In PyTorch, we need to set the gradients to zero before starting to do backpropragation because PyTorch accumulates the gradients on subsequent backward passes. \n",
        "    # Because of this, when you start your training loop, ideally you should zero out the gradients so that you do the parameter update correctly.\n",
        "\n",
        "    # Predict\n",
        "    y_pred = model(data)\n",
        "\n",
        "    # Calculate loss\n",
        "    loss = F.nll_loss(y_pred, target)\n",
        "    train_losses.append(loss)\n",
        "\n",
        "    # Backpropagation\n",
        "    loss.backward()\n",
        "    optimizer.step()\n",
        "\n",
        "    # Update pbar-tqdm\n",
        "    \n",
        "    pred = y_pred.argmax(dim=1, keepdim=True)  # get the index of the max log-probability\n",
        "    correct += pred.eq(target.view_as(pred)).sum().item()\n",
        "    processed += len(data)\n",
        "\n",
        "    pbar.set_description(desc= f'Loss={loss.item()} Batch_id={batch_idx} Accuracy={100*correct/processed:0.2f}')\n",
        "    train_acc.append(100*correct/processed)\n",
        "\n",
        "def test(model, device, test_loader):\n",
        "    model.eval()\n",
        "    test_loss = 0\n",
        "    correct = 0\n",
        "    with torch.no_grad():\n",
        "        for data, target in test_loader:\n",
        "            data, target = data.to(device), target.to(device)\n",
        "            output = model(data)\n",
        "            test_loss += F.nll_loss(output, target, reduction='sum').item()  # sum up batch loss\n",
        "            pred = output.argmax(dim=1, keepdim=True)  # get the index of the max log-probability\n",
        "            correct += pred.eq(target.view_as(pred)).sum().item()\n",
        "\n",
        "    test_loss /= len(test_loader.dataset)\n",
        "    test_losses.append(test_loss)\n",
        "\n",
        "    print('\\nTest set: Average loss: {:.4f}, Accuracy: {}/{} ({:.2f}%)\\n'.format(\n",
        "        test_loss, correct, len(test_loader.dataset),\n",
        "        100. * correct / len(test_loader.dataset)))\n",
        "    \n",
        "    test_acc.append(100. * correct / len(test_loader.dataset))"
      ],
      "execution_count": 21,
      "outputs": []
    },
    {
      "cell_type": "markdown",
      "metadata": {
        "id": "drokW8wWODKq",
        "colab_type": "text"
      },
      "source": [
        "# Let's Train and test our model"
      ]
    },
    {
      "cell_type": "code",
      "metadata": {
        "id": "xMCFxeAKOB53",
        "colab_type": "code",
        "colab": {
          "base_uri": "https://localhost:8080/",
          "height": 1000
        },
        "outputId": "9d3766be-2a10-424b-9cd6-ee0922e4cb86",
        "tags": []
      },
      "source": [
        "model =  Net().to(device)\n",
        "optimizer = optim.SGD(model.parameters(), lr=0.01, momentum=0.9)\n",
        "EPOCHS = 20\n",
        "for epoch in range(EPOCHS):\n",
        "    print(\"EPOCH:\", epoch)\n",
        "    train(model, device, train_loader, optimizer, epoch)\n",
        "    test(model, device, test_loader)"
      ],
      "execution_count": 22,
      "outputs": [
        {
          "output_type": "stream",
          "name": "stderr",
          "text": "0%|          | 0/469 [00:00<?, ?it/s]EPOCH: 0\n  0%|          | 0/469 [00:05<?, ?it/s]\n"
        },
        {
          "output_type": "error",
          "ename": "RuntimeError",
          "evalue": "DataLoader worker (pid(s) 13572, 13580, 13600, 13620) exited unexpectedly",
          "traceback": [
            "\u001b[1;31m---------------------------------------------------------------------------\u001b[0m",
            "\u001b[1;31mEmpty\u001b[0m                                     Traceback (most recent call last)",
            "\u001b[1;32mD:\\Python\\envs\\pytorch\\lib\\site-packages\\torch\\utils\\data\\dataloader.py\u001b[0m in \u001b[0;36m_try_get_data\u001b[1;34m(self, timeout)\u001b[0m\n\u001b[0;32m    760\u001b[0m         \u001b[1;32mtry\u001b[0m\u001b[1;33m:\u001b[0m\u001b[1;33m\u001b[0m\u001b[1;33m\u001b[0m\u001b[0m\n\u001b[1;32m--> 761\u001b[1;33m             \u001b[0mdata\u001b[0m \u001b[1;33m=\u001b[0m \u001b[0mself\u001b[0m\u001b[1;33m.\u001b[0m\u001b[0m_data_queue\u001b[0m\u001b[1;33m.\u001b[0m\u001b[0mget\u001b[0m\u001b[1;33m(\u001b[0m\u001b[0mtimeout\u001b[0m\u001b[1;33m=\u001b[0m\u001b[0mtimeout\u001b[0m\u001b[1;33m)\u001b[0m\u001b[1;33m\u001b[0m\u001b[1;33m\u001b[0m\u001b[0m\n\u001b[0m\u001b[0;32m    762\u001b[0m             \u001b[1;32mreturn\u001b[0m \u001b[1;33m(\u001b[0m\u001b[1;32mTrue\u001b[0m\u001b[1;33m,\u001b[0m \u001b[0mdata\u001b[0m\u001b[1;33m)\u001b[0m\u001b[1;33m\u001b[0m\u001b[1;33m\u001b[0m\u001b[0m\n",
            "\u001b[1;32mD:\\Python\\envs\\pytorch\\lib\\queue.py\u001b[0m in \u001b[0;36mget\u001b[1;34m(self, block, timeout)\u001b[0m\n\u001b[0;32m    177\u001b[0m                     \u001b[1;32mif\u001b[0m \u001b[0mremaining\u001b[0m \u001b[1;33m<=\u001b[0m \u001b[1;36m0.0\u001b[0m\u001b[1;33m:\u001b[0m\u001b[1;33m\u001b[0m\u001b[1;33m\u001b[0m\u001b[0m\n\u001b[1;32m--> 178\u001b[1;33m                         \u001b[1;32mraise\u001b[0m \u001b[0mEmpty\u001b[0m\u001b[1;33m\u001b[0m\u001b[1;33m\u001b[0m\u001b[0m\n\u001b[0m\u001b[0;32m    179\u001b[0m                     \u001b[0mself\u001b[0m\u001b[1;33m.\u001b[0m\u001b[0mnot_empty\u001b[0m\u001b[1;33m.\u001b[0m\u001b[0mwait\u001b[0m\u001b[1;33m(\u001b[0m\u001b[0mremaining\u001b[0m\u001b[1;33m)\u001b[0m\u001b[1;33m\u001b[0m\u001b[1;33m\u001b[0m\u001b[0m\n",
            "\u001b[1;31mEmpty\u001b[0m: ",
            "\nDuring handling of the above exception, another exception occurred:\n",
            "\u001b[1;31mRuntimeError\u001b[0m                              Traceback (most recent call last)",
            "\u001b[1;32m<ipython-input-22-0abfba3ddd17>\u001b[0m in \u001b[0;36m<module>\u001b[1;34m\u001b[0m\n\u001b[0;32m      4\u001b[0m \u001b[1;32mfor\u001b[0m \u001b[0mepoch\u001b[0m \u001b[1;32min\u001b[0m \u001b[0mrange\u001b[0m\u001b[1;33m(\u001b[0m\u001b[0mEPOCHS\u001b[0m\u001b[1;33m)\u001b[0m\u001b[1;33m:\u001b[0m\u001b[1;33m\u001b[0m\u001b[1;33m\u001b[0m\u001b[0m\n\u001b[0;32m      5\u001b[0m     \u001b[0mprint\u001b[0m\u001b[1;33m(\u001b[0m\u001b[1;34m\"EPOCH:\"\u001b[0m\u001b[1;33m,\u001b[0m \u001b[0mepoch\u001b[0m\u001b[1;33m)\u001b[0m\u001b[1;33m\u001b[0m\u001b[1;33m\u001b[0m\u001b[0m\n\u001b[1;32m----> 6\u001b[1;33m     \u001b[0mtrain\u001b[0m\u001b[1;33m(\u001b[0m\u001b[0mmodel\u001b[0m\u001b[1;33m,\u001b[0m \u001b[0mdevice\u001b[0m\u001b[1;33m,\u001b[0m \u001b[0mtrain_loader\u001b[0m\u001b[1;33m,\u001b[0m \u001b[0moptimizer\u001b[0m\u001b[1;33m,\u001b[0m \u001b[0mepoch\u001b[0m\u001b[1;33m)\u001b[0m\u001b[1;33m\u001b[0m\u001b[1;33m\u001b[0m\u001b[0m\n\u001b[0m\u001b[0;32m      7\u001b[0m     \u001b[0mtest\u001b[0m\u001b[1;33m(\u001b[0m\u001b[0mmodel\u001b[0m\u001b[1;33m,\u001b[0m \u001b[0mdevice\u001b[0m\u001b[1;33m,\u001b[0m \u001b[0mtest_loader\u001b[0m\u001b[1;33m)\u001b[0m\u001b[1;33m\u001b[0m\u001b[1;33m\u001b[0m\u001b[0m\n",
            "\u001b[1;32m<ipython-input-21-1f287ad9bbd8>\u001b[0m in \u001b[0;36mtrain\u001b[1;34m(model, device, train_loader, optimizer, epoch)\u001b[0m\n\u001b[0;32m     11\u001b[0m   \u001b[0mcorrect\u001b[0m \u001b[1;33m=\u001b[0m \u001b[1;36m0\u001b[0m\u001b[1;33m\u001b[0m\u001b[1;33m\u001b[0m\u001b[0m\n\u001b[0;32m     12\u001b[0m   \u001b[0mprocessed\u001b[0m \u001b[1;33m=\u001b[0m \u001b[1;36m0\u001b[0m\u001b[1;33m\u001b[0m\u001b[1;33m\u001b[0m\u001b[0m\n\u001b[1;32m---> 13\u001b[1;33m   \u001b[1;32mfor\u001b[0m \u001b[0mbatch_idx\u001b[0m\u001b[1;33m,\u001b[0m \u001b[1;33m(\u001b[0m\u001b[0mdata\u001b[0m\u001b[1;33m,\u001b[0m \u001b[0mtarget\u001b[0m\u001b[1;33m)\u001b[0m \u001b[1;32min\u001b[0m \u001b[0menumerate\u001b[0m\u001b[1;33m(\u001b[0m\u001b[0mpbar\u001b[0m\u001b[1;33m)\u001b[0m\u001b[1;33m:\u001b[0m\u001b[1;33m\u001b[0m\u001b[1;33m\u001b[0m\u001b[0m\n\u001b[0m\u001b[0;32m     14\u001b[0m     \u001b[1;31m# get samples\u001b[0m\u001b[1;33m\u001b[0m\u001b[1;33m\u001b[0m\u001b[1;33m\u001b[0m\u001b[0m\n\u001b[0;32m     15\u001b[0m     \u001b[0mdata\u001b[0m\u001b[1;33m,\u001b[0m \u001b[0mtarget\u001b[0m \u001b[1;33m=\u001b[0m \u001b[0mdata\u001b[0m\u001b[1;33m.\u001b[0m\u001b[0mto\u001b[0m\u001b[1;33m(\u001b[0m\u001b[0mdevice\u001b[0m\u001b[1;33m)\u001b[0m\u001b[1;33m,\u001b[0m \u001b[0mtarget\u001b[0m\u001b[1;33m.\u001b[0m\u001b[0mto\u001b[0m\u001b[1;33m(\u001b[0m\u001b[0mdevice\u001b[0m\u001b[1;33m)\u001b[0m\u001b[1;33m\u001b[0m\u001b[1;33m\u001b[0m\u001b[0m\n",
            "\u001b[1;32mD:\\Python\\envs\\pytorch\\lib\\site-packages\\tqdm\\std.py\u001b[0m in \u001b[0;36m__iter__\u001b[1;34m(self)\u001b[0m\n\u001b[0;32m   1127\u001b[0m \u001b[1;33m\u001b[0m\u001b[0m\n\u001b[0;32m   1128\u001b[0m         \u001b[1;32mtry\u001b[0m\u001b[1;33m:\u001b[0m\u001b[1;33m\u001b[0m\u001b[1;33m\u001b[0m\u001b[0m\n\u001b[1;32m-> 1129\u001b[1;33m             \u001b[1;32mfor\u001b[0m \u001b[0mobj\u001b[0m \u001b[1;32min\u001b[0m \u001b[0miterable\u001b[0m\u001b[1;33m:\u001b[0m\u001b[1;33m\u001b[0m\u001b[1;33m\u001b[0m\u001b[0m\n\u001b[0m\u001b[0;32m   1130\u001b[0m                 \u001b[1;32myield\u001b[0m \u001b[0mobj\u001b[0m\u001b[1;33m\u001b[0m\u001b[1;33m\u001b[0m\u001b[0m\n\u001b[0;32m   1131\u001b[0m                 \u001b[1;31m# Update and possibly print the progressbar.\u001b[0m\u001b[1;33m\u001b[0m\u001b[1;33m\u001b[0m\u001b[1;33m\u001b[0m\u001b[0m\n",
            "\u001b[1;32mD:\\Python\\envs\\pytorch\\lib\\site-packages\\torch\\utils\\data\\dataloader.py\u001b[0m in \u001b[0;36m__next__\u001b[1;34m(self)\u001b[0m\n\u001b[0;32m    343\u001b[0m \u001b[1;33m\u001b[0m\u001b[0m\n\u001b[0;32m    344\u001b[0m     \u001b[1;32mdef\u001b[0m \u001b[0m__next__\u001b[0m\u001b[1;33m(\u001b[0m\u001b[0mself\u001b[0m\u001b[1;33m)\u001b[0m\u001b[1;33m:\u001b[0m\u001b[1;33m\u001b[0m\u001b[1;33m\u001b[0m\u001b[0m\n\u001b[1;32m--> 345\u001b[1;33m         \u001b[0mdata\u001b[0m \u001b[1;33m=\u001b[0m \u001b[0mself\u001b[0m\u001b[1;33m.\u001b[0m\u001b[0m_next_data\u001b[0m\u001b[1;33m(\u001b[0m\u001b[1;33m)\u001b[0m\u001b[1;33m\u001b[0m\u001b[1;33m\u001b[0m\u001b[0m\n\u001b[0m\u001b[0;32m    346\u001b[0m         \u001b[0mself\u001b[0m\u001b[1;33m.\u001b[0m\u001b[0m_num_yielded\u001b[0m \u001b[1;33m+=\u001b[0m \u001b[1;36m1\u001b[0m\u001b[1;33m\u001b[0m\u001b[1;33m\u001b[0m\u001b[0m\n\u001b[0;32m    347\u001b[0m         \u001b[1;32mif\u001b[0m \u001b[0mself\u001b[0m\u001b[1;33m.\u001b[0m\u001b[0m_dataset_kind\u001b[0m \u001b[1;33m==\u001b[0m \u001b[0m_DatasetKind\u001b[0m\u001b[1;33m.\u001b[0m\u001b[0mIterable\u001b[0m \u001b[1;32mand\u001b[0m\u001b[0;31m \u001b[0m\u001b[0;31m\\\u001b[0m\u001b[1;33m\u001b[0m\u001b[1;33m\u001b[0m\u001b[0m\n",
            "\u001b[1;32mD:\\Python\\envs\\pytorch\\lib\\site-packages\\torch\\utils\\data\\dataloader.py\u001b[0m in \u001b[0;36m_next_data\u001b[1;34m(self)\u001b[0m\n\u001b[0;32m    839\u001b[0m \u001b[1;33m\u001b[0m\u001b[0m\n\u001b[0;32m    840\u001b[0m             \u001b[1;32massert\u001b[0m \u001b[1;32mnot\u001b[0m \u001b[0mself\u001b[0m\u001b[1;33m.\u001b[0m\u001b[0m_shutdown\u001b[0m \u001b[1;32mand\u001b[0m \u001b[0mself\u001b[0m\u001b[1;33m.\u001b[0m\u001b[0m_tasks_outstanding\u001b[0m \u001b[1;33m>\u001b[0m \u001b[1;36m0\u001b[0m\u001b[1;33m\u001b[0m\u001b[1;33m\u001b[0m\u001b[0m\n\u001b[1;32m--> 841\u001b[1;33m             \u001b[0midx\u001b[0m\u001b[1;33m,\u001b[0m \u001b[0mdata\u001b[0m \u001b[1;33m=\u001b[0m \u001b[0mself\u001b[0m\u001b[1;33m.\u001b[0m\u001b[0m_get_data\u001b[0m\u001b[1;33m(\u001b[0m\u001b[1;33m)\u001b[0m\u001b[1;33m\u001b[0m\u001b[1;33m\u001b[0m\u001b[0m\n\u001b[0m\u001b[0;32m    842\u001b[0m             \u001b[0mself\u001b[0m\u001b[1;33m.\u001b[0m\u001b[0m_tasks_outstanding\u001b[0m \u001b[1;33m-=\u001b[0m \u001b[1;36m1\u001b[0m\u001b[1;33m\u001b[0m\u001b[1;33m\u001b[0m\u001b[0m\n\u001b[0;32m    843\u001b[0m \u001b[1;33m\u001b[0m\u001b[0m\n",
            "\u001b[1;32mD:\\Python\\envs\\pytorch\\lib\\site-packages\\torch\\utils\\data\\dataloader.py\u001b[0m in \u001b[0;36m_get_data\u001b[1;34m(self)\u001b[0m\n\u001b[0;32m    796\u001b[0m         \u001b[1;32melif\u001b[0m \u001b[0mself\u001b[0m\u001b[1;33m.\u001b[0m\u001b[0m_pin_memory\u001b[0m\u001b[1;33m:\u001b[0m\u001b[1;33m\u001b[0m\u001b[1;33m\u001b[0m\u001b[0m\n\u001b[0;32m    797\u001b[0m             \u001b[1;32mwhile\u001b[0m \u001b[0mself\u001b[0m\u001b[1;33m.\u001b[0m\u001b[0m_pin_memory_thread\u001b[0m\u001b[1;33m.\u001b[0m\u001b[0mis_alive\u001b[0m\u001b[1;33m(\u001b[0m\u001b[1;33m)\u001b[0m\u001b[1;33m:\u001b[0m\u001b[1;33m\u001b[0m\u001b[1;33m\u001b[0m\u001b[0m\n\u001b[1;32m--> 798\u001b[1;33m                 \u001b[0msuccess\u001b[0m\u001b[1;33m,\u001b[0m \u001b[0mdata\u001b[0m \u001b[1;33m=\u001b[0m \u001b[0mself\u001b[0m\u001b[1;33m.\u001b[0m\u001b[0m_try_get_data\u001b[0m\u001b[1;33m(\u001b[0m\u001b[1;33m)\u001b[0m\u001b[1;33m\u001b[0m\u001b[1;33m\u001b[0m\u001b[0m\n\u001b[0m\u001b[0;32m    799\u001b[0m                 \u001b[1;32mif\u001b[0m \u001b[0msuccess\u001b[0m\u001b[1;33m:\u001b[0m\u001b[1;33m\u001b[0m\u001b[1;33m\u001b[0m\u001b[0m\n\u001b[0;32m    800\u001b[0m                     \u001b[1;32mreturn\u001b[0m \u001b[0mdata\u001b[0m\u001b[1;33m\u001b[0m\u001b[1;33m\u001b[0m\u001b[0m\n",
            "\u001b[1;32mD:\\Python\\envs\\pytorch\\lib\\site-packages\\torch\\utils\\data\\dataloader.py\u001b[0m in \u001b[0;36m_try_get_data\u001b[1;34m(self, timeout)\u001b[0m\n\u001b[0;32m    772\u001b[0m             \u001b[1;32mif\u001b[0m \u001b[0mlen\u001b[0m\u001b[1;33m(\u001b[0m\u001b[0mfailed_workers\u001b[0m\u001b[1;33m)\u001b[0m \u001b[1;33m>\u001b[0m \u001b[1;36m0\u001b[0m\u001b[1;33m:\u001b[0m\u001b[1;33m\u001b[0m\u001b[1;33m\u001b[0m\u001b[0m\n\u001b[0;32m    773\u001b[0m                 \u001b[0mpids_str\u001b[0m \u001b[1;33m=\u001b[0m \u001b[1;34m', '\u001b[0m\u001b[1;33m.\u001b[0m\u001b[0mjoin\u001b[0m\u001b[1;33m(\u001b[0m\u001b[0mstr\u001b[0m\u001b[1;33m(\u001b[0m\u001b[0mw\u001b[0m\u001b[1;33m.\u001b[0m\u001b[0mpid\u001b[0m\u001b[1;33m)\u001b[0m \u001b[1;32mfor\u001b[0m \u001b[0mw\u001b[0m \u001b[1;32min\u001b[0m \u001b[0mfailed_workers\u001b[0m\u001b[1;33m)\u001b[0m\u001b[1;33m\u001b[0m\u001b[1;33m\u001b[0m\u001b[0m\n\u001b[1;32m--> 774\u001b[1;33m                 \u001b[1;32mraise\u001b[0m \u001b[0mRuntimeError\u001b[0m\u001b[1;33m(\u001b[0m\u001b[1;34m'DataLoader worker (pid(s) {}) exited unexpectedly'\u001b[0m\u001b[1;33m.\u001b[0m\u001b[0mformat\u001b[0m\u001b[1;33m(\u001b[0m\u001b[0mpids_str\u001b[0m\u001b[1;33m)\u001b[0m\u001b[1;33m)\u001b[0m\u001b[1;33m\u001b[0m\u001b[1;33m\u001b[0m\u001b[0m\n\u001b[0m\u001b[0;32m    775\u001b[0m             \u001b[1;32mif\u001b[0m \u001b[0misinstance\u001b[0m\u001b[1;33m(\u001b[0m\u001b[0me\u001b[0m\u001b[1;33m,\u001b[0m \u001b[0mqueue\u001b[0m\u001b[1;33m.\u001b[0m\u001b[0mEmpty\u001b[0m\u001b[1;33m)\u001b[0m\u001b[1;33m:\u001b[0m\u001b[1;33m\u001b[0m\u001b[1;33m\u001b[0m\u001b[0m\n\u001b[0;32m    776\u001b[0m                 \u001b[1;32mreturn\u001b[0m \u001b[1;33m(\u001b[0m\u001b[1;32mFalse\u001b[0m\u001b[1;33m,\u001b[0m \u001b[1;32mNone\u001b[0m\u001b[1;33m)\u001b[0m\u001b[1;33m\u001b[0m\u001b[1;33m\u001b[0m\u001b[0m\n",
            "\u001b[1;31mRuntimeError\u001b[0m: DataLoader worker (pid(s) 13572, 13580, 13600, 13620) exited unexpectedly"
          ]
        }
      ]
    },
    {
      "cell_type": "code",
      "metadata": {
        "id": "87RaqGSEOWDe",
        "colab_type": "code",
        "colab": {
          "base_uri": "https://localhost:8080/",
          "height": 625
        },
        "outputId": "78d0e805-999d-4f16-e2f3-35e86fd829dd"
      },
      "source": [
        "fig, axs = plt.subplots(2,2,figsize=(15,10))\n",
        "axs[0, 0].plot(train_losses)\n",
        "axs[0, 0].set_title(\"Training Loss\")\n",
        "axs[1, 0].plot(train_acc)\n",
        "axs[1, 0].set_title(\"Training Accuracy\")\n",
        "axs[0, 1].plot(test_losses)\n",
        "axs[0, 1].set_title(\"Test Loss\")\n",
        "axs[1, 1].plot(test_acc)\n",
        "axs[1, 1].set_title(\"Test Accuracy\")"
      ],
      "execution_count": 23,
      "outputs": [
        {
          "output_type": "execute_result",
          "data": {
            "text/plain": "Text(0.5, 1.0, 'Test Accuracy')"
          },
          "metadata": {},
          "execution_count": 23
        },
        {
          "output_type": "display_data",
          "data": {
            "text/plain": "<Figure size 1080x720 with 4 Axes>",
            "image/svg+xml": "<?xml version=\"1.0\" encoding=\"utf-8\" standalone=\"no\"?>\r\n<!DOCTYPE svg PUBLIC \"-//W3C//DTD SVG 1.1//EN\"\r\n  \"http://www.w3.org/Graphics/SVG/1.1/DTD/svg11.dtd\">\r\n<!-- Created with matplotlib (https://matplotlib.org/) -->\r\n<svg height=\"589.79625pt\" version=\"1.1\" viewBox=\"0 0 889.045312 589.79625\" width=\"889.045312pt\" xmlns=\"http://www.w3.org/2000/svg\" xmlns:xlink=\"http://www.w3.org/1999/xlink\">\r\n <defs>\r\n  <style type=\"text/css\">\r\n*{stroke-linecap:butt;stroke-linejoin:round;}\r\n  </style>\r\n </defs>\r\n <g id=\"figure_1\">\r\n  <g id=\"patch_1\">\r\n   <path d=\"M 0 589.79625 \r\nL 889.045312 589.79625 \r\nL 889.045312 0 \r\nL 0 0 \r\nz\r\n\" style=\"fill:none;\"/>\r\n  </g>\r\n  <g id=\"axes_1\">\r\n   <g id=\"patch_2\">\r\n    <path d=\"M 44.845313 269.409034 \r\nL 425.299858 269.409034 \r\nL 425.299858 22.318125 \r\nL 44.845313 22.318125 \r\nz\r\n\" style=\"fill:#ffffff;\"/>\r\n   </g>\r\n   <g id=\"matplotlib.axis_1\">\r\n    <g id=\"xtick_1\">\r\n     <g id=\"line2d_1\">\r\n      <defs>\r\n       <path d=\"M 0 0 \r\nL 0 3.5 \r\n\" id=\"mc1b42999c7\" style=\"stroke:#000000;stroke-width:0.8;\"/>\r\n      </defs>\r\n      <g>\r\n       <use style=\"stroke:#000000;stroke-width:0.8;\" x=\"96.725478\" xlink:href=\"#mc1b42999c7\" y=\"269.409034\"/>\r\n      </g>\r\n     </g>\r\n     <g id=\"text_1\">\r\n      <!-- −0.04 -->\r\n      <defs>\r\n       <path d=\"M 10.59375 35.5 \r\nL 73.1875 35.5 \r\nL 73.1875 27.203125 \r\nL 10.59375 27.203125 \r\nz\r\n\" id=\"DejaVuSans-8722\"/>\r\n       <path d=\"M 31.78125 66.40625 \r\nQ 24.171875 66.40625 20.328125 58.90625 \r\nQ 16.5 51.421875 16.5 36.375 \r\nQ 16.5 21.390625 20.328125 13.890625 \r\nQ 24.171875 6.390625 31.78125 6.390625 \r\nQ 39.453125 6.390625 43.28125 13.890625 \r\nQ 47.125 21.390625 47.125 36.375 \r\nQ 47.125 51.421875 43.28125 58.90625 \r\nQ 39.453125 66.40625 31.78125 66.40625 \r\nz\r\nM 31.78125 74.21875 \r\nQ 44.046875 74.21875 50.515625 64.515625 \r\nQ 56.984375 54.828125 56.984375 36.375 \r\nQ 56.984375 17.96875 50.515625 8.265625 \r\nQ 44.046875 -1.421875 31.78125 -1.421875 \r\nQ 19.53125 -1.421875 13.0625 8.265625 \r\nQ 6.59375 17.96875 6.59375 36.375 \r\nQ 6.59375 54.828125 13.0625 64.515625 \r\nQ 19.53125 74.21875 31.78125 74.21875 \r\nz\r\n\" id=\"DejaVuSans-48\"/>\r\n       <path d=\"M 10.6875 12.40625 \r\nL 21 12.40625 \r\nL 21 0 \r\nL 10.6875 0 \r\nz\r\n\" id=\"DejaVuSans-46\"/>\r\n       <path d=\"M 37.796875 64.3125 \r\nL 12.890625 25.390625 \r\nL 37.796875 25.390625 \r\nz\r\nM 35.203125 72.90625 \r\nL 47.609375 72.90625 \r\nL 47.609375 25.390625 \r\nL 58.015625 25.390625 \r\nL 58.015625 17.1875 \r\nL 47.609375 17.1875 \r\nL 47.609375 0 \r\nL 37.796875 0 \r\nL 37.796875 17.1875 \r\nL 4.890625 17.1875 \r\nL 4.890625 26.703125 \r\nz\r\n\" id=\"DejaVuSans-52\"/>\r\n      </defs>\r\n      <g transform=\"translate(81.402822 284.007472)scale(0.1 -0.1)\">\r\n       <use xlink:href=\"#DejaVuSans-8722\"/>\r\n       <use x=\"83.789062\" xlink:href=\"#DejaVuSans-48\"/>\r\n       <use x=\"147.412109\" xlink:href=\"#DejaVuSans-46\"/>\r\n       <use x=\"179.199219\" xlink:href=\"#DejaVuSans-48\"/>\r\n       <use x=\"242.822266\" xlink:href=\"#DejaVuSans-52\"/>\r\n      </g>\r\n     </g>\r\n    </g>\r\n    <g id=\"xtick_2\">\r\n     <g id=\"line2d_2\">\r\n      <g>\r\n       <use style=\"stroke:#000000;stroke-width:0.8;\" x=\"165.899032\" xlink:href=\"#mc1b42999c7\" y=\"269.409034\"/>\r\n      </g>\r\n     </g>\r\n     <g id=\"text_2\">\r\n      <!-- −0.02 -->\r\n      <defs>\r\n       <path d=\"M 19.1875 8.296875 \r\nL 53.609375 8.296875 \r\nL 53.609375 0 \r\nL 7.328125 0 \r\nL 7.328125 8.296875 \r\nQ 12.9375 14.109375 22.625 23.890625 \r\nQ 32.328125 33.6875 34.8125 36.53125 \r\nQ 39.546875 41.84375 41.421875 45.53125 \r\nQ 43.3125 49.21875 43.3125 52.78125 \r\nQ 43.3125 58.59375 39.234375 62.25 \r\nQ 35.15625 65.921875 28.609375 65.921875 \r\nQ 23.96875 65.921875 18.8125 64.3125 \r\nQ 13.671875 62.703125 7.8125 59.421875 \r\nL 7.8125 69.390625 \r\nQ 13.765625 71.78125 18.9375 73 \r\nQ 24.125 74.21875 28.421875 74.21875 \r\nQ 39.75 74.21875 46.484375 68.546875 \r\nQ 53.21875 62.890625 53.21875 53.421875 \r\nQ 53.21875 48.921875 51.53125 44.890625 \r\nQ 49.859375 40.875 45.40625 35.40625 \r\nQ 44.1875 33.984375 37.640625 27.21875 \r\nQ 31.109375 20.453125 19.1875 8.296875 \r\nz\r\n\" id=\"DejaVuSans-50\"/>\r\n      </defs>\r\n      <g transform=\"translate(150.576375 284.007472)scale(0.1 -0.1)\">\r\n       <use xlink:href=\"#DejaVuSans-8722\"/>\r\n       <use x=\"83.789062\" xlink:href=\"#DejaVuSans-48\"/>\r\n       <use x=\"147.412109\" xlink:href=\"#DejaVuSans-46\"/>\r\n       <use x=\"179.199219\" xlink:href=\"#DejaVuSans-48\"/>\r\n       <use x=\"242.822266\" xlink:href=\"#DejaVuSans-50\"/>\r\n      </g>\r\n     </g>\r\n    </g>\r\n    <g id=\"xtick_3\">\r\n     <g id=\"line2d_3\">\r\n      <g>\r\n       <use style=\"stroke:#000000;stroke-width:0.8;\" x=\"235.072585\" xlink:href=\"#mc1b42999c7\" y=\"269.409034\"/>\r\n      </g>\r\n     </g>\r\n     <g id=\"text_3\">\r\n      <!-- 0.00 -->\r\n      <g transform=\"translate(223.939773 284.007472)scale(0.1 -0.1)\">\r\n       <use xlink:href=\"#DejaVuSans-48\"/>\r\n       <use x=\"63.623047\" xlink:href=\"#DejaVuSans-46\"/>\r\n       <use x=\"95.410156\" xlink:href=\"#DejaVuSans-48\"/>\r\n       <use x=\"159.033203\" xlink:href=\"#DejaVuSans-48\"/>\r\n      </g>\r\n     </g>\r\n    </g>\r\n    <g id=\"xtick_4\">\r\n     <g id=\"line2d_4\">\r\n      <g>\r\n       <use style=\"stroke:#000000;stroke-width:0.8;\" x=\"304.246139\" xlink:href=\"#mc1b42999c7\" y=\"269.409034\"/>\r\n      </g>\r\n     </g>\r\n     <g id=\"text_4\">\r\n      <!-- 0.02 -->\r\n      <g transform=\"translate(293.113326 284.007472)scale(0.1 -0.1)\">\r\n       <use xlink:href=\"#DejaVuSans-48\"/>\r\n       <use x=\"63.623047\" xlink:href=\"#DejaVuSans-46\"/>\r\n       <use x=\"95.410156\" xlink:href=\"#DejaVuSans-48\"/>\r\n       <use x=\"159.033203\" xlink:href=\"#DejaVuSans-50\"/>\r\n      </g>\r\n     </g>\r\n    </g>\r\n    <g id=\"xtick_5\">\r\n     <g id=\"line2d_5\">\r\n      <g>\r\n       <use style=\"stroke:#000000;stroke-width:0.8;\" x=\"373.419693\" xlink:href=\"#mc1b42999c7\" y=\"269.409034\"/>\r\n      </g>\r\n     </g>\r\n     <g id=\"text_5\">\r\n      <!-- 0.04 -->\r\n      <g transform=\"translate(362.28688 284.007472)scale(0.1 -0.1)\">\r\n       <use xlink:href=\"#DejaVuSans-48\"/>\r\n       <use x=\"63.623047\" xlink:href=\"#DejaVuSans-46\"/>\r\n       <use x=\"95.410156\" xlink:href=\"#DejaVuSans-48\"/>\r\n       <use x=\"159.033203\" xlink:href=\"#DejaVuSans-52\"/>\r\n      </g>\r\n     </g>\r\n    </g>\r\n   </g>\r\n   <g id=\"matplotlib.axis_2\">\r\n    <g id=\"ytick_1\">\r\n     <g id=\"line2d_6\">\r\n      <defs>\r\n       <path d=\"M 0 0 \r\nL -3.5 0 \r\n\" id=\"m5a966bed63\" style=\"stroke:#000000;stroke-width:0.8;\"/>\r\n      </defs>\r\n      <g>\r\n       <use style=\"stroke:#000000;stroke-width:0.8;\" x=\"44.845313\" xlink:href=\"#m5a966bed63\" y=\"235.714819\"/>\r\n      </g>\r\n     </g>\r\n     <g id=\"text_6\">\r\n      <!-- −0.04 -->\r\n      <g transform=\"translate(7.2 239.514038)scale(0.1 -0.1)\">\r\n       <use xlink:href=\"#DejaVuSans-8722\"/>\r\n       <use x=\"83.789062\" xlink:href=\"#DejaVuSans-48\"/>\r\n       <use x=\"147.412109\" xlink:href=\"#DejaVuSans-46\"/>\r\n       <use x=\"179.199219\" xlink:href=\"#DejaVuSans-48\"/>\r\n       <use x=\"242.822266\" xlink:href=\"#DejaVuSans-52\"/>\r\n      </g>\r\n     </g>\r\n    </g>\r\n    <g id=\"ytick_2\">\r\n     <g id=\"line2d_7\">\r\n      <g>\r\n       <use style=\"stroke:#000000;stroke-width:0.8;\" x=\"44.845313\" xlink:href=\"#m5a966bed63\" y=\"190.789199\"/>\r\n      </g>\r\n     </g>\r\n     <g id=\"text_7\">\r\n      <!-- −0.02 -->\r\n      <g transform=\"translate(7.2 194.588418)scale(0.1 -0.1)\">\r\n       <use xlink:href=\"#DejaVuSans-8722\"/>\r\n       <use x=\"83.789062\" xlink:href=\"#DejaVuSans-48\"/>\r\n       <use x=\"147.412109\" xlink:href=\"#DejaVuSans-46\"/>\r\n       <use x=\"179.199219\" xlink:href=\"#DejaVuSans-48\"/>\r\n       <use x=\"242.822266\" xlink:href=\"#DejaVuSans-50\"/>\r\n      </g>\r\n     </g>\r\n    </g>\r\n    <g id=\"ytick_3\">\r\n     <g id=\"line2d_8\">\r\n      <g>\r\n       <use style=\"stroke:#000000;stroke-width:0.8;\" x=\"44.845313\" xlink:href=\"#m5a966bed63\" y=\"145.86358\"/>\r\n      </g>\r\n     </g>\r\n     <g id=\"text_8\">\r\n      <!-- 0.00 -->\r\n      <g transform=\"translate(15.579688 149.662798)scale(0.1 -0.1)\">\r\n       <use xlink:href=\"#DejaVuSans-48\"/>\r\n       <use x=\"63.623047\" xlink:href=\"#DejaVuSans-46\"/>\r\n       <use x=\"95.410156\" xlink:href=\"#DejaVuSans-48\"/>\r\n       <use x=\"159.033203\" xlink:href=\"#DejaVuSans-48\"/>\r\n      </g>\r\n     </g>\r\n    </g>\r\n    <g id=\"ytick_4\">\r\n     <g id=\"line2d_9\">\r\n      <g>\r\n       <use style=\"stroke:#000000;stroke-width:0.8;\" x=\"44.845313\" xlink:href=\"#m5a966bed63\" y=\"100.93796\"/>\r\n      </g>\r\n     </g>\r\n     <g id=\"text_9\">\r\n      <!-- 0.02 -->\r\n      <g transform=\"translate(15.579688 104.737178)scale(0.1 -0.1)\">\r\n       <use xlink:href=\"#DejaVuSans-48\"/>\r\n       <use x=\"63.623047\" xlink:href=\"#DejaVuSans-46\"/>\r\n       <use x=\"95.410156\" xlink:href=\"#DejaVuSans-48\"/>\r\n       <use x=\"159.033203\" xlink:href=\"#DejaVuSans-50\"/>\r\n      </g>\r\n     </g>\r\n    </g>\r\n    <g id=\"ytick_5\">\r\n     <g id=\"line2d_10\">\r\n      <g>\r\n       <use style=\"stroke:#000000;stroke-width:0.8;\" x=\"44.845313\" xlink:href=\"#m5a966bed63\" y=\"56.01234\"/>\r\n      </g>\r\n     </g>\r\n     <g id=\"text_10\">\r\n      <!-- 0.04 -->\r\n      <g transform=\"translate(15.579688 59.811559)scale(0.1 -0.1)\">\r\n       <use xlink:href=\"#DejaVuSans-48\"/>\r\n       <use x=\"63.623047\" xlink:href=\"#DejaVuSans-46\"/>\r\n       <use x=\"95.410156\" xlink:href=\"#DejaVuSans-48\"/>\r\n       <use x=\"159.033203\" xlink:href=\"#DejaVuSans-52\"/>\r\n      </g>\r\n     </g>\r\n    </g>\r\n   </g>\r\n   <g id=\"line2d_11\"/>\r\n   <g id=\"patch_3\">\r\n    <path d=\"M 44.845313 269.409034 \r\nL 44.845313 22.318125 \r\n\" style=\"fill:none;stroke:#000000;stroke-linecap:square;stroke-linejoin:miter;stroke-width:0.8;\"/>\r\n   </g>\r\n   <g id=\"patch_4\">\r\n    <path d=\"M 425.299858 269.409034 \r\nL 425.299858 22.318125 \r\n\" style=\"fill:none;stroke:#000000;stroke-linecap:square;stroke-linejoin:miter;stroke-width:0.8;\"/>\r\n   </g>\r\n   <g id=\"patch_5\">\r\n    <path d=\"M 44.845313 269.409034 \r\nL 425.299858 269.409034 \r\n\" style=\"fill:none;stroke:#000000;stroke-linecap:square;stroke-linejoin:miter;stroke-width:0.8;\"/>\r\n   </g>\r\n   <g id=\"patch_6\">\r\n    <path d=\"M 44.845313 22.318125 \r\nL 425.299858 22.318125 \r\n\" style=\"fill:none;stroke:#000000;stroke-linecap:square;stroke-linejoin:miter;stroke-width:0.8;\"/>\r\n   </g>\r\n   <g id=\"text_11\">\r\n    <!-- Training Loss -->\r\n    <defs>\r\n     <path d=\"M -0.296875 72.90625 \r\nL 61.375 72.90625 \r\nL 61.375 64.59375 \r\nL 35.5 64.59375 \r\nL 35.5 0 \r\nL 25.59375 0 \r\nL 25.59375 64.59375 \r\nL -0.296875 64.59375 \r\nz\r\n\" id=\"DejaVuSans-84\"/>\r\n     <path d=\"M 41.109375 46.296875 \r\nQ 39.59375 47.171875 37.8125 47.578125 \r\nQ 36.03125 48 33.890625 48 \r\nQ 26.265625 48 22.1875 43.046875 \r\nQ 18.109375 38.09375 18.109375 28.8125 \r\nL 18.109375 0 \r\nL 9.078125 0 \r\nL 9.078125 54.6875 \r\nL 18.109375 54.6875 \r\nL 18.109375 46.1875 \r\nQ 20.953125 51.171875 25.484375 53.578125 \r\nQ 30.03125 56 36.53125 56 \r\nQ 37.453125 56 38.578125 55.875 \r\nQ 39.703125 55.765625 41.0625 55.515625 \r\nz\r\n\" id=\"DejaVuSans-114\"/>\r\n     <path d=\"M 34.28125 27.484375 \r\nQ 23.390625 27.484375 19.1875 25 \r\nQ 14.984375 22.515625 14.984375 16.5 \r\nQ 14.984375 11.71875 18.140625 8.90625 \r\nQ 21.296875 6.109375 26.703125 6.109375 \r\nQ 34.1875 6.109375 38.703125 11.40625 \r\nQ 43.21875 16.703125 43.21875 25.484375 \r\nL 43.21875 27.484375 \r\nz\r\nM 52.203125 31.203125 \r\nL 52.203125 0 \r\nL 43.21875 0 \r\nL 43.21875 8.296875 \r\nQ 40.140625 3.328125 35.546875 0.953125 \r\nQ 30.953125 -1.421875 24.3125 -1.421875 \r\nQ 15.921875 -1.421875 10.953125 3.296875 \r\nQ 6 8.015625 6 15.921875 \r\nQ 6 25.140625 12.171875 29.828125 \r\nQ 18.359375 34.515625 30.609375 34.515625 \r\nL 43.21875 34.515625 \r\nL 43.21875 35.40625 \r\nQ 43.21875 41.609375 39.140625 45 \r\nQ 35.0625 48.390625 27.6875 48.390625 \r\nQ 23 48.390625 18.546875 47.265625 \r\nQ 14.109375 46.140625 10.015625 43.890625 \r\nL 10.015625 52.203125 \r\nQ 14.9375 54.109375 19.578125 55.046875 \r\nQ 24.21875 56 28.609375 56 \r\nQ 40.484375 56 46.34375 49.84375 \r\nQ 52.203125 43.703125 52.203125 31.203125 \r\nz\r\n\" id=\"DejaVuSans-97\"/>\r\n     <path d=\"M 9.421875 54.6875 \r\nL 18.40625 54.6875 \r\nL 18.40625 0 \r\nL 9.421875 0 \r\nz\r\nM 9.421875 75.984375 \r\nL 18.40625 75.984375 \r\nL 18.40625 64.59375 \r\nL 9.421875 64.59375 \r\nz\r\n\" id=\"DejaVuSans-105\"/>\r\n     <path d=\"M 54.890625 33.015625 \r\nL 54.890625 0 \r\nL 45.90625 0 \r\nL 45.90625 32.71875 \r\nQ 45.90625 40.484375 42.875 44.328125 \r\nQ 39.84375 48.1875 33.796875 48.1875 \r\nQ 26.515625 48.1875 22.3125 43.546875 \r\nQ 18.109375 38.921875 18.109375 30.90625 \r\nL 18.109375 0 \r\nL 9.078125 0 \r\nL 9.078125 54.6875 \r\nL 18.109375 54.6875 \r\nL 18.109375 46.1875 \r\nQ 21.34375 51.125 25.703125 53.5625 \r\nQ 30.078125 56 35.796875 56 \r\nQ 45.21875 56 50.046875 50.171875 \r\nQ 54.890625 44.34375 54.890625 33.015625 \r\nz\r\n\" id=\"DejaVuSans-110\"/>\r\n     <path d=\"M 45.40625 27.984375 \r\nQ 45.40625 37.75 41.375 43.109375 \r\nQ 37.359375 48.484375 30.078125 48.484375 \r\nQ 22.859375 48.484375 18.828125 43.109375 \r\nQ 14.796875 37.75 14.796875 27.984375 \r\nQ 14.796875 18.265625 18.828125 12.890625 \r\nQ 22.859375 7.515625 30.078125 7.515625 \r\nQ 37.359375 7.515625 41.375 12.890625 \r\nQ 45.40625 18.265625 45.40625 27.984375 \r\nz\r\nM 54.390625 6.78125 \r\nQ 54.390625 -7.171875 48.1875 -13.984375 \r\nQ 42 -20.796875 29.203125 -20.796875 \r\nQ 24.46875 -20.796875 20.265625 -20.09375 \r\nQ 16.0625 -19.390625 12.109375 -17.921875 \r\nL 12.109375 -9.1875 \r\nQ 16.0625 -11.328125 19.921875 -12.34375 \r\nQ 23.78125 -13.375 27.78125 -13.375 \r\nQ 36.625 -13.375 41.015625 -8.765625 \r\nQ 45.40625 -4.15625 45.40625 5.171875 \r\nL 45.40625 9.625 \r\nQ 42.625 4.78125 38.28125 2.390625 \r\nQ 33.9375 0 27.875 0 \r\nQ 17.828125 0 11.671875 7.65625 \r\nQ 5.515625 15.328125 5.515625 27.984375 \r\nQ 5.515625 40.671875 11.671875 48.328125 \r\nQ 17.828125 56 27.875 56 \r\nQ 33.9375 56 38.28125 53.609375 \r\nQ 42.625 51.21875 45.40625 46.390625 \r\nL 45.40625 54.6875 \r\nL 54.390625 54.6875 \r\nz\r\n\" id=\"DejaVuSans-103\"/>\r\n     <path id=\"DejaVuSans-32\"/>\r\n     <path d=\"M 9.8125 72.90625 \r\nL 19.671875 72.90625 \r\nL 19.671875 8.296875 \r\nL 55.171875 8.296875 \r\nL 55.171875 0 \r\nL 9.8125 0 \r\nz\r\n\" id=\"DejaVuSans-76\"/>\r\n     <path d=\"M 30.609375 48.390625 \r\nQ 23.390625 48.390625 19.1875 42.75 \r\nQ 14.984375 37.109375 14.984375 27.296875 \r\nQ 14.984375 17.484375 19.15625 11.84375 \r\nQ 23.34375 6.203125 30.609375 6.203125 \r\nQ 37.796875 6.203125 41.984375 11.859375 \r\nQ 46.1875 17.53125 46.1875 27.296875 \r\nQ 46.1875 37.015625 41.984375 42.703125 \r\nQ 37.796875 48.390625 30.609375 48.390625 \r\nz\r\nM 30.609375 56 \r\nQ 42.328125 56 49.015625 48.375 \r\nQ 55.71875 40.765625 55.71875 27.296875 \r\nQ 55.71875 13.875 49.015625 6.21875 \r\nQ 42.328125 -1.421875 30.609375 -1.421875 \r\nQ 18.84375 -1.421875 12.171875 6.21875 \r\nQ 5.515625 13.875 5.515625 27.296875 \r\nQ 5.515625 40.765625 12.171875 48.375 \r\nQ 18.84375 56 30.609375 56 \r\nz\r\n\" id=\"DejaVuSans-111\"/>\r\n     <path d=\"M 44.28125 53.078125 \r\nL 44.28125 44.578125 \r\nQ 40.484375 46.53125 36.375 47.5 \r\nQ 32.28125 48.484375 27.875 48.484375 \r\nQ 21.1875 48.484375 17.84375 46.4375 \r\nQ 14.5 44.390625 14.5 40.28125 \r\nQ 14.5 37.15625 16.890625 35.375 \r\nQ 19.28125 33.59375 26.515625 31.984375 \r\nL 29.59375 31.296875 \r\nQ 39.15625 29.25 43.1875 25.515625 \r\nQ 47.21875 21.78125 47.21875 15.09375 \r\nQ 47.21875 7.46875 41.1875 3.015625 \r\nQ 35.15625 -1.421875 24.609375 -1.421875 \r\nQ 20.21875 -1.421875 15.453125 -0.5625 \r\nQ 10.6875 0.296875 5.421875 2 \r\nL 5.421875 11.28125 \r\nQ 10.40625 8.6875 15.234375 7.390625 \r\nQ 20.0625 6.109375 24.8125 6.109375 \r\nQ 31.15625 6.109375 34.5625 8.28125 \r\nQ 37.984375 10.453125 37.984375 14.40625 \r\nQ 37.984375 18.0625 35.515625 20.015625 \r\nQ 33.0625 21.96875 24.703125 23.78125 \r\nL 21.578125 24.515625 \r\nQ 13.234375 26.265625 9.515625 29.90625 \r\nQ 5.8125 33.546875 5.8125 39.890625 \r\nQ 5.8125 47.609375 11.28125 51.796875 \r\nQ 16.75 56 26.8125 56 \r\nQ 31.78125 56 36.171875 55.265625 \r\nQ 40.578125 54.546875 44.28125 53.078125 \r\nz\r\n\" id=\"DejaVuSans-115\"/>\r\n    </defs>\r\n    <g transform=\"translate(196.334148 16.318125)scale(0.12 -0.12)\">\r\n     <use xlink:href=\"#DejaVuSans-84\"/>\r\n     <use x=\"46.333984\" xlink:href=\"#DejaVuSans-114\"/>\r\n     <use x=\"87.447266\" xlink:href=\"#DejaVuSans-97\"/>\r\n     <use x=\"148.726562\" xlink:href=\"#DejaVuSans-105\"/>\r\n     <use x=\"176.509766\" xlink:href=\"#DejaVuSans-110\"/>\r\n     <use x=\"239.888672\" xlink:href=\"#DejaVuSans-105\"/>\r\n     <use x=\"267.671875\" xlink:href=\"#DejaVuSans-110\"/>\r\n     <use x=\"331.050781\" xlink:href=\"#DejaVuSans-103\"/>\r\n     <use x=\"394.527344\" xlink:href=\"#DejaVuSans-32\"/>\r\n     <use x=\"426.314453\" xlink:href=\"#DejaVuSans-76\"/>\r\n     <use x=\"480.277344\" xlink:href=\"#DejaVuSans-111\"/>\r\n     <use x=\"541.458984\" xlink:href=\"#DejaVuSans-115\"/>\r\n     <use x=\"593.558594\" xlink:href=\"#DejaVuSans-115\"/>\r\n    </g>\r\n   </g>\r\n  </g>\r\n  <g id=\"axes_2\">\r\n   <g id=\"patch_7\">\r\n    <path d=\"M 501.390767 269.409034 \r\nL 881.845312 269.409034 \r\nL 881.845312 22.318125 \r\nL 501.390767 22.318125 \r\nz\r\n\" style=\"fill:#ffffff;\"/>\r\n   </g>\r\n   <g id=\"matplotlib.axis_3\">\r\n    <g id=\"xtick_6\">\r\n     <g id=\"line2d_12\">\r\n      <g>\r\n       <use style=\"stroke:#000000;stroke-width:0.8;\" x=\"553.270932\" xlink:href=\"#mc1b42999c7\" y=\"269.409034\"/>\r\n      </g>\r\n     </g>\r\n     <g id=\"text_12\">\r\n      <!-- −0.04 -->\r\n      <g transform=\"translate(537.948276 284.007472)scale(0.1 -0.1)\">\r\n       <use xlink:href=\"#DejaVuSans-8722\"/>\r\n       <use x=\"83.789062\" xlink:href=\"#DejaVuSans-48\"/>\r\n       <use x=\"147.412109\" xlink:href=\"#DejaVuSans-46\"/>\r\n       <use x=\"179.199219\" xlink:href=\"#DejaVuSans-48\"/>\r\n       <use x=\"242.822266\" xlink:href=\"#DejaVuSans-52\"/>\r\n      </g>\r\n     </g>\r\n    </g>\r\n    <g id=\"xtick_7\">\r\n     <g id=\"line2d_13\">\r\n      <g>\r\n       <use style=\"stroke:#000000;stroke-width:0.8;\" x=\"622.444486\" xlink:href=\"#mc1b42999c7\" y=\"269.409034\"/>\r\n      </g>\r\n     </g>\r\n     <g id=\"text_13\">\r\n      <!-- −0.02 -->\r\n      <g transform=\"translate(607.12183 284.007472)scale(0.1 -0.1)\">\r\n       <use xlink:href=\"#DejaVuSans-8722\"/>\r\n       <use x=\"83.789062\" xlink:href=\"#DejaVuSans-48\"/>\r\n       <use x=\"147.412109\" xlink:href=\"#DejaVuSans-46\"/>\r\n       <use x=\"179.199219\" xlink:href=\"#DejaVuSans-48\"/>\r\n       <use x=\"242.822266\" xlink:href=\"#DejaVuSans-50\"/>\r\n      </g>\r\n     </g>\r\n    </g>\r\n    <g id=\"xtick_8\">\r\n     <g id=\"line2d_14\">\r\n      <g>\r\n       <use style=\"stroke:#000000;stroke-width:0.8;\" x=\"691.61804\" xlink:href=\"#mc1b42999c7\" y=\"269.409034\"/>\r\n      </g>\r\n     </g>\r\n     <g id=\"text_14\">\r\n      <!-- 0.00 -->\r\n      <g transform=\"translate(680.485227 284.007472)scale(0.1 -0.1)\">\r\n       <use xlink:href=\"#DejaVuSans-48\"/>\r\n       <use x=\"63.623047\" xlink:href=\"#DejaVuSans-46\"/>\r\n       <use x=\"95.410156\" xlink:href=\"#DejaVuSans-48\"/>\r\n       <use x=\"159.033203\" xlink:href=\"#DejaVuSans-48\"/>\r\n      </g>\r\n     </g>\r\n    </g>\r\n    <g id=\"xtick_9\">\r\n     <g id=\"line2d_15\">\r\n      <g>\r\n       <use style=\"stroke:#000000;stroke-width:0.8;\" x=\"760.791593\" xlink:href=\"#mc1b42999c7\" y=\"269.409034\"/>\r\n      </g>\r\n     </g>\r\n     <g id=\"text_15\">\r\n      <!-- 0.02 -->\r\n      <g transform=\"translate(749.658781 284.007472)scale(0.1 -0.1)\">\r\n       <use xlink:href=\"#DejaVuSans-48\"/>\r\n       <use x=\"63.623047\" xlink:href=\"#DejaVuSans-46\"/>\r\n       <use x=\"95.410156\" xlink:href=\"#DejaVuSans-48\"/>\r\n       <use x=\"159.033203\" xlink:href=\"#DejaVuSans-50\"/>\r\n      </g>\r\n     </g>\r\n    </g>\r\n    <g id=\"xtick_10\">\r\n     <g id=\"line2d_16\">\r\n      <g>\r\n       <use style=\"stroke:#000000;stroke-width:0.8;\" x=\"829.965147\" xlink:href=\"#mc1b42999c7\" y=\"269.409034\"/>\r\n      </g>\r\n     </g>\r\n     <g id=\"text_16\">\r\n      <!-- 0.04 -->\r\n      <g transform=\"translate(818.832335 284.007472)scale(0.1 -0.1)\">\r\n       <use xlink:href=\"#DejaVuSans-48\"/>\r\n       <use x=\"63.623047\" xlink:href=\"#DejaVuSans-46\"/>\r\n       <use x=\"95.410156\" xlink:href=\"#DejaVuSans-48\"/>\r\n       <use x=\"159.033203\" xlink:href=\"#DejaVuSans-52\"/>\r\n      </g>\r\n     </g>\r\n    </g>\r\n   </g>\r\n   <g id=\"matplotlib.axis_4\">\r\n    <g id=\"ytick_6\">\r\n     <g id=\"line2d_17\">\r\n      <g>\r\n       <use style=\"stroke:#000000;stroke-width:0.8;\" x=\"501.390767\" xlink:href=\"#m5a966bed63\" y=\"235.714819\"/>\r\n      </g>\r\n     </g>\r\n     <g id=\"text_17\">\r\n      <!-- −0.04 -->\r\n      <g transform=\"translate(463.745455 239.514038)scale(0.1 -0.1)\">\r\n       <use xlink:href=\"#DejaVuSans-8722\"/>\r\n       <use x=\"83.789062\" xlink:href=\"#DejaVuSans-48\"/>\r\n       <use x=\"147.412109\" xlink:href=\"#DejaVuSans-46\"/>\r\n       <use x=\"179.199219\" xlink:href=\"#DejaVuSans-48\"/>\r\n       <use x=\"242.822266\" xlink:href=\"#DejaVuSans-52\"/>\r\n      </g>\r\n     </g>\r\n    </g>\r\n    <g id=\"ytick_7\">\r\n     <g id=\"line2d_18\">\r\n      <g>\r\n       <use style=\"stroke:#000000;stroke-width:0.8;\" x=\"501.390767\" xlink:href=\"#m5a966bed63\" y=\"190.789199\"/>\r\n      </g>\r\n     </g>\r\n     <g id=\"text_18\">\r\n      <!-- −0.02 -->\r\n      <g transform=\"translate(463.745455 194.588418)scale(0.1 -0.1)\">\r\n       <use xlink:href=\"#DejaVuSans-8722\"/>\r\n       <use x=\"83.789062\" xlink:href=\"#DejaVuSans-48\"/>\r\n       <use x=\"147.412109\" xlink:href=\"#DejaVuSans-46\"/>\r\n       <use x=\"179.199219\" xlink:href=\"#DejaVuSans-48\"/>\r\n       <use x=\"242.822266\" xlink:href=\"#DejaVuSans-50\"/>\r\n      </g>\r\n     </g>\r\n    </g>\r\n    <g id=\"ytick_8\">\r\n     <g id=\"line2d_19\">\r\n      <g>\r\n       <use style=\"stroke:#000000;stroke-width:0.8;\" x=\"501.390767\" xlink:href=\"#m5a966bed63\" y=\"145.86358\"/>\r\n      </g>\r\n     </g>\r\n     <g id=\"text_19\">\r\n      <!-- 0.00 -->\r\n      <g transform=\"translate(472.125142 149.662798)scale(0.1 -0.1)\">\r\n       <use xlink:href=\"#DejaVuSans-48\"/>\r\n       <use x=\"63.623047\" xlink:href=\"#DejaVuSans-46\"/>\r\n       <use x=\"95.410156\" xlink:href=\"#DejaVuSans-48\"/>\r\n       <use x=\"159.033203\" xlink:href=\"#DejaVuSans-48\"/>\r\n      </g>\r\n     </g>\r\n    </g>\r\n    <g id=\"ytick_9\">\r\n     <g id=\"line2d_20\">\r\n      <g>\r\n       <use style=\"stroke:#000000;stroke-width:0.8;\" x=\"501.390767\" xlink:href=\"#m5a966bed63\" y=\"100.93796\"/>\r\n      </g>\r\n     </g>\r\n     <g id=\"text_20\">\r\n      <!-- 0.02 -->\r\n      <g transform=\"translate(472.125142 104.737178)scale(0.1 -0.1)\">\r\n       <use xlink:href=\"#DejaVuSans-48\"/>\r\n       <use x=\"63.623047\" xlink:href=\"#DejaVuSans-46\"/>\r\n       <use x=\"95.410156\" xlink:href=\"#DejaVuSans-48\"/>\r\n       <use x=\"159.033203\" xlink:href=\"#DejaVuSans-50\"/>\r\n      </g>\r\n     </g>\r\n    </g>\r\n    <g id=\"ytick_10\">\r\n     <g id=\"line2d_21\">\r\n      <g>\r\n       <use style=\"stroke:#000000;stroke-width:0.8;\" x=\"501.390767\" xlink:href=\"#m5a966bed63\" y=\"56.01234\"/>\r\n      </g>\r\n     </g>\r\n     <g id=\"text_21\">\r\n      <!-- 0.04 -->\r\n      <g transform=\"translate(472.125142 59.811559)scale(0.1 -0.1)\">\r\n       <use xlink:href=\"#DejaVuSans-48\"/>\r\n       <use x=\"63.623047\" xlink:href=\"#DejaVuSans-46\"/>\r\n       <use x=\"95.410156\" xlink:href=\"#DejaVuSans-48\"/>\r\n       <use x=\"159.033203\" xlink:href=\"#DejaVuSans-52\"/>\r\n      </g>\r\n     </g>\r\n    </g>\r\n   </g>\r\n   <g id=\"line2d_22\"/>\r\n   <g id=\"patch_8\">\r\n    <path d=\"M 501.390767 269.409034 \r\nL 501.390767 22.318125 \r\n\" style=\"fill:none;stroke:#000000;stroke-linecap:square;stroke-linejoin:miter;stroke-width:0.8;\"/>\r\n   </g>\r\n   <g id=\"patch_9\">\r\n    <path d=\"M 881.845312 269.409034 \r\nL 881.845312 22.318125 \r\n\" style=\"fill:none;stroke:#000000;stroke-linecap:square;stroke-linejoin:miter;stroke-width:0.8;\"/>\r\n   </g>\r\n   <g id=\"patch_10\">\r\n    <path d=\"M 501.390767 269.409034 \r\nL 881.845312 269.409034 \r\n\" style=\"fill:none;stroke:#000000;stroke-linecap:square;stroke-linejoin:miter;stroke-width:0.8;\"/>\r\n   </g>\r\n   <g id=\"patch_11\">\r\n    <path d=\"M 501.390767 22.318125 \r\nL 881.845312 22.318125 \r\n\" style=\"fill:none;stroke:#000000;stroke-linecap:square;stroke-linejoin:miter;stroke-width:0.8;\"/>\r\n   </g>\r\n   <g id=\"text_22\">\r\n    <!-- Test Loss -->\r\n    <defs>\r\n     <path d=\"M 56.203125 29.59375 \r\nL 56.203125 25.203125 \r\nL 14.890625 25.203125 \r\nQ 15.484375 15.921875 20.484375 11.0625 \r\nQ 25.484375 6.203125 34.421875 6.203125 \r\nQ 39.59375 6.203125 44.453125 7.46875 \r\nQ 49.3125 8.734375 54.109375 11.28125 \r\nL 54.109375 2.78125 \r\nQ 49.265625 0.734375 44.1875 -0.34375 \r\nQ 39.109375 -1.421875 33.890625 -1.421875 \r\nQ 20.796875 -1.421875 13.15625 6.1875 \r\nQ 5.515625 13.8125 5.515625 26.8125 \r\nQ 5.515625 40.234375 12.765625 48.109375 \r\nQ 20.015625 56 32.328125 56 \r\nQ 43.359375 56 49.78125 48.890625 \r\nQ 56.203125 41.796875 56.203125 29.59375 \r\nz\r\nM 47.21875 32.234375 \r\nQ 47.125 39.59375 43.09375 43.984375 \r\nQ 39.0625 48.390625 32.421875 48.390625 \r\nQ 24.90625 48.390625 20.390625 44.140625 \r\nQ 15.875 39.890625 15.1875 32.171875 \r\nz\r\n\" id=\"DejaVuSans-101\"/>\r\n     <path d=\"M 18.3125 70.21875 \r\nL 18.3125 54.6875 \r\nL 36.8125 54.6875 \r\nL 36.8125 47.703125 \r\nL 18.3125 47.703125 \r\nL 18.3125 18.015625 \r\nQ 18.3125 11.328125 20.140625 9.421875 \r\nQ 21.96875 7.515625 27.59375 7.515625 \r\nL 36.8125 7.515625 \r\nL 36.8125 0 \r\nL 27.59375 0 \r\nQ 17.1875 0 13.234375 3.875 \r\nQ 9.28125 7.765625 9.28125 18.015625 \r\nL 9.28125 47.703125 \r\nL 2.6875 47.703125 \r\nL 2.6875 54.6875 \r\nL 9.28125 54.6875 \r\nL 9.28125 70.21875 \r\nz\r\n\" id=\"DejaVuSans-116\"/>\r\n    </defs>\r\n    <g transform=\"translate(664.736165 16.318125)scale(0.12 -0.12)\">\r\n     <use xlink:href=\"#DejaVuSans-84\"/>\r\n     <use x=\"44.083984\" xlink:href=\"#DejaVuSans-101\"/>\r\n     <use x=\"105.607422\" xlink:href=\"#DejaVuSans-115\"/>\r\n     <use x=\"157.707031\" xlink:href=\"#DejaVuSans-116\"/>\r\n     <use x=\"196.916016\" xlink:href=\"#DejaVuSans-32\"/>\r\n     <use x=\"228.703125\" xlink:href=\"#DejaVuSans-76\"/>\r\n     <use x=\"282.666016\" xlink:href=\"#DejaVuSans-111\"/>\r\n     <use x=\"343.847656\" xlink:href=\"#DejaVuSans-115\"/>\r\n     <use x=\"395.947266\" xlink:href=\"#DejaVuSans-115\"/>\r\n    </g>\r\n   </g>\r\n  </g>\r\n  <g id=\"axes_3\">\r\n   <g id=\"patch_12\">\r\n    <path d=\"M 44.845313 565.918125 \r\nL 425.299858 565.918125 \r\nL 425.299858 318.827216 \r\nL 44.845313 318.827216 \r\nz\r\n\" style=\"fill:#ffffff;\"/>\r\n   </g>\r\n   <g id=\"matplotlib.axis_5\">\r\n    <g id=\"xtick_11\">\r\n     <g id=\"line2d_23\">\r\n      <g>\r\n       <use style=\"stroke:#000000;stroke-width:0.8;\" x=\"96.725478\" xlink:href=\"#mc1b42999c7\" y=\"565.918125\"/>\r\n      </g>\r\n     </g>\r\n     <g id=\"text_23\">\r\n      <!-- −0.04 -->\r\n      <g transform=\"translate(81.402822 580.516562)scale(0.1 -0.1)\">\r\n       <use xlink:href=\"#DejaVuSans-8722\"/>\r\n       <use x=\"83.789062\" xlink:href=\"#DejaVuSans-48\"/>\r\n       <use x=\"147.412109\" xlink:href=\"#DejaVuSans-46\"/>\r\n       <use x=\"179.199219\" xlink:href=\"#DejaVuSans-48\"/>\r\n       <use x=\"242.822266\" xlink:href=\"#DejaVuSans-52\"/>\r\n      </g>\r\n     </g>\r\n    </g>\r\n    <g id=\"xtick_12\">\r\n     <g id=\"line2d_24\">\r\n      <g>\r\n       <use style=\"stroke:#000000;stroke-width:0.8;\" x=\"165.899032\" xlink:href=\"#mc1b42999c7\" y=\"565.918125\"/>\r\n      </g>\r\n     </g>\r\n     <g id=\"text_24\">\r\n      <!-- −0.02 -->\r\n      <g transform=\"translate(150.576375 580.516562)scale(0.1 -0.1)\">\r\n       <use xlink:href=\"#DejaVuSans-8722\"/>\r\n       <use x=\"83.789062\" xlink:href=\"#DejaVuSans-48\"/>\r\n       <use x=\"147.412109\" xlink:href=\"#DejaVuSans-46\"/>\r\n       <use x=\"179.199219\" xlink:href=\"#DejaVuSans-48\"/>\r\n       <use x=\"242.822266\" xlink:href=\"#DejaVuSans-50\"/>\r\n      </g>\r\n     </g>\r\n    </g>\r\n    <g id=\"xtick_13\">\r\n     <g id=\"line2d_25\">\r\n      <g>\r\n       <use style=\"stroke:#000000;stroke-width:0.8;\" x=\"235.072585\" xlink:href=\"#mc1b42999c7\" y=\"565.918125\"/>\r\n      </g>\r\n     </g>\r\n     <g id=\"text_25\">\r\n      <!-- 0.00 -->\r\n      <g transform=\"translate(223.939773 580.516562)scale(0.1 -0.1)\">\r\n       <use xlink:href=\"#DejaVuSans-48\"/>\r\n       <use x=\"63.623047\" xlink:href=\"#DejaVuSans-46\"/>\r\n       <use x=\"95.410156\" xlink:href=\"#DejaVuSans-48\"/>\r\n       <use x=\"159.033203\" xlink:href=\"#DejaVuSans-48\"/>\r\n      </g>\r\n     </g>\r\n    </g>\r\n    <g id=\"xtick_14\">\r\n     <g id=\"line2d_26\">\r\n      <g>\r\n       <use style=\"stroke:#000000;stroke-width:0.8;\" x=\"304.246139\" xlink:href=\"#mc1b42999c7\" y=\"565.918125\"/>\r\n      </g>\r\n     </g>\r\n     <g id=\"text_26\">\r\n      <!-- 0.02 -->\r\n      <g transform=\"translate(293.113326 580.516562)scale(0.1 -0.1)\">\r\n       <use xlink:href=\"#DejaVuSans-48\"/>\r\n       <use x=\"63.623047\" xlink:href=\"#DejaVuSans-46\"/>\r\n       <use x=\"95.410156\" xlink:href=\"#DejaVuSans-48\"/>\r\n       <use x=\"159.033203\" xlink:href=\"#DejaVuSans-50\"/>\r\n      </g>\r\n     </g>\r\n    </g>\r\n    <g id=\"xtick_15\">\r\n     <g id=\"line2d_27\">\r\n      <g>\r\n       <use style=\"stroke:#000000;stroke-width:0.8;\" x=\"373.419693\" xlink:href=\"#mc1b42999c7\" y=\"565.918125\"/>\r\n      </g>\r\n     </g>\r\n     <g id=\"text_27\">\r\n      <!-- 0.04 -->\r\n      <g transform=\"translate(362.28688 580.516562)scale(0.1 -0.1)\">\r\n       <use xlink:href=\"#DejaVuSans-48\"/>\r\n       <use x=\"63.623047\" xlink:href=\"#DejaVuSans-46\"/>\r\n       <use x=\"95.410156\" xlink:href=\"#DejaVuSans-48\"/>\r\n       <use x=\"159.033203\" xlink:href=\"#DejaVuSans-52\"/>\r\n      </g>\r\n     </g>\r\n    </g>\r\n   </g>\r\n   <g id=\"matplotlib.axis_6\">\r\n    <g id=\"ytick_11\">\r\n     <g id=\"line2d_28\">\r\n      <g>\r\n       <use style=\"stroke:#000000;stroke-width:0.8;\" x=\"44.845313\" xlink:href=\"#m5a966bed63\" y=\"532.22391\"/>\r\n      </g>\r\n     </g>\r\n     <g id=\"text_28\">\r\n      <!-- −0.04 -->\r\n      <g transform=\"translate(7.2 536.023129)scale(0.1 -0.1)\">\r\n       <use xlink:href=\"#DejaVuSans-8722\"/>\r\n       <use x=\"83.789062\" xlink:href=\"#DejaVuSans-48\"/>\r\n       <use x=\"147.412109\" xlink:href=\"#DejaVuSans-46\"/>\r\n       <use x=\"179.199219\" xlink:href=\"#DejaVuSans-48\"/>\r\n       <use x=\"242.822266\" xlink:href=\"#DejaVuSans-52\"/>\r\n      </g>\r\n     </g>\r\n    </g>\r\n    <g id=\"ytick_12\">\r\n     <g id=\"line2d_29\">\r\n      <g>\r\n       <use style=\"stroke:#000000;stroke-width:0.8;\" x=\"44.845313\" xlink:href=\"#m5a966bed63\" y=\"487.29829\"/>\r\n      </g>\r\n     </g>\r\n     <g id=\"text_29\">\r\n      <!-- −0.02 -->\r\n      <g transform=\"translate(7.2 491.097509)scale(0.1 -0.1)\">\r\n       <use xlink:href=\"#DejaVuSans-8722\"/>\r\n       <use x=\"83.789062\" xlink:href=\"#DejaVuSans-48\"/>\r\n       <use x=\"147.412109\" xlink:href=\"#DejaVuSans-46\"/>\r\n       <use x=\"179.199219\" xlink:href=\"#DejaVuSans-48\"/>\r\n       <use x=\"242.822266\" xlink:href=\"#DejaVuSans-50\"/>\r\n      </g>\r\n     </g>\r\n    </g>\r\n    <g id=\"ytick_13\">\r\n     <g id=\"line2d_30\">\r\n      <g>\r\n       <use style=\"stroke:#000000;stroke-width:0.8;\" x=\"44.845313\" xlink:href=\"#m5a966bed63\" y=\"442.37267\"/>\r\n      </g>\r\n     </g>\r\n     <g id=\"text_30\">\r\n      <!-- 0.00 -->\r\n      <g transform=\"translate(15.579688 446.171889)scale(0.1 -0.1)\">\r\n       <use xlink:href=\"#DejaVuSans-48\"/>\r\n       <use x=\"63.623047\" xlink:href=\"#DejaVuSans-46\"/>\r\n       <use x=\"95.410156\" xlink:href=\"#DejaVuSans-48\"/>\r\n       <use x=\"159.033203\" xlink:href=\"#DejaVuSans-48\"/>\r\n      </g>\r\n     </g>\r\n    </g>\r\n    <g id=\"ytick_14\">\r\n     <g id=\"line2d_31\">\r\n      <g>\r\n       <use style=\"stroke:#000000;stroke-width:0.8;\" x=\"44.845313\" xlink:href=\"#m5a966bed63\" y=\"397.447051\"/>\r\n      </g>\r\n     </g>\r\n     <g id=\"text_31\">\r\n      <!-- 0.02 -->\r\n      <g transform=\"translate(15.579688 401.246269)scale(0.1 -0.1)\">\r\n       <use xlink:href=\"#DejaVuSans-48\"/>\r\n       <use x=\"63.623047\" xlink:href=\"#DejaVuSans-46\"/>\r\n       <use x=\"95.410156\" xlink:href=\"#DejaVuSans-48\"/>\r\n       <use x=\"159.033203\" xlink:href=\"#DejaVuSans-50\"/>\r\n      </g>\r\n     </g>\r\n    </g>\r\n    <g id=\"ytick_15\">\r\n     <g id=\"line2d_32\">\r\n      <g>\r\n       <use style=\"stroke:#000000;stroke-width:0.8;\" x=\"44.845313\" xlink:href=\"#m5a966bed63\" y=\"352.521431\"/>\r\n      </g>\r\n     </g>\r\n     <g id=\"text_32\">\r\n      <!-- 0.04 -->\r\n      <g transform=\"translate(15.579688 356.32065)scale(0.1 -0.1)\">\r\n       <use xlink:href=\"#DejaVuSans-48\"/>\r\n       <use x=\"63.623047\" xlink:href=\"#DejaVuSans-46\"/>\r\n       <use x=\"95.410156\" xlink:href=\"#DejaVuSans-48\"/>\r\n       <use x=\"159.033203\" xlink:href=\"#DejaVuSans-52\"/>\r\n      </g>\r\n     </g>\r\n    </g>\r\n   </g>\r\n   <g id=\"line2d_33\"/>\r\n   <g id=\"patch_13\">\r\n    <path d=\"M 44.845313 565.918125 \r\nL 44.845313 318.827216 \r\n\" style=\"fill:none;stroke:#000000;stroke-linecap:square;stroke-linejoin:miter;stroke-width:0.8;\"/>\r\n   </g>\r\n   <g id=\"patch_14\">\r\n    <path d=\"M 425.299858 565.918125 \r\nL 425.299858 318.827216 \r\n\" style=\"fill:none;stroke:#000000;stroke-linecap:square;stroke-linejoin:miter;stroke-width:0.8;\"/>\r\n   </g>\r\n   <g id=\"patch_15\">\r\n    <path d=\"M 44.845313 565.918125 \r\nL 425.299858 565.918125 \r\n\" style=\"fill:none;stroke:#000000;stroke-linecap:square;stroke-linejoin:miter;stroke-width:0.8;\"/>\r\n   </g>\r\n   <g id=\"patch_16\">\r\n    <path d=\"M 44.845313 318.827216 \r\nL 425.299858 318.827216 \r\n\" style=\"fill:none;stroke:#000000;stroke-linecap:square;stroke-linejoin:miter;stroke-width:0.8;\"/>\r\n   </g>\r\n   <g id=\"text_33\">\r\n    <!-- Training Accuracy -->\r\n    <defs>\r\n     <path d=\"M 34.1875 63.1875 \r\nL 20.796875 26.90625 \r\nL 47.609375 26.90625 \r\nz\r\nM 28.609375 72.90625 \r\nL 39.796875 72.90625 \r\nL 67.578125 0 \r\nL 57.328125 0 \r\nL 50.6875 18.703125 \r\nL 17.828125 18.703125 \r\nL 11.1875 0 \r\nL 0.78125 0 \r\nz\r\n\" id=\"DejaVuSans-65\"/>\r\n     <path d=\"M 48.78125 52.59375 \r\nL 48.78125 44.1875 \r\nQ 44.96875 46.296875 41.140625 47.34375 \r\nQ 37.3125 48.390625 33.40625 48.390625 \r\nQ 24.65625 48.390625 19.8125 42.84375 \r\nQ 14.984375 37.3125 14.984375 27.296875 \r\nQ 14.984375 17.28125 19.8125 11.734375 \r\nQ 24.65625 6.203125 33.40625 6.203125 \r\nQ 37.3125 6.203125 41.140625 7.25 \r\nQ 44.96875 8.296875 48.78125 10.40625 \r\nL 48.78125 2.09375 \r\nQ 45.015625 0.34375 40.984375 -0.53125 \r\nQ 36.96875 -1.421875 32.421875 -1.421875 \r\nQ 20.0625 -1.421875 12.78125 6.34375 \r\nQ 5.515625 14.109375 5.515625 27.296875 \r\nQ 5.515625 40.671875 12.859375 48.328125 \r\nQ 20.21875 56 33.015625 56 \r\nQ 37.15625 56 41.109375 55.140625 \r\nQ 45.0625 54.296875 48.78125 52.59375 \r\nz\r\n\" id=\"DejaVuSans-99\"/>\r\n     <path d=\"M 8.5 21.578125 \r\nL 8.5 54.6875 \r\nL 17.484375 54.6875 \r\nL 17.484375 21.921875 \r\nQ 17.484375 14.15625 20.5 10.265625 \r\nQ 23.53125 6.390625 29.59375 6.390625 \r\nQ 36.859375 6.390625 41.078125 11.03125 \r\nQ 45.3125 15.671875 45.3125 23.6875 \r\nL 45.3125 54.6875 \r\nL 54.296875 54.6875 \r\nL 54.296875 0 \r\nL 45.3125 0 \r\nL 45.3125 8.40625 \r\nQ 42.046875 3.421875 37.71875 1 \r\nQ 33.40625 -1.421875 27.6875 -1.421875 \r\nQ 18.265625 -1.421875 13.375 4.4375 \r\nQ 8.5 10.296875 8.5 21.578125 \r\nz\r\nM 31.109375 56 \r\nz\r\n\" id=\"DejaVuSans-117\"/>\r\n     <path d=\"M 32.171875 -5.078125 \r\nQ 28.375 -14.84375 24.75 -17.8125 \r\nQ 21.140625 -20.796875 15.09375 -20.796875 \r\nL 7.90625 -20.796875 \r\nL 7.90625 -13.28125 \r\nL 13.1875 -13.28125 \r\nQ 16.890625 -13.28125 18.9375 -11.515625 \r\nQ 21 -9.765625 23.484375 -3.21875 \r\nL 25.09375 0.875 \r\nL 2.984375 54.6875 \r\nL 12.5 54.6875 \r\nL 29.59375 11.921875 \r\nL 46.6875 54.6875 \r\nL 56.203125 54.6875 \r\nz\r\n\" id=\"DejaVuSans-121\"/>\r\n    </defs>\r\n    <g transform=\"translate(182.101023 312.827216)scale(0.12 -0.12)\">\r\n     <use xlink:href=\"#DejaVuSans-84\"/>\r\n     <use x=\"46.333984\" xlink:href=\"#DejaVuSans-114\"/>\r\n     <use x=\"87.447266\" xlink:href=\"#DejaVuSans-97\"/>\r\n     <use x=\"148.726562\" xlink:href=\"#DejaVuSans-105\"/>\r\n     <use x=\"176.509766\" xlink:href=\"#DejaVuSans-110\"/>\r\n     <use x=\"239.888672\" xlink:href=\"#DejaVuSans-105\"/>\r\n     <use x=\"267.671875\" xlink:href=\"#DejaVuSans-110\"/>\r\n     <use x=\"331.050781\" xlink:href=\"#DejaVuSans-103\"/>\r\n     <use x=\"394.527344\" xlink:href=\"#DejaVuSans-32\"/>\r\n     <use x=\"426.314453\" xlink:href=\"#DejaVuSans-65\"/>\r\n     <use x=\"492.972656\" xlink:href=\"#DejaVuSans-99\"/>\r\n     <use x=\"547.953125\" xlink:href=\"#DejaVuSans-99\"/>\r\n     <use x=\"602.933594\" xlink:href=\"#DejaVuSans-117\"/>\r\n     <use x=\"666.3125\" xlink:href=\"#DejaVuSans-114\"/>\r\n     <use x=\"707.425781\" xlink:href=\"#DejaVuSans-97\"/>\r\n     <use x=\"768.705078\" xlink:href=\"#DejaVuSans-99\"/>\r\n     <use x=\"823.685547\" xlink:href=\"#DejaVuSans-121\"/>\r\n    </g>\r\n   </g>\r\n  </g>\r\n  <g id=\"axes_4\">\r\n   <g id=\"patch_17\">\r\n    <path d=\"M 501.390767 565.918125 \r\nL 881.845312 565.918125 \r\nL 881.845312 318.827216 \r\nL 501.390767 318.827216 \r\nz\r\n\" style=\"fill:#ffffff;\"/>\r\n   </g>\r\n   <g id=\"matplotlib.axis_7\">\r\n    <g id=\"xtick_16\">\r\n     <g id=\"line2d_34\">\r\n      <g>\r\n       <use style=\"stroke:#000000;stroke-width:0.8;\" x=\"553.270932\" xlink:href=\"#mc1b42999c7\" y=\"565.918125\"/>\r\n      </g>\r\n     </g>\r\n     <g id=\"text_34\">\r\n      <!-- −0.04 -->\r\n      <g transform=\"translate(537.948276 580.516562)scale(0.1 -0.1)\">\r\n       <use xlink:href=\"#DejaVuSans-8722\"/>\r\n       <use x=\"83.789062\" xlink:href=\"#DejaVuSans-48\"/>\r\n       <use x=\"147.412109\" xlink:href=\"#DejaVuSans-46\"/>\r\n       <use x=\"179.199219\" xlink:href=\"#DejaVuSans-48\"/>\r\n       <use x=\"242.822266\" xlink:href=\"#DejaVuSans-52\"/>\r\n      </g>\r\n     </g>\r\n    </g>\r\n    <g id=\"xtick_17\">\r\n     <g id=\"line2d_35\">\r\n      <g>\r\n       <use style=\"stroke:#000000;stroke-width:0.8;\" x=\"622.444486\" xlink:href=\"#mc1b42999c7\" y=\"565.918125\"/>\r\n      </g>\r\n     </g>\r\n     <g id=\"text_35\">\r\n      <!-- −0.02 -->\r\n      <g transform=\"translate(607.12183 580.516562)scale(0.1 -0.1)\">\r\n       <use xlink:href=\"#DejaVuSans-8722\"/>\r\n       <use x=\"83.789062\" xlink:href=\"#DejaVuSans-48\"/>\r\n       <use x=\"147.412109\" xlink:href=\"#DejaVuSans-46\"/>\r\n       <use x=\"179.199219\" xlink:href=\"#DejaVuSans-48\"/>\r\n       <use x=\"242.822266\" xlink:href=\"#DejaVuSans-50\"/>\r\n      </g>\r\n     </g>\r\n    </g>\r\n    <g id=\"xtick_18\">\r\n     <g id=\"line2d_36\">\r\n      <g>\r\n       <use style=\"stroke:#000000;stroke-width:0.8;\" x=\"691.61804\" xlink:href=\"#mc1b42999c7\" y=\"565.918125\"/>\r\n      </g>\r\n     </g>\r\n     <g id=\"text_36\">\r\n      <!-- 0.00 -->\r\n      <g transform=\"translate(680.485227 580.516562)scale(0.1 -0.1)\">\r\n       <use xlink:href=\"#DejaVuSans-48\"/>\r\n       <use x=\"63.623047\" xlink:href=\"#DejaVuSans-46\"/>\r\n       <use x=\"95.410156\" xlink:href=\"#DejaVuSans-48\"/>\r\n       <use x=\"159.033203\" xlink:href=\"#DejaVuSans-48\"/>\r\n      </g>\r\n     </g>\r\n    </g>\r\n    <g id=\"xtick_19\">\r\n     <g id=\"line2d_37\">\r\n      <g>\r\n       <use style=\"stroke:#000000;stroke-width:0.8;\" x=\"760.791593\" xlink:href=\"#mc1b42999c7\" y=\"565.918125\"/>\r\n      </g>\r\n     </g>\r\n     <g id=\"text_37\">\r\n      <!-- 0.02 -->\r\n      <g transform=\"translate(749.658781 580.516562)scale(0.1 -0.1)\">\r\n       <use xlink:href=\"#DejaVuSans-48\"/>\r\n       <use x=\"63.623047\" xlink:href=\"#DejaVuSans-46\"/>\r\n       <use x=\"95.410156\" xlink:href=\"#DejaVuSans-48\"/>\r\n       <use x=\"159.033203\" xlink:href=\"#DejaVuSans-50\"/>\r\n      </g>\r\n     </g>\r\n    </g>\r\n    <g id=\"xtick_20\">\r\n     <g id=\"line2d_38\">\r\n      <g>\r\n       <use style=\"stroke:#000000;stroke-width:0.8;\" x=\"829.965147\" xlink:href=\"#mc1b42999c7\" y=\"565.918125\"/>\r\n      </g>\r\n     </g>\r\n     <g id=\"text_38\">\r\n      <!-- 0.04 -->\r\n      <g transform=\"translate(818.832335 580.516562)scale(0.1 -0.1)\">\r\n       <use xlink:href=\"#DejaVuSans-48\"/>\r\n       <use x=\"63.623047\" xlink:href=\"#DejaVuSans-46\"/>\r\n       <use x=\"95.410156\" xlink:href=\"#DejaVuSans-48\"/>\r\n       <use x=\"159.033203\" xlink:href=\"#DejaVuSans-52\"/>\r\n      </g>\r\n     </g>\r\n    </g>\r\n   </g>\r\n   <g id=\"matplotlib.axis_8\">\r\n    <g id=\"ytick_16\">\r\n     <g id=\"line2d_39\">\r\n      <g>\r\n       <use style=\"stroke:#000000;stroke-width:0.8;\" x=\"501.390767\" xlink:href=\"#m5a966bed63\" y=\"532.22391\"/>\r\n      </g>\r\n     </g>\r\n     <g id=\"text_39\">\r\n      <!-- −0.04 -->\r\n      <g transform=\"translate(463.745455 536.023129)scale(0.1 -0.1)\">\r\n       <use xlink:href=\"#DejaVuSans-8722\"/>\r\n       <use x=\"83.789062\" xlink:href=\"#DejaVuSans-48\"/>\r\n       <use x=\"147.412109\" xlink:href=\"#DejaVuSans-46\"/>\r\n       <use x=\"179.199219\" xlink:href=\"#DejaVuSans-48\"/>\r\n       <use x=\"242.822266\" xlink:href=\"#DejaVuSans-52\"/>\r\n      </g>\r\n     </g>\r\n    </g>\r\n    <g id=\"ytick_17\">\r\n     <g id=\"line2d_40\">\r\n      <g>\r\n       <use style=\"stroke:#000000;stroke-width:0.8;\" x=\"501.390767\" xlink:href=\"#m5a966bed63\" y=\"487.29829\"/>\r\n      </g>\r\n     </g>\r\n     <g id=\"text_40\">\r\n      <!-- −0.02 -->\r\n      <g transform=\"translate(463.745455 491.097509)scale(0.1 -0.1)\">\r\n       <use xlink:href=\"#DejaVuSans-8722\"/>\r\n       <use x=\"83.789062\" xlink:href=\"#DejaVuSans-48\"/>\r\n       <use x=\"147.412109\" xlink:href=\"#DejaVuSans-46\"/>\r\n       <use x=\"179.199219\" xlink:href=\"#DejaVuSans-48\"/>\r\n       <use x=\"242.822266\" xlink:href=\"#DejaVuSans-50\"/>\r\n      </g>\r\n     </g>\r\n    </g>\r\n    <g id=\"ytick_18\">\r\n     <g id=\"line2d_41\">\r\n      <g>\r\n       <use style=\"stroke:#000000;stroke-width:0.8;\" x=\"501.390767\" xlink:href=\"#m5a966bed63\" y=\"442.37267\"/>\r\n      </g>\r\n     </g>\r\n     <g id=\"text_41\">\r\n      <!-- 0.00 -->\r\n      <g transform=\"translate(472.125142 446.171889)scale(0.1 -0.1)\">\r\n       <use xlink:href=\"#DejaVuSans-48\"/>\r\n       <use x=\"63.623047\" xlink:href=\"#DejaVuSans-46\"/>\r\n       <use x=\"95.410156\" xlink:href=\"#DejaVuSans-48\"/>\r\n       <use x=\"159.033203\" xlink:href=\"#DejaVuSans-48\"/>\r\n      </g>\r\n     </g>\r\n    </g>\r\n    <g id=\"ytick_19\">\r\n     <g id=\"line2d_42\">\r\n      <g>\r\n       <use style=\"stroke:#000000;stroke-width:0.8;\" x=\"501.390767\" xlink:href=\"#m5a966bed63\" y=\"397.447051\"/>\r\n      </g>\r\n     </g>\r\n     <g id=\"text_42\">\r\n      <!-- 0.02 -->\r\n      <g transform=\"translate(472.125142 401.246269)scale(0.1 -0.1)\">\r\n       <use xlink:href=\"#DejaVuSans-48\"/>\r\n       <use x=\"63.623047\" xlink:href=\"#DejaVuSans-46\"/>\r\n       <use x=\"95.410156\" xlink:href=\"#DejaVuSans-48\"/>\r\n       <use x=\"159.033203\" xlink:href=\"#DejaVuSans-50\"/>\r\n      </g>\r\n     </g>\r\n    </g>\r\n    <g id=\"ytick_20\">\r\n     <g id=\"line2d_43\">\r\n      <g>\r\n       <use style=\"stroke:#000000;stroke-width:0.8;\" x=\"501.390767\" xlink:href=\"#m5a966bed63\" y=\"352.521431\"/>\r\n      </g>\r\n     </g>\r\n     <g id=\"text_43\">\r\n      <!-- 0.04 -->\r\n      <g transform=\"translate(472.125142 356.32065)scale(0.1 -0.1)\">\r\n       <use xlink:href=\"#DejaVuSans-48\"/>\r\n       <use x=\"63.623047\" xlink:href=\"#DejaVuSans-46\"/>\r\n       <use x=\"95.410156\" xlink:href=\"#DejaVuSans-48\"/>\r\n       <use x=\"159.033203\" xlink:href=\"#DejaVuSans-52\"/>\r\n      </g>\r\n     </g>\r\n    </g>\r\n   </g>\r\n   <g id=\"line2d_44\"/>\r\n   <g id=\"patch_18\">\r\n    <path d=\"M 501.390767 565.918125 \r\nL 501.390767 318.827216 \r\n\" style=\"fill:none;stroke:#000000;stroke-linecap:square;stroke-linejoin:miter;stroke-width:0.8;\"/>\r\n   </g>\r\n   <g id=\"patch_19\">\r\n    <path d=\"M 881.845312 565.918125 \r\nL 881.845312 318.827216 \r\n\" style=\"fill:none;stroke:#000000;stroke-linecap:square;stroke-linejoin:miter;stroke-width:0.8;\"/>\r\n   </g>\r\n   <g id=\"patch_20\">\r\n    <path d=\"M 501.390767 565.918125 \r\nL 881.845312 565.918125 \r\n\" style=\"fill:none;stroke:#000000;stroke-linecap:square;stroke-linejoin:miter;stroke-width:0.8;\"/>\r\n   </g>\r\n   <g id=\"patch_21\">\r\n    <path d=\"M 501.390767 318.827216 \r\nL 881.845312 318.827216 \r\n\" style=\"fill:none;stroke:#000000;stroke-linecap:square;stroke-linejoin:miter;stroke-width:0.8;\"/>\r\n   </g>\r\n   <g id=\"text_44\">\r\n    <!-- Test Accuracy -->\r\n    <g transform=\"translate(650.50304 312.827216)scale(0.12 -0.12)\">\r\n     <use xlink:href=\"#DejaVuSans-84\"/>\r\n     <use x=\"44.083984\" xlink:href=\"#DejaVuSans-101\"/>\r\n     <use x=\"105.607422\" xlink:href=\"#DejaVuSans-115\"/>\r\n     <use x=\"157.707031\" xlink:href=\"#DejaVuSans-116\"/>\r\n     <use x=\"196.916016\" xlink:href=\"#DejaVuSans-32\"/>\r\n     <use x=\"228.703125\" xlink:href=\"#DejaVuSans-65\"/>\r\n     <use x=\"295.361328\" xlink:href=\"#DejaVuSans-99\"/>\r\n     <use x=\"350.341797\" xlink:href=\"#DejaVuSans-99\"/>\r\n     <use x=\"405.322266\" xlink:href=\"#DejaVuSans-117\"/>\r\n     <use x=\"468.701172\" xlink:href=\"#DejaVuSans-114\"/>\r\n     <use x=\"509.814453\" xlink:href=\"#DejaVuSans-97\"/>\r\n     <use x=\"571.09375\" xlink:href=\"#DejaVuSans-99\"/>\r\n     <use x=\"626.074219\" xlink:href=\"#DejaVuSans-121\"/>\r\n    </g>\r\n   </g>\r\n  </g>\r\n </g>\r\n</svg>\r\n",
            "image/png": "[encoded data removed]"
          },
          "metadata": {
            "needs_background": "light"
          }
        }
      ]
    },
    {
      "cell_type": "code",
      "metadata": {
        "id": "odozjbIvY12p",
        "colab_type": "code",
        "colab": {}
      },
      "source": [
        ""
      ],
      "execution_count": null,
      "outputs": []
    }
  ]
}