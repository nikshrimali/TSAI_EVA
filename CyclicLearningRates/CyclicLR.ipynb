{
  "nbformat": 4,
  "nbformat_minor": 0,
  "metadata": {
    "colab": {
      "name": "Assignment9.ipynb",
      "provenance": [],
      "toc_visible": true
    },
    "kernelspec": {
      "name": "pytorch",
      "display_name": "pytorch"
    },
    "accelerator": "GPU"
  },
  "cells": [
    {
      "cell_type": "markdown",
      "metadata": {
        "id": "3cejx5xaJH6G"
      },
      "source": [
        "# Cloning <a  href='https://github.com/nikshrimali/shrinkai'>SHRINKai</a>"
      ]
    },
    {
      "cell_type": "code",
      "metadata": {
        "id": "39t2TNs7EYCU",
        "tags": [],
        "outputId": "ab907a7c-dd11-43db-e96d-a9a66588c928",
        "colab": {
          "base_uri": "https://localhost:8080/",
          "height": 118
        }
      },
      "source": [
        "# Cloning shrinkai\n",
        "# !git clone https://github.com/nikshrimali/shrinkai"
      ],
      "execution_count": 1,
      "outputs": []
    },
    {
      "cell_type": "markdown",
      "metadata": {
        "id": "L_RUchliJB-_"
      },
      "source": [
        "# Importing Libraries"
      ]
    },
    {
      "cell_type": "code",
      "metadata": {
        "id": "PKulaUm9Hriq",
        "tags": [],
        "outputId": "e4b74027-ee37-423d-f6ac-2094c2427657",
        "colab": {
          "base_uri": "https://localhost:8080/",
          "height": 34
        }
      },
      "source": [
        "\n",
        "import torch\n",
        "import torchvision\n",
        "import torchvision.transforms as transforms\n",
        "from torchsummary import summary\n",
        "import torch.nn as nn\n",
        "import torch.nn.functional as F\n",
        "import torch.optim as optim\n",
        "from torch.optim.lr_scheduler import StepLR, ReduceLROnPlateau\n",
        "\n",
        "\n",
        "from shrinkai.model.model_test import model_testing\n",
        "from shrinkai.model.model_train import model_training\n",
        "\n",
        "from shrinkai.data_process.getdata import GetCIFAR10_TrainData\n",
        "from shrinkai.data_process.misclassified_data import *\n",
        "\n",
        "import matplotlib.pyplot as plt\n",
        "%matplotlib inline\n",
        "\n",
        "\n",
        "import warnings\n",
        "warnings.filterwarnings('ignore')\n",
        "\n",
        "device = \"cuda\" if torch.cuda.is_available else \"cpu\"\n",
        "print(device)\n",
        "\n",
        "from shrinkai.model.gradcam import gen_gradcam"
      ],
      "execution_count": 2,
      "outputs": [
        {
          "output_type": "stream",
          "name": "stdout",
          "text": "cuda\n"
        }
      ]
    },
    {
      "cell_type": "code",
      "metadata": {
        "tags": [],
        "id": "bihvtVPj9tk6",
        "outputId": "4b272917-ee54-4d80-d56b-ab2b60ff30fd",
        "colab": {
          "base_uri": "https://localhost:8080/",
          "height": 346
        }
      },
      "source": [
        "from shrinkai.data_process.albumentation import *\n",
        "\n",
        "trainset = datasets.CIFAR10('./data', train=True, download=True, transform=cifar_alb_trainData())\n",
        "testset = datasets.CIFAR10('./data', train=False, download=True, transform=cifar_alb_testdata())\n",
        "\n",
        "trainloader = torch.utils.data.DataLoader(trainset, batch_size=128,\n",
        "                                          shuffle=True, num_workers=0)\n",
        "testloader = torch.utils.data.DataLoader(testset, batch_size=128,\n",
        "                                         shuffle=False, num_workers=0)"
      ],
      "execution_count": 3,
      "outputs": [
        {
          "output_type": "stream",
          "name": "stdout",
          "text": "Files already downloaded and verified\nFiles already downloaded and verified\n"
        }
      ]
    },
    {
      "cell_type": "markdown",
      "metadata": {
        "id": "HZFXAW9CI5yt"
      },
      "source": [
        "# Importing Model"
      ]
    },
    {
      "cell_type": "code",
      "metadata": {
        "id": "pul6T5YZHyjB",
        "tags": []
      },
      "source": [
        "from shrinkai.model.resnetmodel8 import ResNet18\n",
        "model = ResNet18().to(device)\n",
        "summary(model, input_size=(3,32,32))"
      ],
      "execution_count": 4,
      "outputs": [
        {
          "output_type": "stream",
          "name": "stdout",
          "text": "----------------------------------------------------------------\n        Layer (type)               Output Shape         Param #\n================================================================\n            Conv2d-1           [-1, 64, 32, 32]           1,728\n       BatchNorm2d-2           [-1, 64, 32, 32]             128\n            Conv2d-3           [-1, 64, 32, 32]          36,864\n       BatchNorm2d-4           [-1, 64, 32, 32]             128\n           Dropout-5           [-1, 64, 32, 32]               0\n            Conv2d-6           [-1, 64, 32, 32]          36,864\n       BatchNorm2d-7           [-1, 64, 32, 32]             128\n           Dropout-8           [-1, 64, 32, 32]               0\n        BasicBlock-9           [-1, 64, 32, 32]               0\n           Conv2d-10           [-1, 64, 32, 32]          36,864\n      BatchNorm2d-11           [-1, 64, 32, 32]             128\n          Dropout-12           [-1, 64, 32, 32]               0\n           Conv2d-13           [-1, 64, 32, 32]          36,864\n      BatchNorm2d-14           [-1, 64, 32, 32]             128\n          Dropout-15           [-1, 64, 32, 32]               0\n       BasicBlock-16           [-1, 64, 32, 32]               0\n           Conv2d-17          [-1, 128, 16, 16]          73,728\n      BatchNorm2d-18          [-1, 128, 16, 16]             256\n          Dropout-19          [-1, 128, 16, 16]               0\n           Conv2d-20          [-1, 128, 16, 16]         147,456\n      BatchNorm2d-21          [-1, 128, 16, 16]             256\n          Dropout-22          [-1, 128, 16, 16]               0\n           Conv2d-23          [-1, 128, 16, 16]           8,192\n      BatchNorm2d-24          [-1, 128, 16, 16]             256\n          Dropout-25          [-1, 128, 16, 16]               0\n       BasicBlock-26          [-1, 128, 16, 16]               0\n           Conv2d-27          [-1, 128, 16, 16]         147,456\n      BatchNorm2d-28          [-1, 128, 16, 16]             256\n          Dropout-29          [-1, 128, 16, 16]               0\n           Conv2d-30          [-1, 128, 16, 16]         147,456\n      BatchNorm2d-31          [-1, 128, 16, 16]             256\n          Dropout-32          [-1, 128, 16, 16]               0\n       BasicBlock-33          [-1, 128, 16, 16]               0\n           Conv2d-34            [-1, 256, 8, 8]         294,912\n      BatchNorm2d-35            [-1, 256, 8, 8]             512\n          Dropout-36            [-1, 256, 8, 8]               0\n           Conv2d-37            [-1, 256, 8, 8]         589,824\n      BatchNorm2d-38            [-1, 256, 8, 8]             512\n          Dropout-39            [-1, 256, 8, 8]               0\n           Conv2d-40            [-1, 256, 8, 8]          32,768\n      BatchNorm2d-41            [-1, 256, 8, 8]             512\n          Dropout-42            [-1, 256, 8, 8]               0\n       BasicBlock-43            [-1, 256, 8, 8]               0\n           Conv2d-44            [-1, 256, 8, 8]         589,824\n      BatchNorm2d-45            [-1, 256, 8, 8]             512\n          Dropout-46            [-1, 256, 8, 8]               0\n           Conv2d-47            [-1, 256, 8, 8]         589,824\n      BatchNorm2d-48            [-1, 256, 8, 8]             512\n          Dropout-49            [-1, 256, 8, 8]               0\n       BasicBlock-50            [-1, 256, 8, 8]               0\n           Conv2d-51            [-1, 512, 4, 4]       1,179,648\n      BatchNorm2d-52            [-1, 512, 4, 4]           1,024\n          Dropout-53            [-1, 512, 4, 4]               0\n           Conv2d-54            [-1, 512, 4, 4]       2,359,296\n      BatchNorm2d-55            [-1, 512, 4, 4]           1,024\n          Dropout-56            [-1, 512, 4, 4]               0\n           Conv2d-57            [-1, 512, 4, 4]         131,072\n      BatchNorm2d-58            [-1, 512, 4, 4]           1,024\n          Dropout-59            [-1, 512, 4, 4]               0\n       BasicBlock-60            [-1, 512, 4, 4]               0\n           Conv2d-61            [-1, 512, 4, 4]       2,359,296\n      BatchNorm2d-62            [-1, 512, 4, 4]           1,024\n          Dropout-63            [-1, 512, 4, 4]               0\n           Conv2d-64            [-1, 512, 4, 4]       2,359,296\n      BatchNorm2d-65            [-1, 512, 4, 4]           1,024\n          Dropout-66            [-1, 512, 4, 4]               0\n       BasicBlock-67            [-1, 512, 4, 4]               0\n           Linear-68                   [-1, 10]           5,130\n================================================================\nTotal params: 11,173,962\nTrainable params: 11,173,962\nNon-trainable params: 0\n----------------------------------------------------------------\nInput size (MB): 0.01\nForward/backward pass size (MB): 15.44\nParams size (MB): 42.63\nEstimated Total Size (MB): 58.07\n----------------------------------------------------------------\n"
        }
      ]
    },
    {
      "cell_type": "code",
      "metadata": {
        "id": "aJ68Gzm-IFIq",
        "tags": []
      },
      "source": [
        "criterion = nn.CrossEntropyLoss()\n",
        "optimizer = optim.SGD(model.parameters(), lr=0.01, momentum=0.9)\n",
        "# scheduler = ReduceLROnPlateau(optimizer, mode='min', factor=0.05, patience=2, threshold=0.001, threshold_mode='rel', cooldown=0, min_lr=0, eps=1e-08, verbose=True)\n",
        "scheduler = StepLR(optimizer, step_size=25, gamma=0.1)\n",
        "\n",
        "train_acc = []\n",
        "train_losses = []\n",
        "test_acc = []\n",
        "test_losses = []\n",
        "EPOCHS = 20\n",
        "model_path = 'latest_model.h5'\n",
        "\n",
        "import os\n",
        "\n",
        "print(f'Starting Training for {EPOCHS} Epochs')\n",
        "try:\n",
        "    os.remove(model_path) # deleting the existing file\n",
        "except:\n",
        "    pass\n",
        "\n",
        "for i in range(EPOCHS):\n",
        "    print(f'EPOCHS : {i}')\n",
        "    model_training(model, device, trainloader, optimizer, train_acc, train_losses, l1_loss=False)\n",
        "    torch.save(model.state_dict(), model_path)\n",
        "    scheduler.step()\n",
        "    misclassified = model_testing(model, device, testloader, test_acc, test_losses)"
      ],
      "execution_count": null,
      "outputs": []
    },
    {
      "cell_type": "markdown",
      "metadata": {
        "id": "VYRArZkVJw5C"
      },
      "source": [
        "# Model Performance"
      ]
    },
    {
      "cell_type": "code",
      "metadata": {
        "id": "4J2uJUfl9tli"
      },
      "source": [
        "plt.plot(train_acc)\n",
        "plt.plot(test_acc)"
      ],
      "execution_count": null,
      "outputs": []
    },
    {
      "cell_type": "code",
      "metadata": {
        "id": "D26lHx9w9tlm"
      },
      "source": [
        "from model.gradcam.utils import plot_gradcam\n",
        "\n",
        "class_names = ('plane', 'car', 'bird', 'cat', 'deer', 'dog', 'frog', 'horse', 'ship', 'truck')\n",
        "target_layers = [\"layer1\", \"layer2\", \"layer3\", \"layer4\"]\n",
        "mean = (0.491, 0.482, 0.446)\n",
        "std = (0.247, 0.243, 0.261)\n",
        "\n",
        "plot_gradcam(target_layers, device, testloader, model, mean, std, class_names)"
      ],
      "execution_count": null,
      "outputs": []
    }
  ]
}