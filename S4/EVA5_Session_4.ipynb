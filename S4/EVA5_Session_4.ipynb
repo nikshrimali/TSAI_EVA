{
  "nbformat": 4,
  "nbformat_minor": 0,
  "metadata": {
    "colab": {
      "name": "EVA5 - Session 4.ipynb",
      "provenance": [],
      "collapsed_sections": []
    },
    "kernelspec": {
      "name": "pytorch",
      "display_name": "pytorch"
    },
    "accelerator": "GPU"
  },
  "cells": [
    {
      "cell_type": "code",
      "metadata": {
        "id": "0m2JWFliFfKT",
        "colab_type": "code",
        "colab": {
          "base_uri": "https://localhost:8080/",
          "height": 34
        },
        "outputId": "70b144d9-1955-4ee4-f3d1-15efdd86485c",
        "tags": []
      },
      "source": [
        "from __future__ import print_function\n",
        "import torch\n",
        "import torch.nn as nn\n",
        "import torch.nn.functional as F\n",
        "import torch.optim as optim\n",
        "from torchvision import datasets, transforms\n",
        "from torchsummary import summary\n",
        "\n",
        "!pip install torchsummary\n",
        "use_cuda = torch.cuda.is_available()\n",
        "device = torch.device(\"cuda\" if use_cuda else \"cpu\")\n",
        "print(device)"
      ],
      "execution_count": 1,
      "outputs": [
        {
          "output_type": "stream",
          "name": "stdout",
          "text": "Requirement already satisfied: torchsummary in d:\\python\\envs\\pytorch\\lib\\site-packages (1.5.1)\nWARNING: You are using pip version 20.0.2; however, version 20.2.2 is available.\nYou should consider upgrading via the 'D:\\Python\\envs\\pytorch\\python.exe -m pip install --upgrade pip' command.\ncuda\n"
        }
      ]
    },
    {
      "cell_type": "code",
      "metadata": {
        "id": "h_Cx9q2QFgM7",
        "colab_type": "code",
        "colab": {}
      },
      "source": [
        "\n",
        "class Net(nn.Module):\n",
        "    def __init__(self):\n",
        "        super(Net, self).__init__()\n",
        "        self.conv1 = nn.Conv2d(1, 32, 3) #input - 28*28*1, Channels - 32, Output - 28*28*32 Parameters - 1*1*32*32 + 32\n",
        "        self.bn1 = nn.BatchNorm2d(32)\n",
        "        self.dpt1 = nn.Dropout(0.25)  # Dropout - 25%\n",
        "\n",
        "        self.conv2 = nn.Conv2d(32, 64, 3)  # Input - 26*26*32, Channels - 64, Output - 24*24*64 - Para - 9*32*64 + 64\n",
        "        self.dpt2 = nn.Dropout(0.25)  # Dropout - 25%\n",
        "        self.bn2 = nn.BatchNorm2d(64)\n",
        "        self.pool1 = nn.MaxPool2d(2, 2)  # Maxpool2D # Input - 24*24*64, Channels - 64, Output - 12*12*64 \n",
        "\n",
        "        self.conv3 = nn.Conv2d(64, 32, 3)  # Input - 12*12*64, Channels - 64, Output - 10*10*32 - Para - 9*64*32 + 32\n",
        "        self.dpt3 = nn.Dropout(0.25)  # Dropout - 25%\n",
        "        self.bn3 = nn.BatchNorm2d(32)\n",
        "        \n",
        "        self.conv4 = nn.Conv2d(32, 64, 3)  # input -10*10*32 OUtput - 8*8*64 - Para - 9*32*64 + 64\n",
        "        self.dpt4 = nn.Dropout(0.25)  # Dropout - 25%\n",
        "        self.bn4 = nn.BatchNorm2d(64)\n",
        "        \n",
        "        self.conv5 = nn.Conv2d(64, 32, 3)  # input -8*8*64 OUtput - 6*6*32 - Para - 9*32*64 + 32\n",
        "        self.dpt5 = nn.Dropout(0.25)  # Dropout - 25%\n",
        "        self.bn5 = nn.BatchNorm2d(32)\n",
        "        self.pool2 = nn.MaxPool2d(2, 2)  # input -6*6*32 OUtput -3*3*32 - Para - 9*32*32\n",
        "        \n",
        "\n",
        "        self.conv6 = nn.Conv2d(32, 32, 1)  # input -3*3*32 OUtput - 3*3*32 - Para - 1*32*32 +32\n",
        "        self.conv7 = nn.Conv2d(32, 10, 3)  # input -3*3*32 OUtput - 1*1*10 - Para - 9*32*10 + 10\n",
        "\n",
        "\n",
        "    def forward(self,x):\n",
        "        x = self.dpt1(F.relu(self.bn1(self.conv1(x))))\n",
        "        x = self.dpt2(self.pool1(self.bn2(F.relu(self.conv2(x)))))\n",
        "        x = self.dpt3(self.bn3(F.relu(self.conv3(x))))\n",
        "        x = self.dpt4(self.bn4(F.relu(self.conv4(x))))\n",
        "        x = self.pool2(self.dpt5(self.bn5(F.relu(self.conv5(x)))))\n",
        "        x = F.relu(self.conv6(x))\n",
        "        x = self.conv7(x)\n",
        "        x = x.view(-1, 10)\n",
        "        return F.log_softmax(x)"
      ],
      "execution_count": 2,
      "outputs": []
    },
    {
      "cell_type": "code",
      "metadata": {
        "colab_type": "code",
        "id": "xdydjYTZFyi3",
        "colab": {
          "base_uri": "https://localhost:8080/",
          "height": 591
        },
        "outputId": "b2ba8f5b-f287-48c3-abf5-7e2315261e96",
        "tags": []
      },
      "source": [
        "\n",
        "model = Net().to(device)\n",
        "summary(model, input_size=(1, 28, 28))"
      ],
      "execution_count": 3,
      "outputs": [
        {
          "output_type": "stream",
          "name": "stdout",
          "text": "----------------------------------------------------------------\n        Layer (type)               Output Shape         Param #\n================================================================\n            Conv2d-1           [-1, 32, 26, 26]             320\n       BatchNorm2d-2           [-1, 32, 26, 26]              64\n           Dropout-3           [-1, 32, 26, 26]               0\n            Conv2d-4           [-1, 64, 24, 24]          18,496\n       BatchNorm2d-5           [-1, 64, 24, 24]             128\n         MaxPool2d-6           [-1, 64, 12, 12]               0\n           Dropout-7           [-1, 64, 12, 12]               0\n            Conv2d-8           [-1, 32, 10, 10]          18,464\n       BatchNorm2d-9           [-1, 32, 10, 10]              64\n          Dropout-10           [-1, 32, 10, 10]               0\n           Conv2d-11             [-1, 64, 8, 8]          18,496\n      BatchNorm2d-12             [-1, 64, 8, 8]             128\n          Dropout-13             [-1, 64, 8, 8]               0\n           Conv2d-14             [-1, 32, 6, 6]          18,464\n      BatchNorm2d-15             [-1, 32, 6, 6]              64\n          Dropout-16             [-1, 32, 6, 6]               0\n        MaxPool2d-17             [-1, 32, 3, 3]               0\n           Conv2d-18             [-1, 32, 3, 3]           1,056\n           Conv2d-19             [-1, 10, 1, 1]           2,890\n================================================================\nTotal params: 78,634\nTrainable params: 78,634\nNon-trainable params: 0\n----------------------------------------------------------------\nInput size (MB): 0.00\nForward/backward pass size (MB): 1.40\nParams size (MB): 0.30\nEstimated Total Size (MB): 1.70\n----------------------------------------------------------------\n"
        }
      ]
    },
    {
      "cell_type": "code",
      "metadata": {
        "id": "DqTWLaM5GHgH",
        "colab_type": "code",
        "colab": {},
        "tags": []
      },
      "source": [
        "torch.manual_seed(1)\n",
        "batch_size = 256\n",
        "\n",
        "kwargs = {'num_workers': 1, 'pin_memory': True} if use_cuda else {}\n",
        "train_loader = torch.utils.data.DataLoader(\n",
        "    datasets.MNIST('../data', train=True, download=True,\n",
        "                    transform=transforms.Compose([\n",
        "                        transforms.ToTensor(),\n",
        "                        transforms.Normalize((0.1307,), (0.3081,))\n",
        "                    ])),\n",
        "    batch_size=batch_size, shuffle=True, **kwargs)\n",
        "test_loader = torch.utils.data.DataLoader(\n",
        "    datasets.MNIST('../data', train=False, transform=transforms.Compose([\n",
        "                        transforms.ToTensor(),\n",
        "                        transforms.Normalize((0.1307,), (0.3081,))\n",
        "                    ])),\n",
        "    batch_size=batch_size, shuffle=True, **kwargs)\n"
      ],
      "execution_count": 7,
      "outputs": []
    },
    {
      "cell_type": "code",
      "metadata": {
        "id": "8fDefDhaFlwH",
        "colab_type": "code",
        "colab": {}
      },
      "source": [
        "from tqdm import tqdm\n",
        "def train(model, device, train_loader, optimizer, epoch):\n",
        "    model.train()\n",
        "    pbar = tqdm(train_loader)\n",
        "    for batch_idx, (data, target) in enumerate(pbar):\n",
        "        data, target = data.to(device), target.to(device)\n",
        "        optimizer.zero_grad()\n",
        "        output = model(data)\n",
        "        loss = F.nll_loss(output, target)\n",
        "        loss.backward()\n",
        "        optimizer.step()\n",
        "        pbar.set_description(desc= f'loss={loss.item()} batch_id={batch_idx}')\n",
        "\n",
        "\n",
        "def test(model, device, test_loader):\n",
        "    model.eval()\n",
        "    test_loss = 0\n",
        "    correct = 0\n",
        "    with torch.no_grad():\n",
        "        for data, target in test_loader:\n",
        "            data, target = data.to(device), target.to(device)\n",
        "            output = model(data)\n",
        "            test_loss += F.nll_loss(output, target, reduction='sum').item()  # sum up batch loss\n",
        "            pred = output.argmax(dim=1, keepdim=True)  # get the index of the max log-probability\n",
        "            correct += pred.eq(target.view_as(pred)).sum().item()\n",
        "\n",
        "    test_loss /= len(test_loader.dataset)\n",
        "\n",
        "    print('\\nTest set: Average loss: {:.4f}, Accuracy: {}/{} ({:.0f}%)\\n' .format(\n",
        "        test_loss, correct, len(test_loader.dataset),\n",
        "        100. * correct / len(test_loader.dataset)))"
      ],
      "execution_count": 5,
      "outputs": []
    },
    {
      "cell_type": "code",
      "metadata": {
        "id": "MMWbLWO6FuHb",
        "colab_type": "code",
        "colab": {
          "base_uri": "https://localhost:8080/",
          "height": 1000
        },
        "outputId": "94ed90e5-ca99-4939-c60e-5774e9ddde0e",
        "tags": []
      },
      "source": [
        "\n",
        "model = Net().to(device)\n",
        "optimizer = optim.SGD(model.parameters(), lr=0.01, momentum=0.9)\n",
        "\n",
        "for epoch in range(15):\n",
        "    print('EPOCH: ', epoch)\n",
        "    train(model, device, train_loader, optimizer, epoch)\n",
        "    test(model, device, test_loader)"
      ],
      "execution_count": 8,
      "outputs": [
        {
          "output_type": "stream",
          "name": "stderr",
          "text": "0%|          | 0/235 [00:00<?, ?it/s]EPOCH:  0\nloss=0.1126147136092186 batch_id=234: 100%|██████████| 235/235 [00:11<00:00, 21.28it/s]\n  0%|          | 0/235 [00:00<?, ?it/s]\nTest set: Average loss: 0.0627, Accuracy: 9831/10000 (98%)\n\nEPOCH:  1\nloss=0.09268447011709213 batch_id=234: 100%|██████████| 235/235 [00:12<00:00, 19.42it/s]\n  0%|          | 0/235 [00:00<?, ?it/s]\nTest set: Average loss: 0.0481, Accuracy: 9860/10000 (99%)\n\nEPOCH:  2\nloss=0.07156272977590561 batch_id=234: 100%|██████████| 235/235 [00:11<00:00, 19.78it/s]\n  0%|          | 0/235 [00:00<?, ?it/s]\nTest set: Average loss: 0.0373, Accuracy: 9886/10000 (99%)\n\nEPOCH:  3\nloss=0.05202951654791832 batch_id=234: 100%|██████████| 235/235 [00:12<00:00, 18.74it/s]\n  0%|          | 0/235 [00:00<?, ?it/s]\nTest set: Average loss: 0.0333, Accuracy: 9900/10000 (99%)\n\nEPOCH:  4\nloss=0.017781218513846397 batch_id=234: 100%|██████████| 235/235 [00:12<00:00, 19.10it/s]\n  0%|          | 0/235 [00:00<?, ?it/s]\nTest set: Average loss: 0.0303, Accuracy: 9909/10000 (99%)\n\nEPOCH:  5\nloss=0.026392007246613503 batch_id=234: 100%|██████████| 235/235 [00:11<00:00, 20.99it/s]\n  0%|          | 0/235 [00:00<?, ?it/s]\nTest set: Average loss: 0.0271, Accuracy: 9912/10000 (99%)\n\nEPOCH:  6\nloss=0.023860061541199684 batch_id=234: 100%|██████████| 235/235 [00:12<00:00, 19.34it/s]\n  0%|          | 0/235 [00:00<?, ?it/s]\nTest set: Average loss: 0.0248, Accuracy: 9922/10000 (99%)\n\nEPOCH:  7\nloss=0.01824086345732212 batch_id=234: 100%|██████████| 235/235 [00:11<00:00, 20.31it/s]\n  0%|          | 0/235 [00:00<?, ?it/s]\nTest set: Average loss: 0.0231, Accuracy: 9931/10000 (99%)\n\nEPOCH:  8\nloss=0.005536159034818411 batch_id=234: 100%|██████████| 235/235 [00:11<00:00, 20.63it/s]\n  0%|          | 0/235 [00:00<?, ?it/s]\nTest set: Average loss: 0.0229, Accuracy: 9927/10000 (99%)\n\nEPOCH:  9\nloss=0.014074821956455708 batch_id=234: 100%|██████████| 235/235 [00:10<00:00, 21.66it/s]\n  0%|          | 0/235 [00:00<?, ?it/s]\nTest set: Average loss: 0.0223, Accuracy: 9931/10000 (99%)\n\nEPOCH:  10\nloss=0.031204581260681152 batch_id=234: 100%|██████████| 235/235 [00:11<00:00, 20.91it/s]\n  0%|          | 0/235 [00:00<?, ?it/s]\nTest set: Average loss: 0.0231, Accuracy: 9925/10000 (99%)\n\nEPOCH:  11\nloss=0.09687065333127975 batch_id=234: 100%|██████████| 235/235 [00:11<00:00, 19.84it/s]\n  0%|          | 0/235 [00:00<?, ?it/s]\nTest set: Average loss: 0.0216, Accuracy: 9927/10000 (99%)\n\nEPOCH:  12\nloss=0.013479773886501789 batch_id=234: 100%|██████████| 235/235 [00:11<00:00, 20.46it/s]\n  0%|          | 0/235 [00:00<?, ?it/s]\nTest set: Average loss: 0.0190, Accuracy: 9940/10000 (99%)\n\nEPOCH:  13\nloss=0.0015147775411605835 batch_id=234: 100%|██████████| 235/235 [00:11<00:00, 20.32it/s]\n  0%|          | 0/235 [00:00<?, ?it/s]\nTest set: Average loss: 0.0203, Accuracy: 9936/10000 (99%)\n\nEPOCH:  14\nloss=0.008161257021129131 batch_id=234: 100%|██████████| 235/235 [00:10<00:00, 22.00it/s]\n\nTest set: Average loss: 0.0177, Accuracy: 9945/10000 (99%)\n\n"
        }
      ]
    }
  ]
}