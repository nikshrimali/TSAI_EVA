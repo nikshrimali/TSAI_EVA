{
  "nbformat": 4,
  "nbformat_minor": 0,
  "metadata": {
    "kernelspec": {
      "name": "pytorch",
      "display_name": "pytorch"
    },
    "language_info": {
      "codemirror_mode": {
        "name": "ipython",
        "version": 3
      },
      "file_extension": ".py",
      "mimetype": "text/x-python",
      "name": "python",
      "nbconvert_exporter": "python",
      "pygments_lexer": "ipython3",
      "version": "3.7.6-final"
    },
    "colab": {
      "name": "S7.ipynb",
      "provenance": []
    },
    "accelerator": "GPU",
    "widgets": {
      "application/vnd.jupyter.widget-state+json": {
        "4d53066f55ab4821977bbf995bf85d01": {
          "model_module": "@jupyter-widgets/controls",
          "model_name": "HBoxModel",
          "state": {
            "_view_name": "HBoxView",
            "_dom_classes": [],
            "_model_name": "HBoxModel",
            "_view_module": "@jupyter-widgets/controls",
            "_model_module_version": "1.5.0",
            "_view_count": null,
            "_view_module_version": "1.5.0",
            "box_style": "",
            "layout": "IPY_MODEL_a8cd738e43394028916d8f077e823c68",
            "_model_module": "@jupyter-widgets/controls",
            "children": [
              "IPY_MODEL_569937ed4eb74386a33b8ec0a9809244",
              "IPY_MODEL_cc513cbbd3414ea4a5a08696096ab4f9"
            ]
          }
        },
        "a8cd738e43394028916d8f077e823c68": {
          "model_module": "@jupyter-widgets/base",
          "model_name": "LayoutModel",
          "state": {
            "_view_name": "LayoutView",
            "grid_template_rows": null,
            "right": null,
            "justify_content": null,
            "_view_module": "@jupyter-widgets/base",
            "overflow": null,
            "_model_module_version": "1.2.0",
            "_view_count": null,
            "flex_flow": null,
            "width": null,
            "min_width": null,
            "border": null,
            "align_items": null,
            "bottom": null,
            "_model_module": "@jupyter-widgets/base",
            "top": null,
            "grid_column": null,
            "overflow_y": null,
            "overflow_x": null,
            "grid_auto_flow": null,
            "grid_area": null,
            "grid_template_columns": null,
            "flex": null,
            "_model_name": "LayoutModel",
            "justify_items": null,
            "grid_row": null,
            "max_height": null,
            "align_content": null,
            "visibility": null,
            "align_self": null,
            "height": null,
            "min_height": null,
            "padding": null,
            "grid_auto_rows": null,
            "grid_gap": null,
            "max_width": null,
            "order": null,
            "_view_module_version": "1.2.0",
            "grid_template_areas": null,
            "object_position": null,
            "object_fit": null,
            "grid_auto_columns": null,
            "margin": null,
            "display": null,
            "left": null
          }
        },
        "569937ed4eb74386a33b8ec0a9809244": {
          "model_module": "@jupyter-widgets/controls",
          "model_name": "IntProgressModel",
          "state": {
            "_view_name": "ProgressView",
            "style": "IPY_MODEL_7e936d7a5d894fe7b5b06df2ecddea16",
            "_dom_classes": [],
            "description": "",
            "_model_name": "IntProgressModel",
            "bar_style": "success",
            "max": 1,
            "_view_module": "@jupyter-widgets/controls",
            "_model_module_version": "1.5.0",
            "value": 1,
            "_view_count": null,
            "_view_module_version": "1.5.0",
            "orientation": "horizontal",
            "min": 0,
            "description_tooltip": null,
            "_model_module": "@jupyter-widgets/controls",
            "layout": "IPY_MODEL_3101d83bb5f0454581b6db43dba02b5c"
          }
        },
        "cc513cbbd3414ea4a5a08696096ab4f9": {
          "model_module": "@jupyter-widgets/controls",
          "model_name": "HTMLModel",
          "state": {
            "_view_name": "HTMLView",
            "style": "IPY_MODEL_8549515cb7b840af8dd8db5d770719d6",
            "_dom_classes": [],
            "description": "",
            "_model_name": "HTMLModel",
            "placeholder": "​",
            "_view_module": "@jupyter-widgets/controls",
            "_model_module_version": "1.5.0",
            "value": "170500096it [00:04, 41835097.17it/s]",
            "_view_count": null,
            "_view_module_version": "1.5.0",
            "description_tooltip": null,
            "_model_module": "@jupyter-widgets/controls",
            "layout": "IPY_MODEL_ac7fbada38fa401ca4f34fc34bb1fa27"
          }
        },
        "7e936d7a5d894fe7b5b06df2ecddea16": {
          "model_module": "@jupyter-widgets/controls",
          "model_name": "ProgressStyleModel",
          "state": {
            "_view_name": "StyleView",
            "_model_name": "ProgressStyleModel",
            "description_width": "",
            "_view_module": "@jupyter-widgets/base",
            "_model_module_version": "1.5.0",
            "_view_count": null,
            "_view_module_version": "1.2.0",
            "bar_color": null,
            "_model_module": "@jupyter-widgets/controls"
          }
        },
        "3101d83bb5f0454581b6db43dba02b5c": {
          "model_module": "@jupyter-widgets/base",
          "model_name": "LayoutModel",
          "state": {
            "_view_name": "LayoutView",
            "grid_template_rows": null,
            "right": null,
            "justify_content": null,
            "_view_module": "@jupyter-widgets/base",
            "overflow": null,
            "_model_module_version": "1.2.0",
            "_view_count": null,
            "flex_flow": null,
            "width": null,
            "min_width": null,
            "border": null,
            "align_items": null,
            "bottom": null,
            "_model_module": "@jupyter-widgets/base",
            "top": null,
            "grid_column": null,
            "overflow_y": null,
            "overflow_x": null,
            "grid_auto_flow": null,
            "grid_area": null,
            "grid_template_columns": null,
            "flex": null,
            "_model_name": "LayoutModel",
            "justify_items": null,
            "grid_row": null,
            "max_height": null,
            "align_content": null,
            "visibility": null,
            "align_self": null,
            "height": null,
            "min_height": null,
            "padding": null,
            "grid_auto_rows": null,
            "grid_gap": null,
            "max_width": null,
            "order": null,
            "_view_module_version": "1.2.0",
            "grid_template_areas": null,
            "object_position": null,
            "object_fit": null,
            "grid_auto_columns": null,
            "margin": null,
            "display": null,
            "left": null
          }
        },
        "8549515cb7b840af8dd8db5d770719d6": {
          "model_module": "@jupyter-widgets/controls",
          "model_name": "DescriptionStyleModel",
          "state": {
            "_view_name": "StyleView",
            "_model_name": "DescriptionStyleModel",
            "description_width": "",
            "_view_module": "@jupyter-widgets/base",
            "_model_module_version": "1.5.0",
            "_view_count": null,
            "_view_module_version": "1.2.0",
            "_model_module": "@jupyter-widgets/controls"
          }
        },
        "ac7fbada38fa401ca4f34fc34bb1fa27": {
          "model_module": "@jupyter-widgets/base",
          "model_name": "LayoutModel",
          "state": {
            "_view_name": "LayoutView",
            "grid_template_rows": null,
            "right": null,
            "justify_content": null,
            "_view_module": "@jupyter-widgets/base",
            "overflow": null,
            "_model_module_version": "1.2.0",
            "_view_count": null,
            "flex_flow": null,
            "width": null,
            "min_width": null,
            "border": null,
            "align_items": null,
            "bottom": null,
            "_model_module": "@jupyter-widgets/base",
            "top": null,
            "grid_column": null,
            "overflow_y": null,
            "overflow_x": null,
            "grid_auto_flow": null,
            "grid_area": null,
            "grid_template_columns": null,
            "flex": null,
            "_model_name": "LayoutModel",
            "justify_items": null,
            "grid_row": null,
            "max_height": null,
            "align_content": null,
            "visibility": null,
            "align_self": null,
            "height": null,
            "min_height": null,
            "padding": null,
            "grid_auto_rows": null,
            "grid_gap": null,
            "max_width": null,
            "order": null,
            "_view_module_version": "1.2.0",
            "grid_template_areas": null,
            "object_position": null,
            "object_fit": null,
            "grid_auto_columns": null,
            "margin": null,
            "display": null,
            "left": null
          }
        }
      }
    }
  },
  "cells": [
    {
      "cell_type": "code",
      "metadata": {
        "id": "QVbdg0z4poCc",
        "colab_type": "code",
        "colab": {}
      },
      "source": [
        "%matplotlib inline"
      ],
      "execution_count": 1,
      "outputs": []
    },
    {
      "cell_type": "code",
      "metadata": {
        "id": "-yVpodAMpoCi",
        "colab_type": "code",
        "colab": {},
        "tags": []
      },
      "source": [
        "import torch\n",
        "import torchvision\n",
        "import torchvision.transforms as transforms\n",
        "import os\n",
        "from torchsummary import summary\n",
        "%matplotlib inline\n",
        "os.chdir('d:\\Python Projects\\EVA')\n",
        "\n",
        "import os\n",
        "print(os.getcwd())\n",
        "from torchcode.model.model7 import Net\n",
        "from torchcode.model.model_test import model_testing\n",
        "from torchcode.model.model_train import model_training\n",
        "import torch.nn as nn\n",
        "import torch.nn.functional as F\n",
        "import torch.optim as optim\n",
        "\n",
        "\n",
        "device = \"cuda\" if torch.cuda.is_available else \"cpu\"\n",
        "# print(os.getcwd())"
      ],
      "execution_count": 2,
      "outputs": [
        {
          "output_type": "stream",
          "name": "stdout",
          "text": "d:\\Python Projects\\EVA\n"
        }
      ]
    },
    {
      "cell_type": "code",
      "execution_count": 3,
      "metadata": {
        "tags": []
      },
      "outputs": [
        {
          "output_type": "stream",
          "name": "stdout",
          "text": "----------------------------------------------------------------\n        Layer (type)               Output Shape         Param #\n================================================================\n            Conv2d-1           [-1, 32, 34, 34]             896\n              ReLU-2           [-1, 32, 34, 34]               0\n       BatchNorm2d-3           [-1, 32, 34, 34]              64\n           Dropout-4           [-1, 32, 34, 34]               0\n            Conv2d-5           [-1, 64, 36, 36]          18,496\n              ReLU-6           [-1, 64, 36, 36]               0\n       BatchNorm2d-7           [-1, 64, 36, 36]             128\n           Dropout-8           [-1, 64, 36, 36]               0\n         MaxPool2d-9           [-1, 64, 19, 19]               0\n           Conv2d-10           [-1, 64, 21, 21]          36,928\n             ReLU-11           [-1, 64, 21, 21]               0\n      BatchNorm2d-12           [-1, 64, 21, 21]             128\n          Dropout-13           [-1, 64, 21, 21]               0\n           Conv2d-14          [-1, 128, 23, 23]          73,856\n             ReLU-15          [-1, 128, 23, 23]               0\n      BatchNorm2d-16          [-1, 128, 23, 23]             256\n          Dropout-17          [-1, 128, 23, 23]               0\n        MaxPool2d-18          [-1, 128, 11, 11]               0\n           Conv2d-19          [-1, 128, 11, 11]           1,280\n             ReLU-20          [-1, 128, 11, 11]               0\n      BatchNorm2d-21          [-1, 128, 11, 11]             256\n          Dropout-22          [-1, 128, 11, 11]               0\n           Conv2d-23          [-1, 128, 11, 11]             256\n             ReLU-24          [-1, 128, 11, 11]               0\n      BatchNorm2d-25          [-1, 128, 11, 11]             256\n          Dropout-26          [-1, 128, 11, 11]               0\n           Conv2d-27          [-1, 128, 11, 11]         147,584\n             ReLU-28          [-1, 128, 11, 11]               0\n      BatchNorm2d-29          [-1, 128, 11, 11]             256\n          Dropout-30          [-1, 128, 11, 11]               0\n           Conv2d-31          [-1, 128, 11, 11]         147,584\n             ReLU-32          [-1, 128, 11, 11]               0\n      BatchNorm2d-33          [-1, 128, 11, 11]             256\n          Dropout-34          [-1, 128, 11, 11]               0\n           Conv2d-35          [-1, 128, 11, 11]          32,896\n             ReLU-36          [-1, 128, 11, 11]               0\n      BatchNorm2d-37          [-1, 128, 11, 11]             256\n          Dropout-38          [-1, 128, 11, 11]               0\n           Conv2d-39          [-1, 128, 11, 11]         147,584\n             ReLU-40          [-1, 128, 11, 11]               0\n      BatchNorm2d-41          [-1, 128, 11, 11]             256\n          Dropout-42          [-1, 128, 11, 11]               0\n        MaxPool2d-43            [-1, 128, 5, 5]               0\n           Conv2d-44            [-1, 128, 7, 7]         147,584\n             ReLU-45            [-1, 128, 7, 7]               0\n      BatchNorm2d-46            [-1, 128, 7, 7]             256\n          Dropout-47            [-1, 128, 7, 7]               0\n        AvgPool2d-48            [-1, 128, 1, 1]               0\n           Conv2d-49             [-1, 10, 1, 1]           1,290\n================================================================\nTotal params: 758,602\nTrainable params: 758,602\nNon-trainable params: 0\n----------------------------------------------------------------\nInput size (MB): 0.01\nForward/backward pass size (MB): 9.94\nParams size (MB): 2.89\nEstimated Total Size (MB): 12.84\n----------------------------------------------------------------\n"
        }
      ],
      "source": [
        "from torchcode.model.model7 import Net\n",
        "\n",
        "model = Net().to(device)\n",
        "summary(model, input_size=(3,32,32))"
      ]
    },
    {
      "cell_type": "code",
      "metadata": {
        "id": "D8Tjigo2poCl",
        "colab_type": "code",
        "colab": {
          "base_uri": "https://localhost:8080/",
          "height": 121,
          "referenced_widgets": [
            "4d53066f55ab4821977bbf995bf85d01",
            "a8cd738e43394028916d8f077e823c68",
            "569937ed4eb74386a33b8ec0a9809244",
            "cc513cbbd3414ea4a5a08696096ab4f9",
            "7e936d7a5d894fe7b5b06df2ecddea16",
            "3101d83bb5f0454581b6db43dba02b5c",
            "8549515cb7b840af8dd8db5d770719d6",
            "ac7fbada38fa401ca4f34fc34bb1fa27"
          ]
        },
        "outputId": "3fcfd2c3-854f-45ec-a2b7-349365f3a177",
        "tags": []
      },
      "source": [
        "os.chdir('d:\\Python Projects\\EVA')\n",
        "import torchcode.data_process\n",
        "from torchcode.data_process.getdata import GetCIFAR10_TrainData\n",
        "\n",
        "data = GetCIFAR10_TrainData(os.chdir('d:\\Python Projects\\EVA'))\n",
        "\n",
        "trainset = data.download_train_data()\n",
        "testset = data.download_test_data()\n",
        "\n",
        "trainloader = torch.utils.data.DataLoader(trainset, batch_size=256,\n",
        "                                          shuffle=True, num_workers=4)\n",
        "\n",
        "testloader = torch.utils.data.DataLoader(testset, batch_size=256,\n",
        "                                         shuffle=False, num_workers=4)\n",
        "\n",
        "classes = ('plane', 'car', 'bird', 'cat',\n",
        "           'deer', 'dog', 'frog', 'horse', 'ship', 'truck')"
      ],
      "execution_count": 4,
      "outputs": [
        {
          "output_type": "stream",
          "name": "stdout",
          "text": "Files already downloaded and verified\nFiles already downloaded and verified\n"
        }
      ]
    },
    {
      "cell_type": "code",
      "metadata": {
        "id": "daA7bADhpoCo",
        "colab_type": "code",
        "colab": {
          "base_uri": "https://localhost:8080/",
          "height": 156
        },
        "outputId": "1b82f2e7-048c-4610-bf33-e5348ff9c5ce",
        "tags": []
      },
      "source": [
        "# import matplotlib.pyplot as plt\n",
        "# import numpy as np\n",
        "\n",
        "# # functions to show an image\n",
        "\n",
        "\n",
        "# def imshow(img):\n",
        "#     img = img / 2 + 0.5     # unnormalize\n",
        "#     npimg = img.numpy()\n",
        "#     plt.imshow(np.transpose(npimg, (1, 2, 0)))\n",
        "\n",
        "\n",
        "# # get some random training images\n",
        "# dataiter = iter(trainloader)\n",
        "# images, labels = dataiter.next()\n",
        "\n",
        "# # show images\n",
        "# imshow(torchvision.utils.make_grid(images))\n",
        "# # print labels\n",
        "# print(' '.join('%5s' % classes[labels[j]] for j in range(4)))"
      ],
      "execution_count": 5,
      "outputs": []
    },
    {
      "cell_type": "code",
      "metadata": {
        "id": "M4xBbDROpoCv",
        "colab_type": "code",
        "colab": {}
      },
      "source": [
        "# import torch.optim as optim\n",
        "criterion = nn.CrossEntropyLoss()\n",
        "optimizer = optim.SGD(model.parameters(), lr=0.01, momentum=0.9)"
      ],
      "execution_count": 6,
      "outputs": []
    },
    {
      "cell_type": "code",
      "execution_count": 7,
      "metadata": {
        "tags": []
      },
      "outputs": [
        {
          "output_type": "stream",
          "name": "stdout",
          "text": "EPOCHS : 0\n\nTest set: Average loss: 2.3032, Accuracy: 1000/10000 (10.00%)\n\n"
        }
      ],
      "source": [
        "from torchcode.model.model_train import model_training\n",
        "from torchcode.model.model_test import model_testing\n",
        "\n",
        "train_acc = []\n",
        "train_losses = []\n",
        "test_acc = []\n",
        "test_losses = []\n",
        "\n",
        "EPOCHS = 1\n",
        "\n",
        "for i in range(EPOCHS):\n",
        "    print(f'EPOCHS : {i}')\n",
        "    # model_training(model, device, trainloader, optimizer, train_acc, train_losses, l1_loss=False)\n",
        "    misclassified = model_testing(model, device, testloader, test_acc, test_losses)"
      ]
    },
    {
      "cell_type": "code",
      "metadata": {
        "id": "pDNFuDEDpoDG",
        "colab_type": "code",
        "colab": {},
        "tags": []
      },
      "source": [
        "class_correct = list(0. for i in range(10))\n",
        "class_total = list(0. for i in range(10))\n",
        "with torch.no_grad():\n",
        "    for data in testloader:\n",
        "        images, labels = data\n",
        "        images, labels = images.to(device), labels.to(device)\n",
        "        outputs = model(images)\n",
        "        _, predicted = torch.max(outputs, 1)\n",
        "        c = (predicted == labels).squeeze()\n",
        "        print(c.shape, c[0])\n",
        "        for i in range(4):\n",
        "\n",
        "            label = labels[i]\n",
        "            print(label)\n",
        "            class_correct[label] += c[i].item()\n",
        "            class_total[label] += 1\n",
        "\n",
        "\n",
        "for i in range(10):\n",
        "    print('Accuracy of %5s : %2d %%' % (\n",
        "        classes[i], 100 * class_correct[i] / class_total[i]))"
      ],
      "execution_count": 8,
      "outputs": [
        {
          "output_type": "stream",
          "name": "stdout",
          "text": "torch.Size([256]) tensor(False, device='cuda:0')\ntensor(3, device='cuda:0')\ntensor(8, device='cuda:0')\ntensor(8, device='cuda:0')\ntensor(0, device='cuda:0')\ntorch.Size([256]) tensor(False, device='cuda:0')\ntensor(3, device='cuda:0')\ntensor(0, device='cuda:0')\ntensor(0, device='cuda:0')\ntensor(9, device='cuda:0')\ntorch.Size([256]) tensor(False, device='cuda:0')\ntensor(6, device='cuda:0')\ntensor(1, device='cuda:0')\ntensor(5, device='cuda:0')\ntensor(3, device='cuda:0')\ntorch.Size([256]) tensor(True, device='cuda:0')\ntensor(5, device='cuda:0')\ntensor(4, device='cuda:0')\ntensor(6, device='cuda:0')\ntensor(1, device='cuda:0')\ntorch.Size([256]) tensor(False, device='cuda:0')\ntensor(3, device='cuda:0')\ntensor(5, device='cuda:0')\ntensor(0, device='cuda:0')\ntensor(0, device='cuda:0')\ntorch.Size([256])tensor(False, device='cuda:0')\ntensor(3, device='cuda:0')\ntensor(8, device='cuda:0')\ntensor(9, device='cuda:0')\ntensor(5, device='cuda:0')\ntorch.Size([256]) tensor(True, device='cuda:0')\ntensor(5, device='cuda:0')\ntensor(4, device='cuda:0')\ntensor(3, device='cuda:0')\ntensor(2, device='cuda:0')\ntorch.Size([256]) tensor(False, device='cuda:0')\ntensor(9, device='cuda:0')\ntensor(5, device='cuda:0')\ntensor(3, device='cuda:0')\ntensor(6, device='cuda:0')\ntorch.Size([256])tensor(False, device='cuda:0')\ntensor(8, device='cuda:0')\ntensor(3, device='cuda:0')\ntensor(8, device='cuda:0')\ntensor(5, device='cuda:0')\ntorch.Size([256]) tensor(False, device='cuda:0')\ntensor(6, device='cuda:0')\ntensor(9, device='cuda:0')\ntensor(3, device='cuda:0')\ntensor(9, device='cuda:0')\ntorch.Size([256]) tensor(False, device='cuda:0')\ntensor(7, device='cuda:0')\ntensor(6, device='cuda:0')\ntensor(4, device='cuda:0')\ntensor(2, device='cuda:0')\ntorch.Size([256])tensor(False, device='cuda:0')\ntensor(7, device='cuda:0')\ntensor(9, device='cuda:0')\ntensor(5, device='cuda:0')\ntensor(1, device='cuda:0')\ntorch.Size([256]) tensor(False, device='cuda:0')\ntensor(8, device='cuda:0')\ntensor(3, device='cuda:0')\ntensor(1, device='cuda:0')\ntensor(6, device='cuda:0')\ntorch.Size([256]) tensor(False, device='cuda:0')\ntensor(2, device='cuda:0')\ntensor(3, device='cuda:0')\ntensor(7, device='cuda:0')\ntensor(8, device='cuda:0')\ntorch.Size([256])tensor(False, device='cuda:0')\ntensor(3, device='cuda:0')\ntensor(8, device='cuda:0')\ntensor(8, device='cuda:0')\ntensor(0, device='cuda:0')\ntorch.Size([256]) tensor(False, device='cuda:0')\ntensor(6, device='cuda:0')\ntensor(9, device='cuda:0')\ntensor(8, device='cuda:0')\ntensor(7, device='cuda:0')\ntorch.Size([256]) tensor(False, device='cuda:0')\ntensor(8, device='cuda:0')\ntensor(3, device='cuda:0')\ntensor(9, device='cuda:0')\ntensor(4, device='cuda:0')\ntorch.Size([256]) tensor(False, device='cuda:0')\ntensor(3, device='cuda:0')\ntensor(6, device='cuda:0')\ntensor(7, device='cuda:0')\ntensor(0, device='cuda:0')\ntorch.Size([256]) tensor(False, device='cuda:0')\ntensor(4, device='cuda:0')\ntensor(8, device='cuda:0')\ntensor(6, device='cuda:0')\ntensor(1, device='cuda:0')\ntorch.Size([256]) tensor(False, device='cuda:0')\ntensor(3, device='cuda:0')\ntensor(8, device='cuda:0')\ntensor(9, device='cuda:0')\ntensor(9, device='cuda:0')\ntorch.Size([256]) tensor(False, device='cuda:0')\ntensor(9, device='cuda:0')\ntensor(6, device='cuda:0')\ntensor(6, device='cuda:0')\ntensor(7, device='cuda:0')\ntorch.Size([256]) tensor(True, device='cuda:0')\ntensor(5, device='cuda:0')\ntensor(5, device='cuda:0')\ntensor(1, device='cuda:0')\ntensor(4, device='cuda:0')\ntorch.Size([256])tensor(False, device='cuda:0')\ntensor(3, device='cuda:0')\ntensor(4, device='cuda:0')\ntensor(4, device='cuda:0')\ntensor(7, device='cuda:0')\ntorch.Size([256]) tensor(False, device='cuda:0')\ntensor(4, device='cuda:0')\ntensor(6, device='cuda:0')\ntensor(3, device='cuda:0')\ntensor(0, device='cuda:0')\ntorch.Size([256]) tensor(False, device='cuda:0')\ntensor(7, device='cuda:0')\ntensor(2, device='cuda:0')\ntensor(0, device='cuda:0')\ntensor(9, device='cuda:0')\ntorch.Size([256])tensor(False, device='cuda:0')\ntensor(0, device='cuda:0')\ntensor(4, device='cuda:0')\ntensor(8, device='cuda:0')\ntensor(4, device='cuda:0')\ntorch.Size([256]) tensor(False, device='cuda:0')\ntensor(6, device='cuda:0')\ntensor(7, device='cuda:0')\ntensor(6, device='cuda:0')\ntensor(1, device='cuda:0')\ntorch.Size([256]) tensor(False, device='cuda:0')\ntensor(3, device='cuda:0')\ntensor(3, device='cuda:0')\ntensor(8, device='cuda:0')\ntensor(1, device='cuda:0')\ntorch.Size([256])tensor(True, device='cuda:0')\ntensor(5, device='cuda:0')\ntensor(1, device='cuda:0')\ntensor(9, device='cuda:0')\ntensor(2, device='cuda:0')\ntorch.Size([256]) tensor(False, device='cuda:0')\ntensor(9, device='cuda:0')\ntensor(2, device='cuda:0')\ntensor(7, device='cuda:0')\ntensor(2, device='cuda:0')\ntorch.Size([256]) tensor(False, device='cuda:0')\ntensor(3, device='cuda:0')\ntensor(0, device='cuda:0')\ntensor(8, device='cuda:0')\ntensor(0, device='cuda:0')\ntorch.Size([256]) tensor(False, device='cuda:0')\ntensor(1, device='cuda:0')\ntensor(1, device='cuda:0')\ntensor(2, device='cuda:0')\ntensor(2, device='cuda:0')\ntorch.Size([256]) tensor(True, device='cuda:0')\ntensor(5, device='cuda:0')\ntensor(3, device='cuda:0')\ntensor(1, device='cuda:0')\ntensor(8, device='cuda:0')\ntorch.Size([256]) tensor(False, device='cuda:0')\ntensor(4, device='cuda:0')\ntensor(1, device='cuda:0')\ntensor(9, device='cuda:0')\ntensor(5, device='cuda:0')\ntorch.Size([256])tensor(False, device='cuda:0')\ntensor(8, device='cuda:0')\ntensor(6, device='cuda:0')\ntensor(7, device='cuda:0')\ntensor(2, device='cuda:0')\ntorch.Size([256]) tensor(False, device='cuda:0')\ntensor(0, device='cuda:0')\ntensor(0, device='cuda:0')\ntensor(5, device='cuda:0')\ntensor(6, device='cuda:0')\ntorch.Size([256]) tensor(False, device='cuda:0')\ntensor(6, device='cuda:0')\ntensor(9, device='cuda:0')\ntensor(3, device='cuda:0')\ntensor(9, device='cuda:0')\ntorch.Size([256]) tensor(False, device='cuda:0')\ntensor(8, device='cuda:0')\ntensor(0, device='cuda:0')\ntensor(8, device='cuda:0')\ntensor(2, device='cuda:0')\ntorch.Size([256]) tensor(False, device='cuda:0')\ntensor(2, device='cuda:0')\ntensor(4, device='cuda:0')\ntensor(6, device='cuda:0')\ntensor(2, device='cuda:0')\ntorch.Size([16]) tensor(False, device='cuda:0')\ntensor(7, device='cuda:0')\ntensor(5, device='cuda:0')\ntensor(8, device='cuda:0')\ntensor(0, device='cuda:0')\nAccuracy of plane :  0 %\nAccuracy of   car :  0 %\nAccuracy of  bird :  0 %\nAccuracy of   cat :  0 %\nAccuracy of  deer :  0 %\nAccuracy of   dog : 100 %\nAccuracy of  frog :  0 %\nAccuracy of horse :  0 %\nAccuracy of  ship :  0 %\nAccuracy of truck :  0 %\n"
        }
      ]
    }
  ]
}