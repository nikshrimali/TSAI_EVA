{
  "nbformat": 4,
  "nbformat_minor": 0,
  "metadata": {
    "colab": {
      "name": "Assignment7.ipynb",
      "provenance": []
    },
    "kernelspec": {
      "name": "python3",
      "display_name": "Python 3"
    },
    "accelerator": "GPU",
    "widgets": {
      "application/vnd.jupyter.widget-state+json": {
        "5e7ff9de9e854e4a9f44ae87b4824cd6": {
          "model_module": "@jupyter-widgets/controls",
          "model_name": "HBoxModel",
          "state": {
            "_view_name": "HBoxView",
            "_dom_classes": [],
            "_model_name": "HBoxModel",
            "_view_module": "@jupyter-widgets/controls",
            "_model_module_version": "1.5.0",
            "_view_count": null,
            "_view_module_version": "1.5.0",
            "box_style": "",
            "layout": "IPY_MODEL_853af81a0e374fdda3ee13712d04649f",
            "_model_module": "@jupyter-widgets/controls",
            "children": [
              "IPY_MODEL_ce3e7dfb59a14a26b99154a263789210",
              "IPY_MODEL_faa60a165f05446ca5af6328fb0e31cd"
            ]
          }
        },
        "853af81a0e374fdda3ee13712d04649f": {
          "model_module": "@jupyter-widgets/base",
          "model_name": "LayoutModel",
          "state": {
            "_view_name": "LayoutView",
            "grid_template_rows": null,
            "right": null,
            "justify_content": null,
            "_view_module": "@jupyter-widgets/base",
            "overflow": null,
            "_model_module_version": "1.2.0",
            "_view_count": null,
            "flex_flow": null,
            "width": null,
            "min_width": null,
            "border": null,
            "align_items": null,
            "bottom": null,
            "_model_module": "@jupyter-widgets/base",
            "top": null,
            "grid_column": null,
            "overflow_y": null,
            "overflow_x": null,
            "grid_auto_flow": null,
            "grid_area": null,
            "grid_template_columns": null,
            "flex": null,
            "_model_name": "LayoutModel",
            "justify_items": null,
            "grid_row": null,
            "max_height": null,
            "align_content": null,
            "visibility": null,
            "align_self": null,
            "height": null,
            "min_height": null,
            "padding": null,
            "grid_auto_rows": null,
            "grid_gap": null,
            "max_width": null,
            "order": null,
            "_view_module_version": "1.2.0",
            "grid_template_areas": null,
            "object_position": null,
            "object_fit": null,
            "grid_auto_columns": null,
            "margin": null,
            "display": null,
            "left": null
          }
        },
        "ce3e7dfb59a14a26b99154a263789210": {
          "model_module": "@jupyter-widgets/controls",
          "model_name": "FloatProgressModel",
          "state": {
            "_view_name": "ProgressView",
            "style": "IPY_MODEL_672fb9fd79e7407b85596b1c73565477",
            "_dom_classes": [],
            "description": "",
            "_model_name": "FloatProgressModel",
            "bar_style": "info",
            "max": 1,
            "_view_module": "@jupyter-widgets/controls",
            "_model_module_version": "1.5.0",
            "value": 1,
            "_view_count": null,
            "_view_module_version": "1.5.0",
            "orientation": "horizontal",
            "min": 0,
            "description_tooltip": null,
            "_model_module": "@jupyter-widgets/controls",
            "layout": "IPY_MODEL_297b54e80e66454aa661e3716c130ba1"
          }
        },
        "faa60a165f05446ca5af6328fb0e31cd": {
          "model_module": "@jupyter-widgets/controls",
          "model_name": "HTMLModel",
          "state": {
            "_view_name": "HTMLView",
            "style": "IPY_MODEL_32e9b98ffef34ef38b99eae532a121f2",
            "_dom_classes": [],
            "description": "",
            "_model_name": "HTMLModel",
            "placeholder": "​",
            "_view_module": "@jupyter-widgets/controls",
            "_model_module_version": "1.5.0",
            "value": " 170500096/? [00:20&lt;00:00, 55205613.10it/s]",
            "_view_count": null,
            "_view_module_version": "1.5.0",
            "description_tooltip": null,
            "_model_module": "@jupyter-widgets/controls",
            "layout": "IPY_MODEL_56ec160a170e4a8d87d852a141b54cea"
          }
        },
        "672fb9fd79e7407b85596b1c73565477": {
          "model_module": "@jupyter-widgets/controls",
          "model_name": "ProgressStyleModel",
          "state": {
            "_view_name": "StyleView",
            "_model_name": "ProgressStyleModel",
            "description_width": "initial",
            "_view_module": "@jupyter-widgets/base",
            "_model_module_version": "1.5.0",
            "_view_count": null,
            "_view_module_version": "1.2.0",
            "bar_color": null,
            "_model_module": "@jupyter-widgets/controls"
          }
        },
        "297b54e80e66454aa661e3716c130ba1": {
          "model_module": "@jupyter-widgets/base",
          "model_name": "LayoutModel",
          "state": {
            "_view_name": "LayoutView",
            "grid_template_rows": null,
            "right": null,
            "justify_content": null,
            "_view_module": "@jupyter-widgets/base",
            "overflow": null,
            "_model_module_version": "1.2.0",
            "_view_count": null,
            "flex_flow": null,
            "width": null,
            "min_width": null,
            "border": null,
            "align_items": null,
            "bottom": null,
            "_model_module": "@jupyter-widgets/base",
            "top": null,
            "grid_column": null,
            "overflow_y": null,
            "overflow_x": null,
            "grid_auto_flow": null,
            "grid_area": null,
            "grid_template_columns": null,
            "flex": null,
            "_model_name": "LayoutModel",
            "justify_items": null,
            "grid_row": null,
            "max_height": null,
            "align_content": null,
            "visibility": null,
            "align_self": null,
            "height": null,
            "min_height": null,
            "padding": null,
            "grid_auto_rows": null,
            "grid_gap": null,
            "max_width": null,
            "order": null,
            "_view_module_version": "1.2.0",
            "grid_template_areas": null,
            "object_position": null,
            "object_fit": null,
            "grid_auto_columns": null,
            "margin": null,
            "display": null,
            "left": null
          }
        },
        "32e9b98ffef34ef38b99eae532a121f2": {
          "model_module": "@jupyter-widgets/controls",
          "model_name": "DescriptionStyleModel",
          "state": {
            "_view_name": "StyleView",
            "_model_name": "DescriptionStyleModel",
            "description_width": "",
            "_view_module": "@jupyter-widgets/base",
            "_model_module_version": "1.5.0",
            "_view_count": null,
            "_view_module_version": "1.2.0",
            "_model_module": "@jupyter-widgets/controls"
          }
        },
        "56ec160a170e4a8d87d852a141b54cea": {
          "model_module": "@jupyter-widgets/base",
          "model_name": "LayoutModel",
          "state": {
            "_view_name": "LayoutView",
            "grid_template_rows": null,
            "right": null,
            "justify_content": null,
            "_view_module": "@jupyter-widgets/base",
            "overflow": null,
            "_model_module_version": "1.2.0",
            "_view_count": null,
            "flex_flow": null,
            "width": null,
            "min_width": null,
            "border": null,
            "align_items": null,
            "bottom": null,
            "_model_module": "@jupyter-widgets/base",
            "top": null,
            "grid_column": null,
            "overflow_y": null,
            "overflow_x": null,
            "grid_auto_flow": null,
            "grid_area": null,
            "grid_template_columns": null,
            "flex": null,
            "_model_name": "LayoutModel",
            "justify_items": null,
            "grid_row": null,
            "max_height": null,
            "align_content": null,
            "visibility": null,
            "align_self": null,
            "height": null,
            "min_height": null,
            "padding": null,
            "grid_auto_rows": null,
            "grid_gap": null,
            "max_width": null,
            "order": null,
            "_view_module_version": "1.2.0",
            "grid_template_areas": null,
            "object_position": null,
            "object_fit": null,
            "grid_auto_columns": null,
            "margin": null,
            "display": null,
            "left": null
          }
        }
      }
    }
  },
  "cells": [
    {
      "cell_type": "code",
      "metadata": {
        "id": "39t2TNs7EYCU",
        "colab_type": "code",
        "colab": {
          "base_uri": "https://localhost:8080/",
          "height": 118
        },
        "outputId": "f7efb80b-6f25-407b-8f46-9c925870a3a1"
      },
      "source": [
        "# Cloning shrinkai\n",
        "!git clone https://github.com/nikshrimali/shrinkai"
      ],
      "execution_count": 2,
      "outputs": [
        {
          "output_type": "stream",
          "text": [
            "Cloning into 'shrinkai'...\n",
            "remote: Enumerating objects: 38, done.\u001b[K\n",
            "remote: Counting objects: 100% (38/38), done.\u001b[K\n",
            "remote: Compressing objects: 100% (34/34), done.\u001b[K\n",
            "remote: Total 38 (delta 8), reused 23 (delta 2), pack-reused 0\u001b[K\n",
            "Unpacking objects: 100% (38/38), done.\n"
          ],
          "name": "stdout"
        }
      ]
    },
    {
      "cell_type": "code",
      "metadata": {
        "id": "PKulaUm9Hriq",
        "colab_type": "code",
        "colab": {
          "base_uri": "https://localhost:8080/",
          "height": 34
        },
        "outputId": "2d4e517f-bc96-4003-aa25-81dc76936ec1"
      },
      "source": [
        "# Importing Libraries\n",
        "import torch\n",
        "import torchvision\n",
        "import torchvision.transforms as transforms\n",
        "from torchsummary import summary\n",
        "import torch.nn as nn\n",
        "import torch.nn.functional as F\n",
        "import torch.optim as optim\n",
        "\n",
        "from shrinkai.model.model7 import Net\n",
        "from shrinkai.model.model_test import model_testing\n",
        "from shrinkai.model.model_train import model_training\n",
        "\n",
        "from shrinkai.data_process.getdata import GetCIFAR10_TrainData\n",
        "from shrinkai.data_process.misclassified_data import *\n",
        "\n",
        "import matplotlib.pyplot as plt\n",
        "%matplotlib inline\n",
        "\n",
        "device = \"cuda\" if torch.cuda.is_available else \"cpu\"\n",
        "print(device)"
      ],
      "execution_count": 3,
      "outputs": [
        {
          "output_type": "stream",
          "text": [
            "cuda\n"
          ],
          "name": "stdout"
        }
      ]
    },
    {
      "cell_type": "code",
      "metadata": {
        "id": "pul6T5YZHyjB",
        "colab_type": "code",
        "colab": {
          "base_uri": "https://localhost:8080/",
          "height": 1000
        },
        "outputId": "140dcd70-3d51-471b-ead3-d611daa30eca"
      },
      "source": [
        "# Importing Model and printing Summary\n",
        "model = Net().to(device)\n",
        "summary(model, input_size=(3,32,32))"
      ],
      "execution_count": 4,
      "outputs": [
        {
          "output_type": "stream",
          "text": [
            "----------------------------------------------------------------\n",
            "        Layer (type)               Output Shape         Param #\n",
            "================================================================\n",
            "            Conv2d-1           [-1, 32, 34, 34]             896\n",
            "              ReLU-2           [-1, 32, 34, 34]               0\n",
            "       BatchNorm2d-3           [-1, 32, 34, 34]              64\n",
            "           Dropout-4           [-1, 32, 34, 34]               0\n",
            "            Conv2d-5           [-1, 64, 36, 36]          18,496\n",
            "              ReLU-6           [-1, 64, 36, 36]               0\n",
            "       BatchNorm2d-7           [-1, 64, 36, 36]             128\n",
            "           Dropout-8           [-1, 64, 36, 36]               0\n",
            "         MaxPool2d-9           [-1, 64, 19, 19]               0\n",
            "           Conv2d-10           [-1, 64, 21, 21]          36,928\n",
            "             ReLU-11           [-1, 64, 21, 21]               0\n",
            "      BatchNorm2d-12           [-1, 64, 21, 21]             128\n",
            "          Dropout-13           [-1, 64, 21, 21]               0\n",
            "           Conv2d-14          [-1, 128, 23, 23]          73,856\n",
            "             ReLU-15          [-1, 128, 23, 23]               0\n",
            "      BatchNorm2d-16          [-1, 128, 23, 23]             256\n",
            "          Dropout-17          [-1, 128, 23, 23]               0\n",
            "        MaxPool2d-18          [-1, 128, 11, 11]               0\n",
            "           Conv2d-19          [-1, 128, 11, 11]           1,280\n",
            "             ReLU-20          [-1, 128, 11, 11]               0\n",
            "      BatchNorm2d-21          [-1, 128, 11, 11]             256\n",
            "          Dropout-22          [-1, 128, 11, 11]               0\n",
            "           Conv2d-23          [-1, 128, 11, 11]             256\n",
            "             ReLU-24          [-1, 128, 11, 11]               0\n",
            "      BatchNorm2d-25          [-1, 128, 11, 11]             256\n",
            "          Dropout-26          [-1, 128, 11, 11]               0\n",
            "           Conv2d-27          [-1, 128, 11, 11]         147,584\n",
            "             ReLU-28          [-1, 128, 11, 11]               0\n",
            "      BatchNorm2d-29          [-1, 128, 11, 11]             256\n",
            "          Dropout-30          [-1, 128, 11, 11]               0\n",
            "           Conv2d-31          [-1, 128, 11, 11]         147,584\n",
            "             ReLU-32          [-1, 128, 11, 11]               0\n",
            "      BatchNorm2d-33          [-1, 128, 11, 11]             256\n",
            "          Dropout-34          [-1, 128, 11, 11]               0\n",
            "           Conv2d-35          [-1, 128, 11, 11]          32,896\n",
            "             ReLU-36          [-1, 128, 11, 11]               0\n",
            "      BatchNorm2d-37          [-1, 128, 11, 11]             256\n",
            "          Dropout-38          [-1, 128, 11, 11]               0\n",
            "           Conv2d-39          [-1, 128, 11, 11]         147,584\n",
            "             ReLU-40          [-1, 128, 11, 11]               0\n",
            "      BatchNorm2d-41          [-1, 128, 11, 11]             256\n",
            "          Dropout-42          [-1, 128, 11, 11]               0\n",
            "        MaxPool2d-43            [-1, 128, 5, 5]               0\n",
            "           Conv2d-44            [-1, 128, 7, 7]         147,584\n",
            "             ReLU-45            [-1, 128, 7, 7]               0\n",
            "      BatchNorm2d-46            [-1, 128, 7, 7]             256\n",
            "          Dropout-47            [-1, 128, 7, 7]               0\n",
            "        AvgPool2d-48            [-1, 128, 1, 1]               0\n",
            "           Conv2d-49             [-1, 10, 1, 1]           1,290\n",
            "================================================================\n",
            "Total params: 758,602\n",
            "Trainable params: 758,602\n",
            "Non-trainable params: 0\n",
            "----------------------------------------------------------------\n",
            "Input size (MB): 0.01\n",
            "Forward/backward pass size (MB): 9.94\n",
            "Params size (MB): 2.89\n",
            "Estimated Total Size (MB): 12.84\n",
            "----------------------------------------------------------------\n"
          ],
          "name": "stdout"
        }
      ]
    },
    {
      "cell_type": "code",
      "metadata": {
        "id": "8m85YA8jH22Q",
        "colab_type": "code",
        "colab": {
          "base_uri": "https://localhost:8080/",
          "height": 99,
          "referenced_widgets": [
            "5e7ff9de9e854e4a9f44ae87b4824cd6",
            "853af81a0e374fdda3ee13712d04649f",
            "ce3e7dfb59a14a26b99154a263789210",
            "faa60a165f05446ca5af6328fb0e31cd",
            "672fb9fd79e7407b85596b1c73565477",
            "297b54e80e66454aa661e3716c130ba1",
            "32e9b98ffef34ef38b99eae532a121f2",
            "56ec160a170e4a8d87d852a141b54cea"
          ]
        },
        "outputId": "c6defadd-1599-442f-cc55-0f75b4e8e41d"
      },
      "source": [
        "# Downloading the dataset and applying transformations\n",
        "\n",
        "data = GetCIFAR10_TrainData(os.chdir(\"..\"))\n",
        "trainset = data.download_train_data()\n",
        "testset = data.download_test_data()\n",
        "trainloader = torch.utils.data.DataLoader(trainset, batch_size=256,\n",
        "                                          shuffle=True, num_workers=4)\n",
        "testloader = torch.utils.data.DataLoader(testset, batch_size=256,\n",
        "                                         shuffle=False, num_workers=4)"
      ],
      "execution_count": 5,
      "outputs": [
        {
          "output_type": "stream",
          "text": [
            "Downloading https://www.cs.toronto.edu/~kriz/cifar-10-python.tar.gz to ./data/cifar-10-python.tar.gz\n"
          ],
          "name": "stdout"
        },
        {
          "output_type": "display_data",
          "data": {
            "application/vnd.jupyter.widget-view+json": {
              "model_id": "5e7ff9de9e854e4a9f44ae87b4824cd6",
              "version_minor": 0,
              "version_major": 2
            },
            "text/plain": [
              "HBox(children=(FloatProgress(value=1.0, bar_style='info', max=1.0), HTML(value='')))"
            ]
          },
          "metadata": {
            "tags": []
          }
        },
        {
          "output_type": "stream",
          "text": [
            "Extracting ./data/cifar-10-python.tar.gz to ./data\n",
            "Files already downloaded and verified\n"
          ],
          "name": "stdout"
        }
      ]
    },
    {
      "cell_type": "code",
      "metadata": {
        "id": "aJ68Gzm-IFIq",
        "colab_type": "code",
        "colab": {
          "base_uri": "https://localhost:8080/",
          "height": 1000
        },
        "outputId": "ab90396a-9106-4e78-e486-693684195766"
      },
      "source": [
        "# Training the model\n",
        "\n",
        "criterion = nn.CrossEntropyLoss()\n",
        "optimizer = optim.SGD(model.parameters(), lr=0.01, momentum=0.9)\n",
        "train_acc = []\n",
        "train_losses = []\n",
        "test_acc = []\n",
        "test_losses = []\n",
        "\n",
        "EPOCHS = 15\n",
        "\n",
        "for i in range(EPOCHS):\n",
        "    print(f'EPOCHS : {i}')\n",
        "    model_training(model, device, trainloader, optimizer, train_acc, train_losses, l1_loss=False)\n",
        "    misclassified = model_testing(model, device, testloader, test_acc, test_losses)"
      ],
      "execution_count": 10,
      "outputs": [
        {
          "output_type": "stream",
          "text": [
            "\r  0%|          | 0/196 [00:00<?, ?it/s]"
          ],
          "name": "stderr"
        },
        {
          "output_type": "stream",
          "text": [
            "EPOCHS : 0\n"
          ],
          "name": "stdout"
        },
        {
          "output_type": "stream",
          "text": [
            "Loss=0.9466248750686646 Batch_id=195 Accuracy=62.03: 100%|██████████| 196/196 [00:28<00:00,  6.87it/s]\n",
            "  0%|          | 0/196 [00:00<?, ?it/s]"
          ],
          "name": "stderr"
        },
        {
          "output_type": "stream",
          "text": [
            "\n",
            "Test set: Average loss: 1.0905, Accuracy: 6070/10000 (60.70%)\n",
            "\n",
            "EPOCHS : 1\n"
          ],
          "name": "stdout"
        },
        {
          "output_type": "stream",
          "text": [
            "Loss=0.8861991167068481 Batch_id=195 Accuracy=68.46: 100%|██████████| 196/196 [00:28<00:00,  6.86it/s]\n",
            "  0%|          | 0/196 [00:00<?, ?it/s]"
          ],
          "name": "stderr"
        },
        {
          "output_type": "stream",
          "text": [
            "\n",
            "Test set: Average loss: 0.8966, Accuracy: 6828/10000 (68.28%)\n",
            "\n",
            "EPOCHS : 2\n"
          ],
          "name": "stdout"
        },
        {
          "output_type": "stream",
          "text": [
            "Loss=0.7123156785964966 Batch_id=195 Accuracy=72.72: 100%|██████████| 196/196 [00:28<00:00,  6.90it/s]\n",
            "  0%|          | 0/196 [00:00<?, ?it/s]"
          ],
          "name": "stderr"
        },
        {
          "output_type": "stream",
          "text": [
            "\n",
            "Test set: Average loss: 0.8132, Accuracy: 7166/10000 (71.66%)\n",
            "\n",
            "EPOCHS : 3\n"
          ],
          "name": "stdout"
        },
        {
          "output_type": "stream",
          "text": [
            "Loss=0.616707444190979 Batch_id=195 Accuracy=76.00: 100%|██████████| 196/196 [00:28<00:00,  6.89it/s]\n",
            "  0%|          | 0/196 [00:00<?, ?it/s]"
          ],
          "name": "stderr"
        },
        {
          "output_type": "stream",
          "text": [
            "\n",
            "Test set: Average loss: 0.7383, Accuracy: 7429/10000 (74.29%)\n",
            "\n",
            "EPOCHS : 4\n"
          ],
          "name": "stdout"
        },
        {
          "output_type": "stream",
          "text": [
            "Loss=0.48676905035972595 Batch_id=195 Accuracy=78.04: 100%|██████████| 196/196 [00:28<00:00,  6.89it/s]\n",
            "  0%|          | 0/196 [00:00<?, ?it/s]"
          ],
          "name": "stderr"
        },
        {
          "output_type": "stream",
          "text": [
            "\n",
            "Test set: Average loss: 0.7849, Accuracy: 7279/10000 (72.79%)\n",
            "\n",
            "EPOCHS : 5\n"
          ],
          "name": "stdout"
        },
        {
          "output_type": "stream",
          "text": [
            "Loss=0.7658727169036865 Batch_id=195 Accuracy=80.05: 100%|██████████| 196/196 [00:28<00:00,  6.88it/s]\n",
            "  0%|          | 0/196 [00:00<?, ?it/s]"
          ],
          "name": "stderr"
        },
        {
          "output_type": "stream",
          "text": [
            "\n",
            "Test set: Average loss: 0.6564, Accuracy: 7786/10000 (77.86%)\n",
            "\n",
            "EPOCHS : 6\n"
          ],
          "name": "stdout"
        },
        {
          "output_type": "stream",
          "text": [
            "Loss=0.3980991840362549 Batch_id=195 Accuracy=81.62: 100%|██████████| 196/196 [00:28<00:00,  6.87it/s]\n",
            "  0%|          | 0/196 [00:00<?, ?it/s]"
          ],
          "name": "stderr"
        },
        {
          "output_type": "stream",
          "text": [
            "\n",
            "Test set: Average loss: 0.7059, Accuracy: 7642/10000 (76.42%)\n",
            "\n",
            "EPOCHS : 7\n"
          ],
          "name": "stdout"
        },
        {
          "output_type": "stream",
          "text": [
            "Loss=0.43109196424484253 Batch_id=195 Accuracy=83.09: 100%|██████████| 196/196 [00:28<00:00,  6.91it/s]\n",
            "  0%|          | 0/196 [00:00<?, ?it/s]"
          ],
          "name": "stderr"
        },
        {
          "output_type": "stream",
          "text": [
            "\n",
            "Test set: Average loss: 0.6156, Accuracy: 7933/10000 (79.33%)\n",
            "\n",
            "EPOCHS : 8\n"
          ],
          "name": "stdout"
        },
        {
          "output_type": "stream",
          "text": [
            "Loss=0.3186585605144501 Batch_id=195 Accuracy=84.07: 100%|██████████| 196/196 [00:28<00:00,  6.90it/s]\n",
            "  0%|          | 0/196 [00:00<?, ?it/s]"
          ],
          "name": "stderr"
        },
        {
          "output_type": "stream",
          "text": [
            "\n",
            "Test set: Average loss: 0.6002, Accuracy: 7995/10000 (79.95%)\n",
            "\n",
            "EPOCHS : 9\n"
          ],
          "name": "stdout"
        },
        {
          "output_type": "stream",
          "text": [
            "Loss=0.47882047295570374 Batch_id=195 Accuracy=85.31: 100%|██████████| 196/196 [00:28<00:00,  6.91it/s]\n",
            "  0%|          | 0/196 [00:00<?, ?it/s]"
          ],
          "name": "stderr"
        },
        {
          "output_type": "stream",
          "text": [
            "\n",
            "Test set: Average loss: 0.6032, Accuracy: 8023/10000 (80.23%)\n",
            "\n",
            "EPOCHS : 10\n"
          ],
          "name": "stdout"
        },
        {
          "output_type": "stream",
          "text": [
            "Loss=0.563040554523468 Batch_id=195 Accuracy=86.17: 100%|██████████| 196/196 [00:28<00:00,  6.90it/s]\n",
            "  0%|          | 0/196 [00:00<?, ?it/s]"
          ],
          "name": "stderr"
        },
        {
          "output_type": "stream",
          "text": [
            "\n",
            "Test set: Average loss: 0.6775, Accuracy: 7782/10000 (77.82%)\n",
            "\n",
            "EPOCHS : 11\n"
          ],
          "name": "stdout"
        },
        {
          "output_type": "stream",
          "text": [
            "Loss=0.27048543095588684 Batch_id=195 Accuracy=87.02: 100%|██████████| 196/196 [00:28<00:00,  6.89it/s]\n",
            "  0%|          | 0/196 [00:00<?, ?it/s]"
          ],
          "name": "stderr"
        },
        {
          "output_type": "stream",
          "text": [
            "\n",
            "Test set: Average loss: 0.6113, Accuracy: 8029/10000 (80.29%)\n",
            "\n",
            "EPOCHS : 12\n"
          ],
          "name": "stdout"
        },
        {
          "output_type": "stream",
          "text": [
            "Loss=0.3222910761833191 Batch_id=195 Accuracy=87.75: 100%|██████████| 196/196 [00:28<00:00,  6.91it/s]\n",
            "  0%|          | 0/196 [00:00<?, ?it/s]"
          ],
          "name": "stderr"
        },
        {
          "output_type": "stream",
          "text": [
            "\n",
            "Test set: Average loss: 0.5961, Accuracy: 8090/10000 (80.90%)\n",
            "\n",
            "EPOCHS : 13\n"
          ],
          "name": "stdout"
        },
        {
          "output_type": "stream",
          "text": [
            "Loss=0.34898313879966736 Batch_id=195 Accuracy=88.59: 100%|██████████| 196/196 [00:28<00:00,  6.90it/s]\n",
            "  0%|          | 0/196 [00:00<?, ?it/s]"
          ],
          "name": "stderr"
        },
        {
          "output_type": "stream",
          "text": [
            "\n",
            "Test set: Average loss: 0.6089, Accuracy: 8108/10000 (81.08%)\n",
            "\n",
            "EPOCHS : 14\n"
          ],
          "name": "stdout"
        },
        {
          "output_type": "stream",
          "text": [
            "Loss=0.13724449276924133 Batch_id=195 Accuracy=89.07: 100%|██████████| 196/196 [00:28<00:00,  6.88it/s]\n"
          ],
          "name": "stderr"
        },
        {
          "output_type": "stream",
          "text": [
            "\n",
            "Test set: Average loss: 0.6094, Accuracy: 8107/10000 (81.07%)\n",
            "\n"
          ],
          "name": "stdout"
        }
      ]
    },
    {
      "cell_type": "code",
      "metadata": {
        "id": "x3_3JQWuZThK",
        "colab_type": "code",
        "colab": {
          "base_uri": "https://localhost:8080/",
          "height": 1000
        },
        "outputId": "59db5de0-b4b3-4ef8-92c7-d2d6e1f956a0"
      },
      "source": [
        "\n",
        "fig, axs = plt.subplots(2,2, figsize=(25,20))\n",
        "\n",
        "axs[0,0].set_title('Train Losses')\n",
        "axs[0,1].set_title('Training Accuracy')\n",
        "axs[1,0].set_title('Test Losses')\n",
        "axs[1,1].set_title('Test Accuracy')\n",
        "\n",
        "axs[0,0].plot(train_losses)\n",
        "axs[0,1].plot(train_acc)\n",
        "axs[1,0].plot(test_losses)\n",
        "axs[1,1].plot(test_acc)\n",
        "\n",
        "# axs[0,0].legend(list_modes)\n",
        "# axs[0,1].legend(list_modes)\n",
        "# axs[1,0].legend(list_modes)\n",
        "# axs[1,1].legend(list_modes)\n",
        "# fig.savefig(os.path.join(img_dir, 'metrics.png'))"
      ],
      "execution_count": 8,
      "outputs": [
        {
          "output_type": "execute_result",
          "data": {
            "text/plain": [
              "[<matplotlib.lines.Line2D at 0x7fa440c47c50>]"
            ]
          },
          "metadata": {
            "tags": []
          },
          "execution_count": 8
        },
        {
          "output_type": "display_data",
          "data": {
            "image/png": "[encoded data removed]",
            "text/plain": [
              "<Figure size 1800x1440 with 4 Axes>"
            ]
          },
          "metadata": {
            "tags": [],
            "needs_background": "light"
          }
        }
      ]
    }
  ]
}